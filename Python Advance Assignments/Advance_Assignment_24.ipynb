{
 "cells": [
  {
   "cell_type": "markdown",
   "metadata": {},
   "source": [
    "#### Q1. Is it permissible to use several import statements to import the same module? What would the goal be? Can you think of a situation where it would be beneficial?"
   ]
  },
  {
   "cell_type": "markdown",
   "metadata": {},
   "source": [
    "#### Ans: \n",
    "Yes, it is permissible to use several import statements to import the same module. It is used in case when we have to import multiple functions from same module. It would be beneficial when a lot of functions is required to be imported from the same module."
   ]
  },
  {
   "cell_type": "markdown",
   "metadata": {},
   "source": [
    "#### Q2. What are some of a module&#39;s characteristics? (Name at least one.)"
   ]
  },
  {
   "cell_type": "markdown",
   "metadata": {},
   "source": [
    "#### Ans:\n",
    "The following are some of a module's characteristics:\n",
    "\n",
    "__name__ : It returns the name of the module\n",
    "\n",
    "__doc__ : It denotes the documentation string line written in a module code.\n",
    "\n",
    "__file__ : It holds the name and path of the module file from which it is loaded\n",
    "\n",
    "__dict__ : It return a dictionary object of module attributes, functions and other definitions and their respective values"
   ]
  },
  {
   "cell_type": "markdown",
   "metadata": {},
   "source": [
    "#### Q3. Circular importing, such as when two modules import each other, can lead to dependencies and bugs that aren&#39;t visible. How can you go about creating a program that avoids mutual importing?"
   ]
  },
  {
   "cell_type": "markdown",
   "metadata": {},
   "source": [
    "#### Ans:\n",
    "Circular importing means importing the two modules in each other. If suppose we are wokring in Mod1.py file and it is importing some function say f2() from some other module say Mod2.py, and Mod2.py has a statement which imports Mod1.py. What will happen is: This will give an import error.\n",
    "\n",
    "This is because when we import f2() function from module Mod2.py, then this will execute Mod2.py file. And in Mod2.py file there is an another statement of importing Mod1.py module.\n",
    "\n",
    "This will result in endless loop. To avoid this error just do one thingWe can use if \\_\\_name\\_\\_ == '\\_\\_main\\_\\_'\n",
    "\n",
    "In the function, you can't directly refer to the function in the program. The addition of this sentence avoids the endless loop of the program ."
   ]
  },
  {
   "cell_type": "markdown",
   "metadata": {},
   "source": [
    "#### Q4. Why is \\_\\_all\\_\\_ in Python?"
   ]
  },
  {
   "cell_type": "markdown",
   "metadata": {},
   "source": [
    "#### Ans:\n",
    "It provides list of all modules present in a library."
   ]
  },
  {
   "cell_type": "markdown",
   "metadata": {},
   "source": [
    "#### Q5. In what situation is it useful to refer to the \\_\\_name\\_\\_ attribute or the string &#39;\\_\\_main\\_\\_&#39;?"
   ]
  },
  {
   "cell_type": "markdown",
   "metadata": {},
   "source": [
    "#### Ans:\n",
    "In a situation where we want to import "
   ]
  },
  {
   "cell_type": "markdown",
   "metadata": {},
   "source": [
    "#### Q6. What are some of the benefits of attaching a program counter to the RPN interpreter application, which interprets an RPN script line by line?"
   ]
  },
  {
   "cell_type": "markdown",
   "metadata": {},
   "source": [
    "#### Ans:\n",
    "This advantage of RPN is that it removes the need for parentheses that are required by infix notation, since the stack holds all arguments in a last-in, first out progression. Also the expression can be directly parsed into a Stack machine in one pass, making it easier to program and possibly easier for humans to understand."
   ]
  },
  {
   "cell_type": "markdown",
   "metadata": {},
   "source": [
    "#### Q7. What are the minimum expressions or statements (or both) that you&#39;d need to render a basic programming language like RPN primitive but complete— that is, capable of carrying out any computerised task theoretically possible?"
   ]
  },
  {
   "cell_type": "markdown",
   "metadata": {},
   "source": [
    "#### Ans:\n",
    "RPM evaluation can be performed easily by maintaining a stack of operands. For a valid input string, when you hit an operator, you pop the last two values off the stack, apply the operator and push the result back on to the stack.\n",
    "\n",
    "Therefore, we need to find the value added by each of the \"fixes\":\n",
    "\n",
    "Insert\n",
    "\n",
    "Operand: you hit an operator, and there is only one item on the stack\n",
    "\n",
    "Operator: You finish the string and there are multiple items left on the stack\n",
    "\n",
    "Delete\n",
    "\n",
    "Operand: you are at the end of the string. Adding operators will have the same result\n",
    "\n",
    "Operator: there is only one item on the stack, adding an operand will have the same result. If the stack is empty, delete the operator"
   ]
  },
  {
   "cell_type": "code",
   "execution_count": null,
   "metadata": {},
   "outputs": [],
   "source": []
  }
 ],
 "metadata": {
  "kernelspec": {
   "display_name": "Python 3",
   "language": "python",
   "name": "python3"
  },
  "language_info": {
   "codemirror_mode": {
    "name": "ipython",
    "version": 3
   },
   "file_extension": ".py",
   "mimetype": "text/x-python",
   "name": "python",
   "nbconvert_exporter": "python",
   "pygments_lexer": "ipython3",
   "version": "3.7.7"
  }
 },
 "nbformat": 4,
 "nbformat_minor": 4
}
