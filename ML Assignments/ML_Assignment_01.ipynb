{
 "cells": [
  {
   "cell_type": "markdown",
   "id": "19038733",
   "metadata": {},
   "source": [
    "#### 1. What does one mean by the term &quot;machine learning&quot;?"
   ]
  },
  {
   "cell_type": "markdown",
   "id": "f69e5a3e",
   "metadata": {},
   "source": [
    "#### Ans:\n",
    "Machine Learning is a field of study that gives the machines/computers the capability to learn without being explicitly programmed. It involves feeding the data to machines to build machine learning models using the data and different algorithm. "
   ]
  },
  {
   "cell_type": "markdown",
   "id": "903be8cb",
   "metadata": {},
   "source": [
    "#### 2.Can you think of 4 distinct types of issues where it shines?"
   ]
  },
  {
   "cell_type": "markdown",
   "id": "1dd07219",
   "metadata": {},
   "source": [
    "#### Ans:\n",
    "Four distinct issues where machine learning shines are:\n",
    "1. Product recommendations: Product recommendation is one of the stark features of almost every e-commerce website today, which is an advanced application of machine learning techniques. Using machine learning and AI, websites track your behavior based on your previous purchases, searching patterns, and cart history, and then make product recommendations.\n",
    "\n",
    "2. Spam detection: Our mail agent like Gmail, Hotmail, etc. uses machine learning classification algorithms to detect the spam emails and move them to the spam folder.\n",
    "\n",
    "3. Image recognition: Image recognition, which is an approach for cataloging and detecting a feature or an object in the digital image, is one of the most significant and notable machine learning and AI techniques. This technique is being adopted for further analysis, such as pattern recognition, face detection, and face recognition.\n",
    "\n",
    "4. Language translation: Machine learning plays a significant role in the translation of one language to another. Websites can translate from one language to another effortlessly and give contextual meaning as well. The technology behind the translation tool is called ‘machine translation.’"
   ]
  },
  {
   "cell_type": "markdown",
   "id": "16cef2c1",
   "metadata": {},
   "source": [
    "#### 3.What is a labeled training set, and how does it work?"
   ]
  },
  {
   "cell_type": "markdown",
   "id": "4c079cbd",
   "metadata": {},
   "source": [
    "#### Ans:\n",
    "A set of data is said to be labelled if for each set of predictor variables we have corresponding response variable. The value of response variable of a data point is the label of the predictor variables value for that point. We then divide our labelled data into training set and test set. After that, the training set is used to train our model to predict the already known responses of the test data."
   ]
  },
  {
   "cell_type": "markdown",
   "id": "11e217ae",
   "metadata": {},
   "source": [
    "#### 4.What are the two most important tasks that are supervised?"
   ]
  },
  {
   "cell_type": "markdown",
   "id": "eeaa0462",
   "metadata": {},
   "source": [
    "#### Ans:\n",
    "The two most important supervised tasks are Regression and Classification."
   ]
  },
  {
   "cell_type": "markdown",
   "id": "ee14b834",
   "metadata": {},
   "source": [
    "#### 5.Can you think of four examples of unsupervised tasks?"
   ]
  },
  {
   "cell_type": "markdown",
   "id": "ca098f68",
   "metadata": {},
   "source": [
    "#### Ans:\n",
    "Four examples of unsupervised tasks are Clustering, Visualization, Dimensionality Reduction and Association Rule Learning."
   ]
  },
  {
   "cell_type": "markdown",
   "id": "a7632d05",
   "metadata": {},
   "source": [
    "#### 6.State the machine learning model that would be best to make a robot walk through various unfamiliar terrains?"
   ]
  },
  {
   "cell_type": "markdown",
   "id": "9b4c2ece",
   "metadata": {},
   "source": [
    "#### Ans:\n",
    "Machine learning model that would be best to make a robot walk is Reinforcement Learning. In an unfamiliar terrain, whenever a robot gets bumped to a wall it will punish itself and learns from that experience which will improve the walking process with time."
   ]
  },
  {
   "cell_type": "markdown",
   "id": "1c4cdc78",
   "metadata": {},
   "source": [
    "#### 7.Which algorithm will you use to divide your customers into different groups?"
   ]
  },
  {
   "cell_type": "markdown",
   "id": "3c746709",
   "metadata": {},
   "source": [
    "#### Ans:\n",
    "Clustering algorithms such as K-means clustering and Hierarchial clustering can be used to divide customers into different groups."
   ]
  },
  {
   "cell_type": "markdown",
   "id": "17666b5b",
   "metadata": {},
   "source": [
    "#### 8.Will you consider the problem of spam detection to be a supervised or unsupervised learning problem?"
   ]
  },
  {
   "cell_type": "markdown",
   "id": "19dd01b3",
   "metadata": {},
   "source": [
    "#### Ans:\n",
    "The problem of spam detection is supervised because the dataset is labelled with either 'spam' or 'no spam'."
   ]
  },
  {
   "cell_type": "markdown",
   "id": "e224ccbb",
   "metadata": {},
   "source": [
    "#### 9.What is the concept of an online learning system?"
   ]
  },
  {
   "cell_type": "markdown",
   "id": "03e41289",
   "metadata": {},
   "source": [
    "#### Ans:\n",
    "Online learning system uses continuously fed data to learn and improve the machine learning model that the system has built. For example, the youtube recommendation system uses the videos that we watch frequently to give better suggestions."
   ]
  },
  {
   "cell_type": "markdown",
   "id": "a92754d1",
   "metadata": {},
   "source": [
    "#### 10.What is out-of-core learning, and how does it differ from core learning?"
   ]
  },
  {
   "cell_type": "markdown",
   "id": "4ede53e3",
   "metadata": {},
   "source": [
    "#### Ans:\n",
    "Out-of-core learning is a method thst is used when the size of the dataset is more htan the size of RAM of the machine that we need to use to train our model. Using this method, we divide our dataset(stored in hardrive or some online server) into smaller batches that is compatible with our RAM(Data-10GB and RAM-4GB). Then we use these batches to train our model and we keep on updating the model with new batch until all the batches has been used."
   ]
  },
  {
   "cell_type": "markdown",
   "id": "5867cbf3",
   "metadata": {},
   "source": [
    "#### 11.What kind of learning algorithm makes predictions using a similarity measure?"
   ]
  },
  {
   "cell_type": "markdown",
   "id": "751adc3d",
   "metadata": {},
   "source": [
    "#### Ans:\n",
    "Instance based learning algoritm uses similarity measure to make predictions."
   ]
  },
  {
   "cell_type": "markdown",
   "id": "5e9ab3e8",
   "metadata": {},
   "source": [
    "#### 12.What&#39;s the difference between a model parameter and a hyperparameter in a learning algorithm?"
   ]
  },
  {
   "cell_type": "markdown",
   "id": "8ea5b6af",
   "metadata": {},
   "source": [
    "#### Ans:\n",
    "Model parameters are the variables of a model that are updated during the training process and help in the final prediction while hyperparameters are the values that are set before the training process starts. For example, the slope and intercept of alinear regression model are the parameters and the number of epochs used to train the linear regression model is the hyperparameter."
   ]
  },
  {
   "cell_type": "markdown",
   "id": "6816cadf",
   "metadata": {},
   "source": [
    "#### 13.What are the criteria that model-based learning algorithms look for? What is the most popular method they use to achieve success? What method do they use to make predictions?"
   ]
  },
  {
   "cell_type": "markdown",
   "id": "539825bc",
   "metadata": {},
   "source": [
    "#### Ans:\n",
    "Model-based learning algorithm looks for the optimal set of parameters that give the best result on the new instances. The use the method of minimizing the cost function to get the parameters. They use the paremeters of the trained model to make predictions on new instances."
   ]
  },
  {
   "cell_type": "markdown",
   "id": "74d07e67",
   "metadata": {},
   "source": [
    "#### 14.Can you name four of the most important Machine Learning challenges?"
   ]
  },
  {
   "cell_type": "markdown",
   "id": "22bb6d9d",
   "metadata": {},
   "source": [
    "#### Ans:\n",
    "Four most important machine learning challenges are:\n",
    "1. Overfitting and Underfitting:  Overfitting occurs whenever a machine learning model is trained with a huge amount of data, it starts capturing noise and inaccurate data into the training data set. It negatively affects the performance of the model. Underfitting is just the opposite of overfitting. Whenever a machine learning model is trained with fewer amounts of data, and as a result, it provides incomplete and inaccurate data and destroys the accuracy of the machine learning model.\n",
    "2. Poor quality of data: Unclean and noisy data can make the whole process extremely exhausting. We don’t want our algorithm to make inaccurate or faulty predictions. Hence the quality of data is essential to enhance the output. Therefore, we need to ensure that the process of data preprocessing which includes removing outliers, filtering missing values, and removing unwanted features, is done with the utmost level of perfection. \n",
    "3. Insufficient amount of data: The most important task you need to do in the machine learning process is to train the data to achieve an accurate output. Less amount training data will produce inaccurate or too biased predictions. \n",
    "4. Non-representative training data: To make sure our training model is generalized well or not, we have to ensure that sample training data must be representative of new cases that we need to generalize. The training data must cover all cases that are already occurred as well as occurring."
   ]
  },
  {
   "cell_type": "markdown",
   "id": "edce2775",
   "metadata": {},
   "source": [
    "#### 15.What happens if the model performs well on the training data but fails to generalize the results to new situations? Can you think of three different options?"
   ]
  },
  {
   "cell_type": "markdown",
   "id": "ee9ccf40",
   "metadata": {},
   "source": [
    "#### Ans:\n",
    "If the model performs well on the training data but fails to generalize the results to new situations then it means that the model has overfitted. \n",
    "\n",
    "Three solutions for this are:\n",
    "1. Getting more data.\n",
    "2. Using impler model.\n",
    "3. Removing outliers and noise from the data."
   ]
  },
  {
   "cell_type": "markdown",
   "id": "00a90c5d",
   "metadata": {},
   "source": [
    "#### 16.What exactly is a test set, and why would you need one?"
   ]
  },
  {
   "cell_type": "markdown",
   "id": "de1c63cd",
   "metadata": {},
   "source": [
    "#### Ans:\n",
    "A test set is that part of the original dataset which is not used to train the model. We need test set to quantify how much good/bad our trained model is or how well it will perform on unseen data."
   ]
  },
  {
   "cell_type": "markdown",
   "id": "ded2384b",
   "metadata": {},
   "source": [
    "#### 17.What is a validation set&#39;s purpose?"
   ]
  },
  {
   "cell_type": "markdown",
   "id": "4814ebe9",
   "metadata": {},
   "source": [
    "#### Ans:\n",
    "Validation set is used to compare between different training models and for hyperparametr tuning(using cross validation)."
   ]
  },
  {
   "cell_type": "markdown",
   "id": "befbdb05",
   "metadata": {},
   "source": [
    "#### 18.What precisely is the train-dev kit, when will you need it, how do you put it to use?"
   ]
  },
  {
   "cell_type": "markdown",
   "id": "c2084bb0",
   "metadata": {},
   "source": [
    "#### Ans:\n",
    "Train-dev kit is the collection of training and development/validation set. We need it for selecting among different models or for hyper-parameter tuning. We use it by dividing our training data into batches and then using different batches as validation set in different epochs."
   ]
  },
  {
   "cell_type": "markdown",
   "id": "7fe40c77",
   "metadata": {},
   "source": [
    "#### 19.What could go wrong if you use the test set to tune hyperparameters?"
   ]
  },
  {
   "cell_type": "markdown",
   "id": "323b9bfe",
   "metadata": {},
   "source": [
    "#### Ans:\n",
    "Using test set to tune hyperparameters creates bias model which does not gives the correct accuracy because it will not perform well on the new dataset as it is tuned for that specific test set."
   ]
  },
  {
   "cell_type": "code",
   "execution_count": null,
   "id": "c7d1f7e3",
   "metadata": {},
   "outputs": [],
   "source": []
  }
 ],
 "metadata": {
  "kernelspec": {
   "display_name": "Python 3 (ipykernel)",
   "language": "python",
   "name": "python3"
  },
  "language_info": {
   "codemirror_mode": {
    "name": "ipython",
    "version": 3
   },
   "file_extension": ".py",
   "mimetype": "text/x-python",
   "name": "python",
   "nbconvert_exporter": "python",
   "pygments_lexer": "ipython3",
   "version": "3.9.13"
  }
 },
 "nbformat": 4,
 "nbformat_minor": 5
}
