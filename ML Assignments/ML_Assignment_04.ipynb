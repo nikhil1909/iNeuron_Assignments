{
 "cells": [
  {
   "cell_type": "markdown",
   "id": "66250815",
   "metadata": {},
   "source": [
    "#### 1. What are the key tasks involved in getting ready to work with machine learning modeling?"
   ]
  },
  {
   "cell_type": "markdown",
   "id": "7a8c31b6",
   "metadata": {},
   "source": [
    "#### Ans:\n",
    "The Key Tasks involved in getting ready to work with Machine learning Modelling are:\n",
    "\n",
    "1. Data collection: Defining the problem and assembling a dataset.\n",
    "2. Data preparation: Preparing your data.\n",
    "3. Choosing a Model.\n",
    "4. Training the Model: Developing a model that does better than a baseline.\n",
    "5. Evaluating the Model: Choosing a measure of success. Deciding on an evaluation protocol.\n",
    "6. Parameter tuning: Scaling up: developing a model that overfits.Regularizing your model and tuning your parameters.\n",
    "7. Prediction or Inference."
   ]
  },
  {
   "cell_type": "markdown",
   "id": "1cc33ec1",
   "metadata": {},
   "source": [
    "#### 2. What are the different forms of data used in machine learning? Give a specific example for each of them."
   ]
  },
  {
   "cell_type": "markdown",
   "id": "adafabda",
   "metadata": {},
   "source": [
    "#### Ans:\n",
    "Forms of data used in machine learning are:\n",
    "1. Numerical data like price of a product, temprature, sales, etc.\n",
    "2. Categorical data like country, color, profession, etc.\n",
    "3. Time series data like dates, time period, etc.\n",
    "4. Text data like words and sentences."
   ]
  },
  {
   "cell_type": "markdown",
   "id": "5a4c6f4a",
   "metadata": {},
   "source": [
    "#### 3. Distinguish:\n",
    "\n",
    "1. Numeric vs. categorical attributes\n",
    "\n",
    "2. Feature selection vs. dimensionality reduction"
   ]
  },
  {
   "cell_type": "markdown",
   "id": "7ca14f24",
   "metadata": {},
   "source": [
    "#### Ans:\n",
    "1. The attributes which can be quantified in discrete or continuous numbers are numerical attributes like price, tempratue,etc. The attributes that have finite set of labels or categories are categorical attributes like color, profession, etc.\n",
    "\n",
    "2. Feature selection is a technique using which we can select a subset of all the available features that are relevant for making models. Dimensionality reduction is a technique using which we can project our data on a subspace that explains most of the variability in the data."
   ]
  },
  {
   "cell_type": "markdown",
   "id": "ae6e32c8",
   "metadata": {},
   "source": [
    "#### 4. Make quick notes on any two of the following:\n",
    "\n",
    "1. The histogram\n",
    "\n",
    "2. Use a scatter plot\n",
    "\n",
    "3. PCA (Principal Component Analysis)"
   ]
  },
  {
   "cell_type": "markdown",
   "id": "65762cd7",
   "metadata": {},
   "source": [
    "#### Ans:\n",
    "1. The histogram: It is a pictorial represantion of the data using which we can infer about the distribution of the data.\n",
    "\n",
    "2. Use a scatter plot: Scatter plot is used to know how two variables vary together and with how much correlation.\n",
    "\n",
    "3. PCA: Principal component analysis is a techniqu used for dimensionality reduction. It helps in reducing the number of features."
   ]
  },
  {
   "cell_type": "markdown",
   "id": "4ca25e43",
   "metadata": {},
   "source": [
    "#### 5. Why is it necessary to investigate data? Is there a discrepancy in how qualitative and quantitative data are explored?"
   ]
  },
  {
   "cell_type": "markdown",
   "id": "b65b5715",
   "metadata": {},
   "source": [
    "#### Ans:\n",
    "To build a good model the data needs to be cleaned and preprared well. For that reason it is necessary to investigate our data so that we can remove outliers and discrepancies in the data.\n",
    "\n",
    "The qualitative and quantitative data have different nature so they reuire different technique to be explored well."
   ]
  },
  {
   "cell_type": "markdown",
   "id": "65080be9",
   "metadata": {},
   "source": [
    "#### 6. What are the various histogram shapes? What exactly are ‘bins&#39;?"
   ]
  },
  {
   "cell_type": "markdown",
   "id": "96ff50a6",
   "metadata": {},
   "source": [
    "#### Ans:\n",
    "Histogram shapes could be normal distribution, skewed distribution, bimodal distribution, multimodal distribution and edge-peaked distribution.\n",
    "\n",
    "Bins are categorization of continuous values where each bin consists of a range of values."
   ]
  },
  {
   "cell_type": "markdown",
   "id": "6086fac6",
   "metadata": {},
   "source": [
    "#### 7. How do we deal with data outliers?"
   ]
  },
  {
   "cell_type": "markdown",
   "id": "b1265fd5",
   "metadata": {},
   "source": [
    "#### Ans:\n",
    "To check for an outlier:\n",
    "1. Use IQR method.\n",
    "2. Use z-score.\n",
    "3. Use vizualization or z-score.\n",
    "\n",
    "To deal with outlier:\n",
    "1. Outliers can be simply removed from the dataset.\n",
    "2. Check is the observation is correct.\n",
    "3. Cap the values above or below some threshold.\n",
    "4. Use normalization or standardization."
   ]
  },
  {
   "cell_type": "markdown",
   "id": "522b0362",
   "metadata": {},
   "source": [
    "#### 8. What are the various central inclination measures? Why does mean vary too much from median in certain data sets?"
   ]
  },
  {
   "cell_type": "markdown",
   "id": "47f61170",
   "metadata": {},
   "source": [
    "#### Ans:\n",
    "Mean, median and mode are the three central inclination measures. The datasets that are assymetric in nature due to the presence of outliers have mean that vary too much from the median."
   ]
  },
  {
   "cell_type": "markdown",
   "id": "fa92b36a",
   "metadata": {},
   "source": [
    "#### 9. Describe how a scatter plot can be used to investigate bivariate relationships. Is it possible to find outliers using a scatter plot?"
   ]
  },
  {
   "cell_type": "markdown",
   "id": "81e32cce",
   "metadata": {},
   "source": [
    "#### Ans:\n",
    "If the points are too close then there is a strong relationship and if the points are scattered then the relationship is weak. If the scatterplot tends to form a line with positive slope then the relationship is positive and negative if the slope is negative. And if the points are randomly distributed on the scatteplot then there is no relationship between the two variables.\n",
    "\n",
    "On observsing the scatterplot if there are points that deviate too much from rest of the points then they could be potential outliers."
   ]
  },
  {
   "cell_type": "markdown",
   "id": "ed7b00fe",
   "metadata": {},
   "source": [
    "#### 10. Describe how cross-tabs can be used to figure out how two variables are related."
   ]
  },
  {
   "cell_type": "markdown",
   "id": "9f16409d",
   "metadata": {},
   "source": [
    "#### Ans:\n",
    "On rows we have labels for one variable and on columns we have labels for another variable and rest of the box tell us how much units belong to a corresponding row and column label. We can convert those units to percentage values and then interpret how for a specific row label the column labels are varying."
   ]
  },
  {
   "cell_type": "code",
   "execution_count": null,
   "id": "0f77df6e",
   "metadata": {},
   "outputs": [],
   "source": []
  }
 ],
 "metadata": {
  "kernelspec": {
   "display_name": "Python 3 (ipykernel)",
   "language": "python",
   "name": "python3"
  },
  "language_info": {
   "codemirror_mode": {
    "name": "ipython",
    "version": 3
   },
   "file_extension": ".py",
   "mimetype": "text/x-python",
   "name": "python",
   "nbconvert_exporter": "python",
   "pygments_lexer": "ipython3",
   "version": "3.9.13"
  }
 },
 "nbformat": 4,
 "nbformat_minor": 5
}
