{
 "cells": [
  {
   "cell_type": "markdown",
   "id": "0fc191df",
   "metadata": {},
   "source": [
    "#### 1. Write a Python Program to Find the Factorial of a Number?"
   ]
  },
  {
   "cell_type": "code",
   "execution_count": 1,
   "id": "6fc940ae",
   "metadata": {},
   "outputs": [
    {
     "name": "stdout",
     "output_type": "stream",
     "text": [
      "Enter a number:5\n",
      "5! = 120\n"
     ]
    }
   ],
   "source": [
    "def factorial(n):\n",
    "    if n==0 or n==1:\n",
    "        return 1\n",
    "    return n*factorial(n-1)\n",
    "\n",
    "n = int(input(\"Enter a number:\"))\n",
    "print(str(n)+\"! =\",factorial(n))"
   ]
  },
  {
   "cell_type": "markdown",
   "id": "5974f210",
   "metadata": {},
   "source": [
    "#### 2. Write a Python Program to Display the multiplication Table?"
   ]
  },
  {
   "cell_type": "code",
   "execution_count": 2,
   "id": "9bcc0ed4",
   "metadata": {},
   "outputs": [
    {
     "name": "stdout",
     "output_type": "stream",
     "text": [
      "Enter a number:8\n",
      "Multiplication table of 8:\n",
      "8 x 1 = 8\n",
      "8 x 2 = 16\n",
      "8 x 3 = 24\n",
      "8 x 4 = 32\n",
      "8 x 5 = 40\n",
      "8 x 6 = 48\n",
      "8 x 7 = 56\n",
      "8 x 8 = 64\n",
      "8 x 9 = 72\n",
      "8 x 10 = 80\n"
     ]
    }
   ],
   "source": [
    "def table(n):\n",
    "    for i in range(1,11):\n",
    "        print(n,\"x\",i,\"=\",n*i)\n",
    "\n",
    "n = int(input(\"Enter a number:\"))\n",
    "print(\"Multiplication table of \"+str(n)+\":\")\n",
    "table(n)"
   ]
  },
  {
   "cell_type": "markdown",
   "id": "84cbb77f",
   "metadata": {},
   "source": [
    "#### 3. Write a Python Program to Print the Fibonacci sequence?"
   ]
  },
  {
   "cell_type": "code",
   "execution_count": 3,
   "id": "5475cc8b",
   "metadata": {},
   "outputs": [
    {
     "name": "stdout",
     "output_type": "stream",
     "text": [
      "Enter the number of terms:10\n",
      "The first 10 Fibonacci numbers are:\n",
      "0,1,1,2,3,5,8,13,21,34,"
     ]
    }
   ],
   "source": [
    "def gen_fibonacci(n):\n",
    "    if n==1:\n",
    "        yield 0\n",
    "    elif n==2:\n",
    "        yield 0\n",
    "        yield 1\n",
    "    else:\n",
    "        yield 0\n",
    "        yield 1\n",
    "        a = 0\n",
    "        b = 1\n",
    "        while n-2>0:\n",
    "            c = a+b\n",
    "            yield c\n",
    "            a = b\n",
    "            b = c\n",
    "            n-=1\n",
    "\n",
    "n = int(input(\"Enter the number of terms:\"))\n",
    "print(\"The first\",n,\"Fibonacci numbers are:\")\n",
    "for i in gen_fibonacci(n):\n",
    "    print(i,end=\",\")"
   ]
  },
  {
   "cell_type": "markdown",
   "id": "ba709e89",
   "metadata": {},
   "source": [
    "#### 4. Write a Python Program to Check Armstrong Number?"
   ]
  },
  {
   "cell_type": "code",
   "execution_count": 4,
   "id": "7b912868",
   "metadata": {},
   "outputs": [
    {
     "name": "stdout",
     "output_type": "stream",
     "text": [
      "Enter a number:153\n",
      "153 is an Armstrong number.\n"
     ]
    }
   ],
   "source": [
    "def order(num):\n",
    "    i = 1\n",
    "    while True:\n",
    "        if num/(10**i)<1:\n",
    "            return i\n",
    "        else:\n",
    "            i+=1\n",
    "            \n",
    "def check_armstrong(num):\n",
    "    o = order(num)\n",
    "    summ = 0\n",
    "    for ch in str(num):\n",
    "        summ+=int(ch)**o\n",
    "    return summ==num\n",
    "\n",
    "num = int(input(\"Enter a number:\"))\n",
    "if check_armstrong(num):\n",
    "    print(num,\"is an Armstrong number.\")\n",
    "else:\n",
    "    print(num,\"is not an Armstrong number.\")"
   ]
  },
  {
   "cell_type": "markdown",
   "id": "3e51585b",
   "metadata": {},
   "source": [
    "#### 5. Write a Python Program to Find Armstrong Number in an Interval?"
   ]
  },
  {
   "cell_type": "code",
   "execution_count": 5,
   "id": "0215b325",
   "metadata": {},
   "outputs": [
    {
     "name": "stdout",
     "output_type": "stream",
     "text": [
      "Enter lower bound of interval:1\n",
      "Enter upper bound of interval:1000\n",
      "Armstrong numbers in the interval (1,1000):\n",
      "1,2,3,4,5,6,7,8,9,153,370,371,407,"
     ]
    }
   ],
   "source": [
    "a = int(input(\"Enter lower bound of interval:\"))\n",
    "b = int(input(\"Enter upper bound of interval:\"))\n",
    "print(\"Armstrong numbers in the interval (\"+str(a)+\",\"+str(b)+\"):\")\n",
    "for i in range(a,b+1):\n",
    "    if check_armstrong(i):\n",
    "        print(i,end=\",\")"
   ]
  },
  {
   "cell_type": "markdown",
   "id": "39f4d4bf",
   "metadata": {},
   "source": [
    "#### 6. Write a Python Program to Find the Sum of Natural Numbers?"
   ]
  },
  {
   "cell_type": "code",
   "execution_count": 6,
   "id": "b26834f8",
   "metadata": {},
   "outputs": [
    {
     "name": "stdout",
     "output_type": "stream",
     "text": [
      "Enter a number:10\n",
      "The sum of first 10 natural numbers is 55\n"
     ]
    }
   ],
   "source": [
    "def sum_naturals(n):\n",
    "    summ=0\n",
    "    for i in range(1,n+1):\n",
    "        summ+=i\n",
    "    return summ\n",
    "\n",
    "n = int(input(\"Enter a number:\"))\n",
    "print(\"The sum of first\",n,\"natural numbers is\",sum_naturals(n))"
   ]
  },
  {
   "cell_type": "code",
   "execution_count": null,
   "id": "7f1e197b",
   "metadata": {},
   "outputs": [],
   "source": []
  }
 ],
 "metadata": {
  "kernelspec": {
   "display_name": "Python 3 (ipykernel)",
   "language": "python",
   "name": "python3"
  },
  "language_info": {
   "codemirror_mode": {
    "name": "ipython",
    "version": 3
   },
   "file_extension": ".py",
   "mimetype": "text/x-python",
   "name": "python",
   "nbconvert_exporter": "python",
   "pygments_lexer": "ipython3",
   "version": "3.9.7"
  }
 },
 "nbformat": 4,
 "nbformat_minor": 5
}
