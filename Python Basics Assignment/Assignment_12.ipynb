{
 "cells": [
  {
   "cell_type": "markdown",
   "id": "f7be8eb8",
   "metadata": {},
   "source": [
    "#### 1. In what modes should the PdfFileReader() and PdfFileWriter() File objects will be opened?"
   ]
  },
  {
   "cell_type": "markdown",
   "id": "2a88c968",
   "metadata": {},
   "source": [
    "####  Ans:\n",
    "PdfFileReader() object opens the file in rb i.e. read binary mode.\n",
    "\n",
    "PdfFileWriter() object opens the file in wb i.e. write binary mode."
   ]
  },
  {
   "cell_type": "markdown",
   "id": "1da34355",
   "metadata": {},
   "source": [
    "#### 2. From a PdfFileReader object, how do you get a Page object for page 5?"
   ]
  },
  {
   "cell_type": "markdown",
   "id": "2e7bb370",
   "metadata": {},
   "source": [
    "#### Ans:\n",
    "Using the getPage() method of PdfFileReader object we can get a Page object. To get the Page object for page 5 we can use getPage(5)."
   ]
  },
  {
   "cell_type": "code",
   "execution_count": null,
   "id": "8526840c",
   "metadata": {},
   "outputs": [],
   "source": [
    "from PyPDF2 import PdfFileReader\n",
    "pdf_reader = PdfFileReader(file_path)\n",
    "pdf_reader.getPage(5)"
   ]
  },
  {
   "cell_type": "markdown",
   "id": "f999680c",
   "metadata": {},
   "source": [
    "#### 3. What PdfFileReader variable stores the number of pages in the PDF document?"
   ]
  },
  {
   "cell_type": "markdown",
   "id": "6e63a932",
   "metadata": {},
   "source": [
    "#### Ans:\n",
    "The getNumPages() method of PdfFileReader object stores the number of pages in the PDF document."
   ]
  },
  {
   "cell_type": "code",
   "execution_count": null,
   "id": "024cb430",
   "metadata": {},
   "outputs": [],
   "source": [
    "from PyPDF2 import PdfFileReader\n",
    "pdf_reader = PdfFileReader(file_path)\n",
    "print(pdf_reader.getNumPages())"
   ]
  },
  {
   "cell_type": "markdown",
   "id": "1e0dc1ee",
   "metadata": {},
   "source": [
    "#### 4. If a PdfFileReader object’s PDF is encrypted with the password swordfish, what must you do before you can obtain Page objects from it?"
   ]
  },
  {
   "cell_type": "markdown",
   "id": "b9829837",
   "metadata": {},
   "source": [
    "#### Ans:\n",
    "First we can use isEncrypted attribute of pdfFileReader class to check whether a file is encrypted or not. If the file is encrypted then we can use the decrypt() method to decrypt and then we can obtain Page objects from it."
   ]
  },
  {
   "cell_type": "code",
   "execution_count": null,
   "id": "1ad8b6eb",
   "metadata": {},
   "outputs": [],
   "source": [
    "from PyPDF2 import PdfFileReader\n",
    "pdf_reader = PdfFileReader(file_path)\n",
    "if pdf_reader.isEncrypted: # Checking whether file is encrypted\n",
    "    pdf_reader.decrypt(\"swordfish\")\n",
    "for page in pdf_reader.pages:\n",
    "    print(page.extractText())"
   ]
  },
  {
   "cell_type": "markdown",
   "id": "7564a2bf",
   "metadata": {},
   "source": [
    "#### 5. What methods do you use to rotate a page?"
   ]
  },
  {
   "cell_type": "markdown",
   "id": "3cd1546c",
   "metadata": {},
   "source": [
    "#### Ans:\n",
    "The 2 methods to rotate a page are:\n",
    "1. rotateClockWise(): This method rotates the page clockwise in increments of 90 degrees.\n",
    "2. rotateCounterClockWise(): This method rotates the page anti-clockwise in increments of 90 degrees."
   ]
  },
  {
   "cell_type": "markdown",
   "id": "68636e31",
   "metadata": {},
   "source": [
    "#### 6. What is the difference between a Run object and a Paragraph object?"
   ]
  },
  {
   "cell_type": "markdown",
   "id": "31184b10",
   "metadata": {},
   "source": [
    "#### Ans:\n",
    "In python-Docx, the structure of a document is divided into 3 data-types. These are Document object, Paragraph object and Run object. The Document object represents an entire document. Document object contains a list of Paragraph objects where each Paragraph object is representing a paragraph in the document(A new paragraph begins whenever the user presses ENTER or RETURN while typing in a Word document). Each Paragraph contains a list of one or more Run objects.A Run object is a contiguous run of text with the same style.A new Run object is needed whenever the text style changes(A style in Word is a collection of attributes such as color, font, size, etc.)."
   ]
  },
  {
   "cell_type": "markdown",
   "id": "2b26c7b5",
   "metadata": {},
   "source": [
    "#### 7. How do you obtain a list of Paragraph objects for a Document object that’s stored in a variable named doc?"
   ]
  },
  {
   "cell_type": "markdown",
   "id": "de8962d4",
   "metadata": {},
   "source": [
    "#### Ans:\n",
    "We can use doc.paragraphs to get the list of paragraph objects."
   ]
  },
  {
   "cell_type": "code",
   "execution_count": null,
   "id": "cd18fb1f",
   "metadata": {},
   "outputs": [],
   "source": [
    "from docx import Document\n",
    "doc = Document(\"abc.docx\")\n",
    "print(doc.paragraphs)\n",
    "for paragraph in doc.paragraphs:\n",
    "    print(paragraph.text)"
   ]
  },
  {
   "cell_type": "markdown",
   "id": "a63ff402",
   "metadata": {},
   "source": [
    "#### 8. What type of object has bold, underline, italic, strike, and outline variables?"
   ]
  },
  {
   "cell_type": "markdown",
   "id": "c81c8100",
   "metadata": {},
   "source": [
    "#### Ans:\n",
    "The Run object has bold, underline, italic, strike, and outline variables."
   ]
  },
  {
   "cell_type": "markdown",
   "id": "e6bbaed7",
   "metadata": {},
   "source": [
    "#### 9. What is the difference between False, True, and None for the bold variable?"
   ]
  },
  {
   "cell_type": "markdown",
   "id": "cdbcac47",
   "metadata": {},
   "source": [
    "#### Ans:\n",
    "The bold variable True will set the style to bold.\n",
    "\n",
    "The bold variable False will set the style to non-bold.\n",
    "\n",
    "The bold variable None means the style is not applicable."
   ]
  },
  {
   "cell_type": "markdown",
   "id": "c9c802a5",
   "metadata": {},
   "source": [
    "#### 10. How do you create a Document object for a new Word document?"
   ]
  },
  {
   "cell_type": "markdown",
   "id": "e2ec0eb1",
   "metadata": {},
   "source": [
    "#### Ans:"
   ]
  },
  {
   "cell_type": "code",
   "execution_count": null,
   "id": "4be61106",
   "metadata": {},
   "outputs": [],
   "source": [
    "from docx import Document\n",
    "document = Document()\n",
    "document.add_paragraph(\"Content of the new word document.\")\n",
    "document.save('new_word_document.docx')"
   ]
  },
  {
   "cell_type": "markdown",
   "id": "c13fc67f",
   "metadata": {},
   "source": [
    "#### 11. How do you add a paragraph with the text &#39;Hello, there!&#39; to a Document object stored in a variable named doc?"
   ]
  },
  {
   "cell_type": "markdown",
   "id": "8950c7e7",
   "metadata": {},
   "source": [
    "#### Ans:"
   ]
  },
  {
   "cell_type": "code",
   "execution_count": null,
   "id": "3ce60590",
   "metadata": {},
   "outputs": [],
   "source": [
    "doc.add_paragraph('Hello, there!')\n",
    "doc.save('new_word_document.docx')"
   ]
  },
  {
   "cell_type": "markdown",
   "id": "793b0610",
   "metadata": {},
   "source": [
    "#### 12. What integers represent the levels of headings available in Word documents?"
   ]
  },
  {
   "cell_type": "markdown",
   "id": "3d4a12aa",
   "metadata": {},
   "source": [
    "#### Ans:\n",
    "The levels of heading can be set by using the level attribute of the add_heading method. There are a total of 5 levels statring for 0 to 4. Level 0 makes a headline with the horizontal line below the text. Level 1 is the main heading. The other headings are sub-heading with their font-sizes in decreasing order."
   ]
  },
  {
   "cell_type": "code",
   "execution_count": null,
   "id": "f86b983d",
   "metadata": {},
   "outputs": [],
   "source": []
  }
 ],
 "metadata": {
  "kernelspec": {
   "display_name": "Python 3 (ipykernel)",
   "language": "python",
   "name": "python3"
  },
  "language_info": {
   "codemirror_mode": {
    "name": "ipython",
    "version": 3
   },
   "file_extension": ".py",
   "mimetype": "text/x-python",
   "name": "python",
   "nbconvert_exporter": "python",
   "pygments_lexer": "ipython3",
   "version": "3.9.7"
  }
 },
 "nbformat": 4,
 "nbformat_minor": 5
}
