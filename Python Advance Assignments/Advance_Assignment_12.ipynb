{
 "cells": [
  {
   "cell_type": "markdown",
   "id": "c26619f0",
   "metadata": {},
   "source": [
    "#### Q1. Does assigning a value to a string&#39;s indexed character violate Python&#39;s string immutability?"
   ]
  },
  {
   "cell_type": "markdown",
   "id": "aa69e662",
   "metadata": {},
   "source": [
    "#### Ans:\n",
    "Yes, assigning a value to a string's indexed charachter violate Python's string immutability. Assigning a value to a string's indexed character raises Type error."
   ]
  },
  {
   "cell_type": "markdown",
   "id": "b0a23340",
   "metadata": {},
   "source": [
    "#### Q2. Does using the += operator to concatenate strings violate Python&#39;s string immutability? Why or why not?"
   ]
  },
  {
   "cell_type": "markdown",
   "id": "3299d7d1",
   "metadata": {},
   "source": [
    "#### Ans:\n",
    "+= operator is used to concatenate strings, it does not violate Python’s string immutability Property. Because doing so new creates a new association with data and variable. E.g. str_1=\"a\" and str_1+=\"b. effect of this statements to create string ab and reassign it to variable str_1, any string data is not actually modified."
   ]
  },
  {
   "cell_type": "code",
   "execution_count": 1,
   "id": "530060e1",
   "metadata": {},
   "outputs": [
    {
     "name": "stdout",
     "output_type": "stream",
     "text": [
      "2458918053040\n",
      "2458992651248\n"
     ]
    }
   ],
   "source": [
    "str_1 = 'a'\n",
    "print(id(str_1))\n",
    "str_1 += 'b'\n",
    "print(id(str_1)) # Does not Modify existing string, Creates a New String Object"
   ]
  },
  {
   "cell_type": "markdown",
   "id": "5a69ef78",
   "metadata": {},
   "source": [
    "#### Q3. In Python, how many different ways are there to index a character?"
   ]
  },
  {
   "cell_type": "markdown",
   "id": "750cd72f",
   "metadata": {},
   "source": [
    "#### Ans:\n",
    "A character in string can be indexed using string name followed by index number of character in square bracket. Positive indexing i.e. first index is 0 an so on, or Negative Indexing i.e. last letter is -1 and so on can be used to index a character."
   ]
  },
  {
   "cell_type": "code",
   "execution_count": 2,
   "id": "d52efcfe",
   "metadata": {},
   "outputs": [
    {
     "name": "stdout",
     "output_type": "stream",
     "text": [
      "i o l\n",
      "e i t\n"
     ]
    }
   ],
   "source": [
    "in_string = \"iNeuron Full Stack Data Science\"\n",
    "print(in_string[0],in_string[5],in_string[10]) # Positive Indexing\n",
    "print(in_string[-1],in_string[-5],in_string[-10]) # Negative Indexing"
   ]
  },
  {
   "cell_type": "markdown",
   "id": "fca3dbd7",
   "metadata": {},
   "source": [
    "#### Q4. What is the relationship between indexing and slicing?"
   ]
  },
  {
   "cell_type": "markdown",
   "id": "662b45a0",
   "metadata": {},
   "source": [
    "#### Ans:\n",
    "We can access elements of sequence datatypes by using slicing and indexing. Indexing is used to obtaining individual element while slicing for sequence of elements."
   ]
  },
  {
   "cell_type": "code",
   "execution_count": 3,
   "id": "32d18773",
   "metadata": {},
   "outputs": [
    {
     "name": "stdout",
     "output_type": "stream",
     "text": [
      "N\n",
      "Neuron Fu\n"
     ]
    }
   ],
   "source": [
    "in_string = \"iNeuron Full Stack Data Science\"\n",
    "print(in_string[1]) # Indexing\n",
    "print(in_string[1:10]) # Slicing"
   ]
  },
  {
   "cell_type": "markdown",
   "id": "29add924",
   "metadata": {},
   "source": [
    "#### Q5. What is an indexed character&#39;s exact data type? What is the data form of a slicing-generated substring?"
   ]
  },
  {
   "cell_type": "markdown",
   "id": "b043f2aa",
   "metadata": {},
   "source": [
    "#### Ans:\n",
    "Both the indexed charachter's and slicing-generated substring are of string data type."
   ]
  },
  {
   "cell_type": "markdown",
   "id": "89b67cac",
   "metadata": {},
   "source": [
    "#### Q6. What is the relationship between string and character &quot;types&quot; in Python?"
   ]
  },
  {
   "cell_type": "markdown",
   "id": "44b6f49a",
   "metadata": {},
   "source": [
    "#### Ans: \n",
    "A charachter is an individual element, and a sequence of charachters is a string."
   ]
  },
  {
   "cell_type": "markdown",
   "id": "4d40e024",
   "metadata": {},
   "source": [
    "#### Q7. Identify at least two operators and one method that allow you to combine one or more smaller strings to create a larger string."
   ]
  },
  {
   "cell_type": "markdown",
   "id": "49c40546",
   "metadata": {},
   "source": [
    "#### Ans:\n",
    "+, += and * allow to combine one or more smaller strings to create a larger string. .join() method joins element of iterable type like list and tuple to get a combined string."
   ]
  },
  {
   "cell_type": "code",
   "execution_count": 4,
   "id": "6373b7c9",
   "metadata": {},
   "outputs": [
    {
     "name": "stdout",
     "output_type": "stream",
     "text": [
      "iNeuron Full Stack Data Science FSDS\n",
      "FSDS FSDS FSDS \n",
      "I N E U R O N\n",
      "i n e u r o n\n"
     ]
    }
   ],
   "source": [
    "in_string = 'iNeuron '\n",
    "in_string += 'Full Stack Data Science'\n",
    "print(in_string + ' FSDS')\n",
    "print('FSDS '*3)\n",
    "print(\" \".join(['I','N','E','U','R','O','N'])) # List Iterable\n",
    "print(\" \".join(('I','N','E','U','R','O','N')).lower()) # Tuple Iterable"
   ]
  },
  {
   "cell_type": "markdown",
   "id": "87800f4c",
   "metadata": {},
   "source": [
    "#### Q8. What is the benefit of first checking the target string with in or not in before using the index method to find a substring?"
   ]
  },
  {
   "cell_type": "markdown",
   "id": "1ecd470d",
   "metadata": {},
   "source": [
    "#### Ans:\n",
    "Checking the target string with in or not Operators before using the index method to find a substring just helps confirming availability of substring and thus avoid raising of ValueError."
   ]
  },
  {
   "cell_type": "markdown",
   "id": "3cf55ac5",
   "metadata": {},
   "source": [
    "#### Q9. Which operators and built-in string methods produce simple Boolean (true/false) results?"
   ]
  },
  {
   "cell_type": "markdown",
   "id": "03d53acd",
   "metadata": {},
   "source": [
    "#### Ans:\n",
    "The String Operators and built-in methods to Produce Simple Boolean (True/False) Results are:\n",
    "\n",
    "in,\n",
    "not,\n",
    ".isalpha(),\n",
    ".isalnum(),\n",
    ".isdecimal(),\n",
    ".isdigit(),\n",
    ".islower(),\n",
    ".isnumeric(),\n",
    ".isprintable(),\n",
    ".isspace(),\n",
    ".istitle()."
   ]
  },
  {
   "cell_type": "code",
   "execution_count": null,
   "id": "f7475aa3",
   "metadata": {},
   "outputs": [],
   "source": []
  }
 ],
 "metadata": {
  "kernelspec": {
   "display_name": "Python 3 (ipykernel)",
   "language": "python",
   "name": "python3"
  },
  "language_info": {
   "codemirror_mode": {
    "name": "ipython",
    "version": 3
   },
   "file_extension": ".py",
   "mimetype": "text/x-python",
   "name": "python",
   "nbconvert_exporter": "python",
   "pygments_lexer": "ipython3",
   "version": "3.9.7"
  }
 },
 "nbformat": 4,
 "nbformat_minor": 5
}
