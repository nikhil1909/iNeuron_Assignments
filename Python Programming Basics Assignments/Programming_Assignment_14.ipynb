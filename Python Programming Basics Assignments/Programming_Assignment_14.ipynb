{
 "cells": [
  {
   "cell_type": "markdown",
   "id": "94b34fa2",
   "metadata": {},
   "source": [
    "#### Question 1:\n",
    "Define a class with a generator which can iterate the numbers, which are divisible by 7, between a given range 0 and n."
   ]
  },
  {
   "cell_type": "code",
   "execution_count": 1,
   "id": "951181f9",
   "metadata": {},
   "outputs": [
    {
     "name": "stdout",
     "output_type": "stream",
     "text": [
      "0,7,14,21,28,35,42,49,56,63,70,77,84,91,98,"
     ]
    }
   ],
   "source": [
    "class Gen:\n",
    "    def __init__(self, n):\n",
    "        self.n = n\n",
    "        \n",
    "    def generator(self):\n",
    "        for i in range(self.n):\n",
    "            if i%7==0:\n",
    "                yield i\n",
    "g = Gen(100)\n",
    "for x in g.generator():\n",
    "    print(x,end=\",\")"
   ]
  },
  {
   "cell_type": "markdown",
   "id": "4ceba5ce",
   "metadata": {},
   "source": [
    "#### Question 2:\n",
    "Write a program to compute the frequency of the words from the input. The output should output after sorting the key alphanumerically.\n",
    "\n",
    "Suppose the following input is supplied to the program:\n",
    "\n",
    "New to Python or choosing between Python 2 and Python 3? Read Python 2 or Python 3.\n",
    "\n",
    "Then, the output should be:\n",
    "\n",
    "2:2\n",
    "\n",
    "3.:1\n",
    "\n",
    "3?:1\n",
    "\n",
    "New:1\n",
    "\n",
    "Python:5\n",
    "\n",
    "Read:1\n",
    "\n",
    "and:1\n",
    "\n",
    "between:1\n",
    "\n",
    "choosing:1\n",
    "\n",
    "or:2\n",
    "\n",
    "to:1"
   ]
  },
  {
   "cell_type": "code",
   "execution_count": 2,
   "id": "b9346ada",
   "metadata": {},
   "outputs": [
    {
     "name": "stdout",
     "output_type": "stream",
     "text": [
      "Enter a sentence:New to Python or choosing between Python 2 and Python 3? Read Python 2 or Python 3.\n",
      "2: 2\n",
      "3.: 1\n",
      "3?: 1\n",
      "New: 1\n",
      "Python: 5\n",
      "Read: 1\n",
      "and: 1\n",
      "between: 1\n",
      "choosing: 1\n",
      "or: 2\n",
      "to: 1\n"
     ]
    }
   ],
   "source": [
    "def frequence(sen_list):\n",
    "    freq_dic = {}\n",
    "    sen_set = set(sen_list)\n",
    "    for ele in sen_set:\n",
    "        freq_dic[ele] = sen_list.count(ele)\n",
    "    \n",
    "    for key in sorted(freq_dic.keys()):\n",
    "        print(key+\":\",freq_dic[key])\n",
    "    \n",
    "\n",
    "sen_list = input(\"Enter a sentence:\").split(\" \")\n",
    "frequence(sen_list)"
   ]
  },
  {
   "cell_type": "markdown",
   "id": "56cdf274",
   "metadata": {},
   "source": [
    "#### Question 3:\n",
    "Define a class Person and its two child classes: Male and Female. All classes have a method &quot;getGender&quot; which can print &quot;Male&quot; for Male class and &quot;Female&quot; for Female class."
   ]
  },
  {
   "cell_type": "code",
   "execution_count": 3,
   "id": "24b6a7c4",
   "metadata": {},
   "outputs": [
    {
     "name": "stdout",
     "output_type": "stream",
     "text": [
      "Male\n",
      "Male\n",
      "Female\n"
     ]
    }
   ],
   "source": [
    "class Person:\n",
    "    def __init__(self,gender):\n",
    "        self.gender = gender\n",
    "        \n",
    "    def getGender(self):\n",
    "        print(self.gender)\n",
    "    \n",
    "class Male(Person):\n",
    "    def __init__(self):\n",
    "        super().__init__(\"Male\")\n",
    "        \n",
    "    def getGender(self):\n",
    "        print(\"Male\")\n",
    "        \n",
    "class Female(Person):\n",
    "    def __init__(self):\n",
    "        super().__init__(\"Female\")\n",
    "        \n",
    "    def getGender(self):\n",
    "        print(\"Female\")\n",
    "\n",
    "p = Person(\"Male\")\n",
    "p.getGender()\n",
    "\n",
    "m = Male()\n",
    "m.getGender()\n",
    "\n",
    "f = Female()\n",
    "f.getGender()"
   ]
  },
  {
   "cell_type": "markdown",
   "id": "d2ab8568",
   "metadata": {},
   "source": [
    "#### Question 4:\n",
    "Please write a program to generate all sentences where subject is in [&quot;I&quot;, &quot;You&quot;] and verb is in [&quot;Play&quot;, &quot;Love&quot;] and the object is in [&quot;Hockey&quot;,&quot;Football&quot;]."
   ]
  },
  {
   "cell_type": "code",
   "execution_count": 4,
   "id": "339e1709",
   "metadata": {},
   "outputs": [
    {
     "name": "stdout",
     "output_type": "stream",
     "text": [
      "I Play Hockey\n",
      "I Play Football\n",
      "I Love Hockey\n",
      "I Love Football\n",
      "You Play Hockey\n",
      "You Play Football\n",
      "You Love Hockey\n",
      "You Love Football\n"
     ]
    }
   ],
   "source": [
    "sub =  [\"I\", \"You\"]\n",
    "verb = [\"Play\", \"Love\"]\n",
    "obj = [\"Hockey\",\"Football\"]\n",
    "\n",
    "for s in sub:\n",
    "    for v in verb:\n",
    "        for o in obj:\n",
    "            print(s,v,o)"
   ]
  },
  {
   "cell_type": "markdown",
   "id": "3876db82",
   "metadata": {},
   "source": [
    "#### Question 5:\n",
    "Please write a program to compress and decompress the string &quot;hello world!hello world!hello world!hello world!&quot;."
   ]
  },
  {
   "cell_type": "code",
   "execution_count": 5,
   "id": "1d69c223",
   "metadata": {},
   "outputs": [
    {
     "name": "stdout",
     "output_type": "stream",
     "text": [
      "hel2o world!hel2o world!hel2o world!hel2o world!\n",
      "hello world!hello world!hello world!hello world!\n"
     ]
    }
   ],
   "source": [
    "def compress(string):\n",
    "    result = ''\n",
    "    n = len(string)\n",
    "    count = 1\n",
    "    for i in range(n-1):\n",
    "        if string[i]==string[i+1]:\n",
    "            count+=1\n",
    "        else:\n",
    "            if count>1:\n",
    "                result+=(string[i]+str(count))\n",
    "                count = 1\n",
    "            else:\n",
    "                result+=string[i]\n",
    "    if count>1:\n",
    "        result+=(string[n-1]+str(count))\n",
    "    else:\n",
    "        result+=string[n-1]\n",
    "    return result\n",
    "\n",
    "def decompress(string):\n",
    "    result = ''\n",
    "    for ele in range(len(string)):\n",
    "        if string[ele].isdigit():\n",
    "            result += result[-1]*(int(string[ele])-1)\n",
    "        else:\n",
    "            result += string[ele]\n",
    "    return result\n",
    "\n",
    "print(compress(\"hello world!hello world!hello world!hello world!\"))\n",
    "print(decompress(\"hel2o world!hel2o world!hel2o world!hel2o world!\"))"
   ]
  },
  {
   "cell_type": "markdown",
   "id": "6ace1e41",
   "metadata": {},
   "source": [
    "#### Question 6:\n",
    "Please write a binary search function which searches an item in a sorted list. The function should return the index of element to be searched in the list."
   ]
  },
  {
   "cell_type": "code",
   "execution_count": 6,
   "id": "9b8ad3c9",
   "metadata": {},
   "outputs": [
    {
     "name": "stdout",
     "output_type": "stream",
     "text": [
      "Enter a list:[1,2,3,4,5,6,7,8,9]\n",
      "Enter the element:8\n",
      "The element 8 is present at index 7\n"
     ]
    }
   ],
   "source": [
    "def bsearch(ls,e):\n",
    "    lower = 0\n",
    "    upper = len(ls)-1\n",
    "    while True:\n",
    "        mid = (lower+upper)//2\n",
    "        if lower>upper:\n",
    "            return \"Element \"+str(e)+\" is not in the list\"\n",
    "        elif ls[mid]==e:\n",
    "            return mid\n",
    "        elif ls[mid]<e:\n",
    "            lower = mid+1\n",
    "        else:\n",
    "            upper = mid-1\n",
    "\n",
    "ls = sorted(eval(input(\"Enter a list:\")))\n",
    "e = int(input(\"Enter the element:\"))\n",
    "result = bsearch(ls,e)\n",
    "if type(result)==int:\n",
    "    print(\"The element\",e,\"is present at index\",result)\n",
    "else:\n",
    "    print(result)"
   ]
  },
  {
   "cell_type": "code",
   "execution_count": null,
   "id": "915cd107",
   "metadata": {},
   "outputs": [],
   "source": []
  }
 ],
 "metadata": {
  "kernelspec": {
   "display_name": "Python 3 (ipykernel)",
   "language": "python",
   "name": "python3"
  },
  "language_info": {
   "codemirror_mode": {
    "name": "ipython",
    "version": 3
   },
   "file_extension": ".py",
   "mimetype": "text/x-python",
   "name": "python",
   "nbconvert_exporter": "python",
   "pygments_lexer": "ipython3",
   "version": "3.9.7"
  }
 },
 "nbformat": 4,
 "nbformat_minor": 5
}
