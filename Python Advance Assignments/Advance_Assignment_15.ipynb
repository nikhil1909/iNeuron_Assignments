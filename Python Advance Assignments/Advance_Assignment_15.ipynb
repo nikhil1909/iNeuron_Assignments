{
 "cells": [
  {
   "cell_type": "markdown",
   "id": "d96bc7fe",
   "metadata": {},
   "source": [
    "#### 1. What are the new features added in Python 3.8 version?"
   ]
  },
  {
   "cell_type": "markdown",
   "id": "6215c94e",
   "metadata": {},
   "source": [
    "#### Ans:\n",
    "Some New Features Added in Python 3.8 Version are:\n",
    "\n",
    "1. Walrus Operator: This operator is used to assign and return a value in the same expression. This removes the need for initializing the variable upfront. The major benefit of this is it saves some lines of code. It is also known as The Walrus Operator due to its similarity to the eyes and tusks of a walrus.\n",
    "\n",
    "2. yield and return keywords do not require parentheses to return multiple values.\n",
    "\n",
    "3. Reversed works with a dictionary. The built-in method reversed() can be used for accessing the elements in the reverse order of insertion\n",
    "\n",
    "4. Dict comprehensions have been modified so that the key is computed first and the value second.\n",
    "\n",
    "5. importlib_metadata is a new library added in the Python’s standard utility modules, that provides an API for accessing an installed package’s metadata, such as its entry points or its top-level name.\n",
    "\n",
    "6. f-strings now support = , to make string interpolation easy. Python 3.8 allows the use of the above-discussed assignment operator and equal sign (=) inside the f-strings.\n",
    "\n",
    "7. In the three-argument form of pow(), when the exponent is -1, it calculates the modular multiplicative inverse of the given value\n",
    "\n",
    "8. The csv.DictReader now returns instances of dictionary instead of a collections.OrderedDict.\n",
    "\n",
    "9. If you miss a comma in your code such as a = [(1, 2) (3, 4)], along with throwing TypeError, it displays an informative Syntax warning."
   ]
  },
  {
   "cell_type": "markdown",
   "id": "937a6329",
   "metadata": {},
   "source": [
    "#### 2. What is monkey patching in Python?"
   ]
  },
  {
   "cell_type": "markdown",
   "id": "47dad971",
   "metadata": {},
   "source": [
    "#### Ans:\n",
    "In Python, the term monkey patch refers to making dynamic (or run-time) modifications to a class or module. In Python, we can actually change the behavior of code at run-time."
   ]
  },
  {
   "cell_type": "code",
   "execution_count": 1,
   "id": "aaf7e2e7",
   "metadata": {},
   "outputs": [
    {
     "name": "stdout",
     "output_type": "stream",
     "text": [
      "func() is being called\n",
      "monkey() is being called\n"
     ]
    }
   ],
   "source": [
    "class M:\n",
    "    def func(self):\n",
    "        return \"func() is being called\"\n",
    "\n",
    "def monkey(self):\n",
    "    return \"monkey() is being called\"\n",
    "\n",
    "o1 = M()\n",
    "print(o1.func())\n",
    "M.func = monkey\n",
    "print(o1.func())"
   ]
  },
  {
   "cell_type": "markdown",
   "id": "084fa5a3",
   "metadata": {},
   "source": [
    "#### 3. What is the difference between a shallow copy and deep copy?"
   ]
  },
  {
   "cell_type": "markdown",
   "id": "638aba3b",
   "metadata": {},
   "source": [
    "#### Ans:\n",
    "Shallow copy of a list creates another list such that changes made to any element of new list does not changes the element of original list but changes made to any element inside nested list, does get changed in the original list.\n",
    "\n",
    "Deep copy of a list creates another list such that changes made to any element of new list does not changes the element of original list, and also changes made to any element inside nested list, does not get changed in the original list.\n"
   ]
  },
  {
   "cell_type": "code",
   "execution_count": 2,
   "id": "016dbafd",
   "metadata": {},
   "outputs": [
    {
     "name": "stdout",
     "output_type": "stream",
     "text": [
      "[1, 2, [3, 4]]\n",
      "[1, 2, [3, 4]]\n",
      "[1, 2, [3, 4]]\n",
      "[1, 5, [6, 4]]\n",
      "[1, 2, [6, 4]]\n",
      "[1, 5, [6, 4]]\n",
      "[1, 2, [6, 4]]\n"
     ]
    }
   ],
   "source": [
    "from copy import copy, deepcopy\n",
    "l = [1,2,[3,4]]\n",
    "l1 = copy(l)\n",
    "l2 = deepcopy(l)\n",
    "\n",
    "print(l)\n",
    "print(l1)\n",
    "print(l2)\n",
    "\n",
    "l1[1] = 5\n",
    "l1[2][0] = 6\n",
    "print(l1)\n",
    "print(l)\n",
    "\n",
    "l2[1] = 5\n",
    "l2[2][0] = 6\n",
    "print(l2)\n",
    "print(l)"
   ]
  },
  {
   "cell_type": "markdown",
   "id": "17b2b2a6",
   "metadata": {},
   "source": [
    "#### 4. What is the maximum possible length of an identifier?"
   ]
  },
  {
   "cell_type": "markdown",
   "id": "20149e31",
   "metadata": {},
   "source": [
    "#### Ans:\n",
    "The maximum possible length of an identifier 79."
   ]
  },
  {
   "cell_type": "markdown",
   "id": "01b1debd",
   "metadata": {},
   "source": [
    "#### 5. What is generator comprehension?"
   ]
  },
  {
   "cell_type": "markdown",
   "id": "6a8cc732",
   "metadata": {},
   "source": [
    "#### Ans:\n",
    "A generator comprehension is a single-line specification for defining a generator in Python. Generator comprehension uses round brackets unlike square brackets in list comprehension."
   ]
  },
  {
   "cell_type": "code",
   "execution_count": 3,
   "id": "12b0c334",
   "metadata": {},
   "outputs": [
    {
     "name": "stdout",
     "output_type": "stream",
     "text": [
      "<generator object <genexpr> at 0x000001D44D4D1890>\n",
      "0,1,4,9,16,25,36,49,64,81,"
     ]
    }
   ],
   "source": [
    "g = (x**2 for x in range(10))\n",
    "print(g)\n",
    "for i in g:\n",
    "    print(i,end=',')"
   ]
  },
  {
   "cell_type": "code",
   "execution_count": null,
   "id": "48a20ee0",
   "metadata": {},
   "outputs": [],
   "source": []
  }
 ],
 "metadata": {
  "kernelspec": {
   "display_name": "Python 3 (ipykernel)",
   "language": "python",
   "name": "python3"
  },
  "language_info": {
   "codemirror_mode": {
    "name": "ipython",
    "version": 3
   },
   "file_extension": ".py",
   "mimetype": "text/x-python",
   "name": "python",
   "nbconvert_exporter": "python",
   "pygments_lexer": "ipython3",
   "version": "3.9.7"
  }
 },
 "nbformat": 4,
 "nbformat_minor": 5
}
