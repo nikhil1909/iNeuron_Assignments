{
 "cells": [
  {
   "cell_type": "markdown",
   "id": "0dfa7597",
   "metadata": {},
   "source": [
    "#### 1. What is the definition of a target function? In the sense of a real-life example, express the target function. How is a target function&#39;s fitness assessed?"
   ]
  },
  {
   "cell_type": "markdown",
   "id": "fc87acca",
   "metadata": {},
   "source": [
    "#### Ans:\n",
    "A target function, in machine learning, is a method for solving a problem that an AI algorithm parses its training data to find.The target function is essentially the formula that an algorithm feeds data to in order to calculate predictions.\n",
    "\n",
    "Analyzing the massive amounts of data related to its given problem, an AI derives understanding of previously unspecified rules by detecting consistencies in the data. The observations of inherent rules about how the studied subject operates inform the AI on how to process future data that does not include an output by applying this previously unknown function."
   ]
  },
  {
   "cell_type": "markdown",
   "id": "e738c066",
   "metadata": {},
   "source": [
    "#### 2. What are predictive models, and how do they work? What are descriptive types, and how do you use them? Examples of both types of models should be provided. Distinguish between these two forms of models."
   ]
  },
  {
   "cell_type": "markdown",
   "id": "e7435817",
   "metadata": {},
   "source": [
    "#### Ans:\n",
    "Predictive models are the models that are trained to make predictions on unseen data. For example, creating a linear regression model to predict sales based on the amount of money spend on advertisement.\n",
    "\n",
    "Descriptive models are the models that are used to get insights and inferences from the data by creating clusters or visualizations. For example, creating clusters to for customer segmentation.\n"
   ]
  },
  {
   "cell_type": "markdown",
   "id": "2e84fd96",
   "metadata": {},
   "source": [
    "#### 3. Describe the method of assessing a classification model&#39;s efficiency in detail. Describe the various measurement parameters."
   ]
  },
  {
   "cell_type": "markdown",
   "id": "ee9d29bf",
   "metadata": {},
   "source": [
    "#### Ans:\n",
    "We can use various parameters to assess a classification model's efficiency.\n",
    "1. Accuracy: It is the proportion of correctly classified data points.\n",
    "2. Precision: It is the proportion of predicted positive classes that are correctly classified.\n",
    "3. Recall: It is the proportion of actual positive classes that are correctly classified.\n",
    "4. F1-score: It is the harmonic mean of precision and recall. A model will obtain a high F1 score if both Precision and Recall are high. A model will obtain a low F1 score if both Precision and Recall are low. A model will obtain a medium F1 score if one of Precision and Recall is low and the other is high"
   ]
  },
  {
   "cell_type": "markdown",
   "id": "ecec08cd",
   "metadata": {},
   "source": [
    "#### 4. Answer the following\n",
    "i. In the sense of machine learning models, what is underfitting? What is the most common\n",
    "reason for underfitting?\n",
    "\n",
    "ii. What does it mean to overfit? When is it going to happen?\n",
    "\n",
    "iii. In the sense of model fitting, explain the bias-variance trade-off."
   ]
  },
  {
   "cell_type": "markdown",
   "id": "9e8c8cf1",
   "metadata": {},
   "source": [
    "#### Ans:\n",
    "i. When a model has not learned the patterns in the training data well and is unable to generalize well on the new data, it is known as underfitting. In this case, models performs poorly on both the training and test set. Underfitting occurs due to high bias and low variance.\n",
    "\n",
    "ii. When a model memorizes the patterns in training data and is unable to generalize well on the new data, it is known as overfitting. In this case, models performs well on the training set but poorly on the test set. Overfitting occurs due to low bias and high variance.\n",
    "\n",
    "iii. Bias-variance tradeo-off means that if we try to reduce the bias of a model, then the variance of the model increases and vice-versa."
   ]
  },
  {
   "cell_type": "markdown",
   "id": "54460e4f",
   "metadata": {},
   "source": [
    "#### 5. Is it possible to boost the efficiency of a learning model? If so, please clarify how."
   ]
  },
  {
   "cell_type": "markdown",
   "id": "5f612f76",
   "metadata": {},
   "source": [
    "#### Ans:\n",
    "Methods for boosting efficiency of a learning model:\n",
    "1. Use more data.\n",
    "2. Perform hyper-parameter tuning.\n",
    "3. Use ensemble techniques."
   ]
  },
  {
   "cell_type": "markdown",
   "id": "223b6f3d",
   "metadata": {},
   "source": [
    "#### 6. How would you rate an unsupervised learning model&#39;s success? What are the most common success indicators for an unsupervised learning model?"
   ]
  },
  {
   "cell_type": "markdown",
   "id": "cc08f529",
   "metadata": {},
   "source": [
    "#### Ans:\n",
    "We can use Silhouette coefficient, Calisnki-Harabasz coefficient, Dunn index, Xie-Beni score and Hartigan index to determine the success of an unsupervised learning model like clustering."
   ]
  },
  {
   "cell_type": "markdown",
   "id": "a766e812",
   "metadata": {},
   "source": [
    "#### 7. Is it possible to use a classification model for numerical data or a regression model for categorical data with a classification model? Explain your answer."
   ]
  },
  {
   "cell_type": "markdown",
   "id": "26e6a446",
   "metadata": {},
   "source": [
    "#### Ans:\n",
    "We can use classification model for a numerical data by discretizing the the response variable or by creating buckets and give different labels to each bucket.\n",
    "\n",
    "We can use regression model for a categorical data by giving numerical values to each category but that is not a good idea as it might not produce good results."
   ]
  },
  {
   "cell_type": "markdown",
   "id": "97a96416",
   "metadata": {},
   "source": [
    "#### 8. Describe the predictive modeling method for numerical values. What distinguishes it from categorical predictive modeling?"
   ]
  },
  {
   "cell_type": "markdown",
   "id": "50d11e07",
   "metadata": {},
   "source": [
    "#### Ans:\n",
    "In predictive modeling methods for numerical values we have to predict numbers while in categorical predictive modeling we have to predict the correct class to which the data point belongs."
   ]
  },
  {
   "cell_type": "markdown",
   "id": "9fc91b8c",
   "metadata": {},
   "source": [
    "#### 9. The following data were collected when using a classification model to predict the malignancy of a group of patients&#39; tumors:\n",
    "i. Accurate estimates – 15 cancerous, 75 benign\n",
    "\n",
    "ii. Wrong predictions – 3 cancerous, 7 benign\n",
    "\n",
    "Determine the model&#39;s error rate, Kappa value, sensitivity, precision, and F-measure."
   ]
  },
  {
   "cell_type": "markdown",
   "id": "a7a5f81e",
   "metadata": {},
   "source": [
    "#### Ans:\n",
    "Error rate = (Correct predictions)/(Total predictions) = (15+75)/(15+75+3+7) = 0.9\n",
    "\n",
    "Sensitivity = (True positive)/(True positive + False negative) = 15/(15+7) = 0.68\n",
    "\n",
    "Precision = (True positive)/(True positive + False positive) =  15/(15+3) = 0.83\n",
    "\n",
    "F-measure = (2xTrue Positive) / (2xTrue Positive + False positive + False negative) = 2x15/(2x15+3+7) = 0.75"
   ]
  },
  {
   "cell_type": "markdown",
   "id": "e721fe1b",
   "metadata": {},
   "source": [
    "#### 10. Make quick notes on:\n",
    "1. The process of holding out\n",
    "2. Cross-validation by tenfold\n",
    "3. Adjusting the parameters"
   ]
  },
  {
   "cell_type": "markdown",
   "id": "0e81ac60",
   "metadata": {},
   "source": [
    "#### Ans:\n",
    "1. The process of holding out: In the process of holding out we split the dataset in multiple splits and use one split for training and other splits for testing and validation.\n",
    "\n",
    "2. Cross-validation by tenfold: In 10-fold cv we divide the datset into 10 equal splits, the we use one split for validation and rest of the splits a straining in different iterations.\n",
    "\n",
    "3. Adjusting the parameters: It is just a fancy name for training the model. It means to update the parameters to minimize the cost function."
   ]
  },
  {
   "cell_type": "markdown",
   "id": "f235d521",
   "metadata": {},
   "source": [
    "#### 11. Define the following terms:\n",
    "1. Purity vs. Silhouette width\n",
    "2. Boosting vs. Bagging\n",
    "3. The eager learner vs. the lazy learner"
   ]
  },
  {
   "cell_type": "markdown",
   "id": "e119e19a",
   "metadata": {},
   "source": [
    "#### Ans:\n",
    "1. Purity vs. Silhouette width: Purity is a measure of the extent to which clusters contain a single class. Its calculation can be thought of as follows: For each cluster, count the number of data points from the most common class in said cluster. The silhouette width is also an estimate of the average distance between clusters. Its value is comprised between 1 and -1 with a value of 1 indicating a very good cluster.\n",
    "    \n",
    "2. Boosting vs. Bagging: In bagging we create different models by using an algorithm and feeding different set of data to it.In boosting we create different models by using same algorithm and same dataset but in each iteration we try to correct the mistakes made by previous model.\n",
    "    \n",
    "3. The eager learner vs. the lazy learner: A lazy learning does nothing but simply memorizes the data. It has less training time and more prediction time. All the instance based algorithms like knn are lazy learners. The eager learners are the ones that train a generalized model to make predictions. IT has more training time and less prediction time. Algorithms like knn, naive bayes, decision trees are eager learners."
   ]
  },
  {
   "cell_type": "code",
   "execution_count": null,
   "id": "c4434c07",
   "metadata": {},
   "outputs": [],
   "source": []
  }
 ],
 "metadata": {
  "kernelspec": {
   "display_name": "Python 3 (ipykernel)",
   "language": "python",
   "name": "python3"
  },
  "language_info": {
   "codemirror_mode": {
    "name": "ipython",
    "version": 3
   },
   "file_extension": ".py",
   "mimetype": "text/x-python",
   "name": "python",
   "nbconvert_exporter": "python",
   "pygments_lexer": "ipython3",
   "version": "3.9.13"
  }
 },
 "nbformat": 4,
 "nbformat_minor": 5
}
