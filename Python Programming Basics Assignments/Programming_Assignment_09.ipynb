{
 "cells": [
  {
   "cell_type": "markdown",
   "id": "4480b1e5",
   "metadata": {},
   "source": [
    "#### 1. Write a Python program to check if the given number is a Disarium Number?"
   ]
  },
  {
   "cell_type": "code",
   "execution_count": 1,
   "id": "445ed4eb",
   "metadata": {},
   "outputs": [
    {
     "name": "stdout",
     "output_type": "stream",
     "text": [
      "Enter a number:135\n",
      "The number 135 is Disarium\n"
     ]
    }
   ],
   "source": [
    "def get_digits(num):\n",
    "    l = []\n",
    "    while num>0:\n",
    "        r = num%10\n",
    "        l.append(r)\n",
    "        num//=10\n",
    "    return l[::-1]\n",
    "\n",
    "def check_disarium(num):\n",
    "    digits = get_digits(num)\n",
    "    n = len(digits)\n",
    "    summ = 0\n",
    "    for i in range(n):\n",
    "        summ+=pow(digits[i],i+1)\n",
    "    if summ==num:\n",
    "        return \"Disarium\"\n",
    "    else:\n",
    "        return \"not Disarium\"\n",
    "\n",
    "num = int(input(\"Enter a number:\"))\n",
    "print(\"The number\",num,\"is\",check_disarium(num))"
   ]
  },
  {
   "cell_type": "markdown",
   "id": "e32ebc56",
   "metadata": {},
   "source": [
    "#### 2. Write a Python program to print all disarium numbers between 1 to 100?"
   ]
  },
  {
   "cell_type": "code",
   "execution_count": 2,
   "id": "8308671b",
   "metadata": {},
   "outputs": [
    {
     "name": "stdout",
     "output_type": "stream",
     "text": [
      "1,2,3,4,5,6,7,8,9,89,"
     ]
    }
   ],
   "source": [
    "for i in range(1,101):\n",
    "    if check_disarium(i)==\"Disarium\":\n",
    "        print(i,end=\",\")"
   ]
  },
  {
   "cell_type": "markdown",
   "id": "87be3fcc",
   "metadata": {},
   "source": [
    "#### 3. Write a Python program to check if the given number is Happy Number?"
   ]
  },
  {
   "cell_type": "code",
   "execution_count": 3,
   "id": "7530b01c",
   "metadata": {},
   "outputs": [
    {
     "name": "stdout",
     "output_type": "stream",
     "text": [
      "Enter a number:19\n",
      "The number 19 is Happy\n"
     ]
    }
   ],
   "source": [
    "from functools import reduce\n",
    "\n",
    "def sum_squares(num):\n",
    "    digits = get_digits(num)\n",
    "    return reduce(lambda x,y:x+y, map(lambda x:x**2, digits))\n",
    "\n",
    "def check_happy(num):\n",
    "    l = [num]\n",
    "    while 1:\n",
    "        sum_sq = sum_squares(num)\n",
    "        if sum_sq==1:\n",
    "            return \"Happy\"\n",
    "        elif sum_sq in l:\n",
    "            return \"not Happy\"\n",
    "        else:\n",
    "            l.append(sum_sq)\n",
    "            num = sum_sq\n",
    "            \n",
    "num = int(input(\"Enter a number:\"))\n",
    "print(\"The number\",num,\"is\",check_happy(num)) "
   ]
  },
  {
   "cell_type": "markdown",
   "id": "833ebd9f",
   "metadata": {},
   "source": [
    "#### 4. Write a Python program to print all happy numbers between 1 and 100?"
   ]
  },
  {
   "cell_type": "code",
   "execution_count": 4,
   "id": "3f9ecb9d",
   "metadata": {},
   "outputs": [
    {
     "name": "stdout",
     "output_type": "stream",
     "text": [
      "1,7,10,13,19,23,28,31,32,44,49,68,70,79,82,86,91,94,97,100,"
     ]
    }
   ],
   "source": [
    "for i in range(1,101):\n",
    "    if check_happy(i)==\"Happy\":\n",
    "        print(i,end=\",\")"
   ]
  },
  {
   "cell_type": "markdown",
   "id": "f4ec3868",
   "metadata": {},
   "source": [
    "#### 5. Write a Python program to determine whether the given number is a Harshad Number?"
   ]
  },
  {
   "cell_type": "code",
   "execution_count": 5,
   "id": "f99ac32c",
   "metadata": {},
   "outputs": [
    {
     "name": "stdout",
     "output_type": "stream",
     "text": [
      "Enter a number:18\n",
      "The number 18 is Harshad\n"
     ]
    }
   ],
   "source": [
    "def check_harshad(num):\n",
    "    digits = get_digits(num)\n",
    "    summ = sum(digits)\n",
    "    if num%summ==0:\n",
    "        return \"Harshad\"\n",
    "    else:\n",
    "        return \"not Harshad\"\n",
    "num = int(input(\"Enter a number:\"))\n",
    "print(\"The number\",num,\"is\",check_harshad(num)) "
   ]
  },
  {
   "cell_type": "markdown",
   "id": "561e6d01",
   "metadata": {},
   "source": [
    "#### 6. Write a Python program to print all pronic numbers between 1 and 100?"
   ]
  },
  {
   "cell_type": "code",
   "execution_count": 6,
   "id": "2a48ddd7",
   "metadata": {},
   "outputs": [
    {
     "name": "stdout",
     "output_type": "stream",
     "text": [
      "2,6,12,20,30,42,56,72,90,"
     ]
    }
   ],
   "source": [
    "def check_pronic(num):\n",
    "    if num==1:\n",
    "        return \"not Pronic\"\n",
    "    i = 0\n",
    "    prod = 1\n",
    "    while prod<=num:\n",
    "        if prod==num:\n",
    "            return \"Pronic\"\n",
    "        else:\n",
    "            i+=1\n",
    "            prod = i*(i+1)\n",
    "    return \"not Pronic\"\n",
    "\n",
    "for i in range(1,101):\n",
    "    if check_pronic(i)==\"Pronic\":\n",
    "        print(i,end=\",\")"
   ]
  },
  {
   "cell_type": "code",
   "execution_count": null,
   "id": "1107ec74",
   "metadata": {},
   "outputs": [],
   "source": []
  }
 ],
 "metadata": {
  "kernelspec": {
   "display_name": "Python 3 (ipykernel)",
   "language": "python",
   "name": "python3"
  },
  "language_info": {
   "codemirror_mode": {
    "name": "ipython",
    "version": 3
   },
   "file_extension": ".py",
   "mimetype": "text/x-python",
   "name": "python",
   "nbconvert_exporter": "python",
   "pygments_lexer": "ipython3",
   "version": "3.9.7"
  }
 },
 "nbformat": 4,
 "nbformat_minor": 5
}
