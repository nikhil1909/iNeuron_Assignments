{
 "cells": [
  {
   "cell_type": "markdown",
   "id": "58a0e7f6",
   "metadata": {},
   "source": [
    "#### 1. What are escape characters, and how do you use them?"
   ]
  },
  {
   "cell_type": "markdown",
   "id": "5b8b0bc5",
   "metadata": {},
   "source": [
    "#### Ans:\n",
    "Escape characters are illegal characters for Python and that do not get printed as part of the output. When a backslash is used in a string, it allows the program to escape the next character.\n",
    "Examples: `\\n(newline), \\t(tab), \\\\'(single quote), \\\\\"(double quote),` etc."
   ]
  },
  {
   "cell_type": "code",
   "execution_count": 1,
   "id": "2d575083",
   "metadata": {},
   "outputs": [
    {
     "name": "stdout",
     "output_type": "stream",
     "text": [
      "Hello\n",
      "World\n"
     ]
    }
   ],
   "source": [
    "print(\"Hello\\nWorld\") # \\n example"
   ]
  },
  {
   "cell_type": "code",
   "execution_count": 2,
   "id": "d0def34e",
   "metadata": {},
   "outputs": [
    {
     "name": "stdout",
     "output_type": "stream",
     "text": [
      "Hello\tWorld\n"
     ]
    }
   ],
   "source": [
    "print(\"Hello\\tWorld\") # \\t example"
   ]
  },
  {
   "cell_type": "code",
   "execution_count": 3,
   "id": "ce423550",
   "metadata": {},
   "outputs": [
    {
     "name": "stdout",
     "output_type": "stream",
     "text": [
      "Hello'World\n"
     ]
    }
   ],
   "source": [
    "print('Hello\\'World') # \\n example"
   ]
  },
  {
   "cell_type": "code",
   "execution_count": 4,
   "id": "cb1a3fc5",
   "metadata": {},
   "outputs": [
    {
     "name": "stdout",
     "output_type": "stream",
     "text": [
      "Hello\"World\n"
     ]
    }
   ],
   "source": [
    "print(\"Hello\\\"World\") # \\n example"
   ]
  },
  {
   "cell_type": "markdown",
   "id": "fc0f7bd7",
   "metadata": {},
   "source": [
    "#### 2. What do the escape characters n and t stand for?"
   ]
  },
  {
   "cell_type": "markdown",
   "id": "9ca40c1a",
   "metadata": {},
   "source": [
    "#### Ans:\n",
    "Escape characters \\n stands for newline.\n",
    "\n",
    "Escape characters \\t stands for tab(four spaces)."
   ]
  },
  {
   "cell_type": "markdown",
   "id": "775f4e3a",
   "metadata": {},
   "source": [
    "#### 3. What is the way to include backslash characters in a string?"
   ]
  },
  {
   "cell_type": "markdown",
   "id": "6ce62876",
   "metadata": {},
   "source": [
    "#### Ans:\n",
    "To include backslash charachter in a string we need to put one more backslash before it i.e. `\\\\`."
   ]
  },
  {
   "cell_type": "code",
   "execution_count": 5,
   "id": "1f6f572e",
   "metadata": {},
   "outputs": [
    {
     "name": "stdout",
     "output_type": "stream",
     "text": [
      "Hello\\World\n"
     ]
    }
   ],
   "source": [
    "print(\"Hello\\\\World\")"
   ]
  },
  {
   "cell_type": "markdown",
   "id": "ba9ff3ac",
   "metadata": {},
   "source": [
    "#### 4. The string &quot;Howl&#39;s Moving Castle&quot; is a correct value. Why isn&#39;t the single quote character in the word Howl&#39;s not escaped a problem?"
   ]
  },
  {
   "cell_type": "markdown",
   "id": "5ba74221",
   "metadata": {},
   "source": [
    "#### Ans:\n",
    "The given string is a correct value because it is wrapped in double quotes and that's why single quote character is legal to use. If the string were wrapped under single quote, then it would not have been a correct value."
   ]
  },
  {
   "cell_type": "markdown",
   "id": "88bfebbd",
   "metadata": {},
   "source": [
    "#### 5. How do you write a string of newlines if you don&#39;t want to use the n character?"
   ]
  },
  {
   "cell_type": "markdown",
   "id": "623b032d",
   "metadata": {},
   "source": [
    "#### Ans:\n",
    "If we use a multiline string then we do not need the n charachter to write newlines."
   ]
  },
  {
   "cell_type": "code",
   "execution_count": 6,
   "id": "6eab491f",
   "metadata": {},
   "outputs": [
    {
     "name": "stdout",
     "output_type": "stream",
     "text": [
      "Hello\n",
      "World\n"
     ]
    }
   ],
   "source": [
    "# Example\n",
    "s = '''Hello\n",
    "World'''\n",
    "print(s)"
   ]
  },
  {
   "cell_type": "markdown",
   "id": "1a901569",
   "metadata": {},
   "source": [
    "#### 6. What are the values of the given expressions?\n",
    "&#39;Hello, world!&#39;[1]\n",
    "\n",
    "&#39;Hello, world!&#39;[0:5]\n",
    "\n",
    "&#39;Hello, world!&#39;[:5]\n",
    "\n",
    "&#39;Hello, world!&#39;[3:]"
   ]
  },
  {
   "cell_type": "markdown",
   "id": "0ccf02e3",
   "metadata": {},
   "source": [
    "#### Ans:\n",
    "`'Hello, world!'[1]` will give the character at index 1, i.e. `e`\n",
    "\n",
    "`'Hello, world!'[0:5]` will give the substring starting from index 0 and ending at index 4, i.e. `'Hello'`\n",
    "\n",
    "`'Hello, world!'[:5]` will give the substring starting from index 0 and ending at index 4, i.e. `'Hello'`\n",
    "\n",
    "`'Hello, world!'[3:]` will give the substring starting from index 3 and ending at the last index, i.e. `'lo, world!'`"
   ]
  },
  {
   "cell_type": "code",
   "execution_count": 7,
   "id": "a31d18f3",
   "metadata": {},
   "outputs": [
    {
     "name": "stdout",
     "output_type": "stream",
     "text": [
      "e\n",
      "Hello\n",
      "Hello\n",
      "lo, world!\n"
     ]
    }
   ],
   "source": [
    "print('Hello, world!'[1])\n",
    "print('Hello, world!'[0:5])\n",
    "print('Hello, world!'[:5])\n",
    "print('Hello, world!'[3:])"
   ]
  },
  {
   "cell_type": "markdown",
   "id": "e6b38dd0",
   "metadata": {},
   "source": [
    "#### 7. What are the values of the following expressions?\n",
    "&#39;Hello&#39;.upper()\n",
    "\n",
    "&#39;Hello&#39;.upper().isupper()\n",
    "\n",
    "&#39;Hello&#39;.upper().lower()"
   ]
  },
  {
   "cell_type": "markdown",
   "id": "644344bc",
   "metadata": {},
   "source": [
    "`'Hello'.upper()` will change all the lowercase character to uppercase, i.e. `'HELLO'`\n",
    "\n",
    "The value of `'Hello'.upper().isupper()` is `True` upper() function  because will change all the lowercase character to uppercase and then isupper() will check whether all the characters are uppercase or not.\n",
    "\n",
    "`'Hello'.upper().lower()`  will change all the lowercase character to uppercase and then all the uppercase character to lowercasecase, i.e.  final value will be `'hello'`"
   ]
  },
  {
   "cell_type": "code",
   "execution_count": 8,
   "id": "8c49b5a8",
   "metadata": {},
   "outputs": [
    {
     "name": "stdout",
     "output_type": "stream",
     "text": [
      "HELLO\n",
      "True\n",
      "hello\n"
     ]
    }
   ],
   "source": [
    "print('Hello'.upper())\n",
    "print('Hello'.upper().isupper())\n",
    "print('Hello'.upper().lower())"
   ]
  },
  {
   "cell_type": "markdown",
   "id": "e7c505d8",
   "metadata": {},
   "source": [
    "#### 8. What are the values of the following expressions?\n",
    "&#39;Remember, remember, the fifth of July.&#39;.split()\n",
    "\n",
    "&#39;-&#39;.join(&#39;There can only one.&#39;.split())"
   ]
  },
  {
   "cell_type": "markdown",
   "id": "8565a32c",
   "metadata": {},
   "source": [
    "`'Remember, remember, the fifth of July.'.split()` will return a list whose elements are substring of the given string seperated by space, i.e. `['Remember,', 'remember,', 'the', 'fifth', 'of', 'July.']`\n",
    "\n",
    "`'-'.join('There can only one.'.split())` will return a string by joining the elements of the list that includes substrings of the given string seperated by space, i.e. `'There-can-only-one.'`"
   ]
  },
  {
   "cell_type": "code",
   "execution_count": 9,
   "id": "fd172316",
   "metadata": {},
   "outputs": [
    {
     "name": "stdout",
     "output_type": "stream",
     "text": [
      "['Remember,', 'remember,', 'the', 'fifth', 'of', 'July.']\n"
     ]
    }
   ],
   "source": [
    "print('Remember, remember, the fifth of July.'.split())"
   ]
  },
  {
   "cell_type": "code",
   "execution_count": 10,
   "id": "46665492",
   "metadata": {},
   "outputs": [
    {
     "data": {
      "text/plain": [
       "'There-can-only-one.'"
      ]
     },
     "execution_count": 10,
     "metadata": {},
     "output_type": "execute_result"
    }
   ],
   "source": [
    "'-'.join('There can only one.'.split())"
   ]
  },
  {
   "cell_type": "markdown",
   "id": "9f5ec719",
   "metadata": {},
   "source": [
    "#### 9. What are the methods for right-justifying, left-justifying, and centering a string?"
   ]
  },
  {
   "cell_type": "markdown",
   "id": "0681d451",
   "metadata": {},
   "source": [
    "#### Ans:\n",
    "The method for right-justufying a string is rjust().\n",
    "\n",
    "The method forleft-justufying a string is ljust().\n",
    "\n",
    "The method for centering a string is center()."
   ]
  },
  {
   "cell_type": "code",
   "execution_count": 11,
   "id": "a9dcf916",
   "metadata": {},
   "outputs": [
    {
     "name": "stdout",
     "output_type": "stream",
     "text": [
      "peacock*************\n",
      "*************peacock\n",
      "******peacock*******\n"
     ]
    }
   ],
   "source": [
    "s = 'peacock'\n",
    "print(s.ljust(20,\"*\"))\n",
    "print(s.rjust(20,\"*\"))\n",
    "print(s.center(20,\"*\"))"
   ]
  },
  {
   "cell_type": "markdown",
   "id": "f29668a2",
   "metadata": {},
   "source": [
    "#### 10. What is the best way to remove whitespace characters from the start or end?"
   ]
  },
  {
   "cell_type": "markdown",
   "id": "314e25c8",
   "metadata": {},
   "source": [
    "#### Ans:\n",
    "To remove whitespace characters from start, we can use the method lstrip().\n",
    "\n",
    "To remove whitespace characters from end, we can use the method rstrip().\n",
    "\n",
    "To remove whitespace characters from both start and end, we can use the method strip()."
   ]
  },
  {
   "cell_type": "code",
   "execution_count": 12,
   "id": "cea1feca",
   "metadata": {},
   "outputs": [
    {
     "name": "stdout",
     "output_type": "stream",
     "text": [
      "munch   \n",
      "  munch\n",
      "munch\n"
     ]
    }
   ],
   "source": [
    "s = '  munch   '\n",
    "print(s.lstrip())\n",
    "print(s.rstrip())\n",
    "print(s.strip())"
   ]
  },
  {
   "cell_type": "code",
   "execution_count": null,
   "id": "990a2787",
   "metadata": {},
   "outputs": [],
   "source": []
  }
 ],
 "metadata": {
  "kernelspec": {
   "display_name": "Python 3 (ipykernel)",
   "language": "python",
   "name": "python3"
  },
  "language_info": {
   "codemirror_mode": {
    "name": "ipython",
    "version": 3
   },
   "file_extension": ".py",
   "mimetype": "text/x-python",
   "name": "python",
   "nbconvert_exporter": "python",
   "pygments_lexer": "ipython3",
   "version": "3.9.7"
  }
 },
 "nbformat": 4,
 "nbformat_minor": 5
}
