{
 "cells": [
  {
   "cell_type": "markdown",
   "id": "06900de6",
   "metadata": {},
   "source": [
    "#### 1. Using a graph to illustrate slope and intercept, define basic linear regression."
   ]
  },
  {
   "cell_type": "markdown",
   "id": "91e3c000",
   "metadata": {},
   "source": [
    "#### Ans:\n",
    "Basic linear regression has the equation y = mx+c, where y is the dependent variable, x is the independent variable, m is the slope and c is the intercept."
   ]
  },
  {
   "cell_type": "code",
   "execution_count": 2,
   "id": "76f9e515",
   "metadata": {},
   "outputs": [
    {
     "data": {
      "image/png": "[encoded data removed]",
      "text/plain": [
       "<Figure size 640x480 with 1 Axes>"
      ]
     },
     "metadata": {},
     "output_type": "display_data"
    }
   ],
   "source": [
    "import matplotlib.pyplot as plt\n",
    "import numpy as np\n",
    "x = np.linspace(-3,3,100)\n",
    "y = 2*x+1\n",
    "plt.plot(x, y, '-r', label='y=2x+1')\n",
    "plt.title('Graph of y=2x+1')\n",
    "plt.xlabel('x', color='#1C2833')\n",
    "plt.ylabel('y', color='#1C2833')\n",
    "plt.legend(loc='upper left')\n",
    "plt.grid()\n",
    "plt.show()"
   ]
  },
  {
   "cell_type": "markdown",
   "id": "59a5e4be",
   "metadata": {},
   "source": [
    "#### 2. In a graph, explain the terms rise, run, and slope."
   ]
  },
  {
   "cell_type": "markdown",
   "id": "61efbcce",
   "metadata": {},
   "source": [
    "#### Ans:\n",
    "Rise is the number of units changed along the y-axis while moving from one point to another point. Run is the number of units changed along the x-axis while moving from one point to another point. Slope is the value that we get when we divide Rise by Run of two given points. This slope tells the steepness of the line when the two givn points are connected."
   ]
  },
  {
   "cell_type": "markdown",
   "id": "3461791e",
   "metadata": {},
   "source": [
    "#### 3. Use a graph to demonstrate slope, linear positive slope, and linear negative slope, as well as the different conditions that contribute to the slope."
   ]
  },
  {
   "cell_type": "markdown",
   "id": "d3de89b4",
   "metadata": {},
   "source": [
    "#### Ans:\n",
    "The slope of a line is linear positive slope if the line moves upward when going from left to right. The slope of a line is linear negative slope if the line moves downward when going from left to right. \n",
    "\n",
    "If both the Rise and Run of two given points are either positive or negative then the corresponding slope will be positive. If exactly one of the Rise and Run of two given points is positive and the other one is negative then the corresponding slope will be negative. "
   ]
  },
  {
   "cell_type": "markdown",
   "id": "2772bdfc",
   "metadata": {},
   "source": [
    "#### 4. Use a graph to demonstrate curve linear negative slope and curve linear positive slope."
   ]
  },
  {
   "cell_type": "markdown",
   "id": "8097bfaa",
   "metadata": {},
   "source": [
    "#### Ans:\n",
    "To determine the slope at a given point on a curve, we draw the tangent at that point and the slope of that tangent is the slope of the curve at that point. If the slope of the tangent is positive then the slope of the curve at that point is positive and if the slope of the tangent is negative then the slope of the curve at that point is negative."
   ]
  },
  {
   "cell_type": "markdown",
   "id": "b1e3e351",
   "metadata": {},
   "source": [
    "#### 5. Use a graph to show the maximum and low points of curves."
   ]
  },
  {
   "cell_type": "markdown",
   "id": "ab2ca371",
   "metadata": {},
   "source": [
    "#### Ans:\n",
    "The maximum points of a curve are those points for which the first derivative of the function at those points is zero and second derivative at those points is negative. The low points of a curve are those points for which the first derivative of the function at those points is zero and second derivative at those points is positive."
   ]
  },
  {
   "cell_type": "markdown",
   "id": "4bf127dd",
   "metadata": {},
   "source": [
    "#### 6. Use the formulas for a and b to explain ordinary least squares."
   ]
  },
  {
   "cell_type": "markdown",
   "id": "0d3da423",
   "metadata": {},
   "source": [
    "#### Ans:\n",
    "Ordinary least square values are those values of the parameters of a simple linear regression line that minimize the error sum of squares function. \n",
    "\n",
    "Ordinary least square value of a, a_hat  = mean(y)-b_hat\\*mean(x)\n",
    "Ordinary least square value of b,b_hat = sum[(x-mean(x))\\*(y-mean(y)]/sum[(x-mean(x)^2]\n",
    "So, estimated simple linear regression line is y = a_hat + b_hat\\*x"
   ]
  },
  {
   "cell_type": "markdown",
   "id": "a0dee030",
   "metadata": {},
   "source": [
    "#### 7. Provide a step-by-step explanation of the OLS algorithm."
   ]
  },
  {
   "cell_type": "markdown",
   "id": "bca0d00f",
   "metadata": {},
   "source": [
    "#### Ans:\n",
    "Ordinary Least Square Algorithm :\n",
    "\n",
    "1. Set a difference between dependent variable and its estimation.\n",
    "2. Square the difference.\n",
    "3. Take summation for all data.\n",
    "4. To get the parameters that make the sum of square difference become minimum, take partial derivative for each parameter and equate it with zero."
   ]
  },
  {
   "cell_type": "markdown",
   "id": "b1543f58",
   "metadata": {},
   "source": [
    "#### 8. What is the regression&#39;s standard error? To represent the same, make a graph."
   ]
  },
  {
   "cell_type": "markdown",
   "id": "77f6cf06",
   "metadata": {},
   "source": [
    "#### Ans:\n",
    " The standard error of the regression (S), also known as the standard error of the estimate, represents the average distance that the observed values fall from the regression line. Conveniently, it tells you how wrong the regression model is on average using the units of the response variable."
   ]
  },
  {
   "cell_type": "markdown",
   "id": "f6353249",
   "metadata": {},
   "source": [
    "#### 9. Provide an example of multiple linear regression."
   ]
  },
  {
   "cell_type": "markdown",
   "id": "5159a04e",
   "metadata": {},
   "source": [
    "#### Ans:\n",
    "Multiple Linear Regression is one of the important regression algorithms which models the linear relationship between a single dependent continuous variable and more than one independent variable. Example: Prediction of CO2 emission based on engine size and number of cylinders in a car."
   ]
  },
  {
   "cell_type": "markdown",
   "id": "99ca4b00",
   "metadata": {},
   "source": [
    "#### 10. Describe the regression analysis assumptions and the BLUE principle."
   ]
  },
  {
   "cell_type": "markdown",
   "id": "a03422d4",
   "metadata": {},
   "source": [
    "#### Ans:\n",
    "There are five assumptions associated with a linear regression model:\n",
    "\n",
    "1. Linearity: The relationship between X and the mean of Y is linear.\n",
    "2. Homoscedasticity: The variance of residual is the same for any value of X.\n",
    "3. Independence: Observations are independent of each other.\n",
    "4. Normality: For any fixed value of X, Y is normally distributed.\n",
    "5. No Autocorrelation: There should be no correlation among error terms.\n",
    "\n",
    "BLUE is an acronym for the following Best Linear Unbiased Estimator. In this context, the definition of “best” refers to the minimum variance or the narrowest sampling distribution. BLUE principle says that out of all the linear unbiased estimators of the parameters, OLS is the one with minimum variance."
   ]
  },
  {
   "cell_type": "markdown",
   "id": "bb680faa",
   "metadata": {},
   "source": [
    "#### 11. Describe two major issues with regression analysis."
   ]
  },
  {
   "cell_type": "markdown",
   "id": "447ba7cd",
   "metadata": {},
   "source": [
    "#### Ans:\n",
    "Two major issues with regression analysis are:\n",
    "1. The assumptions of regression like no multicollinearity, no autocorrelation, etc. might not be satisfied.\n",
    "2. The predictor variables and the response variable might not be linearly related."
   ]
  },
  {
   "cell_type": "markdown",
   "id": "be6a7089",
   "metadata": {},
   "source": [
    "#### 12. How can the linear regression model&#39;s accuracy be improved?"
   ]
  },
  {
   "cell_type": "markdown",
   "id": "57cbe7a8",
   "metadata": {},
   "source": [
    "#### Ans:\n",
    "1. By using regularization techniques like ridge or lasso.\n",
    "2. By using bootstrap samples to estimate the parameters.\n"
   ]
  },
  {
   "cell_type": "markdown",
   "id": "e0767f70",
   "metadata": {},
   "source": [
    "#### 13. Using an example, describe the polynomial regression model in detail."
   ]
  },
  {
   "cell_type": "markdown",
   "id": "544bf11d",
   "metadata": {},
   "source": [
    "#### Ans:\n",
    "Polynomial Regression is a regression algorithm that models the relationship between a dependent(y) and independent variable(x) as nth degree polynomial. Polynomial regression fits a nonlinear relationship between the value of x and the corresponding conditional mean of y, denoted E(y |x). It is a linear model with some modification in order to increase the accuracy. The dataset used in Polynomial regression for training is of non-linear nature. It makes use of a linear regression model to fit the complicated and non-linear functions and datasets. Hence, in Polynomial regression, the original features are converted into Polynomial features of required degree (2,3,..,n) and then modeled using a linear model. Example, prediction of CO2 emission based on square values of engine size and cube values f number of cylinders in a car."
   ]
  },
  {
   "cell_type": "markdown",
   "id": "7091f315",
   "metadata": {},
   "source": [
    "#### 14. Provide a detailed explanation of logistic regression."
   ]
  },
  {
   "cell_type": "markdown",
   "id": "e65c60fc",
   "metadata": {},
   "source": [
    "#### Ans:\n",
    "Logistic regression is a supervised machine learning algorith which is used for the purpose of classification. It first uses the linear regression function and thean applies the sigmoid function over it so that the final values ranges between 0 and 1. These values tend to estimate the probabilities of the data points lying in a particular class. We assign the data point to that class for which the probability is highest. In Logistic regression, instead of fitting a regression line, we fit an \"S\" shaped logistic function, which predicts two maximum values (0 or 1). The curve from the logistic function indicates the likelihood of something such as whether the cells are cancerous or not, a mouse is obese or not based on its weight, etc.\n",
    "Logistic Regression is a significant machine learning algorithm because it has the ability to provide probabilities and classify new data using continuous and discrete datasets."
   ]
  },
  {
   "cell_type": "markdown",
   "id": "62134a36",
   "metadata": {},
   "source": [
    "#### 15. What are the logistic regression assumptions?"
   ]
  },
  {
   "cell_type": "markdown",
   "id": "1c45b7b0",
   "metadata": {},
   "source": [
    "#### Ans:\n",
    "1. The Observations are Independent: Logistic regression assumes that the observations in the dataset are independent of each other. That is, the observations should not come from repeated measurements of the same individual or be related to each other in any way.\n",
    "2. No Multicollinearity: Logistic regression assumes that there is no severe multicollinearity among the explanatory variables.\n",
    "3. No outliers: Logistic regression assumes that there are no extreme outliers or influential observations in the dataset.\n",
    "4. Linear relationship: Logistic regression assumes that there exists a linear relationship between each explanatory variable and the logit of the response variable. "
   ]
  },
  {
   "cell_type": "markdown",
   "id": "be018654",
   "metadata": {},
   "source": [
    "#### 16. Go through the details of maximum likelihood estimation."
   ]
  },
  {
   "cell_type": "markdown",
   "id": "738a2877",
   "metadata": {},
   "source": [
    "#### Ans:\n",
    "The Maximum Likelihood Estimation (MLE) is a method of estimating the parameters of a logistic regression model. This estimation method is one of the most widely used. The method of maximum likelihood selects the set of values of the model parameters that maximize the likelihood function. The likelihood function is the probability that the observed values of the dependent variable may be predicted from the observed values of the independent variables. The likelihood varies from 0 to 1. The MLE is the value that maximizes the probability of the observed data. And is an example of a point estimate because it gives a single value for the unknown parameter."
   ]
  },
  {
   "cell_type": "code",
   "execution_count": null,
   "id": "e3fbc76b",
   "metadata": {},
   "outputs": [],
   "source": []
  }
 ],
 "metadata": {
  "kernelspec": {
   "display_name": "Python 3 (ipykernel)",
   "language": "python",
   "name": "python3"
  },
  "language_info": {
   "codemirror_mode": {
    "name": "ipython",
    "version": 3
   },
   "file_extension": ".py",
   "mimetype": "text/x-python",
   "name": "python",
   "nbconvert_exporter": "python",
   "pygments_lexer": "ipython3",
   "version": "3.9.13"
  }
 },
 "nbformat": 4,
 "nbformat_minor": 5
}
