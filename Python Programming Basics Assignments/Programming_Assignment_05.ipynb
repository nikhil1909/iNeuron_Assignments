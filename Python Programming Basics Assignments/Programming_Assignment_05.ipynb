{
 "cells": [
  {
   "cell_type": "markdown",
   "id": "76fbb5b9",
   "metadata": {},
   "source": [
    "#### 1. Write a Python Program to Find LCM?"
   ]
  },
  {
   "cell_type": "code",
   "execution_count": 1,
   "id": "04979cbe",
   "metadata": {},
   "outputs": [
    {
     "name": "stdout",
     "output_type": "stream",
     "text": [
      "Enter x:15\n",
      "Enter y:18\n",
      "The LCM of 15 and 18 is 90\n"
     ]
    }
   ],
   "source": [
    "def LCM(x,y):\n",
    "    x,y = min(x,y),max(x,y)\n",
    "    i = 1\n",
    "    while True:\n",
    "        if (y*i)%x==0:\n",
    "            return y*i\n",
    "        else:\n",
    "            i+=1\n",
    "x = int(input(\"Enter x:\"))\n",
    "y = int(input(\"Enter y:\"))\n",
    "print(\"The LCM of\",x,\"and\",y,\"is\",LCM(x,y))"
   ]
  },
  {
   "cell_type": "markdown",
   "id": "a41d71e0",
   "metadata": {},
   "source": [
    "#### 2. Write a Python Program to Find HCF?"
   ]
  },
  {
   "cell_type": "code",
   "execution_count": 2,
   "id": "8fa9500a",
   "metadata": {},
   "outputs": [
    {
     "name": "stdout",
     "output_type": "stream",
     "text": [
      "Enter x:18\n",
      "Enter y:30\n",
      "The HCF of 18 and 30 is 6\n"
     ]
    }
   ],
   "source": [
    "def HCF(x,y):\n",
    "    x,y = min(x,y),max(x,y)\n",
    "    while True:\n",
    "        if y%x==0:\n",
    "            return x\n",
    "        else:\n",
    "            r = y%x\n",
    "            y = x\n",
    "            x = r\n",
    "        \n",
    "x = int(input(\"Enter x:\"))\n",
    "y = int(input(\"Enter y:\"))\n",
    "print(\"The HCF of\",x,\"and\",y,\"is\",HCF(x,y))"
   ]
  },
  {
   "cell_type": "markdown",
   "id": "c6e86a0b",
   "metadata": {},
   "source": [
    "#### 3. Write a Python Program to Convert Decimal to Binary, Octal and Hexadecimal?"
   ]
  },
  {
   "cell_type": "code",
   "execution_count": 3,
   "id": "ebc5e659",
   "metadata": {},
   "outputs": [
    {
     "name": "stdout",
     "output_type": "stream",
     "text": [
      "Enter a decimal number:12\n",
      "The decimal number 12 is:\n",
      "0b1100 in binary.\n",
      "0o14 in octal.\n",
      "0xc in hexadecimal.\n"
     ]
    }
   ],
   "source": [
    "dec = int(input(\"Enter a decimal number:\"))\n",
    "print(\"The decimal number\",dec,\"is:\")\n",
    "print(bin(dec),\"in binary.\")\n",
    "print(oct(dec),\"in octal.\")\n",
    "print(hex(dec),\"in hexadecimal.\")"
   ]
  },
  {
   "cell_type": "markdown",
   "id": "03c91146",
   "metadata": {},
   "source": [
    "#### 4. Write a Python Program To Find ASCII value of a character?"
   ]
  },
  {
   "cell_type": "code",
   "execution_count": 4,
   "id": "5f0812cf",
   "metadata": {},
   "outputs": [
    {
     "name": "stdout",
     "output_type": "stream",
     "text": [
      "Enter a charachter:N\n",
      "The ASCII value of 'N' is 78\n"
     ]
    }
   ],
   "source": [
    "ch = input(\"Enter a charachter:\")\n",
    "print(\"The ASCII value of '\"+ch+\"' is\",ord(ch))"
   ]
  },
  {
   "cell_type": "markdown",
   "id": "8a9cf2db",
   "metadata": {},
   "source": [
    "#### 5. Write a Python Program to Make a Simple Calculator with 4 basic mathematical operations?"
   ]
  },
  {
   "cell_type": "code",
   "execution_count": 5,
   "id": "51804c04",
   "metadata": {},
   "outputs": [
    {
     "name": "stdout",
     "output_type": "stream",
     "text": [
      "Select mathematical operation:\n",
      "1. Addition(+)\n",
      "2. Subtraction(-)\n",
      "3. Multiplication(*)\n",
      "4. Division(\\)\n",
      "5. Stop Calculator(0)\n",
      "Enter the operation:+\n",
      "Enter first number:4\n",
      "Enter second number:6\n",
      "4.0 + 6.0 = 10.0\n",
      "Enter the operation:$\n",
      "Enter first number:2\n",
      "Enter second number:3\n",
      "Invalid operation. Please try again.\n",
      "Enter the operation:/\n",
      "Enter first number:6\n",
      "Enter second number:3\n",
      "6.0 / 3.0 = 2.0\n",
      "Enter the operation:0\n",
      "Calculator stopped.\n"
     ]
    }
   ],
   "source": [
    "def operations(x,y,o):\n",
    "    if o==\"+\":\n",
    "        return x+y\n",
    "    elif o==\"-\":\n",
    "        return x-y\n",
    "    elif o==\"*\":\n",
    "        return x*y\n",
    "    elif o==\"/\":\n",
    "        return round(x/y,2)\n",
    "    else:\n",
    "        return \"Invalid operation. Please try again.\"\n",
    "\n",
    "print(\"Select mathematical operation:\\n1. Addition(+)\\n2. Subtraction(-)\\n3. Multiplication(*)\\n4. Division(\\)\\n5. Stop Calculator(0)\")\n",
    "\n",
    "while True:\n",
    "    o = input(\"Enter the operation:\")\n",
    "    if o==str(0):\n",
    "        print(\"Calculator stopped.\")\n",
    "        break\n",
    "    else:\n",
    "        x = float(input(\"Enter first number:\"))\n",
    "        y = float(input(\"Enter second number:\"))\n",
    "        result = operations(x,y,o)\n",
    "        if type(result)!=float:\n",
    "            print(result)\n",
    "        else:\n",
    "            print(x,o,y,\"=\",result)"
   ]
  },
  {
   "cell_type": "code",
   "execution_count": null,
   "id": "0a509a25",
   "metadata": {},
   "outputs": [],
   "source": []
  }
 ],
 "metadata": {
  "kernelspec": {
   "display_name": "Python 3 (ipykernel)",
   "language": "python",
   "name": "python3"
  },
  "language_info": {
   "codemirror_mode": {
    "name": "ipython",
    "version": 3
   },
   "file_extension": ".py",
   "mimetype": "text/x-python",
   "name": "python",
   "nbconvert_exporter": "python",
   "pygments_lexer": "ipython3",
   "version": "3.9.7"
  }
 },
 "nbformat": 4,
 "nbformat_minor": 5
}
