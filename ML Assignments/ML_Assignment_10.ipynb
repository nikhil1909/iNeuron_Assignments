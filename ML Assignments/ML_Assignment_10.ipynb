{
 "cells": [
  {
   "cell_type": "markdown",
   "id": "fc23a578",
   "metadata": {},
   "source": [
    "#### 1. Define the Bayesian interpretation of probability."
   ]
  },
  {
   "cell_type": "markdown",
   "id": "916c6cbe",
   "metadata": {},
   "source": [
    "#### Ans:\n",
    "Bayesian probability is the study of subjective probabilities or belief in an outcome, compared to the frequentist approach where probabilities are based purely on the past occurrence of the event. A Bayesian Network captures the joint probabilities of the events represented by the model."
   ]
  },
  {
   "cell_type": "markdown",
   "id": "153e1dcc",
   "metadata": {},
   "source": [
    "#### 2. Define probability of a union of two events with equation."
   ]
  },
  {
   "cell_type": "markdown",
   "id": "baa13a9a",
   "metadata": {},
   "source": [
    "#### Ans:\n",
    "Probability of union of two events is the sum of probability of the two events minus the probability of intersection of the two events, i.e. \n",
    "\n",
    "P(A∪B)=P(A)+P(B)−P(A∩B)"
   ]
  },
  {
   "cell_type": "markdown",
   "id": "69810fba",
   "metadata": {},
   "source": [
    "#### 3. What is joint probability? What is its formula?"
   ]
  },
  {
   "cell_type": "markdown",
   "id": "2edb3a73",
   "metadata": {},
   "source": [
    "#### Ans:\n",
    "Joint probability of two events is the probability of the two events occuring together. \n",
    "\n",
    "P(A∩B) = P(A)P(B|A) = P(B)P(A|B)"
   ]
  },
  {
   "cell_type": "markdown",
   "id": "1f4bae94",
   "metadata": {},
   "source": [
    "#### 4. What is chain rule of probability?"
   ]
  },
  {
   "cell_type": "markdown",
   "id": "9a452d6b",
   "metadata": {},
   "source": [
    "#### Ans:\n",
    "Chain rule of probability is a formula to get the probability of multiple events occuring together. \n",
    "\n",
    "P(A1∩A2∩...An)=P(A1)P(A2|A1)....P(An|A1∩A2∩...A(n-1))"
   ]
  },
  {
   "cell_type": "markdown",
   "id": "9eb1273d",
   "metadata": {},
   "source": [
    "#### 5. What is conditional probability means? What is the formula of it?"
   ]
  },
  {
   "cell_type": "markdown",
   "id": "0fc24c94",
   "metadata": {},
   "source": [
    "#### Ans:\n",
    "Conditional probability means the probability of occuring of an event given that some other event has already occured. It is given as \n",
    "\n",
    "P(A|B) = P(A∩B)/P(B)"
   ]
  },
  {
   "cell_type": "markdown",
   "id": "d1020b11",
   "metadata": {},
   "source": [
    "#### 6. What are continuous random variables?"
   ]
  },
  {
   "cell_type": "markdown",
   "id": "8f138168",
   "metadata": {},
   "source": [
    "#### Ans:\n",
    "Random variables whose range is continuous are called continuous random variables. For example, a random variable following normal distributon or exponential distrbution."
   ]
  },
  {
   "cell_type": "markdown",
   "id": "7f3244e3",
   "metadata": {},
   "source": [
    "#### 7. What are Bernoulli distributions? What is the formula of it?"
   ]
  },
  {
   "cell_type": "markdown",
   "id": "281f144a",
   "metadata": {},
   "source": [
    "#### Ans:\n",
    "A random variable X is said to be following a Bernoulli distribution if it takes two values 0 and 1 with probability (1-p) and p respectively. \n",
    "\n",
    "P(X=1) = p and P(X=0) = 1-p"
   ]
  },
  {
   "cell_type": "markdown",
   "id": "663ff82e",
   "metadata": {},
   "source": [
    "#### 8. What is binomial distribution? What is the formula?"
   ]
  },
  {
   "cell_type": "markdown",
   "id": "94441f66",
   "metadata": {},
   "source": [
    "#### Ans:\n",
    "Sum of n independent and identically distributed Bernoulli random variables follows a Binomial distribution. \n",
    "\n",
    "P(X=x) = n!/(x!\\*(n-x)!)\\*p^x\\*(1-p)^(n-x) where p is the probability of success and x = 0,1,2...n"
   ]
  },
  {
   "cell_type": "markdown",
   "id": "5d550614",
   "metadata": {},
   "source": [
    "####  9. What is Poisson distribution? What is the formula?"
   ]
  },
  {
   "cell_type": "markdown",
   "id": "b6f99577",
   "metadata": {},
   "source": [
    "#### Ans:\n",
    "A Poisson distribution is defined as a discrete frequency distribution that gives the probability of the number of independent events that occur in the fixed time, area or space.\n",
    "\n",
    "P(X=x) = e^t\\*t^x/x! where t = average number of occurences and x = 0,1,2,...."
   ]
  },
  {
   "cell_type": "markdown",
   "id": "d3a7177d",
   "metadata": {},
   "source": [
    "#### 10. Define covariance."
   ]
  },
  {
   "cell_type": "markdown",
   "id": "cab01818",
   "metadata": {},
   "source": [
    "#### Ans:\n",
    "Covariance is a measurement between two variables that measures how the two variables vary together. If the covariance between two variables is positive then we can say that as one of the variable increases, the other one will also increase. And if the covariance between two variables is negative then we can say that as one of the variable increases, the other one will decrease."
   ]
  },
  {
   "cell_type": "markdown",
   "id": "4a1269bd",
   "metadata": {},
   "source": [
    "#### 11. Define correlation"
   ]
  },
  {
   "cell_type": "markdown",
   "id": "1b2f643a",
   "metadata": {},
   "source": [
    "#### Ans:\n",
    "Correlation is a measurement between two variables that measures how the two variables vary together and also the strength of relationship between the two variables. If the correlation between two variables is positive then we can say that as one of the variable increases, the other one will also increase. And if the correlation between two variables is negative then we can say that as one of the variable increases, the other one will decrease. If the absolute value of correlation is closer to 1 then we can say that the relationship between the two variables is strong. And if the absolute value of correlation is closer to 0 then we can say that the relationship between the two variables is weak. "
   ]
  },
  {
   "cell_type": "markdown",
   "id": "b5c66816",
   "metadata": {},
   "source": [
    "#### 12. Define sampling with replacement. Give example."
   ]
  },
  {
   "cell_type": "markdown",
   "id": "87525c44",
   "metadata": {},
   "source": [
    "#### Ans:\n",
    "In sampling with replacement, whatever sample we draw in one trial, we put it back in the population before the next trial. For example, let's say we have a bag 100 balls with distinct number on each ball. Let's say we want to draw 10 balls and in each trial we want to draw one ball but after every trial we put the drawn ball back in the bag then this is called sampling with replacemement."
   ]
  },
  {
   "cell_type": "markdown",
   "id": "a26e3510",
   "metadata": {},
   "source": [
    "#### 13. What is sampling without replacement? Give example."
   ]
  },
  {
   "cell_type": "markdown",
   "id": "a05362c6",
   "metadata": {},
   "source": [
    "#### Ans:\n",
    "In sampling without replacement, whatever sample we draw in one trial, we do not put it back in the population before the next trial. For example, let's say we have a bag 100 balls with distinct number on each ball. Let's say we want to draw 10 balls and in each trial we want to draw one ball but after every trial we do not put the drawn ball back in the bag then this is called sampling without replacemement."
   ]
  },
  {
   "cell_type": "markdown",
   "id": "f5e81988",
   "metadata": {},
   "source": [
    "#### 14. What is hypothesis? Give example."
   ]
  },
  {
   "cell_type": "markdown",
   "id": "d81b5e11",
   "metadata": {},
   "source": [
    "#### Ans:\n",
    "A hypothesis is a statement or assumption about the population parameter. For example, the mean height of males in India is 5'7\" or the variance in the sales of a product in 10 years is 5 million units."
   ]
  },
  {
   "cell_type": "code",
   "execution_count": null,
   "id": "d937d873",
   "metadata": {},
   "outputs": [],
   "source": []
  }
 ],
 "metadata": {
  "kernelspec": {
   "display_name": "Python 3 (ipykernel)",
   "language": "python",
   "name": "python3"
  },
  "language_info": {
   "codemirror_mode": {
    "name": "ipython",
    "version": 3
   },
   "file_extension": ".py",
   "mimetype": "text/x-python",
   "name": "python",
   "nbconvert_exporter": "python",
   "pygments_lexer": "ipython3",
   "version": "3.9.13"
  }
 },
 "nbformat": 4,
 "nbformat_minor": 5
}
