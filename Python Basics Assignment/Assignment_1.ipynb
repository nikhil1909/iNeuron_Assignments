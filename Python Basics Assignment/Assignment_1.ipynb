{
 "cells": [
  {
   "cell_type": "markdown",
   "id": "b29124c1",
   "metadata": {},
   "source": [
    "#### 1. In the below elements which of them are values or an expression? eg:- values can be integer or string and expressions will be mathematical operators.\n",
    "*,'hello',-87.8,- ,/ ,+,6 "
   ]
  },
  {
   "cell_type": "markdown",
   "id": "b6754b62",
   "metadata": {},
   "source": [
    "#### Ans:\n",
    "'hello',-87.8 and 6 are the values.\n",
    "\n",
    "*,-,/,+ are the operators."
   ]
  },
  {
   "cell_type": "markdown",
   "id": "cca5337d",
   "metadata": {},
   "source": [
    "#### 2. What is the difference between string and variable?"
   ]
  },
  {
   "cell_type": "markdown",
   "id": "1d6fccfe",
   "metadata": {},
   "source": [
    "#### Ans:\n",
    "A string is a single charachter or a combination of characters usually enclosed between single quotes or double quotes. \n",
    "\n",
    "A variable is a name that is used to store some values. \n",
    "\n",
    "A string can be stored in a variable but not vice-versa."
   ]
  },
  {
   "cell_type": "code",
   "execution_count": 1,
   "id": "d6524112",
   "metadata": {},
   "outputs": [],
   "source": [
    "'Hello' # This is a string\n",
    "x = 10 # The name x is a variable which stores the value 10"
   ]
  },
  {
   "cell_type": "markdown",
   "id": "262a3527",
   "metadata": {},
   "source": [
    "#### 3. Describe three different data types."
   ]
  },
  {
   "cell_type": "markdown",
   "id": "92f7ab71",
   "metadata": {},
   "source": [
    "#### Ans:\n",
    "The 3 data types are int, float and complex.\n",
    "\n",
    "int refers to the set of integral values like 0,1,-10, etc.\n",
    "\n",
    "float refers to the set of decimal values like 1.0, 2.3, -7.8, etc.\n",
    "\n",
    "complex refers to the set of complex numbers represented as (real part)+(imaginary part)j like 2+3j, -1-5j, 3.4-7j, etc."
   ]
  },
  {
   "cell_type": "markdown",
   "id": "f4296c3f",
   "metadata": {},
   "source": [
    "#### 4. What is an expression made up of? What do all expressions do?"
   ]
  },
  {
   "cell_type": "markdown",
   "id": "a854e9df",
   "metadata": {},
   "source": [
    "#### Ans:\n",
    "An expression is a combination of values, operators, variables and calls to functions. The purpose of these expressions is to produce some values."
   ]
  },
  {
   "cell_type": "code",
   "execution_count": 2,
   "id": "451e1931",
   "metadata": {},
   "outputs": [
    {
     "name": "stdout",
     "output_type": "stream",
     "text": [
      "11\n",
      "False\n",
      "True\n"
     ]
    }
   ],
   "source": [
    "#Example of expressions:\n",
    "print(2*3+5)\n",
    "print(5>20)\n",
    "print(10==5+5)"
   ]
  },
  {
   "cell_type": "markdown",
   "id": "3cca7409",
   "metadata": {},
   "source": [
    "#### 5. This assignment statements, like spam = 10. What is the difference between an expression and a statement?"
   ]
  },
  {
   "cell_type": "markdown",
   "id": "65f18ccb",
   "metadata": {},
   "source": [
    "#### Ans:\n",
    "An assignment statement is used to assign some values or result of an expression to variable.\n",
    "Example: x = 2, y = 5*3+10, etc.\n",
    "\n",
    "An expression is a combination of values, operators, variables and calls to functions. When we type an expression, the interpreter evaluates its value to produce the result.\n",
    "\n",
    "Using assignment statements, we can store the value evaluated by an expression into a variable.\n"
   ]
  },
  {
   "cell_type": "code",
   "execution_count": 3,
   "id": "9813fe33",
   "metadata": {},
   "outputs": [],
   "source": [
    "10-2*3 # an expression\n",
    "x = 10-2*3 # an assignment statement"
   ]
  },
  {
   "cell_type": "markdown",
   "id": "419868df",
   "metadata": {},
   "source": [
    "#### 6. After running the following code, what does the variable bacon contain?\n",
    "bacon = 22\n",
    "\n",
    "bacon + 1"
   ]
  },
  {
   "cell_type": "markdown",
   "id": "859807f2",
   "metadata": {},
   "source": [
    "#### Ans:\n",
    "On running the given code, the variable bacon will contain the value 22 only because on excuting the line (bacon+1), we are not assigning any new value to the variable bacon, instead bacon+1 is just an expression which will produce the value 23."
   ]
  },
  {
   "cell_type": "code",
   "execution_count": 4,
   "id": "6b5ee0f1",
   "metadata": {},
   "outputs": [
    {
     "name": "stdout",
     "output_type": "stream",
     "text": [
      "22\n"
     ]
    }
   ],
   "source": [
    "bacon = 22\n",
    "bacon + 1\n",
    "print(bacon)"
   ]
  },
  {
   "cell_type": "markdown",
   "id": "58fa9944",
   "metadata": {},
   "source": [
    "#### 7. What should the values of the following two terms be?\n",
    "&#39;spam&#39; + &#39;spamspam&#39;\n",
    "\n",
    "&#39;spam&#39; * 3"
   ]
  },
  {
   "cell_type": "markdown",
   "id": "bbeb3b02",
   "metadata": {},
   "source": [
    "#### Ans: \n",
    "The two terms will produce the same value.\n",
    "\n",
    "The term 'spam'+'spamspam' is concatination of the strings 'spam'and 'spamspam' which will produce 'spamspamspam'.\n",
    "\n",
    "The term 'spam'*3 is multiplication of the string 'spam' with 3  which will again produce 'spamspamspam'."
   ]
  },
  {
   "cell_type": "code",
   "execution_count": 5,
   "id": "c5a1c82b",
   "metadata": {},
   "outputs": [
    {
     "name": "stdout",
     "output_type": "stream",
     "text": [
      "spamspamspam\n",
      "spamspamspam\n"
     ]
    }
   ],
   "source": [
    "print('spam'+'spamspam')\n",
    "print('spam'*3)"
   ]
  },
  {
   "cell_type": "markdown",
   "id": "0a1eea41",
   "metadata": {},
   "source": [
    "#### 8. Why is eggs a valid variable name while 100 is invalid?"
   ]
  },
  {
   "cell_type": "markdown",
   "id": "f27c1086",
   "metadata": {},
   "source": [
    "#### Ans:\n",
    "In Python, a variable name is a combination of alphanumeric charachters(a-z and 0-9) and underscore(_), and a variable name must not start with a number.\n",
    "\n",
    "So, eggs is a valid variable name because it is simply a combination of alphabetical characters.\n",
    "\n",
    "And 100 is an invalid variable name because it is starting with a number."
   ]
  },
  {
   "cell_type": "code",
   "execution_count": 6,
   "id": "445a8559",
   "metadata": {},
   "outputs": [
    {
     "name": "stdout",
     "output_type": "stream",
     "text": [
      "Hi\n"
     ]
    }
   ],
   "source": [
    "eggs ='Hi' \n",
    "print(eggs)"
   ]
  },
  {
   "cell_type": "code",
   "execution_count": 7,
   "id": "59dcf47b",
   "metadata": {},
   "outputs": [
    {
     "ename": "SyntaxError",
     "evalue": "cannot assign to literal (Temp/ipykernel_9092/2515707103.py, line 1)",
     "output_type": "error",
     "traceback": [
      "\u001b[1;36m  File \u001b[1;32m\"C:\\Users\\ITER\\AppData\\Local\\Temp/ipykernel_9092/2515707103.py\"\u001b[1;36m, line \u001b[1;32m1\u001b[0m\n\u001b[1;33m    100='hello'\u001b[0m\n\u001b[1;37m    ^\u001b[0m\n\u001b[1;31mSyntaxError\u001b[0m\u001b[1;31m:\u001b[0m cannot assign to literal\n"
     ]
    }
   ],
   "source": [
    "100='hello'"
   ]
  },
  {
   "cell_type": "markdown",
   "id": "cafd10d0",
   "metadata": {},
   "source": [
    "#### 9. What three functions can be used to get the integer, floating-point number, or string version of a value?"
   ]
  },
  {
   "cell_type": "markdown",
   "id": "fce6a997",
   "metadata": {},
   "source": [
    "#### Ans:\n",
    "The functions int(), float() and str() are used to get the integer, floating-point number, or string version of a value."
   ]
  },
  {
   "cell_type": "code",
   "execution_count": 8,
   "id": "3e93b1a6",
   "metadata": {},
   "outputs": [
    {
     "name": "stdout",
     "output_type": "stream",
     "text": [
      "10\n",
      "20\n",
      "30.0\n",
      "40.5\n",
      "50\n",
      "60.5\n"
     ]
    }
   ],
   "source": [
    "#Examples\n",
    "print(int(10.5))\n",
    "print(int('20'))\n",
    "print(float(30))\n",
    "print(float('40.5'))\n",
    "print(str(50))\n",
    "print(str(60.5))"
   ]
  },
  {
   "cell_type": "markdown",
   "id": "79e2c808",
   "metadata": {},
   "source": [
    "#### 10. Why does this expression cause an error? How can you fix it?\n",
    "&#39;I have eaten &#39; + 99 + &#39; burritos.&#39;"
   ]
  },
  {
   "cell_type": "markdown",
   "id": "a29693c6",
   "metadata": {},
   "source": [
    "#### Ans:\n",
    "This expression causes an error because '+' operator can not be used with a string and an int value in an expression. And in the given expression, 99 is an int value while the other two terms are string values.\n",
    "We can fix this error by typecasting the int value 99 to an string using the str() function."
   ]
  },
  {
   "cell_type": "code",
   "execution_count": 9,
   "id": "d11b8cda",
   "metadata": {},
   "outputs": [
    {
     "data": {
      "text/plain": [
       "'I have eaten 99 burritos'"
      ]
     },
     "execution_count": 9,
     "metadata": {},
     "output_type": "execute_result"
    }
   ],
   "source": [
    "'I have eaten '+str(99)+' burritos'"
   ]
  },
  {
   "cell_type": "code",
   "execution_count": null,
   "id": "7e8b33c3",
   "metadata": {},
   "outputs": [],
   "source": []
  }
 ],
 "metadata": {
  "kernelspec": {
   "display_name": "Python 3 (ipykernel)",
   "language": "python",
   "name": "python3"
  },
  "language_info": {
   "codemirror_mode": {
    "name": "ipython",
    "version": 3
   },
   "file_extension": ".py",
   "mimetype": "text/x-python",
   "name": "python",
   "nbconvert_exporter": "python",
   "pygments_lexer": "ipython3",
   "version": "3.9.7"
  }
 },
 "nbformat": 4,
 "nbformat_minor": 5
}
