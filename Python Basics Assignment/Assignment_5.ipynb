{
 "cells": [
  {
   "cell_type": "markdown",
   "id": "47e1ac0a",
   "metadata": {},
   "source": [
    "#### 1. What does an empty dictionary&#39;s code look like?"
   ]
  },
  {
   "cell_type": "markdown",
   "id": "26adaf73",
   "metadata": {},
   "source": [
    "#### Ans:\n",
    "Empty dictionary code looks like as `d = {}` or `d = dict()`"
   ]
  },
  {
   "cell_type": "code",
   "execution_count": 1,
   "id": "c27b7e7c",
   "metadata": {},
   "outputs": [
    {
     "name": "stdout",
     "output_type": "stream",
     "text": [
      "<class 'dict'>\n",
      "<class 'dict'>\n"
     ]
    }
   ],
   "source": [
    "d1 = {}\n",
    "print(type(d1))\n",
    "d2 = dict()\n",
    "print(type(d2))"
   ]
  },
  {
   "cell_type": "markdown",
   "id": "c7ae0308",
   "metadata": {},
   "source": [
    "#### 2. What is the value of a dictionary value with the key &#39;foo&#39; and the value 42?"
   ]
  },
  {
   "cell_type": "markdown",
   "id": "2218910f",
   "metadata": {},
   "source": [
    "#### Ans:\n",
    "A dictionary with key 'foo' and value 42 looks like `{'foo':42}`"
   ]
  },
  {
   "cell_type": "code",
   "execution_count": 2,
   "id": "4edc4e06",
   "metadata": {},
   "outputs": [
    {
     "name": "stdout",
     "output_type": "stream",
     "text": [
      "{'foo': 42}\n"
     ]
    }
   ],
   "source": [
    "d = {'foo':42}\n",
    "print(d)"
   ]
  },
  {
   "cell_type": "markdown",
   "id": "058a8a99",
   "metadata": {},
   "source": [
    "#### 3. What is the most significant distinction between a dictionary and a list?"
   ]
  },
  {
   "cell_type": "markdown",
   "id": "9a1b7679",
   "metadata": {},
   "source": [
    "#### Ans:\n",
    "A dictionary is represented using curly brackets{} while a list is represented using round brackets().\n",
    "\n",
    "A dictionary is unordered while a list is ordered.\n",
    "\n",
    "A dictionary has key-value pairs while a list doesn't have key-value pairs."
   ]
  },
  {
   "cell_type": "markdown",
   "id": "a009054a",
   "metadata": {},
   "source": [
    "#### 4. What happens if you try to access spam[&#39;foo&#39;] if spam is {&#39;bar&#39;: 100}?"
   ]
  },
  {
   "cell_type": "markdown",
   "id": "1a88d734",
   "metadata": {},
   "source": [
    "#### Ans:\n",
    "It will give a key error `KeyError: 'foo'` because key `'foo'` is not present int the dictionary spam."
   ]
  },
  {
   "cell_type": "code",
   "execution_count": 3,
   "id": "c7933712",
   "metadata": {},
   "outputs": [
    {
     "ename": "KeyError",
     "evalue": "'foo'",
     "output_type": "error",
     "traceback": [
      "\u001b[1;31m---------------------------------------------------------------------------\u001b[0m",
      "\u001b[1;31mKeyError\u001b[0m                                  Traceback (most recent call last)",
      "\u001b[1;32m~\\AppData\\Local\\Temp/ipykernel_4664/4026577702.py\u001b[0m in \u001b[0;36m<module>\u001b[1;34m\u001b[0m\n\u001b[0;32m      1\u001b[0m \u001b[0mspam\u001b[0m \u001b[1;33m=\u001b[0m \u001b[1;33m{\u001b[0m\u001b[1;34m'bar'\u001b[0m\u001b[1;33m:\u001b[0m\u001b[1;36m100\u001b[0m\u001b[1;33m}\u001b[0m\u001b[1;33m\u001b[0m\u001b[1;33m\u001b[0m\u001b[0m\n\u001b[1;32m----> 2\u001b[1;33m \u001b[0mspam\u001b[0m\u001b[1;33m[\u001b[0m\u001b[1;34m'foo'\u001b[0m\u001b[1;33m]\u001b[0m\u001b[1;33m\u001b[0m\u001b[1;33m\u001b[0m\u001b[0m\n\u001b[0m",
      "\u001b[1;31mKeyError\u001b[0m: 'foo'"
     ]
    }
   ],
   "source": [
    "spam = {'bar':100}\n",
    "spam['foo']"
   ]
  },
  {
   "cell_type": "markdown",
   "id": "b9739544",
   "metadata": {},
   "source": [
    "#### 5. If a dictionary is stored in spam, what is the difference between the expressions &#39;cat&#39; in spam and &#39;cat&#39; in spam.keys()?"
   ]
  },
  {
   "cell_type": "markdown",
   "id": "3a452819",
   "metadata": {},
   "source": [
    "#### Ans:\n",
    "There is no difference. Both the expression will check whether a key `'cat'` is present in the dictionary spam or not."
   ]
  },
  {
   "cell_type": "code",
   "execution_count": 4,
   "id": "fdbb3f12",
   "metadata": {},
   "outputs": [
    {
     "name": "stdout",
     "output_type": "stream",
     "text": [
      "True\n",
      "True\n"
     ]
    }
   ],
   "source": [
    "spam = {'bar':100, 'cat':200}\n",
    "print('cat' in spam)\n",
    "print('cat' in spam.keys())"
   ]
  },
  {
   "cell_type": "markdown",
   "id": "300bee19",
   "metadata": {},
   "source": [
    "#### 6. If a dictionary is stored in spam, what is the difference between the expressions &#39;cat&#39; in spam and &#39;cat&#39; in spam.values()?"
   ]
  },
  {
   "cell_type": "markdown",
   "id": "1758496b",
   "metadata": {},
   "source": [
    "#### Ans:\n",
    "The difference is that the expression `'cat' in spam` will check whether a key `'cat'` is present in the dictionary spam or not while the expression `'cat' in spam.values()` will check whether a key-value pair with value `'cat'` is present in the dictionary spam or not."
   ]
  },
  {
   "cell_type": "code",
   "execution_count": 5,
   "id": "08f3fe6d",
   "metadata": {},
   "outputs": [
    {
     "name": "stdout",
     "output_type": "stream",
     "text": [
      "True\n",
      "False\n"
     ]
    }
   ],
   "source": [
    "spam = {'bar':100, 'cat':200}\n",
    "print('cat' in spam)\n",
    "print('cat' in spam.values())"
   ]
  },
  {
   "cell_type": "markdown",
   "id": "3184e805",
   "metadata": {},
   "source": [
    "#### 7. What is a shortcut for the following code?\n",
    "if &#39;color&#39; not in spam:\n",
    "\n",
    "spam[&#39;color&#39;] = &#39;black&#39;"
   ]
  },
  {
   "cell_type": "markdown",
   "id": "420714d6",
   "metadata": {},
   "source": [
    "#### Ans:\n",
    "The shoctcut of the given code is `spam.setdefault('color','black')`"
   ]
  },
  {
   "cell_type": "markdown",
   "id": "9a8ff7ec",
   "metadata": {},
   "source": [
    "#### 8. How do you &quot;pretty print&quot; dictionary values using which module and function?"
   ]
  },
  {
   "cell_type": "markdown",
   "id": "c9f88152",
   "metadata": {},
   "source": [
    "#### Ans:\n",
    "We can \"pretty print\" dictionary values by 3 ways:\n",
    "\n",
    "1. Using pprint() function of pprint module.\n",
    "2. Using dump() function of json module.\n",
    "3. Using dump() function of yaml module."
   ]
  },
  {
   "cell_type": "code",
   "execution_count": 6,
   "id": "504236df",
   "metadata": {},
   "outputs": [
    {
     "name": "stdout",
     "output_type": "stream",
     "text": [
      "Printing using print() function:-\n",
      "{'Ankit': {'age': 31, 'gender': 'male', 'books': ['Harry Potter', 'Lord of the Rings']}, 'Suman': {'age': 40, 'gender': 'male', 'books': ['Lord of the Flies']}}\n"
     ]
    }
   ],
   "source": [
    "d = {'Ankit':{'age': 31, 'gender': 'male', 'books': ['Harry Potter', 'Lord of the Rings']}, \n",
    "     'Suman': {'age': 40, 'gender': 'male', 'books':['Lord of the Flies']}}\n",
    "print(\"Printing using print() function:-\")\n",
    "print(d)"
   ]
  },
  {
   "cell_type": "code",
   "execution_count": 7,
   "id": "61eda923",
   "metadata": {},
   "outputs": [
    {
     "name": "stdout",
     "output_type": "stream",
     "text": [
      "Printing using pprint() function of pprint module:-\n",
      "{'Ankit': {'age': 31,\n",
      "           'books': ['Harry Potter', 'Lord of the Rings'],\n",
      "           'gender': 'male'},\n",
      " 'Suman': {'age': 40, 'books': ['Lord of the Flies'], 'gender': 'male'}}\n"
     ]
    }
   ],
   "source": [
    "import pprint\n",
    "print(\"Printing using pprint() function of pprint module:-\")\n",
    "pprint.pprint(d)"
   ]
  },
  {
   "cell_type": "code",
   "execution_count": 8,
   "id": "30b2452e",
   "metadata": {},
   "outputs": [
    {
     "name": "stdout",
     "output_type": "stream",
     "text": [
      "Printing using dump() function of json module:-\n",
      "{\n",
      "    \"Ankit\": {\n",
      "        \"age\": 31,\n",
      "        \"gender\": \"male\",\n",
      "        \"books\": [\n",
      "            \"Harry Potter\",\n",
      "            \"Lord of the Rings\"\n",
      "        ]\n",
      "    },\n",
      "    \"Suman\": {\n",
      "        \"age\": 40,\n",
      "        \"gender\": \"male\",\n",
      "        \"books\": [\n",
      "            \"Lord of the Flies\"\n",
      "        ]\n",
      "    }\n",
      "}\n"
     ]
    }
   ],
   "source": [
    "import json\n",
    "dump = json.dumps(d, indent=4)\n",
    "print(\"Printing using dump() function of json module:-\")\n",
    "print(dump)"
   ]
  },
  {
   "cell_type": "code",
   "execution_count": 9,
   "id": "aa93f384",
   "metadata": {},
   "outputs": [
    {
     "name": "stdout",
     "output_type": "stream",
     "text": [
      "Printing using dump() function of yaml module:-\n",
      "Ankit:\n",
      "  age: 31\n",
      "  books:\n",
      "  - Harry Potter\n",
      "  - Lord of the Rings\n",
      "  gender: male\n",
      "Suman:\n",
      "  age: 40\n",
      "  books:\n",
      "  - Lord of the Flies\n",
      "  gender: male\n",
      "\n"
     ]
    }
   ],
   "source": [
    "import yaml\n",
    "dump = yaml.dump(d)\n",
    "print(\"Printing using dump() function of yaml module:-\")\n",
    "print(dump)"
   ]
  },
  {
   "cell_type": "code",
   "execution_count": null,
   "id": "527c90cc",
   "metadata": {},
   "outputs": [],
   "source": []
  }
 ],
 "metadata": {
  "kernelspec": {
   "display_name": "Python 3 (ipykernel)",
   "language": "python",
   "name": "python3"
  },
  "language_info": {
   "codemirror_mode": {
    "name": "ipython",
    "version": 3
   },
   "file_extension": ".py",
   "mimetype": "text/x-python",
   "name": "python",
   "nbconvert_exporter": "python",
   "pygments_lexer": "ipython3",
   "version": "3.9.7"
  }
 },
 "nbformat": 4,
 "nbformat_minor": 5
}
