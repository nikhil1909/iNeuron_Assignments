{
 "cells": [
  {
   "cell_type": "markdown",
   "id": "b369c2b4",
   "metadata": {},
   "source": [
    "#### 1. Write a Python program to find words which are greater than given length k?"
   ]
  },
  {
   "cell_type": "code",
   "execution_count": 1,
   "id": "437442dc",
   "metadata": {},
   "outputs": [
    {
     "name": "stdout",
     "output_type": "stream",
     "text": [
      "Enter a sentence:INeuron Full Stack Data Science Course is Awesome\n",
      "Enter length k:4\n",
      "The words in 'INeuron Full Stack Data Science Course is Awesome' that are greater than length 4 : ['INeuron', 'Stack', 'Science', 'Course', 'Awesome']\n"
     ]
    }
   ],
   "source": [
    "def len_words(sentence,k):\n",
    "    l1 = sentence.split(\" \")\n",
    "    l2 = []\n",
    "    for ele in l1:\n",
    "        if len(ele)>k:\n",
    "            l2.append(ele)\n",
    "    return l2\n",
    "\n",
    "sentence = input(\"Enter a sentence:\")\n",
    "k = int(input(\"Enter length k:\"))\n",
    "print(\"The words in '\"+sentence+\"' that are greater than length\",k,\":\",len_words(sentence,k))"
   ]
  },
  {
   "cell_type": "markdown",
   "id": "4112a6d3",
   "metadata": {},
   "source": [
    "#### 2. Write a Python program for removing i-th character from a string?"
   ]
  },
  {
   "cell_type": "code",
   "execution_count": 2,
   "id": "457d37a7",
   "metadata": {},
   "outputs": [
    {
     "name": "stdout",
     "output_type": "stream",
     "text": [
      "Enter a string:abcdefghijk\n",
      "Enter a number:8\n",
      "After removing the 8th charachter from abcdefghijk we get: abcdefgijk\n"
     ]
    }
   ],
   "source": [
    "def remove_i(string,i):\n",
    "    string2 = \"\"\n",
    "    for j in range(len(string)):\n",
    "        if j==i-1:\n",
    "            pass\n",
    "        else:\n",
    "            string2+=string[j]\n",
    "    return string2\n",
    "\n",
    "string = input(\"Enter a string:\")\n",
    "i = int(input(\"Enter a number:\"))\n",
    "print(\"After removing the \"+str(i)+\"th charachter from\",string,\"we get:\",remove_i(string,i))"
   ]
  },
  {
   "cell_type": "markdown",
   "id": "610ae88b",
   "metadata": {},
   "source": [
    "#### 3. Write a Python program to split and join a string?"
   ]
  },
  {
   "cell_type": "code",
   "execution_count": 3,
   "id": "11b4299e",
   "metadata": {},
   "outputs": [
    {
     "name": "stdout",
     "output_type": "stream",
     "text": [
      "Enter a string:Full,Stack,Data,Science\n",
      "Splitted string: ['Full', 'Stack', 'Data', 'Science']\n",
      "Joined string: Full:Stack:Data:Science\n"
     ]
    }
   ],
   "source": [
    "string = input(\"Enter a string:\")\n",
    "split_string = string.split(\",\")\n",
    "print(\"Splitted string:\",split_string)\n",
    "join_string = \":\".join(split_string)\n",
    "print(\"Joined string:\",join_string)"
   ]
  },
  {
   "cell_type": "markdown",
   "id": "cff7c6e5",
   "metadata": {},
   "source": [
    "#### 4. Write a Python to check if a given string is binary string or not?"
   ]
  },
  {
   "cell_type": "code",
   "execution_count": 4,
   "id": "96086ea8",
   "metadata": {},
   "outputs": [
    {
     "name": "stdout",
     "output_type": "stream",
     "text": [
      "Enter a string:10100101001010\n",
      "The string 10100101001010 is binary.\n"
     ]
    }
   ],
   "source": [
    "def check_binary(string):\n",
    "    for ch in string:\n",
    "        if ch not in ['0','1']:\n",
    "            return \"not binary.\"\n",
    "    return \"binary.\"\n",
    "\n",
    "string = input(\"Enter a string:\")\n",
    "print(\"The string\",string,\"is\",check_binary(string))"
   ]
  },
  {
   "cell_type": "markdown",
   "id": "ad234326",
   "metadata": {},
   "source": [
    "#### 5. Write a Python program to find uncommon words from two Strings?"
   ]
  },
  {
   "cell_type": "code",
   "execution_count": 8,
   "id": "069dfec1",
   "metadata": {},
   "outputs": [
    {
     "name": "stdout",
     "output_type": "stream",
     "text": [
      "Enter first string:Hi my name is Raghav\n",
      "Enter second string:and my nick name is Rara\n",
      "The uncommon words of 'Hi my name is Raghav' and 'and my nick name is Rara' are: ['Hi', 'Raghav', 'and', 'nick', 'Rara']\n"
     ]
    }
   ],
   "source": [
    "def uncommon_words(string1, string2):\n",
    "    l1 = string1.split(\" \")\n",
    "    l2 = string2.split(\" \")\n",
    "    l3 = []\n",
    "    for ele in l1:\n",
    "        if ele not in l2:\n",
    "            l3.append(ele)\n",
    "    for ele in l2:\n",
    "        if ele not in l1:\n",
    "            l3.append(ele)\n",
    "    return l3\n",
    "\n",
    "string1 = input(\"Enter first string:\")\n",
    "string2 = input(\"Enter second string:\")\n",
    "print(\"The uncommon words of '\"+string1+\"' and '\"+string2+\"' are:\",uncommon_words(string1,string2))"
   ]
  },
  {
   "cell_type": "markdown",
   "id": "0f4de3ca",
   "metadata": {},
   "source": [
    "#### 6. Write a Python to find all duplicate characters in string?"
   ]
  },
  {
   "cell_type": "code",
   "execution_count": 9,
   "id": "125c3206",
   "metadata": {},
   "outputs": [
    {
     "name": "stdout",
     "output_type": "stream",
     "text": [
      "Enter a string:mississipi\n",
      "The duplicate charachters in 'mississipi' are: ['i', 's']\n"
     ]
    }
   ],
   "source": [
    "def find_duplicate(string):\n",
    "    l1 = []\n",
    "    for i in range(len(string)):\n",
    "        if string.count(string[i])>1 and string[i] not in string[:i]:\n",
    "            l1.append(string[i])\n",
    "    return l1\n",
    "\n",
    "string = input(\"Enter a string:\")\n",
    "print(\"The duplicate charachters in '\"+string+\"' are:\",find_duplicate(string))"
   ]
  },
  {
   "cell_type": "markdown",
   "id": "b636718d",
   "metadata": {},
   "source": [
    "#### 7. Write a Python Program to check if a string contains any special character?"
   ]
  },
  {
   "cell_type": "code",
   "execution_count": 10,
   "id": "b66288dc",
   "metadata": {},
   "outputs": [
    {
     "name": "stdout",
     "output_type": "stream",
     "text": [
      "Enter a string:abcd!efgh$\n",
      "The string 'abcd!efgh$' contains special charachter.\n"
     ]
    }
   ],
   "source": [
    "def check_special(string):\n",
    "    for ch in string:\n",
    "        if not(ord(ch)==32 or 47<ord(ch)<58 or 64<ord(ch)<91 or 96<ord(ch)<123):\n",
    "            return \"contains\"\n",
    "    return \"does not contain\"\n",
    "\n",
    "string = input(\"Enter a string:\")\n",
    "print(\"The string '\"+string+\"'\",check_special(string),\"special charachter.\")"
   ]
  },
  {
   "cell_type": "code",
   "execution_count": null,
   "id": "41adde91",
   "metadata": {},
   "outputs": [],
   "source": []
  }
 ],
 "metadata": {
  "kernelspec": {
   "display_name": "Python 3 (ipykernel)",
   "language": "python",
   "name": "python3"
  },
  "language_info": {
   "codemirror_mode": {
    "name": "ipython",
    "version": 3
   },
   "file_extension": ".py",
   "mimetype": "text/x-python",
   "name": "python",
   "nbconvert_exporter": "python",
   "pygments_lexer": "ipython3",
   "version": "3.9.7"
  }
 },
 "nbformat": 4,
 "nbformat_minor": 5
}
