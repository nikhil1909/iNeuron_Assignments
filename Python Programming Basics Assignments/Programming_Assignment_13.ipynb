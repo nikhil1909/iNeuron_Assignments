{
 "cells": [
  {
   "cell_type": "markdown",
   "id": "5847d651",
   "metadata": {},
   "source": [
    "#### Question 1:\n",
    "Write a program that calculates and prints the value according to the given formula:\n",
    "\n",
    "Q = Square root of [(2 * C * D)/H]\n",
    "\n",
    "Following are the fixed values of C and H:\n",
    "\n",
    "C is 50. H is 30.\n",
    "\n",
    "D is the variable whose values should be input to your program in a comma-separated sequence.\n",
    "\n",
    "Example\n",
    "\n",
    "Let us assume the following comma separated input sequence is given to the program:\n",
    "\n",
    "100,150,180\n",
    "\n",
    "The output of the program should be:\n",
    "\n",
    "18,22,24"
   ]
  },
  {
   "cell_type": "code",
   "execution_count": 1,
   "id": "5726d4a3",
   "metadata": {},
   "outputs": [
    {
     "name": "stdout",
     "output_type": "stream",
     "text": [
      "Enter numbers:100,150,180\n",
      "18,22,24\n"
     ]
    }
   ],
   "source": [
    "def Q(C,H,D):\n",
    "    return str(int(((2*C*D)/H)**(0.5)))\n",
    "\n",
    "C = 50\n",
    "H = 30\n",
    "s = list(map(int,input(\"Enter numbers:\").split(\",\")))\n",
    "l = []\n",
    "for D in s:\n",
    "    l.append(Q(C,H,D))\n",
    "print(\",\".join(l))"
   ]
  },
  {
   "cell_type": "markdown",
   "id": "b60cbbeb",
   "metadata": {},
   "source": [
    "#### Question 2:\n",
    "Write a program which takes 2 digits, X,Y as input and generates a 2-dimensional array. \n",
    "\n",
    "The element value in the i-th row and j-th column of the array should be i*j.\n",
    "\n",
    "Note: i=0,1.., X-1; j=0,1,¡Y-1.\n",
    "\n",
    "Example\n",
    "\n",
    "Suppose the following inputs are given to the program:\n",
    "\n",
    "3,5\n",
    "\n",
    "Then, the output of the program should be:\n",
    "\n",
    "[[0, 0, 0, 0, 0], [0, 1, 2, 3, 4], [0, 2, 4, 6, 8]]"
   ]
  },
  {
   "cell_type": "code",
   "execution_count": 2,
   "id": "c669d0af",
   "metadata": {},
   "outputs": [
    {
     "name": "stdout",
     "output_type": "stream",
     "text": [
      "Enter X and Y:3,5\n",
      "[[0, 0, 0, 0, 0], [0, 1, 2, 3, 4], [0, 2, 4, 6, 8]]\n"
     ]
    }
   ],
   "source": [
    "def gen_array(X, Y):\n",
    "    array = []\n",
    "    for i in range(X):\n",
    "        a = []\n",
    "        for j in range(Y):\n",
    "            a.append(i*j)\n",
    "        array.append(a)\n",
    "    return array\n",
    "\n",
    "l = list(map(int,input(\"Enter X and Y:\").split(\",\")))\n",
    "X, Y = l[0], l[1]\n",
    "print(gen_array(X,Y))"
   ]
  },
  {
   "cell_type": "markdown",
   "id": "ee4df36b",
   "metadata": {},
   "source": [
    "#### Question 3:\n",
    "Write a program that accepts a comma separated sequence of words as input and prints the words in a comma-separated sequence after sorting them alphabetically.\n",
    "\n",
    "Suppose the following input is supplied to the program:\n",
    "\n",
    "without,hello,bag,world\n",
    "\n",
    "Then, the output should be:\n",
    "\n",
    "bag,hello,without,world"
   ]
  },
  {
   "cell_type": "code",
   "execution_count": 3,
   "id": "afb80641",
   "metadata": {},
   "outputs": [
    {
     "name": "stdout",
     "output_type": "stream",
     "text": [
      "Enter sequence of words:without,hello,bag,world\n",
      "bag,hello,without,world\n"
     ]
    }
   ],
   "source": [
    "def sort_words(words_list):\n",
    "    dic = {word.lower():word for word in words_list}\n",
    "    sorted_list = []\n",
    "    for key in sorted(dic.keys()):\n",
    "        sorted_list.append(dic[key])\n",
    "    return sorted_list\n",
    "\n",
    "words_list = input(\"Enter sequence of words:\").split(\",\")\n",
    "print(\",\".join(sort_words(words_list)))"
   ]
  },
  {
   "cell_type": "markdown",
   "id": "67a34d56",
   "metadata": {},
   "source": [
    "#### Question 4:\n",
    "Write a program that accepts a sequence of whitespace separated words as input and prints the words after removing all duplicate words and sorting them alphanumerically.\n",
    "\n",
    "Suppose the following input is supplied to the program:\n",
    "\n",
    "hello world and practice makes perfect and hello world again\n",
    "\n",
    "Then, the output should be:\n",
    "\n",
    "again and hello makes perfect practice world"
   ]
  },
  {
   "cell_type": "code",
   "execution_count": 4,
   "id": "37cb0d65",
   "metadata": {},
   "outputs": [
    {
     "name": "stdout",
     "output_type": "stream",
     "text": [
      "Enter sequence of words:hello world and practice makes perfect and hello world again\n",
      "again and hello makes perfect practice world\n"
     ]
    }
   ],
   "source": [
    "def unique_sort(words_list):\n",
    "    unique_list = []\n",
    "    for ele in words_list:\n",
    "        if ele not in unique_list:\n",
    "            unique_list.append(ele)\n",
    "    return sort_words(unique_list)\n",
    "    \n",
    "words_list = input(\"Enter sequence of words:\").split(\" \")\n",
    "print(\" \".join(unique_sort(words_list)))"
   ]
  },
  {
   "cell_type": "markdown",
   "id": "1f3dcfa6",
   "metadata": {},
   "source": [
    "#### Question 5:\n",
    "Write a program that accepts a sentence and calculate the number of letters and digits.\n",
    "\n",
    "Suppose the following input is supplied to the program:\n",
    "\n",
    "hello world! 123\n",
    "\n",
    "Then, the output should be:\n",
    "\n",
    "LETTERS 10\n",
    "\n",
    "DIGITS 3"
   ]
  },
  {
   "cell_type": "code",
   "execution_count": 5,
   "id": "e141ed73",
   "metadata": {},
   "outputs": [
    {
     "name": "stdout",
     "output_type": "stream",
     "text": [
      "Enter a sentence:hello world! 123\n",
      "LETTERS 10\n",
      "DIGITS 3\n"
     ]
    }
   ],
   "source": [
    "def count_ch(sen):\n",
    "    letters = 0\n",
    "    digits = 0\n",
    "    sen = sen.lower()\n",
    "    for ch in sen:\n",
    "        if 47<ord(ch)<58:\n",
    "            digits+=1\n",
    "        if 96<ord(ch)<123:\n",
    "            letters+=1\n",
    "    return letters, digits\n",
    "\n",
    "sen = input(\"Enter a sentence:\")\n",
    "letters, digits = count_ch(sen)\n",
    "print(\"LETTERS\",letters)\n",
    "print(\"DIGITS\",digits)"
   ]
  },
  {
   "cell_type": "markdown",
   "id": "3a43a243",
   "metadata": {},
   "source": [
    "#### Question 6:\n",
    "A website requires the users to input username and password to register. Write a program to check the validity of password input by users.\n",
    "\n",
    "Following are the criteria for checking the password:\n",
    "\n",
    "1. At least 1 letter between [a-z]\n",
    "\n",
    "2. At least 1 number between [0-9]\n",
    "\n",
    "1. At least 1 letter between [A-Z]\n",
    "\n",
    "3. At least 1 character from [$#@]\n",
    "\n",
    "4. Minimum length of transaction password: 6\n",
    "\n",
    "5. Maximum length of transaction password: 12\n",
    "\n",
    "Your program should accept a sequence of comma separated passwords and will check them according to the above criteria. \n",
    "\n",
    "Passwords that match the criteria are to be printed, each separated by a comma.\n",
    "\n",
    "Example\n",
    "\n",
    "If the following passwords are given as input to the program:\n",
    "\n",
    "ABd1234@1,a F1#,2w3E*,2We3345\n",
    "\n",
    "Then, the output of the program should be:\n",
    "\n",
    "ABd1234@1"
   ]
  },
  {
   "cell_type": "code",
   "execution_count": 6,
   "id": "0e866340",
   "metadata": {},
   "outputs": [
    {
     "name": "stdout",
     "output_type": "stream",
     "text": [
      "Enter list of passwords:ABd1234@1,a F1#,2w3E*,2We3345\n",
      "ABd1234@1\n"
     ]
    }
   ],
   "source": [
    "import re\n",
    "def check_pswd(list_pswd):\n",
    "    correct_pswd = []\n",
    "    for pswd in list_pswd:\n",
    "        if 6<=len(pswd)<=12:\n",
    "            if re.search(\"\\d\",pswd):\n",
    "                if re.search(\"[$#@]\",pswd):\n",
    "                    if re.search(\"[a-z]\",pswd):\n",
    "                        if re.search(\"[A-Z]\",pswd):\n",
    "                            correct_pswd.append(pswd)\n",
    "    return correct_pswd\n",
    "\n",
    "list_pswd = input(\"Enter list of passwords:\").split(\",\")\n",
    "print(\",\".join(check_pswd(list_pswd)))"
   ]
  },
  {
   "cell_type": "code",
   "execution_count": null,
   "id": "5e4ee9ea",
   "metadata": {},
   "outputs": [],
   "source": []
  }
 ],
 "metadata": {
  "kernelspec": {
   "display_name": "Python 3 (ipykernel)",
   "language": "python",
   "name": "python3"
  },
  "language_info": {
   "codemirror_mode": {
    "name": "ipython",
    "version": 3
   },
   "file_extension": ".py",
   "mimetype": "text/x-python",
   "name": "python",
   "nbconvert_exporter": "python",
   "pygments_lexer": "ipython3",
   "version": "3.9.7"
  }
 },
 "nbformat": 4,
 "nbformat_minor": 5
}
