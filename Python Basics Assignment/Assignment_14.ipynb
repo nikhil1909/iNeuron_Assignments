{
 "cells": [
  {
   "cell_type": "markdown",
   "id": "282a82f8",
   "metadata": {},
   "source": [
    "#### 1. What does RGBA stand for?"
   ]
  },
  {
   "cell_type": "markdown",
   "id": "b42e5fa3",
   "metadata": {},
   "source": [
    "#### Ans:\n",
    "RGBA stands for Red-Green-Blue-Alpha. It is a four-channel format containing data for Red, Green, Blue and Alpha value, where Alpha value represents the opacity of the image."
   ]
  },
  {
   "cell_type": "markdown",
   "id": "be539cda",
   "metadata": {},
   "source": [
    "#### 2. From the Pillow module, how do you get the RGBA value of any images?"
   ]
  },
  {
   "cell_type": "markdown",
   "id": "7bc8b29e",
   "metadata": {},
   "source": [
    "#### Ans:\n",
    "getcolor() method of the sub-module ImageColor of the module Pillow gives RGBA value of any image."
   ]
  },
  {
   "cell_type": "markdown",
   "id": "586ef876",
   "metadata": {},
   "source": [
    "#### 3. What is a box tuple, and how does it work?"
   ]
  },
  {
   "cell_type": "markdown",
   "id": "c1a60bd1",
   "metadata": {},
   "source": [
    "#### Ans:\n",
    "A box tuple is a tuple value of four integers. They are the left-edge x-coordinate, the top-edge y-coordinate,the width, and the height.\n",
    "\n"
   ]
  },
  {
   "cell_type": "markdown",
   "id": "cb654799",
   "metadata": {},
   "source": [
    "#### 4. Use your image and load in notebook then, How can you find out the width and height of an Image object?"
   ]
  },
  {
   "cell_type": "code",
   "execution_count": 3,
   "id": "dbbce141",
   "metadata": {},
   "outputs": [
    {
     "name": "stdout",
     "output_type": "stream",
     "text": [
      "Width = 588\n",
      "Height = 650\n"
     ]
    }
   ],
   "source": [
    "from PIL import Image\n",
    "pic = Image.open('Image.webp')\n",
    "print(\"Width =\",pic.width)\n",
    "print(\"Height =\",pic.height)"
   ]
  },
  {
   "cell_type": "markdown",
   "id": "293aa512",
   "metadata": {},
   "source": [
    "#### 5. What method would you call to get Image object for a 100×100 image, excluding the lower-left quarter of it?"
   ]
  },
  {
   "cell_type": "markdown",
   "id": "746f6dbf",
   "metadata": {},
   "source": [
    "#### Ans:\n",
    "I would call the method image.crop()"
   ]
  },
  {
   "cell_type": "code",
   "execution_count": 4,
   "id": "74e69f15",
   "metadata": {},
   "outputs": [],
   "source": [
    "from PIL import Image\n",
    "img = Image.open('Image.webp')\n",
    "new_img = img.crop((0,50,50,50))"
   ]
  },
  {
   "cell_type": "markdown",
   "id": "c6727061",
   "metadata": {},
   "source": [
    "#### 6. After making changes to an Image object, how could you save it as an image file?"
   ]
  },
  {
   "cell_type": "markdown",
   "id": "a20005ab",
   "metadata": {},
   "source": [
    "#### Ans:\n",
    "Using the save() method, we can save an image file."
   ]
  },
  {
   "cell_type": "code",
   "execution_count": 5,
   "id": "1ff09883",
   "metadata": {},
   "outputs": [],
   "source": [
    "from PIL import Image\n",
    "pic = Image.open('Image.webp')\n",
    "pic.save('Image1.webp')"
   ]
  },
  {
   "cell_type": "markdown",
   "id": "49d78a1b",
   "metadata": {},
   "source": [
    "#### 7. What module contains Pillow’s shape-drawing code?"
   ]
  },
  {
   "cell_type": "markdown",
   "id": "bd34b73d",
   "metadata": {},
   "source": [
    "#### Ans:\n",
    "ImageDraw module of Pillow contains the shape-drawing code."
   ]
  },
  {
   "cell_type": "markdown",
   "id": "dd661ebb",
   "metadata": {},
   "source": [
    "#### 8. Image objects do not have drawing methods. What kind of object does? How do you get this kind of object?"
   ]
  },
  {
   "cell_type": "markdown",
   "id": "28f0085c",
   "metadata": {},
   "source": [
    "#### Ans:\n",
    "ImageDraw objects have shape-drawing methods such as point(), line(), or rectangle(). We can get this object by passing the Image object to the ImageDraw.Draw() function."
   ]
  },
  {
   "cell_type": "code",
   "execution_count": null,
   "id": "00f61484",
   "metadata": {},
   "outputs": [],
   "source": []
  }
 ],
 "metadata": {
  "kernelspec": {
   "display_name": "Python 3 (ipykernel)",
   "language": "python",
   "name": "python3"
  },
  "language_info": {
   "codemirror_mode": {
    "name": "ipython",
    "version": 3
   },
   "file_extension": ".py",
   "mimetype": "text/x-python",
   "name": "python",
   "nbconvert_exporter": "python",
   "pygments_lexer": "ipython3",
   "version": "3.9.7"
  }
 },
 "nbformat": 4,
 "nbformat_minor": 5
}
