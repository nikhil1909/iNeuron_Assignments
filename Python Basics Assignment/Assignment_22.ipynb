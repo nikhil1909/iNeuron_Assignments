{
 "cells": [
  {
   "cell_type": "markdown",
   "id": "8afb79c3",
   "metadata": {},
   "source": [
    "#### 1. What is the result of the code, and explain?\n",
    "X = 'iNeuron'\n",
    "\n",
    "def func(): \n",
    "\n",
    "    print(X)\n",
    "    \n",
    "func()"
   ]
  },
  {
   "cell_type": "markdown",
   "id": "1126496f",
   "metadata": {},
   "source": [
    "#### Ans:\n",
    "The code will print 'iNeuron'. The function func() is called, and inside it print function is called to print the variable global X whose value is a string iNeuron."
   ]
  },
  {
   "cell_type": "code",
   "execution_count": 1,
   "id": "aa4156cf",
   "metadata": {},
   "outputs": [
    {
     "name": "stdout",
     "output_type": "stream",
     "text": [
      "iNeuron\n"
     ]
    }
   ],
   "source": [
    "X = 'iNeuron'\n",
    "def func(): \n",
    "    print(X)\n",
    "func()"
   ]
  },
  {
   "cell_type": "markdown",
   "id": "6cf04529",
   "metadata": {},
   "source": [
    "#### 2. What is the result of the code, and explain?\n",
    "X = 'iNeuron'\n",
    "\n",
    "def func(): \n",
    "\n",
    "    X = 'NI!'\n",
    "   \n",
    "func()\n",
    "\n",
    "print(X)"
   ]
  },
  {
   "cell_type": "markdown",
   "id": "42f1f5e3",
   "metadata": {},
   "source": [
    "#### Ans:\n",
    "The code will print 'iNeuron'. When the function func() is called, it creates a local variable X with value NI which is different from the global variable X. The print function is called outside the function, so it will print the value of global variable X."
   ]
  },
  {
   "cell_type": "code",
   "execution_count": 2,
   "id": "d50b0826",
   "metadata": {},
   "outputs": [
    {
     "name": "stdout",
     "output_type": "stream",
     "text": [
      "iNeuron\n"
     ]
    }
   ],
   "source": [
    "X = 'iNeuron'\n",
    "def func():\n",
    "    X = 'NI!'\n",
    "func()\n",
    "print(X)"
   ]
  },
  {
   "cell_type": "markdown",
   "id": "cfea5b4c",
   "metadata": {},
   "source": [
    "#### 3. What does this code print, and why?\n",
    "X = 'iNeuron'\n",
    "\n",
    "def func(): \n",
    "\n",
    "    X = 'NI' \n",
    "    \n",
    "    print(X)\n",
    "    \n",
    "func()\n",
    "\n",
    "print(X)"
   ]
  },
  {
   "cell_type": "markdown",
   "id": "64a202c0",
   "metadata": {},
   "source": [
    "#### Ans:\n",
    "The code will print NI and then print iNeuron in the next line. When the func() function is called, it takes the local variables X to print it. When the print function is called outside the func() function, it takes the global variable X to print it."
   ]
  },
  {
   "cell_type": "code",
   "execution_count": 3,
   "id": "284d43a3",
   "metadata": {},
   "outputs": [
    {
     "name": "stdout",
     "output_type": "stream",
     "text": [
      "NI\n",
      "iNeuron\n"
     ]
    }
   ],
   "source": [
    "X = 'iNeuron'\n",
    "def func(): \n",
    "    X = 'NI' \n",
    "    print(X)\n",
    "func()\n",
    "print(X)"
   ]
  },
  {
   "cell_type": "markdown",
   "id": "6e6f9b6b",
   "metadata": {},
   "source": [
    "#### 4. What output does this code produce? Why?\n",
    "X = 'iNeuron'\n",
    "\n",
    "def func():\n",
    "\n",
    "    global X \n",
    "    \n",
    "    X = 'NI'\n",
    "    \n",
    "func()\n",
    "\n",
    "print(X)"
   ]
  },
  {
   "cell_type": "markdown",
   "id": "0e974ce2",
   "metadata": {},
   "source": [
    "#### Ans:\n",
    "The code will print NI. When the global keyword is used inside the function func(), the variable X inside func() refers to the global variable X which is updated to NI, so print function will print NI."
   ]
  },
  {
   "cell_type": "code",
   "execution_count": 4,
   "id": "bd8cc17c",
   "metadata": {},
   "outputs": [
    {
     "name": "stdout",
     "output_type": "stream",
     "text": [
      "NI\n"
     ]
    }
   ],
   "source": [
    "X = 'iNeuron'\n",
    "def func():\n",
    "    global X \n",
    "    X = 'NI'\n",
    "func()\n",
    "print(X)"
   ]
  },
  {
   "cell_type": "markdown",
   "id": "4ce44821",
   "metadata": {},
   "source": [
    "#### 5. What about this code—what’s the output, and why?\n",
    "X = 'iNeuron'\n",
    "\n",
    "def func(): \n",
    "\n",
    "    X = 'NI' \n",
    "    \n",
    "    def nested(): \n",
    "    \n",
    "        print(X) \n",
    "        \n",
    "    nested()\n",
    "    \n",
    "func()\n",
    "\n",
    "print(X)"
   ]
  },
  {
   "cell_type": "markdown",
   "id": "99de1f97",
   "metadata": {},
   "source": [
    "#### Ans:\n",
    "The code first prints NI and then prints iNeuron in the next line. When the nested() function is called inside the func() function it takes the enclosed variable X which is NI and prints it. The last print function takes the global variable X which is iNeuron and prints it."
   ]
  },
  {
   "cell_type": "code",
   "execution_count": 5,
   "id": "459b4236",
   "metadata": {},
   "outputs": [
    {
     "name": "stdout",
     "output_type": "stream",
     "text": [
      "NI\n",
      "iNeuron\n"
     ]
    }
   ],
   "source": [
    "X = 'iNeuron'\n",
    "def func(): \n",
    "    X = 'NI' \n",
    "    def nested(): \n",
    "        print(X) \n",
    "    nested()\n",
    "func()\n",
    "print(X)"
   ]
  },
  {
   "cell_type": "markdown",
   "id": "4c79366a",
   "metadata": {},
   "source": [
    "#### 6. How about this code: what is its output in Python 3, and explain?\n",
    "def func():\n",
    "\n",
    "    X = 'NI' \n",
    "    \n",
    "    def nested(): \n",
    "    \n",
    "        nonlocal X \n",
    "        \n",
    "        X = 'Spam' \n",
    "        \n",
    "    nested()\n",
    "    \n",
    "    print(X)\n",
    "    \n",
    "func()"
   ]
  },
  {
   "cell_type": "markdown",
   "id": "de3c1d5e",
   "metadata": {},
   "source": [
    "#### Ans:\n",
    "The code will print Spam. Inside the nested() function, nonlocal keyword is used which takes the enclosed variable X and updates its value to Spam. After that when the print function is called it takes the enclosed variable X whose value has been updated to Spam by the nested() function, and prints it."
   ]
  },
  {
   "cell_type": "code",
   "execution_count": 6,
   "id": "eee419b5",
   "metadata": {},
   "outputs": [
    {
     "name": "stdout",
     "output_type": "stream",
     "text": [
      "Spam\n"
     ]
    }
   ],
   "source": [
    "def func():\n",
    "    X = 'NI' \n",
    "    def nested(): \n",
    "        nonlocal X \n",
    "        X = 'Spam' \n",
    "    nested()\n",
    "    print(X)\n",
    "func()"
   ]
  },
  {
   "cell_type": "code",
   "execution_count": null,
   "id": "d97030f1",
   "metadata": {},
   "outputs": [],
   "source": []
  }
 ],
 "metadata": {
  "kernelspec": {
   "display_name": "Python 3 (ipykernel)",
   "language": "python",
   "name": "python3"
  },
  "language_info": {
   "codemirror_mode": {
    "name": "ipython",
    "version": 3
   },
   "file_extension": ".py",
   "mimetype": "text/x-python",
   "name": "python",
   "nbconvert_exporter": "python",
   "pygments_lexer": "ipython3",
   "version": "3.9.7"
  }
 },
 "nbformat": 4,
 "nbformat_minor": 5
}
