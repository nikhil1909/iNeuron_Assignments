{
 "cells": [
  {
   "cell_type": "markdown",
   "id": "61dfc309",
   "metadata": {},
   "source": [
    "#### Question 1:\n",
    "Please write a program using generator to print the numbers which can be divisible by 5 and 7 between 0 and n in comma separated form while n is input by console.\n",
    "\n",
    "Example:\n",
    "\n",
    "If the following n is given as input to the program:\n",
    "\n",
    "100\n",
    "\n",
    "Then, the output of the program should be:\n",
    "\n",
    "0,35,70"
   ]
  },
  {
   "cell_type": "code",
   "execution_count": 1,
   "id": "3b03a54b",
   "metadata": {},
   "outputs": [
    {
     "name": "stdout",
     "output_type": "stream",
     "text": [
      "Enter n:100\n",
      "0,35,70,"
     ]
    }
   ],
   "source": [
    "def divisibility(n):\n",
    "    for i in range(0,n+1):\n",
    "        if i%5==0 and i%7==0:\n",
    "            yield i\n",
    "            \n",
    "n = int(input(\"Enter n:\"))\n",
    "for i in divisibility(n):\n",
    "    print(i, end=\",\")"
   ]
  },
  {
   "cell_type": "markdown",
   "id": "74097e0b",
   "metadata": {},
   "source": [
    "#### Question 2:\n",
    "Please write a program using generator to print the even numbers between 0 and n in comma separated form while n is input by console.\n",
    "\n",
    "Example:\n",
    "\n",
    "If the following n is given as input to the program:\n",
    "\n",
    "10\n",
    "\n",
    "Then, the output of the program should be:\n",
    "\n",
    "0,2,4,6,8,10"
   ]
  },
  {
   "cell_type": "code",
   "execution_count": 2,
   "id": "fcb0eac3",
   "metadata": {},
   "outputs": [
    {
     "name": "stdout",
     "output_type": "stream",
     "text": [
      "Enter n:10\n",
      "0,2,4,6,8,10,"
     ]
    }
   ],
   "source": [
    "def even_gen(n):\n",
    "    for i in range(0,n+1):\n",
    "        if i%2==0:\n",
    "            yield i\n",
    "            \n",
    "n = int(input(\"Enter n:\"))\n",
    "for i in even_gen(n):\n",
    "    print(i, end=\",\")"
   ]
  },
  {
   "cell_type": "markdown",
   "id": "de0e0188",
   "metadata": {},
   "source": [
    "#### Question 3:\n",
    "The Fibonacci Sequence is computed based on the following formula:\n",
    "\n",
    "f(n)=0 if n=0\n",
    "\n",
    "f(n)=1 if n=1\n",
    "\n",
    "f(n)=f(n-1)+f(n-2) if n&gt;1\n",
    "\n",
    "Please write a program using list comprehension to print the Fibonacci Sequence in comma separated form with a given n input by console.\n",
    "\n",
    "Example:\n",
    "\n",
    "If the following n is given as input to the program:\n",
    "\n",
    "7\n",
    "\n",
    "Then, the output of the program should be:\n",
    "\n",
    "0,1,1,2,3,5,8,13"
   ]
  },
  {
   "cell_type": "code",
   "execution_count": 3,
   "id": "fb97bead",
   "metadata": {},
   "outputs": [
    {
     "name": "stdout",
     "output_type": "stream",
     "text": [
      "Enter n:7\n",
      "[0, 1, 1, 2, 3, 5, 8, 13]\n"
     ]
    }
   ],
   "source": [
    "def fib(n):\n",
    "    if n==1:\n",
    "        yield 0\n",
    "    elif n==2:\n",
    "        yield 0\n",
    "        yield 1\n",
    "    else:\n",
    "        a = 0\n",
    "        b = 1\n",
    "        yield a\n",
    "        yield b\n",
    "        i = 1\n",
    "        while i<n:\n",
    "            c = a+b\n",
    "            yield c\n",
    "            a = b\n",
    "            b = c\n",
    "            i+=1\n",
    "n = int(input(\"Enter n:\"))\n",
    "print([x for x in fib(n)])"
   ]
  },
  {
   "cell_type": "markdown",
   "id": "64f67deb",
   "metadata": {},
   "source": [
    "#### Question 4:\n",
    "Assuming that we have some email addresses in the &quot;username@companyname.com&quot; format, please write program to print the user name of a given email address. Both user names and company names are composed of letters only.\n",
    "\n",
    "Example:\n",
    "\n",
    "If the following email address is given as input to the program:\n",
    "\n",
    "john@google.com\n",
    "\n",
    "Then, the output of the program should be:\n",
    "\n",
    "john"
   ]
  },
  {
   "cell_type": "code",
   "execution_count": 4,
   "id": "86311865",
   "metadata": {},
   "outputs": [
    {
     "name": "stdout",
     "output_type": "stream",
     "text": [
      "Enter email id:john@google.com\n",
      "john\n"
     ]
    }
   ],
   "source": [
    "def get_user(email):\n",
    "    user = \"\"\n",
    "    for ch in email:\n",
    "        if ch==\"@\":\n",
    "            break\n",
    "        user+=ch\n",
    "    return user\n",
    "\n",
    "email = input(\"Enter email id:\")\n",
    "print(get_user(email))"
   ]
  },
  {
   "cell_type": "markdown",
   "id": "85b5d20c",
   "metadata": {},
   "source": [
    "#### Question 5:\n",
    "Define a class named Shape and its subclass Square. The Square class has an init function which takes a length as argument. Both classes have a area function which can print the area of the shape where Shape&#39;s area is 0 by default."
   ]
  },
  {
   "cell_type": "code",
   "execution_count": 5,
   "id": "b13f4473",
   "metadata": {},
   "outputs": [
    {
     "name": "stdout",
     "output_type": "stream",
     "text": [
      "100\n"
     ]
    }
   ],
   "source": [
    "class Shape:\n",
    "    def area(self):\n",
    "        return 0\n",
    "    \n",
    "class Square(Shape):\n",
    "    def __init__(self, length):\n",
    "        self.length = length\n",
    "        \n",
    "    def area(self):\n",
    "        return self.length*self.length\n",
    "    \n",
    "s = Square(10)\n",
    "print(s.area())"
   ]
  },
  {
   "cell_type": "code",
   "execution_count": null,
   "id": "49d83fdd",
   "metadata": {},
   "outputs": [],
   "source": []
  }
 ],
 "metadata": {
  "kernelspec": {
   "display_name": "Python 3 (ipykernel)",
   "language": "python",
   "name": "python3"
  },
  "language_info": {
   "codemirror_mode": {
    "name": "ipython",
    "version": 3
   },
   "file_extension": ".py",
   "mimetype": "text/x-python",
   "name": "python",
   "nbconvert_exporter": "python",
   "pygments_lexer": "ipython3",
   "version": "3.9.7"
  }
 },
 "nbformat": 4,
 "nbformat_minor": 5
}
