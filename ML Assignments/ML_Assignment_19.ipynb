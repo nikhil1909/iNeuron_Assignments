{
 "cells": [
  {
   "cell_type": "markdown",
   "id": "06900de6",
   "metadata": {},
   "source": [
    "#### 1. A set of one-dimensional data points is given to you: 5, 10, 15, 20, 25, 30, 35. Assume that k = 2 and that the first set of random centroid is 15, 32, and that the second set is 12, 30.\n",
    "a) Using the k-means method, create two clusters for each set of centroid described above.\n",
    "\n",
    "b) For each set of centroid values, calculate the SSE."
   ]
  },
  {
   "cell_type": "markdown",
   "id": "91e3c000",
   "metadata": {},
   "source": [
    "#### Ans:\n",
    "a. First set of clusters is {5,10,15,20} and {25, 30, 35}. \n",
    "\n",
    "Second set of clusters is {5,10,15,20} and {25, 30, 35}. \n",
    "\n",
    "b. For the first cluster, SSE = (5-15)^2+(10-15)^2+(15-15)^2+(20-15)^2+(25-32)^2+(30-32)^2+(35-32)^2 = 212. \n",
    "\n",
    "For the second cluster, SSE = (5-12)^2+(10-12)^2+(15-12)^2+(20-12)^2+(25-30)^2+(30-30)^2+(35-30)^2 = 176. "
   ]
  },
  {
   "cell_type": "markdown",
   "id": "59a5e4be",
   "metadata": {},
   "source": [
    "#### 2. Describe how the Market Basket Research makes use of association analysis concepts."
   ]
  },
  {
   "cell_type": "markdown",
   "id": "61efbcce",
   "metadata": {},
   "source": [
    "#### Ans:\n",
    "In market basket analysis, association rules are used to predict the likelihood of products being purchased together. Association rules count the frequency of items that occur together, seeking to find associations that occur far more often than expected. With the help of the Apriori Algorithm, we can further classify and simplify the item sets that the consumer frequently buys. There are three components in APRIORI ALGORITHM: SUPPORT, CONFIDENCE and LIFT\n",
    "For example, suppose 5000 transactions have been made through a popular e-Commerce website. Now they want to calculate the support, confidence, and lift for the two products. For example, let's say pen and notebook, out of 5000 transactions, 500 transactions for pen, 700 transactions for notebook, and 1000 transactions for both.\n",
    "\n",
    "SUPPORT\n",
    "It has been calculated with the number of transactions divided by the total number of transactions made,\n",
    "\n",
    "Support = freq(A, B)/N  \n",
    "support(pen) = transactions related to pen/total transactions\n",
    "\n",
    "i.e support -> 500/5000=10 percent\n",
    "\n",
    "CONFIDENCE\n",
    "Whether the product sales are popular on individual sales or through combined sales has been calculated. That is calculated with combined transactions/individual transactions.\n",
    "\n",
    "\n",
    "Confidence = freq (A, B)/ freq(A)  \n",
    "Confidence = combine transactions/individual transactions\n",
    "\n",
    "i.e confidence-> 1000/500=20 percent\n",
    "\n",
    "LIFT\n",
    "Lift is calculated for knowing the ratio for the sales.\n",
    "\n",
    "\n",
    "Lift = confidence percent/ support percent   \n",
    "Lift-> 20/10=2\n",
    "\n",
    "When the Lift value is below 1, the combination is not so frequently bought by consumers. But in this case, it shows that the probability of buying both the things together is high when compared to the transaction for the individual items sold."
   ]
  },
  {
   "cell_type": "markdown",
   "id": "3461791e",
   "metadata": {},
   "source": [
    "#### 3. Give an example of the Apriori algorithm for learning association rules."
   ]
  },
  {
   "cell_type": "markdown",
   "id": "d3de89b4",
   "metadata": {},
   "source": [
    "#### Ans:\n",
    "Apriori algorithm refers to an algorithm that is used in mining frequent products sets and relevant association rules. \n",
    "The given three components comprise the apriori algorithm.\n",
    "\n",
    "Support\n",
    "Confidence\n",
    "Lift\n",
    "Let's take an example to understand this concept.\n",
    "\n",
    "We have already discussed above; you need a huge database containing a large no of transactions. Suppose you have 4000 customers transactions in a Big Bazar. You have to calculate the Support, Confidence, and Lift for two products, and you may say Biscuits and Chocolate. This is because customers frequently buy these two items together.\n",
    "\n",
    "Out of 4000 transactions, 400 contain Biscuits, whereas 600 contain Chocolate, and these 600 transactions include a 200 that includes Biscuits and chocolates. Using this data, we will find out the support, confidence, and lift.\n",
    "\n",
    "Support\n",
    "Support refers to the default popularity of any product. You find the support as a quotient of the division of the number of transactions comprising that product by the total number of transactions. Hence, we get\n",
    "\n",
    "\n",
    "Support (Biscuits) = (Transactions relating biscuits) / (Total transactions)\n",
    "\n",
    "= 400/4000 = 10 percent.\n",
    "\n",
    "Confidence\n",
    "Confidence refers to the possibility that the customers bought both biscuits and chocolates together. So, you need to divide the number of transactions that comprise both biscuits and chocolates by the total number of transactions to get the confidence.\n",
    "\n",
    "Hence,\n",
    "\n",
    "Confidence = (Transactions relating both biscuits and Chocolate) / (Total transactions involving Biscuits)\n",
    "\n",
    "\n",
    "= 200/400\n",
    "\n",
    "= 50 percent.\n",
    "\n",
    "It means that 50 percent of customers who bought biscuits bought chocolates also.\n",
    "\n",
    "\n",
    "Lift\n",
    "Consider the above example; lift refers to the increase in the ratio of the sale of chocolates when you sell biscuits. The mathematical equations of lift are given below.\n",
    "\n",
    "Lift = (Confidence (Biscuits - chocolates)/ (Support (Biscuits)\n",
    "\n",
    "= 50/10 = 5\n",
    "\n",
    "It means that the probability of people buying both biscuits and chocolates together is five times more than that of purchasing the biscuits alone. If the lift value is below one, it requires that the people are unlikely to buy both the items together. Larger the value, the better is the combination."
   ]
  },
  {
   "cell_type": "markdown",
   "id": "2772bdfc",
   "metadata": {},
   "source": [
    "#### 4. In hierarchical clustering, how is the distance between clusters measured? Explain how this metric is used to decide when to end the iteration."
   ]
  },
  {
   "cell_type": "markdown",
   "id": "8097bfaa",
   "metadata": {},
   "source": [
    "#### Ans:\n",
    "There are various ways to measure the disctance between clusters in hierarchial clustering. We can use single linkage, complete linkage, average or ward method to determine the distance between any two clusters. In hierarchial clustering, the iteration ends when there is only one big cluster left when we perform agglomerative clustering."
   ]
  },
  {
   "cell_type": "markdown",
   "id": "b1e3e351",
   "metadata": {},
   "source": [
    "#### 5. In the k-means algorithm, how do you recompute the cluster centroids?"
   ]
  },
  {
   "cell_type": "markdown",
   "id": "ab2ca371",
   "metadata": {},
   "source": [
    "#### Ans:\n",
    "For n-dimensional data points, we recompute the cluster centroids as:\n",
    "1. First take all the data points of that cluster for which you want to compute the centroid.\n",
    "2. Then for each dimension, compute the average value of all the data points belonging to that dimension.\n",
    "3. The set of values computed in step 2 is the centroid of the cluster."
   ]
  },
  {
   "cell_type": "markdown",
   "id": "4bf127dd",
   "metadata": {},
   "source": [
    "#### 6. At the start of the clustering exercise, discuss one method for determining the required number of clusters."
   ]
  },
  {
   "cell_type": "markdown",
   "id": "0d3da423",
   "metadata": {},
   "source": [
    "#### Ans:\n",
    "One method is to use the formula (n/2)^0.5 where n is the number of data points. Other ways are to use elbow method or silhouette score."
   ]
  },
  {
   "cell_type": "markdown",
   "id": "a0dee030",
   "metadata": {},
   "source": [
    "#### 7. Discuss the k-means algorithm&#39;s advantages and disadvantages."
   ]
  },
  {
   "cell_type": "markdown",
   "id": "bca0d00f",
   "metadata": {},
   "source": [
    "#### Ans:\n",
    "Advantages:\n",
    "1. Relatively simple to implement.\n",
    "2. Scales to large data sets.\n",
    "3. Guarantees convergence.\n",
    "4. Can warm-start the positions of centroids.\n",
    "5. Easily adapts to new examples.\n",
    "6. Generalizes to clusters of different shapes and sizes, such as elliptical clusters.\n",
    "\n",
    "Disadvantages:\n",
    "1. Choosing k  manually.\n",
    "2. Being dependent on initial values.\n",
    "3. Clustering data of varying sizes and density.\n",
    "4. Clustering outliers.\n",
    "5. Scaling with number of dimensions."
   ]
  },
  {
   "cell_type": "markdown",
   "id": "b1543f58",
   "metadata": {},
   "source": [
    "#### 8. Draw a diagram to demonstrate the principle of clustering."
   ]
  },
  {
   "cell_type": "markdown",
   "id": "77f6cf06",
   "metadata": {},
   "source": [
    "#### Ans:\n",
    "Clustering is an unsupervised machine learning algorithm to segreggate the dataset into different segments. The segments are made in such a ways that the datapoints belonging to a given cluster are more similar to each other when compared with the datapoints of the other clusters. Creating clusters may reveals information about the data that might not be visible to the naked eye."
   ]
  },
  {
   "cell_type": "markdown",
   "id": "f6353249",
   "metadata": {},
   "source": [
    "#### 9. During your study, you discovered seven findings, which are listed in the data points below. Using the K-means algorithm, you want to build three clusters from these observations. The clusters C1, C2, and C3 have the following findings after the first iteration:\n",
    "\n",
    "C1: (2,2), (4,4), (6,6)\n",
    "\n",
    "C2: (0,4), (4,0)\n",
    "\n",
    "C3: (5,5) and (9,9)\n",
    "\n",
    "What would the cluster centroids be if you were to run a second iteration? What would this clustering&#39;s SSE be?"
   ]
  },
  {
   "cell_type": "markdown",
   "id": "5159a04e",
   "metadata": {},
   "source": [
    "#### Ans:\n",
    "C1 centroid = ((2+4+6)/3, (2+4+6)/3) = (4, 4)\n",
    "\n",
    "C2 centroid = ((0+4)/2, (4+0)/2) = (2, 2)\n",
    "\n",
    "C3 centroid = ((5+9)/2, (5+9)/2) = (7, 7)\n",
    "\n",
    "SSE = 4+4+0+0+4+4+4+4+4+4+4+4+4+4 = 48"
   ]
  },
  {
   "cell_type": "markdown",
   "id": "99ca4b00",
   "metadata": {},
   "source": [
    "#### 10. In a software project, the team is attempting to determine if software flaws discovered during testing are identical. Based on the text analytics of the defect details, they decided to build 5 clusters of related defects. Any new defect formed after the 5 clusters of defects have been identified must be listed as one of the forms identified by clustering. A simple diagram can be used to explain this process. Assume you have 20 defect data points that are clustered into 5 clusters and you used the k-means algorithm."
   ]
  },
  {
   "cell_type": "markdown",
   "id": "a03422d4",
   "metadata": {},
   "source": [
    "#### Ans:\n",
    "k-means is one of the simplest unsupervised learning algorithms that solve the well known clustering problem. The procedure follows a simple and easy way to classify a given data set through a certain number of clusters (assume k clusters) fixed apriori. The main idea is to define k centers, one for each cluster.\n",
    "\n",
    "Step 1: Choose the number of clusters k.\n",
    "\n",
    "Step 2: Select k random points from the data as centroids.\n",
    "\n",
    "Step 3: Assign all the 20 points to the closest cluster centroid.\n",
    "\n",
    "Step 4: Recompute the centroids of newly formed clusters.\n",
    "\n",
    "Step 5: Repeat steps 3 and 4 until the centroids do not change."
   ]
  },
  {
   "cell_type": "code",
   "execution_count": null,
   "id": "b670a3a8",
   "metadata": {},
   "outputs": [],
   "source": []
  }
 ],
 "metadata": {
  "kernelspec": {
   "display_name": "Python 3 (ipykernel)",
   "language": "python",
   "name": "python3"
  },
  "language_info": {
   "codemirror_mode": {
    "name": "ipython",
    "version": 3
   },
   "file_extension": ".py",
   "mimetype": "text/x-python",
   "name": "python",
   "nbconvert_exporter": "python",
   "pygments_lexer": "ipython3",
   "version": "3.9.13"
  }
 },
 "nbformat": 4,
 "nbformat_minor": 5
}
