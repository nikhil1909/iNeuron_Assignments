{
 "cells": [
  {
   "cell_type": "markdown",
   "id": "5a278dc7",
   "metadata": {},
   "source": [
    "#### 1. What is the result of the code, and why?\n",
    "def func(a, b=6, c=8): \n",
    "\n",
    "    print(a, b, c)\n",
    "    \n",
    "func(1, 2)"
   ]
  },
  {
   "cell_type": "markdown",
   "id": "f466326e",
   "metadata": {},
   "source": [
    "#### Ans:\n",
    "The result of the code is 1 2 8. This is because when the function is called, the value of a and b are given explicitly and the default value of c is taken as 8."
   ]
  },
  {
   "cell_type": "code",
   "execution_count": 1,
   "id": "b45952a2",
   "metadata": {},
   "outputs": [
    {
     "name": "stdout",
     "output_type": "stream",
     "text": [
      "1 2 8\n"
     ]
    }
   ],
   "source": [
    "def func(a, b=6, c=8): \n",
    "    print(a, b, c)\n",
    "func(1, 2)"
   ]
  },
  {
   "cell_type": "markdown",
   "id": "bd3a3378",
   "metadata": {},
   "source": [
    "#### 2. What is the result of this code, and why?\n",
    "def func(a, b, c=5):\n",
    "\n",
    "    print(a, b, c)\n",
    "    \n",
    "func(1, c=3, b=2)"
   ]
  },
  {
   "cell_type": "markdown",
   "id": "9d47997f",
   "metadata": {},
   "source": [
    "#### Ans:\n",
    "The result of the code is 1 2 3. This is because the value of positional argument a is given explicitly to be 1. Then the value of keyword arguments c and b is also explicitly given to be 3 and 2 respectively. While giving the keyword arguments, the order in which they are put does not create any problem."
   ]
  },
  {
   "cell_type": "code",
   "execution_count": 2,
   "id": "0b849bff",
   "metadata": {},
   "outputs": [
    {
     "name": "stdout",
     "output_type": "stream",
     "text": [
      "1 2 3\n"
     ]
    }
   ],
   "source": [
    "def func(a, b, c=5):\n",
    "    print(a, b, c)\n",
    "func(1, c=3, b=2)"
   ]
  },
  {
   "cell_type": "markdown",
   "id": "16ba210b",
   "metadata": {},
   "source": [
    "#### 3. How about this code: what is its result, and why?\n",
    "def func(a, *pargs): \n",
    "\n",
    "    print(a, pargs)\n",
    "    \n",
    "func(1, 2, 3)"
   ]
  },
  {
   "cell_type": "markdown",
   "id": "f1afc338",
   "metadata": {},
   "source": [
    "#### Ans:\n",
    "The result of the code is 1 (2,3). This is because the value of positional argument 1 is explicitly given to be 1. Then the parameter *pargs is used when the number of positional arguments is not fixed and the values in *pargs is stored in the form of a tuple."
   ]
  },
  {
   "cell_type": "code",
   "execution_count": 3,
   "id": "23bd7186",
   "metadata": {},
   "outputs": [
    {
     "name": "stdout",
     "output_type": "stream",
     "text": [
      "1 (2, 3)\n"
     ]
    }
   ],
   "source": [
    "def func(a, *pargs): \n",
    "    print(a, pargs)\n",
    "func(1, 2, 3)"
   ]
  },
  {
   "cell_type": "markdown",
   "id": "145a4c1e",
   "metadata": {},
   "source": [
    "#### 4. What does this code print, and why?\n",
    "def func(a, **kargs): \n",
    "\n",
    "    print(a, kargs)\n",
    "    \n",
    "func(a=1, c=3, b=2)"
   ]
  },
  {
   "cell_type": "markdown",
   "id": "65b2acf7",
   "metadata": {},
   "source": [
    "#### Ans:\n",
    "The result of the code is 1 {'c': 3, 'b': 2}. This is because the value of positional argument a is explicitly given to be 1. Then the parameter \\*\\*kargs is used when the number of keyword arguments is not fixed and the values in \\*\\*kargs is stored in the form of a dictionary."
   ]
  },
  {
   "cell_type": "code",
   "execution_count": 4,
   "id": "f06a8279",
   "metadata": {},
   "outputs": [
    {
     "name": "stdout",
     "output_type": "stream",
     "text": [
      "1 {'c': 3, 'b': 2}\n"
     ]
    }
   ],
   "source": [
    "def func(a, **kargs): \n",
    "    print(a, kargs)\n",
    "func(a=1, c=3, b=2)"
   ]
  },
  {
   "cell_type": "markdown",
   "id": "d611c56c",
   "metadata": {},
   "source": [
    "#### 5. What gets printed by this, and explain?\n",
    "def func(a, b, c=8, d=5):\n",
    "\n",
    "    print(a, b, c, d)\n",
    "    \n",
    "func(1, *(5, 6))"
   ]
  },
  {
   "cell_type": "markdown",
   "id": "798f0d9a",
   "metadata": {},
   "source": [
    "#### Ans:\n",
    "The result of the code is 1 5 6 5. This is because the value of positional argument a is explicitly given to be 1. Then *(5,6) is unpacked and the values 5 and 6 are given to parameters b and c respectively. And the value of d is by default taken to be 5. "
   ]
  },
  {
   "cell_type": "code",
   "execution_count": 5,
   "id": "2a67c5ad",
   "metadata": {},
   "outputs": [
    {
     "name": "stdout",
     "output_type": "stream",
     "text": [
      "1 5 6 5\n"
     ]
    }
   ],
   "source": [
    "def func(a, b, c=8, d=5):\n",
    "    print(a, b, c, d)\n",
    "func(1, *(5, 6))"
   ]
  },
  {
   "cell_type": "markdown",
   "id": "213f5cb0",
   "metadata": {},
   "source": [
    "#### 6. what is the result of this, and explain?\n",
    "def func(a, b, c): a = 2; b[0] = 'x'; c['a'] = 'y'\n",
    "\n",
    "l=1; m=[1]; n={'a':0}\n",
    "\n",
    "func(l, m, n)\n",
    "\n",
    "l, m, n"
   ]
  },
  {
   "cell_type": "markdown",
   "id": "a177bab8",
   "metadata": {},
   "source": [
    "#### Ans:\n",
    "The result of the code is (1, ['x'], {'a': 'y'}). In python, along with indentation we have the option of writing functions in a single line where at the end of each line, we are required to put a semicolon. Now, the values of variables l, m and n are initialized to be int, list and a dictionary. Now when the function is called, the parameter b refers to the list m and the parameter c refers to the dictionary n. Now inside the function the list m and dictionary n are updated to be ['x'] and {'a': 'y'} respectively but the value of l remains same outside the function. And when the values of l, m and n are called separated by  comma, it is printed in the frm of a tuple."
   ]
  },
  {
   "cell_type": "code",
   "execution_count": 6,
   "id": "50e5b96a",
   "metadata": {},
   "outputs": [
    {
     "data": {
      "text/plain": [
       "(1, ['x'], {'a': 'y'})"
      ]
     },
     "execution_count": 6,
     "metadata": {},
     "output_type": "execute_result"
    }
   ],
   "source": [
    "def func(a, b, c): a = 2; b[0] = 'x'; c['a'] = 'y'\n",
    "l=1; m=[1]; n={'a':0}\n",
    "func(l, m, n)\n",
    "l, m, n"
   ]
  },
  {
   "cell_type": "code",
   "execution_count": null,
   "id": "52770aeb",
   "metadata": {},
   "outputs": [],
   "source": []
  }
 ],
 "metadata": {
  "kernelspec": {
   "display_name": "Python 3 (ipykernel)",
   "language": "python",
   "name": "python3"
  },
  "language_info": {
   "codemirror_mode": {
    "name": "ipython",
    "version": 3
   },
   "file_extension": ".py",
   "mimetype": "text/x-python",
   "name": "python",
   "nbconvert_exporter": "python",
   "pygments_lexer": "ipython3",
   "version": "3.9.7"
  }
 },
 "nbformat": 4,
 "nbformat_minor": 5
}
