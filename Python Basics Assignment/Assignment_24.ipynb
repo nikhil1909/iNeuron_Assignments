{
 "cells": [
  {
   "cell_type": "markdown",
   "id": "f99f2778",
   "metadata": {},
   "source": [
    "#### 1. What is the relationship between def statements and lambda expressions ?"
   ]
  },
  {
   "cell_type": "markdown",
   "id": "b7bc85de",
   "metadata": {},
   "source": [
    "#### Ans:\n",
    "Both the def statements and lambda expressions are used to create functions. lambda expressions create Anonymous function which can be assigned to a variable, and whenwever we want to call that function, we can use that variable name. The lambda expression body is similar to the return statement of a def body."
   ]
  },
  {
   "cell_type": "markdown",
   "id": "bc6111c8",
   "metadata": {},
   "source": [
    "#### 2. What is the benefit of lambda?"
   ]
  },
  {
   "cell_type": "markdown",
   "id": "e979acfa",
   "metadata": {},
   "source": [
    "#### Ans:\n",
    "lambda expressions create Anonymous functions, so they are useful when we are required to use those kinds of function just once.\n",
    "\n",
    "Small functions can be created in a single line.\n",
    "\n",
    "lamda expression can be assigned to a variable, and we can use that variable to call the function whenever we want."
   ]
  },
  {
   "cell_type": "markdown",
   "id": "1666e45f",
   "metadata": {},
   "source": [
    "#### 3. Compare and contrast map, filter, and reduce."
   ]
  },
  {
   "cell_type": "markdown",
   "id": "c5ae9bbf",
   "metadata": {},
   "source": [
    "#### Ans:\n",
    "map(): map() function is used when we want to apply a function to each element of a list. It takes a function as the first argument and an iterable as the second argument. Then it applies that function to each element of the argument and returns the object which can be converted to new updated list using list function.\n",
    "\n",
    "filter(): filter() function takes a function as the first argument and an iterable as the second argument, and returns only those elements from the list which return the value true on passing to the function. The return object can be converted to new updated list using list function.\n",
    "\n",
    "reduce(): reduce() function takes a function as the first argument and an iterable as the second argument, and returns a single value after applying after applying the function to the elements of the list."
   ]
  },
  {
   "cell_type": "code",
   "execution_count": 1,
   "id": "1cfaf78d",
   "metadata": {},
   "outputs": [
    {
     "name": "stdout",
     "output_type": "stream",
     "text": [
      "On using map() function: [1, 4, 9, 16, 25, 36, 49, 64]\n",
      "On using filter() function: [2, 4, 6, 8]\n",
      "On using reduce() function: 36\n"
     ]
    }
   ],
   "source": [
    "from functools import reduce\n",
    "l = [1,2,3,4,5,6,7,8]\n",
    "print(\"On using map() function:\", list(map(lambda x:x**2, l)))\n",
    "print(\"On using filter() function:\", list(filter(lambda x:x%2==0, l)))\n",
    "print(\"On using reduce() function:\", reduce(lambda x,y:x+y, l))"
   ]
  },
  {
   "cell_type": "markdown",
   "id": "3d341d9e",
   "metadata": {},
   "source": [
    "#### 4. What are function annotations, and how are they used?"
   ]
  },
  {
   "cell_type": "markdown",
   "id": "e4c0a5cd",
   "metadata": {},
   "source": [
    "#### Ans:\n",
    "Function annotations are python expressions that are associated with various part of functions. They are used to denote the type of parameters or the return type of the function. They are used by writing a colon and the datatype after every parameter."
   ]
  },
  {
   "cell_type": "code",
   "execution_count": 2,
   "id": "51e62862",
   "metadata": {},
   "outputs": [
    {
     "data": {
      "text/plain": [
       "5"
      ]
     },
     "execution_count": 2,
     "metadata": {},
     "output_type": "execute_result"
    }
   ],
   "source": [
    "# Example of an annotated function\n",
    "def square_sum(x:int, y:int)->int:\n",
    "    return x**2+y**2\n",
    "square_sum(1,2)"
   ]
  },
  {
   "cell_type": "markdown",
   "id": "d42e2cca",
   "metadata": {},
   "source": [
    "#### 5. What are recursive functions, and how are they used?"
   ]
  },
  {
   "cell_type": "markdown",
   "id": "9b7bab7f",
   "metadata": {},
   "source": [
    "#### Ans:\n",
    "The function that call itself during its execution is called a recursive function. Codes written using recursion are shorter and more elegant in general. Recursive function consist of recursive part and base part. Base part is used to tell that when the recursive process should end. "
   ]
  },
  {
   "cell_type": "code",
   "execution_count": 3,
   "id": "14ccd87d",
   "metadata": {},
   "outputs": [
    {
     "data": {
      "text/plain": [
       "120"
      ]
     },
     "execution_count": 3,
     "metadata": {},
     "output_type": "execute_result"
    }
   ],
   "source": [
    "# Using recursive function to get factorial of a number\n",
    "def factorial(n):\n",
    "    if n==0 or n==1:\n",
    "        return 1\n",
    "    else:\n",
    "        return n*factorial(n-1)\n",
    "factorial(5)"
   ]
  },
  {
   "cell_type": "markdown",
   "id": "3b792a71",
   "metadata": {},
   "source": [
    "#### 6. What are some general design guidelines for coding functions?"
   ]
  },
  {
   "cell_type": "markdown",
   "id": "963da801",
   "metadata": {},
   "source": [
    "#### Ans:\n",
    "Use proper indentation for code readability.\n",
    "\n",
    "Use proper name that tells about the functionality of the function.\n",
    "\n",
    "Use docstring to tell what the function will execute and return.\n",
    "\n",
    "Use proper naming conventions.\n",
    "\n",
    "Use camelCase format for local variables and Pascalcase format for global variables. \n",
    "\n",
    "Use uppercase letters for constants."
   ]
  },
  {
   "cell_type": "markdown",
   "id": "e1c81cdd",
   "metadata": {},
   "source": [
    "#### 7. Name three or more ways that functions can communicate results to a caller."
   ]
  },
  {
   "cell_type": "markdown",
   "id": "eb79f641",
   "metadata": {},
   "source": [
    "#### Ans:\n",
    "Three ways that functions can communicate results to a caller are:\n",
    "1. using return keyword.\n",
    "2. using yield keyword.\n",
    "3. using print function."
   ]
  },
  {
   "cell_type": "code",
   "execution_count": null,
   "id": "6604c712",
   "metadata": {},
   "outputs": [],
   "source": []
  }
 ],
 "metadata": {
  "kernelspec": {
   "display_name": "Python 3 (ipykernel)",
   "language": "python",
   "name": "python3"
  },
  "language_info": {
   "codemirror_mode": {
    "name": "ipython",
    "version": 3
   },
   "file_extension": ".py",
   "mimetype": "text/x-python",
   "name": "python",
   "nbconvert_exporter": "python",
   "pygments_lexer": "ipython3",
   "version": "3.9.7"
  }
 },
 "nbformat": 4,
 "nbformat_minor": 5
}
