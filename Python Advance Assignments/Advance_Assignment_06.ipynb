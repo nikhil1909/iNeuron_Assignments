{
 "cells": [
  {
   "cell_type": "markdown",
   "id": "f714f6b4",
   "metadata": {},
   "source": [
    "#### Q1. Describe three applications for exception processing."
   ]
  },
  {
   "cell_type": "markdown",
   "id": "cc98b9f4",
   "metadata": {},
   "source": [
    "#### Ans:\n",
    "Three applications for exception processing are:\n",
    "\n",
    "1. Exception processing doesn't let the program terminate abruptly.\n",
    "\n",
    "2. Exception processing is used to tell the program what to do in case an exception is encountered.\n",
    "\n",
    "3. Using exception processing, we can raise customized exceptions according to our requirement."
   ]
  },
  {
   "cell_type": "markdown",
   "id": "ecf5a718",
   "metadata": {},
   "source": [
    "#### Q2. What happens if you don&#39;t do something extra to treat an exception?"
   ]
  },
  {
   "cell_type": "markdown",
   "id": "8365f695",
   "metadata": {},
   "source": [
    "#### Ans:\n",
    "If nothing is done to treat an exception, the flow of the program will be broken and the program will crash or stop abruptly."
   ]
  },
  {
   "cell_type": "markdown",
   "id": "83022efc",
   "metadata": {},
   "source": [
    "#### Q3. What are your options for recovering from an exception in your script?"
   ]
  },
  {
   "cell_type": "markdown",
   "id": "bf2ace98",
   "metadata": {},
   "source": [
    "#### Ans:\n",
    "Python provides the keywords try and exception to recover from an exception. In the try block we write the code that may have a potential exception, and in except block we write the code to tell python what to do when an exception occurs in the try block."
   ]
  },
  {
   "cell_type": "markdown",
   "id": "1b58ce8a",
   "metadata": {},
   "source": [
    "#### Q4. Describe two methods for triggering exceptions in your script."
   ]
  },
  {
   "cell_type": "markdown",
   "id": "9199fdab",
   "metadata": {},
   "source": [
    "#### Ans:\n",
    "raise and assert statements are two manual methods for triggering customized exceptions in your script."
   ]
  },
  {
   "cell_type": "markdown",
   "id": "9d41a415",
   "metadata": {},
   "source": [
    "#### Q5. Identify two methods for specifying actions to be executed at termination time, regardless of whether or not an exception exists."
   ]
  },
  {
   "cell_type": "markdown",
   "id": "274efd0f",
   "metadata": {},
   "source": [
    "#### Ans:\n",
    "finally and else are the two methods for specifying actions to be executed at termination time, regardless of whether or not an exception exists. "
   ]
  },
  {
   "cell_type": "code",
   "execution_count": null,
   "id": "d4ed7905",
   "metadata": {},
   "outputs": [],
   "source": []
  }
 ],
 "metadata": {
  "kernelspec": {
   "display_name": "Python 3 (ipykernel)",
   "language": "python",
   "name": "python3"
  },
  "language_info": {
   "codemirror_mode": {
    "name": "ipython",
    "version": 3
   },
   "file_extension": ".py",
   "mimetype": "text/x-python",
   "name": "python",
   "nbconvert_exporter": "python",
   "pygments_lexer": "ipython3",
   "version": "3.9.7"
  }
 },
 "nbformat": 4,
 "nbformat_minor": 5
}
