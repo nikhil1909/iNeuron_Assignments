{
 "cells": [
  {
   "cell_type": "markdown",
   "id": "452d5cd4",
   "metadata": {},
   "source": [
    "#### 1.What are the two values of the Boolean data type? How do you write them?"
   ]
  },
  {
   "cell_type": "markdown",
   "id": "bd3c26b7",
   "metadata": {},
   "source": [
    "#### Ans:\n",
    "The two values of the boolean data type are True and False. They are written with the first letter as uppercase and rest of the letters as lowercase."
   ]
  },
  {
   "cell_type": "code",
   "execution_count": 1,
   "id": "01a8e082",
   "metadata": {},
   "outputs": [
    {
     "name": "stdout",
     "output_type": "stream",
     "text": [
      "True\n",
      "False\n"
     ]
    }
   ],
   "source": [
    "print(True)\n",
    "print(False)"
   ]
  },
  {
   "cell_type": "markdown",
   "id": "13a4c4d2",
   "metadata": {},
   "source": [
    "#### 2. What are the three different types of Boolean operators?"
   ]
  },
  {
   "cell_type": "markdown",
   "id": "3f44534b",
   "metadata": {},
   "source": [
    "#### Ans:\n",
    "The three different types of Boolean operators are:\n",
    "1. and\n",
    "2. or\n",
    "3. not"
   ]
  },
  {
   "cell_type": "code",
   "execution_count": 2,
   "id": "b9cdfec4",
   "metadata": {},
   "outputs": [
    {
     "name": "stdout",
     "output_type": "stream",
     "text": [
      "False\n",
      "True\n",
      "False\n"
     ]
    }
   ],
   "source": [
    "print(2>3 and 5==3+2) # and operator example\n",
    "print(2>3 or 5==3+2) # or operator example\n",
    "print(not(5==3+2)) # not operator example\n"
   ]
  },
  {
   "cell_type": "markdown",
   "id": "4db90816",
   "metadata": {},
   "source": [
    "#### 3. Make a list of each Boolean operator&#39;s truth tables (i.e. every possible combination of Boolean values for the operator and what it evaluate )."
   ]
  },
  {
   "cell_type": "markdown",
   "id": "0d40bf64",
   "metadata": {},
   "source": [
    "#### Ans:\n",
    "#### and operator truth table:\n",
    "True and True is True\n",
    "\n",
    "True and False is False\n",
    "\n",
    "False and True is False\n",
    "\n",
    "False and False is False\n",
    "\n",
    "#### or operator truth table:\n",
    "True and True is True\n",
    "\n",
    "True and False is True\n",
    "\n",
    "False and True is True\n",
    "\n",
    "False and False is False\n",
    "\n",
    "#### not operator truth table:\n",
    "not True is False\n",
    "\n",
    "not False is True"
   ]
  },
  {
   "cell_type": "markdown",
   "id": "e3ea785c",
   "metadata": {},
   "source": [
    "#### 4. What are the values of the following expressions?\n",
    "(5 &gt; 4) and (3 == 5)\n",
    "\n",
    "not (5 &gt; 4)\n",
    "\n",
    "(5 &gt; 4) or (3 == 5)\n",
    "\n",
    "not ((5 &gt; 4) or (3 == 5))\n",
    "\n",
    "(True and True) and (True == False)\n",
    "\n",
    "(not False) or (not True)"
   ]
  },
  {
   "cell_type": "markdown",
   "id": "cbe17902",
   "metadata": {},
   "source": [
    "#### Ans:\n",
    "The expression (5 > 4) and (3 == 5) evaluates to False\n",
    "\n",
    "The expression not (5 > 4) evaluates to False\n",
    "\n",
    "The expression (5 > 4) or (3 == 5) evaluates to True\n",
    "\n",
    "The expression not ((5 > 4) or (3 == 5)) evaluates to False\n",
    "\n",
    "The expression (True and True) and (True == False) evaluates to False\n",
    "\n",
    "The expression (not False) or (not True) evaluates to True"
   ]
  },
  {
   "cell_type": "code",
   "execution_count": 3,
   "id": "6d31ef55",
   "metadata": {},
   "outputs": [
    {
     "name": "stdout",
     "output_type": "stream",
     "text": [
      "False\n",
      "False\n",
      "True\n",
      "False\n",
      "False\n",
      "True\n"
     ]
    }
   ],
   "source": [
    "print((5 > 4) and (3 == 5))\n",
    "print(not (5 > 4))\n",
    "print((5 > 4) or (3 == 5))\n",
    "print(not ((5 > 4) or (3 == 5)))\n",
    "print((True and True) and (True == False))\n",
    "print((not False) or (not True))"
   ]
  },
  {
   "cell_type": "markdown",
   "id": "ea2044f0",
   "metadata": {},
   "source": [
    "#### 5. What are the six comparison operators?"
   ]
  },
  {
   "cell_type": "markdown",
   "id": "651553d4",
   "metadata": {},
   "source": [
    "#### Ans:\n",
    "The six comparison operators are:\n",
    "\n",
    "==, !=, >, >=, < and <="
   ]
  },
  {
   "cell_type": "code",
   "execution_count": 4,
   "id": "a628fe8f",
   "metadata": {},
   "outputs": [
    {
     "name": "stdout",
     "output_type": "stream",
     "text": [
      "True\n",
      "False\n",
      "False\n",
      "True\n",
      "True\n",
      "False\n"
     ]
    }
   ],
   "source": [
    "# Examples:\n",
    "print(5 == 2+3)\n",
    "print(4 != 2+2)\n",
    "print(5 > 7)\n",
    "print(6 >= 6)\n",
    "print(4 < 8)\n",
    "print(5 <= 4)"
   ]
  },
  {
   "cell_type": "markdown",
   "id": "7e7cf7e8",
   "metadata": {},
   "source": [
    "#### 6. How do you tell the difference between the equal to and assignment operators? Describe a condition and when you would use one."
   ]
  },
  {
   "cell_type": "markdown",
   "id": "47a560e3",
   "metadata": {},
   "source": [
    "#### Ans:\n",
    "When we want to use the equal to operator, we use == sign; and when want to use the assignment operator, we use = sign. \n",
    "\n",
    "If we want to assign some value, let's say 10, to a variable x, in this case we use the assignment operator. Now to check whether the value of variable x is 10 or not, we use the equal to operator."
   ]
  },
  {
   "cell_type": "code",
   "execution_count": 5,
   "id": "118c4c36",
   "metadata": {},
   "outputs": [
    {
     "name": "stdout",
     "output_type": "stream",
     "text": [
      "True\n"
     ]
    }
   ],
   "source": [
    "x = 5+5 # use of assignment operator to assign some value to variable x\n",
    "print(x==10) # use of equal to operator to confirm the value of variable x"
   ]
  },
  {
   "cell_type": "markdown",
   "id": "37af6e5c",
   "metadata": {},
   "source": [
    "#### 7. Identify the three blocks in this code:\n",
    "spam = 0\n",
    "\n",
    "if spam == 10:\n",
    "\n",
    "print(&#39;eggs&#39;)\n",
    "\n",
    "if spam &gt; 5:\n",
    "\n",
    "print(&#39;bacon&#39;)\n",
    "\n",
    "else:\n",
    "\n",
    "print(&#39;ham&#39;)\n",
    "\n",
    "print(&#39;spam&#39;)\n",
    "\n",
    "print(&#39;spam&#39;)"
   ]
  },
  {
   "cell_type": "markdown",
   "id": "0f43615b",
   "metadata": {},
   "source": [
    "#### Ans:\n",
    "A block is a piece of code that is executed as a unit. In Python, a block is represented using indentation."
   ]
  },
  {
   "cell_type": "code",
   "execution_count": 6,
   "id": "7146c6c8",
   "metadata": {},
   "outputs": [
    {
     "name": "stdout",
     "output_type": "stream",
     "text": [
      "ham\n",
      "spam\n",
      "spam\n"
     ]
    }
   ],
   "source": [
    "spam = 0\n",
    "if spam == 10:\n",
    "    print('eggs') # This is block 1\n",
    "if spam > 5:\n",
    "    print('bacon') # This is block 2\n",
    "else:\n",
    "    print('ham') # This is block 3\n",
    "print('spam')\n",
    "print('spam')"
   ]
  },
  {
   "cell_type": "markdown",
   "id": "b5d12b5f",
   "metadata": {},
   "source": [
    "#### 8. Write code that prints Hello if 1 is stored in spam, prints Howdy if 2 is stored in spam, and prints Greetings! if anything else is stored in spam."
   ]
  },
  {
   "cell_type": "markdown",
   "id": "38b55f3c",
   "metadata": {},
   "source": [
    "#### Ans:"
   ]
  },
  {
   "cell_type": "code",
   "execution_count": null,
   "id": "0cc83b46",
   "metadata": {},
   "outputs": [],
   "source": [
    "spam = int(input(\"Enter the value of spam:\"))\n",
    "if spam==1:\n",
    "    print(\"Hello\")\n",
    "elif spam==2:\n",
    "    print(\"Howdy\")\n",
    "else:\n",
    "    print(\"Greetings!\")"
   ]
  },
  {
   "cell_type": "markdown",
   "id": "61e52e41",
   "metadata": {},
   "source": [
    "#### 9.If your programme is stuck in an endless loop, what keys you’ll press?"
   ]
  },
  {
   "cell_type": "markdown",
   "id": "67b459e0",
   "metadata": {},
   "source": [
    "#### Ans:\n",
    "To stop an endless loop, we can press Ctrl+C"
   ]
  },
  {
   "cell_type": "markdown",
   "id": "aad80ac4",
   "metadata": {},
   "source": [
    "#### 10. How can you tell the difference between break and continue?"
   ]
  },
  {
   "cell_type": "markdown",
   "id": "2a81e66e",
   "metadata": {},
   "source": [
    "#### Ans:\n",
    "When the control encounters a break keyword, it moves the execution outside of that loop.\n",
    "\n",
    "When the control encounters a continue keyword, it moves the execution to the start of the next loop."
   ]
  },
  {
   "cell_type": "code",
   "execution_count": null,
   "id": "0930d6c8",
   "metadata": {},
   "outputs": [],
   "source": [
    "print(\"Example of break keyword:\")\n",
    "for i in range(5):\n",
    "    if i==3:\n",
    "        break\n",
    "    print(i)\n",
    "    \n",
    "print(\"\\n\")\n",
    "\n",
    "print(\"Example of continue keyword:\")\n",
    "for i in range(5):\n",
    "    if i==3:\n",
    "        continue\n",
    "    print(i)"
   ]
  },
  {
   "cell_type": "markdown",
   "id": "7beadf86",
   "metadata": {},
   "source": [
    "#### 11. In a for loop, what is the difference between range(10), range(0, 10), and range(0, 10, 1)?"
   ]
  },
  {
   "cell_type": "markdown",
   "id": "79c54cf9",
   "metadata": {},
   "source": [
    "In the function range(10), the argument 10 is representing the ending point of the loop.\n",
    "In the function range(0, 10), we are explicitly putting the first argument as 0 which is the starting point and the argument 10 is representing the ending point of the loop.\n",
    "In the function range(0, 10, 1), the last argument 1 is representing the number of units by which the variable will be increased.\n",
    ">Note: All the 3 functions will generate same set of numbers."
   ]
  },
  {
   "cell_type": "markdown",
   "id": "a5f4677c",
   "metadata": {},
   "source": [
    "#### 12. Write a short program that prints the numbers 1 to 10 using a for loop. Then write an equivalent program that prints the numbers 1 to 10 using a while loop."
   ]
  },
  {
   "cell_type": "code",
   "execution_count": null,
   "id": "d054fb12",
   "metadata": {},
   "outputs": [],
   "source": [
    "print(\"Using for loop:\")\n",
    "for i in range(1,11):\n",
    "    print(i,end=\" \")"
   ]
  },
  {
   "cell_type": "code",
   "execution_count": null,
   "id": "f3a1ade1",
   "metadata": {},
   "outputs": [],
   "source": [
    "print(\"Using while loop:\")    \n",
    "i = 1\n",
    "while i<11:\n",
    "    print(i,end=\" \")\n",
    "    i+=1"
   ]
  },
  {
   "cell_type": "markdown",
   "id": "adb36fe7",
   "metadata": {},
   "source": [
    "#### 13. If you had a function named bacon() inside a module named spam, how would you call it after importing spam?"
   ]
  },
  {
   "cell_type": "markdown",
   "id": "47501bf7",
   "metadata": {},
   "source": [
    "#### Ans:\n",
    "After importing spam, we would call it by first writing the module name(spam), then putting a dot(.) and then the name of the function(bacon()).\n",
    "> import spam \n",
    "\n",
    "> spam.bacon()"
   ]
  },
  {
   "cell_type": "code",
   "execution_count": null,
   "id": "7b688be9",
   "metadata": {},
   "outputs": [],
   "source": []
  }
 ],
 "metadata": {
  "kernelspec": {
   "display_name": "Python 3 (ipykernel)",
   "language": "python",
   "name": "python3"
  },
  "language_info": {
   "codemirror_mode": {
    "name": "ipython",
    "version": 3
   },
   "file_extension": ".py",
   "mimetype": "text/x-python",
   "name": "python",
   "nbconvert_exporter": "python",
   "pygments_lexer": "ipython3",
   "version": "3.9.7"
  }
 },
 "nbformat": 4,
 "nbformat_minor": 5
}
