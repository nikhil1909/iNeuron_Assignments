{
 "cells": [
  {
   "cell_type": "markdown",
   "id": "190cf213",
   "metadata": {},
   "source": [
    "#### Question1\n",
    "Create a function that takes a list of strings and integers, and filters out the list so that it returns a list of integers only.\n",
    "\n",
    "Examples\n",
    "\n",
    "filter_list([1, 2, 3, &quot;a&quot;, &quot;b&quot;, 4]) ➞ [1, 2, 3, 4]\n",
    "\n",
    "filter_list([&quot;A&quot;, 0, &quot;Edabit&quot;, 1729, &quot;Python&quot;, &quot;1729&quot;]) ➞ [0, 1729]\n",
    "\n",
    "filter_list([&quot;Nothing&quot;, &quot;here&quot;]) ➞ []"
   ]
  },
  {
   "cell_type": "code",
   "execution_count": 1,
   "id": "09c9b944",
   "metadata": {},
   "outputs": [
    {
     "name": "stdout",
     "output_type": "stream",
     "text": [
      "[1, 2, 3, 4]\n"
     ]
    }
   ],
   "source": [
    "def filter_list(ls1):\n",
    "    ls2 = []\n",
    "    for ele in ls1:\n",
    "        if type(ele)==int:\n",
    "            ls2.append(ele)\n",
    "    return ls2\n",
    "\n",
    "ls1 = [1, 2, 3, \"a\", \"b\", 4]\n",
    "print(filter_list(ls1))"
   ]
  },
  {
   "cell_type": "markdown",
   "id": "637d9605",
   "metadata": {},
   "source": [
    "#### Question2\n",
    "Given a list of numbers, create a function which returns the list but with each element&#39;s index in the list added to itself. This means you add 0 to the number at index 0, add 1 to the number at index 1, etc...\n",
    "\n",
    "Examples\n",
    "\n",
    "add_indexes([0, 0, 0, 0, 0]) ➞ [0, 1, 2, 3, 4]\n",
    "\n",
    "add_indexes([1, 2, 3, 4, 5]) ➞ [1, 3, 5, 7, 9]\n",
    "\n",
    "add_indexes([5, 4, 3, 2, 1]) ➞ [5, 5, 5, 5, 5]"
   ]
  },
  {
   "cell_type": "code",
   "execution_count": 2,
   "id": "5ab565db",
   "metadata": {},
   "outputs": [
    {
     "name": "stdout",
     "output_type": "stream",
     "text": [
      "[1, 3, 5, 7, 9]\n"
     ]
    }
   ],
   "source": [
    "def add_indexes(ls):\n",
    "    for i in range(len(ls)):\n",
    "        ls[i]+=i\n",
    "    return ls\n",
    "\n",
    "ls = [1,2,3,4,5]\n",
    "print(add_indexes(ls))"
   ]
  },
  {
   "cell_type": "markdown",
   "id": "a9c59297",
   "metadata": {},
   "source": [
    "#### Question3\n",
    "Create a function that takes the height and radius of a cone as arguments and returns the volume of the cone rounded to the nearest hundredth. See the resources tab for the formula.\n",
    "\n",
    "Examples\n",
    "\n",
    "cone_volume(3, 2) ➞ 12.57\n",
    "\n",
    "cone_volume(15, 6) ➞ 565.49\n",
    "\n",
    "cone_volume(18, 0) ➞ 0"
   ]
  },
  {
   "cell_type": "code",
   "execution_count": 3,
   "id": "e7018c6a",
   "metadata": {},
   "outputs": [
    {
     "name": "stdout",
     "output_type": "stream",
     "text": [
      "Enter height:15\n",
      "Enter radius:6\n"
     ]
    },
    {
     "data": {
      "text/plain": [
       "565.49"
      ]
     },
     "execution_count": 3,
     "metadata": {},
     "output_type": "execute_result"
    }
   ],
   "source": [
    "from math import pi\n",
    "def cone_volume(h, r):\n",
    "    return round(pi*r**2*h/3, 2)\n",
    "\n",
    "h = int(input(\"Enter height:\"))\n",
    "r = int(input(\"Enter radius:\"))\n",
    "cone_volume(h, r)"
   ]
  },
  {
   "cell_type": "markdown",
   "id": "8b88279b",
   "metadata": {},
   "source": [
    "#### Question4\n",
    "This Triangular Number Sequence is generated from a pattern of dots that form a triangle.\n",
    "\n",
    "The first 5 numbers of the sequence, or dots, are:\n",
    "\n",
    "1, 3, 6, 10, 15\n",
    "\n",
    "This means that the first triangle has just one dot, the second one has three dots, the third one has 6 dots and so on.\n",
    "\n",
    "Write a function that gives the number of dots with its corresponding triangle number of the sequence."
   ]
  },
  {
   "cell_type": "code",
   "execution_count": 4,
   "id": "bea6f5c0",
   "metadata": {},
   "outputs": [
    {
     "name": "stdout",
     "output_type": "stream",
     "text": [
      "Enter the term of triangle sequence number:4\n",
      "10\n"
     ]
    }
   ],
   "source": [
    "def triangular_dots(n):\n",
    "    return n*(n+1)//2\n",
    "\n",
    "n = int(input(\"Enter the term of triangle sequence number:\"))\n",
    "print(triangular_dots(n))"
   ]
  },
  {
   "cell_type": "markdown",
   "id": "18ad5b35",
   "metadata": {},
   "source": [
    "#### Question5\n",
    "Create a function that takes a list of numbers between 1 and 10 (excluding one number) and returns the missing number.\n",
    "\n",
    "Examples\n",
    "\n",
    "missing_num([1, 2, 3, 4, 6, 7, 8, 9, 10]) ➞ 5\n",
    "\n",
    "missing_num([7, 2, 3, 6, 5, 9, 1, 4, 8]) ➞ 10\n",
    "\n",
    "missing_num([10, 5, 1, 2, 4, 6, 8, 3, 9]) ➞ 7"
   ]
  },
  {
   "cell_type": "code",
   "execution_count": 5,
   "id": "223a1e4a",
   "metadata": {},
   "outputs": [
    {
     "name": "stdout",
     "output_type": "stream",
     "text": [
      "Enter list:[10, 5, 1, 2, 4, 6, 8, 3, 9]\n",
      "7\n"
     ]
    }
   ],
   "source": [
    "def missing_num(l):\n",
    "    return 55-sum(l)\n",
    "\n",
    "l = eval(input(\"Enter list:\"))\n",
    "print(missing_num(l))"
   ]
  },
  {
   "cell_type": "code",
   "execution_count": null,
   "id": "d0788fcc",
   "metadata": {},
   "outputs": [],
   "source": []
  }
 ],
 "metadata": {
  "kernelspec": {
   "display_name": "Python 3 (ipykernel)",
   "language": "python",
   "name": "python3"
  },
  "language_info": {
   "codemirror_mode": {
    "name": "ipython",
    "version": 3
   },
   "file_extension": ".py",
   "mimetype": "text/x-python",
   "name": "python",
   "nbconvert_exporter": "python",
   "pygments_lexer": "ipython3",
   "version": "3.9.7"
  }
 },
 "nbformat": 4,
 "nbformat_minor": 5
}
