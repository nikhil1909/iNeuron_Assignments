{
 "cells": [
  {
   "cell_type": "markdown",
   "id": "e6d11a70",
   "metadata": {},
   "source": [
    "#### 1.Explain the term machine learning, and how does it work? Explain two machine learning applications in the business world. What are some of the ethical concerns that machine learning applications could raise?"
   ]
  },
  {
   "cell_type": "markdown",
   "id": "84fcc019",
   "metadata": {},
   "source": [
    "#### Ans:\n",
    "Machine Learning is a field of study that gives the machines/computers the capability to learn without being explicitly programmed. It works by feeding the data to machines to build machine learning models using the data and different algorithm.\n",
    "\n",
    "Machine learning applications in business world are:\n",
    "1. Real-time chatbot agents.\n",
    "2. Recommendation engines.\n",
    "3. Customer segmentation.\n",
    "4. Customer churn.\n",
    "5. Dynmic pricing.\n",
    "6. Fraud detection.\n",
    "\n",
    "Ethical concerns raised due to machine learning applications:\n",
    "1. Biasness of the machines.\n",
    "2. Unemployment generated due to automation.\n",
    "3. Elimination of human judgement.\n",
    "4. Artificial stupidity or mistakes made by machines."
   ]
  },
  {
   "cell_type": "markdown",
   "id": "e98ae868",
   "metadata": {},
   "source": [
    "#### 2. Describe the process of human learning:\n",
    "#### i. Under the supervision of experts\n",
    "#### ii. With the assistance of experts in an indirect manner\n",
    "#### iii. Self-education"
   ]
  },
  {
   "cell_type": "markdown",
   "id": "a5dbdef9",
   "metadata": {},
   "source": [
    "#### Ans:\n",
    "Under the supervision of experts: Human-guided machine learning is a process whereby subject matter experts accelerate the learning process by teaching the technology in real-time. For example, if the machine learning model comes across a piece of data it is uncertain about, a human can be asked to weigh in and give feedback. The model then learns from this input, and uses it to make a more accurate prediction the next time. Human-guided machine learning works from the bottom up by first using algorithms to conduct the heavy lifting of identifying relationships within the data, and engaging humans when necessary for training or validation Concept Learning.\n",
    "\n",
    "With the assistance of experts in an indirect manner: Well The process of an algorithm learning from the training dataset can be thought of as a teacher supervising the learning process. We know the correct answers, the algorithm iteratively makes predictions on the training data and is corrected by the teacher. Learning stops when the algorithm achieves an acceptable level of performance Operant Conditioning.\n",
    "\n",
    "Self education: Ability to recognize patterns, learn from data, and become more intelligent over time (can be AI or programmatically based).Machine Learning: AI systems with ability to automatically learn and improve from experience without being explicitly programmed via training Hebbian Learning."
   ]
  },
  {
   "cell_type": "markdown",
   "id": "0e57555b",
   "metadata": {},
   "source": [
    "#### 3. Provide a few examples of various types of machine learning."
   ]
  },
  {
   "cell_type": "markdown",
   "id": "76d9eb05",
   "metadata": {},
   "source": [
    "#### Ans\n",
    "1. Supervised learning: Predicting the sales based on ad expenses, predicting whether a person is covid positive or not.\n",
    "2. Unsupervised learning: Dividing the customers into different segments based on their behaviour, anomaly detection, recommender systems, social network analysis.\n",
    "3. Semi-supervised learning: Speech analysis, Text document classification, Internet content classification.\n",
    "4. Reinforcement learning: Robot learning to walk on unfamiliar terrain, self-driving cars, natural language processing, marketing and advertising."
   ]
  },
  {
   "cell_type": "markdown",
   "id": "72d062ae",
   "metadata": {},
   "source": [
    "#### 4. Examine the various forms of machine learning."
   ]
  },
  {
   "cell_type": "markdown",
   "id": "1fa7d510",
   "metadata": {},
   "source": [
    "#### Ans:\n",
    "Supervised learning: In machine learning, we have supervised learning techniques which use a supervisor or response variable to quantify that how well our model is performing and using that information to decide which model to choose.\n",
    "\n",
    "Unsupervised learning: In machine learning, we have unsupervised learning techniques which do not have a supervisor to decide how good the model is performing. In this we perform taks like clustering, dimensionality reduction, etc.\n",
    "\n",
    "Semi-supervised learning: This is a combination of both the supervised and unsupervised learning.\n",
    "\n",
    "Reinforcement learning: In machine learning, we have unsupervised learning techniques which do not have a supervisor to decide how good the model is performing. In this we perform taks like clustering, dimensionality reduction, etc."
   ]
  },
  {
   "cell_type": "markdown",
   "id": "318f2cd9",
   "metadata": {},
   "source": [
    "#### 5. Can you explain what a well-posed learning problem is? Explain the main characteristics that must be present to identify a learning problem properly."
   ]
  },
  {
   "cell_type": "markdown",
   "id": "049ed917",
   "metadata": {},
   "source": [
    "#### Ans:\n",
    "A computer program is said to learn from experience E in context to some task T and some performance measure P, if its performance on T, as was measured by P, upgrades with experience E.\n",
    "\n",
    "Any problem can be segregated as well-posed learning problem if it has three traits – Task, Performance and Experience."
   ]
  },
  {
   "cell_type": "markdown",
   "id": "a3be707f",
   "metadata": {},
   "source": [
    "#### 6. Is machine learning capable of solving all problems? Give a detailed explanation of your answer."
   ]
  },
  {
   "cell_type": "markdown",
   "id": "ac227115",
   "metadata": {},
   "source": [
    "#### Ans:\n",
    "No, machine learning can not solve all problems. It has some limitations such as:\n",
    "1. Reasoning power: Ml can tell whether a fruit is an apple or orange but it can not tell whether it is rot or good to eat or why is it an apple.\n",
    "2. Contextual limitation: NLP can understand languages but can not tell the context of the sentences.\n",
    "3. Scalability: With the enormous amounts of data, our ml model needs to be updated from time to time which requires human intervention."
   ]
  },
  {
   "cell_type": "markdown",
   "id": "502f9e07",
   "metadata": {},
   "source": [
    "#### 7. What are the various methods and technologies for solving machine learning problems? Any two of them should be defined in detail."
   ]
  },
  {
   "cell_type": "markdown",
   "id": "70404940",
   "metadata": {},
   "source": [
    "#### Ans:\n",
    "The Various Technologies Used in Machine Learning Problems are: Scikit Learn, Pytorch, Tensorflow, Keras, Python.\n",
    "\n",
    "Scikit Learn: Scikit-learn (Sklearn) is the most useful and robust library for machine learning in Python. It provides a selection of efficient tools for machine learning and statistical modeling including classification, Regression, clustering and dimensionality reduction via a consistence interface in Python.\n",
    "\n",
    "Tensorflow: It is a open source artificial intelligence library, Using data flow graphs to build models. It allows developers to create large-scale neural networks with many layers. TensorFlow is mainly used for: Classification, Perception, Understanding, Discovering, Prediction and Creation.\n",
    "\n",
    "The Various Methods used in Machine Learning Problems are: Regression, Classification, Clustering, Dimensionality Reductio, Ensemble Methods, Neural Network, Deep Learning, Transfer Learning, Reinforcement Learning, Natural Language Processing, Word Embeddings.\n",
    "\n",
    "Regression methods fall within the category of supervised ML. They help to predict or explain a particular numerical value based on a set of prior data, for example predicting the price of a property based on previous pricing data for similar properties.\n",
    "\n",
    "Another class of supervised ML, classification methods predict or explain a class value. For example, they can help predict whether or not an online customer will buy a product. The output can be yes or no, buyer or not buyer. But classification methods aren’t limited to two classes. For example, a classification method could help to assess whether a given image contains a car or a truck."
   ]
  },
  {
   "cell_type": "markdown",
   "id": "b404455f",
   "metadata": {},
   "source": [
    "#### 8. Can you explain the various forms of supervised learning? Explain each one with an example application."
   ]
  },
  {
   "cell_type": "markdown",
   "id": "33020658",
   "metadata": {},
   "source": [
    "#### Ans:\n",
    "The two forms of supervised learning are regression and classification.\n",
    "\n",
    "Regression: Regression is a supervised machine learning technique using which we make prediction for continuous values. It works by fitting a line or a curve to the data to make predictions. It chooses the curve in such a way to minimize the cost function. Regression is used to predict the price of cars or houses. Regression is also used to predict the sales based on the amount spent on advertisement.\n",
    "\n",
    "Classification: Classification is a supervised machine learning method in which we classify or put a label on some data point where the label is chosen from a set of discrete labels. For example, classifying whether an image is a dog image or cat image. "
   ]
  },
  {
   "cell_type": "markdown",
   "id": "e5d28900",
   "metadata": {},
   "source": [
    "#### 9. What is the difference between supervised and unsupervised learning? With a sample application in each region, explain the differences."
   ]
  },
  {
   "cell_type": "markdown",
   "id": "c1e9a126",
   "metadata": {},
   "source": [
    "#### Ans:\n",
    "The difference between supervised and unsupervised learning is that in supervised learning we have a response variable which is the supervisor using which we can quantify the performance of the model and choose the best model, whereas in unsupervised learning there is no supervising variable.\n",
    "\n",
    "Predicting the price of cars, labelling a fruit as apple or orange. In these examples, the price of cars and label of fruit are the response variables or supervisors of the performance. Hence, these are supervised learning.\n",
    "\n",
    "Market segmentation of the customers has no supervising variable hence it is an example of unsupervised learning."
   ]
  },
  {
   "cell_type": "markdown",
   "id": "96e329b6",
   "metadata": {},
   "source": [
    "#### 10. Describe the machine learning process in depth.\n",
    "\n",
    "#### a. Make brief notes on any two of the following:\n",
    "\n",
    "#### i. MATLAB is one of the most widely used programming languages.\n",
    "\n",
    "#### ii. Deep learning applications in healthcare\n",
    "\n",
    "#### iii. Study of the market basket\n",
    "\n",
    "#### iv. Linear regression (simple)"
   ]
  },
  {
   "cell_type": "markdown",
   "id": "083734ac",
   "metadata": {},
   "source": [
    "#### Ans:\n",
    "Imagine a dataset as a table, where the rows are each observation (aka measurement, data point, etc), and the columns for each observation represent the features of that observation and their values.At the outset of a machine learning project, a dataset is usually split into two or three subsets. The minimum subsets are the training and test datasets, and often an optional third validation dataset is created as well. Once these data subsets are created from the primary dataset, a predictive model or classifier is trained using the training data, and then the model’s predictive accuracy is determined using the test data. As, machine learning leverages algorithms to automatically model and find patternsin data, usually with the goal of predicting some target output or response. These algorithms are heavily based on statistics and mathematical optimization. Optimization is the process of finding the smallest or largest value (minima or maxima) of a function, often referred to as a loss, or cost function in the minimization case. One of the most popular optimization algorithms used in machine learning is called gradient descent, and another is known as the the normal equation. In a nutshell, machine learning is all about automatically learning a highly accurate predictive or classifier model, or finding unknown patterns in data, by leveraging learning algorithms and optimization techniques.\n",
    "\n",
    "Deep learning applications in healthcare: Deep learning provides the healthcare industry with the ability to analyze data at exceptional speeds without compromising on accuracy. It’s not machine learning, nor is it AI, it’s an elegant blend of both that uses a layered algorithmic architecture to sift through data at an astonishing rate. The benefits of deep learning in healthcare are plentiful – fast, efficient, accurate – but they don’t stop there. Even more benefits lie within the neural networks formed by multiple layers of AI and ML and their ability to learn. Yes, the secret to deep learning’s success is in the name – learning.\n",
    "\n",
    "Linear regression (simple): Linear Regression models describe the relationship between variables by fitting a line to the observed data. Linear regression models use a straight line, while logistic and nonlinear regression models use a curved line. Regression allows you to estimate how a dependent variable changes as the independent variable(s) change/"
   ]
  },
  {
   "cell_type": "markdown",
   "id": "f0cf8555",
   "metadata": {},
   "source": [
    "#### 11. Make a comparison between:-\n",
    "\n",
    "#### 1. Generalization and abstraction\n",
    "\n",
    "#### 2. Learning that is guided and unsupervised\n",
    "\n",
    "#### 3. Regression and classification"
   ]
  },
  {
   "cell_type": "markdown",
   "id": "dec39cb1",
   "metadata": {},
   "source": [
    "#### Ans:\n",
    "\n",
    "1. Generalization and abstraction: While abstraction reduces complexity by hiding irrelevant detail, generalization reduces complexity by replacing multiple entities which perform similar functions with a single construct. A book has tons of properties (number of pages, weight, font size(s), cover,...) but for the purpose of our library we may only need Book(title, ISBN, borrowed). We just abstracted from the real books in our library, and only took the properties that interested us in the context of our application. Generalization on the other hand does not try to remove detail but to make functionality applicable to a wider (more generic) range of items. \n",
    "\n",
    "\n",
    "2. Learning that is guided and unsupervised: Guided learning involves use of a response or supervisor variable to quantify the performance of the model and improve upon it. Unsupervised learning does not use any supervising variable to check performance instead it is simply used in making cluster or dimensionality reduction.\n",
    "\n",
    "\n",
    "3. Regression and classification: In regression, the response variable is continuous whereas in classification, the response variable is discrete. In regression, the respose variable must have a numerical value whereas in classification response variable may be numerical or non-numerical."
   ]
  },
  {
   "cell_type": "code",
   "execution_count": null,
   "id": "0bbfc963",
   "metadata": {},
   "outputs": [],
   "source": []
  }
 ],
 "metadata": {
  "kernelspec": {
   "display_name": "Python 3 (ipykernel)",
   "language": "python",
   "name": "python3"
  },
  "language_info": {
   "codemirror_mode": {
    "name": "ipython",
    "version": 3
   },
   "file_extension": ".py",
   "mimetype": "text/x-python",
   "name": "python",
   "nbconvert_exporter": "python",
   "pygments_lexer": "ipython3",
   "version": "3.9.13"
  }
 },
 "nbformat": 4,
 "nbformat_minor": 5
}
