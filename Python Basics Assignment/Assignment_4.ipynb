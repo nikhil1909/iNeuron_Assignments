{
 "cells": [
  {
   "cell_type": "markdown",
   "id": "afe1b8d8",
   "metadata": {},
   "source": [
    "#### 1. What exactly is [ ]?"
   ]
  },
  {
   "cell_type": "markdown",
   "id": "8ec32074",
   "metadata": {},
   "source": [
    "#### Ans:\n",
    "[ ] is an empty list i.e. a list with no elements."
   ]
  },
  {
   "cell_type": "markdown",
   "id": "af191ae0",
   "metadata": {},
   "source": [
    "#### 2. In a list of values stored in a variable called spam, how would you assign the value &#39;hello&#39; as the third value? (Assume [2, 4, 6, 8, 10] are in spam.)"
   ]
  },
  {
   "cell_type": "markdown",
   "id": "7de020b9",
   "metadata": {},
   "source": [
    "By using, spam[2]='hello'"
   ]
  },
  {
   "cell_type": "code",
   "execution_count": 1,
   "id": "f8a2ecfa",
   "metadata": {},
   "outputs": [
    {
     "name": "stdout",
     "output_type": "stream",
     "text": [
      "[2, 4, 6, 8, 10]\n",
      "[2, 4, 'hello', 8, 10]\n"
     ]
    }
   ],
   "source": [
    "spam =  [2, 4, 6, 8, 10]\n",
    "print(spam)\n",
    "spam[2] = 'hello'\n",
    "print(spam)"
   ]
  },
  {
   "cell_type": "markdown",
   "id": "15693985",
   "metadata": {},
   "source": [
    "#### Let&#39;s pretend the spam includes the list [&#39;a&#39;, &#39;b&#39;, &#39;c&#39;, &#39;d&#39;] for the next three queries."
   ]
  },
  {
   "cell_type": "code",
   "execution_count": 2,
   "id": "6a115d5f",
   "metadata": {},
   "outputs": [],
   "source": [
    "spam = ['a', 'b', 'c', 'd']"
   ]
  },
  {
   "cell_type": "markdown",
   "id": "cdc66e4f",
   "metadata": {},
   "source": [
    "#### 3. What is the value of spam[int(int(&#39;3&#39; * 2) / 11)]?"
   ]
  },
  {
   "cell_type": "markdown",
   "id": "64cad5f5",
   "metadata": {},
   "source": [
    "#### Ans:\n",
    "the value of int(int('3' * 2) / 11) is 3, and the value of spam[3] is 'd'."
   ]
  },
  {
   "cell_type": "code",
   "execution_count": 3,
   "id": "020535af",
   "metadata": {},
   "outputs": [
    {
     "data": {
      "text/plain": [
       "'d'"
      ]
     },
     "execution_count": 3,
     "metadata": {},
     "output_type": "execute_result"
    }
   ],
   "source": [
    "spam[int(int('3' * 2) / 11)]"
   ]
  },
  {
   "cell_type": "markdown",
   "id": "0df7b70c",
   "metadata": {},
   "source": [
    "#### 4. What is the value of spam[-1]?"
   ]
  },
  {
   "cell_type": "markdown",
   "id": "ea101fbc",
   "metadata": {},
   "source": [
    "#### Ans:\n",
    "-1 is the first index from the right so spam[-1] will give 'd'"
   ]
  },
  {
   "cell_type": "code",
   "execution_count": 4,
   "id": "acd8b6a6",
   "metadata": {},
   "outputs": [
    {
     "data": {
      "text/plain": [
       "'d'"
      ]
     },
     "execution_count": 4,
     "metadata": {},
     "output_type": "execute_result"
    }
   ],
   "source": [
    "spam[-1]"
   ]
  },
  {
   "cell_type": "markdown",
   "id": "d76cba45",
   "metadata": {},
   "source": [
    "#### 5. What is the value of spam[:2]?"
   ]
  },
  {
   "cell_type": "markdown",
   "id": "f204a591",
   "metadata": {},
   "source": [
    "#### Ans:\n",
    "The is no number before colon, so the list will start from index 0. The number after colon is 2, so the list will end at index 1. Hence, the value of spam[:2] is ['a','b']."
   ]
  },
  {
   "cell_type": "code",
   "execution_count": 5,
   "id": "44342444",
   "metadata": {},
   "outputs": [
    {
     "data": {
      "text/plain": [
       "['a', 'b']"
      ]
     },
     "execution_count": 5,
     "metadata": {},
     "output_type": "execute_result"
    }
   ],
   "source": [
    "spam[:2]"
   ]
  },
  {
   "cell_type": "markdown",
   "id": "7f834a28",
   "metadata": {},
   "source": [
    "#### Let&#39;s pretend bacon has the list [3.14, &#39;cat,&#39; 11, &#39;cat,&#39; True] for the next three questions."
   ]
  },
  {
   "cell_type": "code",
   "execution_count": 6,
   "id": "49541395",
   "metadata": {},
   "outputs": [],
   "source": [
    "bacon = [3.14, 'cat', 11, 'cat', True]"
   ]
  },
  {
   "cell_type": "markdown",
   "id": "0029d18a",
   "metadata": {},
   "source": [
    "#### 6. What is the value of bacon.index(&#39;cat&#39;)?"
   ]
  },
  {
   "cell_type": "markdown",
   "id": "381abfb8",
   "metadata": {},
   "source": [
    "#### Ans:\n",
    "The index of the first 'cat' element is 1, so bacon.index('cat') will give value 1"
   ]
  },
  {
   "cell_type": "code",
   "execution_count": 7,
   "id": "a9f8ab26",
   "metadata": {},
   "outputs": [
    {
     "data": {
      "text/plain": [
       "1"
      ]
     },
     "execution_count": 7,
     "metadata": {},
     "output_type": "execute_result"
    }
   ],
   "source": [
    "bacon.index('cat')"
   ]
  },
  {
   "cell_type": "markdown",
   "id": "4519d16d",
   "metadata": {},
   "source": [
    "#### 7. How does bacon.append(99) change the look of the list value in bacon?"
   ]
  },
  {
   "cell_type": "markdown",
   "id": "0cb4e156",
   "metadata": {},
   "source": [
    "#### Ans:\n",
    "It will add the element 99 at the end of the list bacon"
   ]
  },
  {
   "cell_type": "code",
   "execution_count": 8,
   "id": "b96d3816",
   "metadata": {},
   "outputs": [
    {
     "name": "stdout",
     "output_type": "stream",
     "text": [
      "[3.14, 'cat', 11, 'cat', True, 99]\n"
     ]
    }
   ],
   "source": [
    "bacon.append(99)\n",
    "print(bacon)"
   ]
  },
  {
   "cell_type": "markdown",
   "id": "8de9d9ac",
   "metadata": {},
   "source": [
    "#### 8. How does bacon.remove(&#39;cat&#39;) change the look of the list in bacon?"
   ]
  },
  {
   "cell_type": "markdown",
   "id": "6dd4dc9d",
   "metadata": {},
   "source": [
    "#### Ans:\n",
    "It will remove the first occurence of the element 'cat' from the list bacon"
   ]
  },
  {
   "cell_type": "code",
   "execution_count": 9,
   "id": "4a047ac4",
   "metadata": {},
   "outputs": [
    {
     "name": "stdout",
     "output_type": "stream",
     "text": [
      "[3.14, 11, 'cat', True, 99]\n"
     ]
    }
   ],
   "source": [
    "bacon.remove('cat')\n",
    "print(bacon)"
   ]
  },
  {
   "cell_type": "markdown",
   "id": "f37743c1",
   "metadata": {},
   "source": [
    "#### 9. What are the list concatenation and list replication operators?"
   ]
  },
  {
   "cell_type": "markdown",
   "id": "71454129",
   "metadata": {},
   "source": [
    "The list concatination operator is '+' which is used to merge two lists.\n",
    "\n",
    "The list replication operator is '*' which appends the same set of elements of the list as many times as required."
   ]
  },
  {
   "cell_type": "code",
   "execution_count": 10,
   "id": "825fdd20",
   "metadata": {},
   "outputs": [
    {
     "name": "stdout",
     "output_type": "stream",
     "text": [
      "['a', 'b', 'c', 1, 2, 3]\n",
      "['a', 'b', 'c', 'a', 'b', 'c', 'a', 'b', 'c']\n"
     ]
    }
   ],
   "source": [
    "l1 = ['a','b','c']\n",
    "l2 = [1,2,3]\n",
    "print(l1+l2)\n",
    "print(l1*3)"
   ]
  },
  {
   "cell_type": "markdown",
   "id": "b6143254",
   "metadata": {},
   "source": [
    "#### 10. What is difference between the list methods append() and insert()?"
   ]
  },
  {
   "cell_type": "markdown",
   "id": "e3cefdc7",
   "metadata": {},
   "source": [
    "#### Ans:\n",
    "append() method adds elements only at the end of the list while insert() method can add elements anywhere in the list."
   ]
  },
  {
   "cell_type": "code",
   "execution_count": 11,
   "id": "3c02fa26",
   "metadata": {},
   "outputs": [
    {
     "name": "stdout",
     "output_type": "stream",
     "text": [
      "['a', 'b', 'c']\n",
      "['a', 'b', 'c', 10]\n",
      "['a', 'b', 20, 'c', 10]\n"
     ]
    }
   ],
   "source": [
    "l = ['a','b','c']\n",
    "print(l)\n",
    "l.append(10)\n",
    "print(l)\n",
    "l.insert(2,20) # adds element 20 at index 2\n",
    "print(l)"
   ]
  },
  {
   "cell_type": "markdown",
   "id": "c7368261",
   "metadata": {},
   "source": [
    "#### 11. What are the two methods for removing items from a list?"
   ]
  },
  {
   "cell_type": "markdown",
   "id": "f7115f1f",
   "metadata": {},
   "source": [
    "#### Ans:\n",
    "The two methods for removing items from a list are remove() and pop().\n"
   ]
  },
  {
   "cell_type": "code",
   "execution_count": 12,
   "id": "a51ffea7",
   "metadata": {},
   "outputs": [
    {
     "name": "stdout",
     "output_type": "stream",
     "text": [
      "['a', 'b', 'c', 'd']\n",
      "['a', 'c', 'd']\n",
      "['a', 'c']\n"
     ]
    }
   ],
   "source": [
    "l = ['a','b','c','d']\n",
    "print(l)\n",
    "l.remove('b')\n",
    "print(l)\n",
    "l.pop(2)\n",
    "print(l)"
   ]
  },
  {
   "cell_type": "markdown",
   "id": "52c341e4",
   "metadata": {},
   "source": [
    "#### 12. Describe how list values and string values are identical."
   ]
  },
  {
   "cell_type": "markdown",
   "id": "cf797029",
   "metadata": {},
   "source": [
    "#### Ans:\n",
    "Both the list values and string values are indexed that can be accessed by indexing or slicing. \n",
    "\n",
    "Both the lists and strings can be iterated upon using a for loop. \n",
    "\n",
    "len() function, in operator and not in operator can be used on both lists and strings."
   ]
  },
  {
   "cell_type": "markdown",
   "id": "150b9847",
   "metadata": {},
   "source": [
    "#### 13. What&#39;s the difference between tuples and lists?"
   ]
  },
  {
   "cell_type": "markdown",
   "id": "d0a9609e",
   "metadata": {},
   "source": [
    "Tuples are created using simple braces() while lists are created using square braces[ ]. \n",
    "\n",
    "Tuples are immutable i.e. its elements can not be changed while lists are mutable i.e. the elements of a list can be changed."
   ]
  },
  {
   "cell_type": "markdown",
   "id": "aeec3eaf",
   "metadata": {},
   "source": [
    "#### 14. How do you type a tuple value that only contains the integer 42?"
   ]
  },
  {
   "cell_type": "markdown",
   "id": "ae1014c5",
   "metadata": {},
   "source": [
    "We type the tuple value by putting the value 42 inside simple braces and the by putting a comma(,) after 42, i.e. (42,)"
   ]
  },
  {
   "cell_type": "code",
   "execution_count": 13,
   "id": "982a96ed",
   "metadata": {},
   "outputs": [
    {
     "name": "stdout",
     "output_type": "stream",
     "text": [
      "(42,)\n",
      "<class 'tuple'>\n"
     ]
    }
   ],
   "source": [
    "x = (42,)\n",
    "print(x)\n",
    "print(type(x))"
   ]
  },
  {
   "cell_type": "markdown",
   "id": "f02c252c",
   "metadata": {},
   "source": [
    "#### 15. How do you get a list value&#39;s tuple form? How do you get a tuple value&#39;s list form?"
   ]
  },
  {
   "cell_type": "markdown",
   "id": "116f28ed",
   "metadata": {},
   "source": [
    "#### Ans:\n",
    "To get a list value's tuple form we use the function tuple().\n",
    "\n",
    "To get a tuple value's list form we use the function list()."
   ]
  },
  {
   "cell_type": "code",
   "execution_count": 14,
   "id": "1413c0a5",
   "metadata": {},
   "outputs": [
    {
     "name": "stdout",
     "output_type": "stream",
     "text": [
      "[1, 2, 3]\n"
     ]
    }
   ],
   "source": [
    "tuple1 = (1,2,3)\n",
    "print(list(tuple1))"
   ]
  },
  {
   "cell_type": "code",
   "execution_count": 15,
   "id": "642aee44",
   "metadata": {},
   "outputs": [
    {
     "name": "stdout",
     "output_type": "stream",
     "text": [
      "(1, 2, 3)\n"
     ]
    }
   ],
   "source": [
    "list1 = [1,2,3]\n",
    "print(tuple(list1))"
   ]
  },
  {
   "cell_type": "markdown",
   "id": "6585610a",
   "metadata": {},
   "source": [
    "#### 16. Variables that &quot;contain&quot; list values are not necessarily lists themselves. Instead, what do they contain?"
   ]
  },
  {
   "cell_type": "markdown",
   "id": "9a6f26ab",
   "metadata": {},
   "source": [
    "#### Ans:\n",
    "They actually contain the references to the list values."
   ]
  },
  {
   "cell_type": "markdown",
   "id": "037ab89c",
   "metadata": {},
   "source": [
    "#### 17. How do you distinguish between copy.copy() and copy.deepcopy()?"
   ]
  },
  {
   "cell_type": "markdown",
   "id": "70ab0183",
   "metadata": {},
   "source": [
    "#### Ans:\n",
    "copy.copy() creates a shallow copy, i.e. it will not duplicate the lists that are present inside the original list.\n",
    "\n",
    "copy.deepcopy() creates a deep copy, i.e. it will also duplicate the lists that are present inside the original list.\n"
   ]
  },
  {
   "cell_type": "code",
   "execution_count": null,
   "id": "628a95cf",
   "metadata": {},
   "outputs": [],
   "source": []
  }
 ],
 "metadata": {
  "kernelspec": {
   "display_name": "Python 3 (ipykernel)",
   "language": "python",
   "name": "python3"
  },
  "language_info": {
   "codemirror_mode": {
    "name": "ipython",
    "version": 3
   },
   "file_extension": ".py",
   "mimetype": "text/x-python",
   "name": "python",
   "nbconvert_exporter": "python",
   "pygments_lexer": "ipython3",
   "version": "3.9.7"
  }
 },
 "nbformat": 4,
 "nbformat_minor": 5
}
