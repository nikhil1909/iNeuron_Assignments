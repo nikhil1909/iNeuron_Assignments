{
 "cells": [
  {
   "cell_type": "markdown",
   "id": "87b4de45",
   "metadata": {},
   "source": [
    "#### 1. Write a Python program to find sum of elements in list?"
   ]
  },
  {
   "cell_type": "code",
   "execution_count": 1,
   "id": "dd6aa54f",
   "metadata": {},
   "outputs": [
    {
     "name": "stdout",
     "output_type": "stream",
     "text": [
      "Enter a list:[2,5,1,7,8,4]\n",
      "The sum of list [2, 5, 1, 7, 8, 4] is 27\n"
     ]
    }
   ],
   "source": [
    "def sum_list(l):\n",
    "    summ = 0\n",
    "    for i in range(len(l)):\n",
    "        summ+=l[i]\n",
    "    return summ\n",
    "\n",
    "l = eval(input(\"Enter a list:\"))\n",
    "print(\"The sum of list\",l,\"is\",sum_list(l))"
   ]
  },
  {
   "cell_type": "markdown",
   "id": "2ffb294f",
   "metadata": {},
   "source": [
    "#### 2. Write a Python program to Multiply all numbers in the list?"
   ]
  },
  {
   "cell_type": "code",
   "execution_count": 2,
   "id": "6e035d84",
   "metadata": {},
   "outputs": [
    {
     "name": "stdout",
     "output_type": "stream",
     "text": [
      "Enter a list:[2,5,1,7,8,4]\n",
      "The prod of list [2, 5, 1, 7, 8, 4] is 2240\n"
     ]
    }
   ],
   "source": [
    "def prod_list(l):\n",
    "    prod = 1\n",
    "    for i in range(len(l)):\n",
    "        prod*=l[i]\n",
    "    return prod\n",
    "\n",
    "l = eval(input(\"Enter a list:\"))\n",
    "print(\"The prod of list\",l,\"is\",prod_list(l))"
   ]
  },
  {
   "cell_type": "markdown",
   "id": "c900d157",
   "metadata": {},
   "source": [
    "#### 3. Write a Python program to find smallest number in a list?"
   ]
  },
  {
   "cell_type": "code",
   "execution_count": 3,
   "id": "8c9d0007",
   "metadata": {},
   "outputs": [
    {
     "name": "stdout",
     "output_type": "stream",
     "text": [
      "Enter a list:[2,5,1,7,8,4]\n",
      "The smallest number in list [2, 5, 1, 7, 8, 4] is 1\n"
     ]
    }
   ],
   "source": [
    "def smallest(l):\n",
    "    l = sorted(l)\n",
    "    return l[0]\n",
    "\n",
    "l = eval(input(\"Enter a list:\"))\n",
    "print(\"The smallest number in list\",l,\"is\",smallest(l))"
   ]
  },
  {
   "cell_type": "markdown",
   "id": "fba5f4a3",
   "metadata": {},
   "source": [
    "#### 4. Write a Python program to find largest number in a list?"
   ]
  },
  {
   "cell_type": "code",
   "execution_count": 4,
   "id": "5e8e5032",
   "metadata": {},
   "outputs": [
    {
     "name": "stdout",
     "output_type": "stream",
     "text": [
      "Enter a list:[2,5,1,7,8,4]\n",
      "The largest number in list [2, 5, 1, 7, 8, 4] is 8\n"
     ]
    }
   ],
   "source": [
    "def largest(l):\n",
    "    l = sorted(l)\n",
    "    return l[-1]\n",
    "\n",
    "l = eval(input(\"Enter a list:\"))\n",
    "print(\"The largest number in list\",l,\"is\",largest(l))"
   ]
  },
  {
   "cell_type": "markdown",
   "id": "9a68a511",
   "metadata": {},
   "source": [
    "#### 5. Write a Python program to find second largest number in a list?"
   ]
  },
  {
   "cell_type": "code",
   "execution_count": 5,
   "id": "4e10b65b",
   "metadata": {},
   "outputs": [
    {
     "name": "stdout",
     "output_type": "stream",
     "text": [
      "Enter a list:[2,5,1,7,8,4]\n",
      "The second largest number in list [2, 5, 1, 7, 8, 4] is 7\n"
     ]
    }
   ],
   "source": [
    "def sec_largest(l):\n",
    "    l = sorted(l)\n",
    "    return l[-2]\n",
    "\n",
    "l = eval(input(\"Enter a list:\"))\n",
    "print(\"The second largest number in list\",l,\"is\",sec_largest(l))"
   ]
  },
  {
   "cell_type": "markdown",
   "id": "0a46a8ca",
   "metadata": {},
   "source": [
    "#### 6. Write a Python program to find N largest elements from a list?"
   ]
  },
  {
   "cell_type": "code",
   "execution_count": 6,
   "id": "c3155835",
   "metadata": {},
   "outputs": [
    {
     "name": "stdout",
     "output_type": "stream",
     "text": [
      "Enter a list:[2,5,1,7,8,4]\n",
      "Enter N:3\n",
      "The 3 largest elements of the list [2, 5, 1, 7, 8, 4] :  [5, 7, 8]\n"
     ]
    }
   ],
   "source": [
    "def N_largest(l,N):\n",
    "    l = sorted(l)\n",
    "    return l[-N:]\n",
    "\n",
    "l = eval(input(\"Enter a list:\"))\n",
    "N = int(input(\"Enter N:\"))\n",
    "print(\"The\",N,\"largest elements of the list\",l,\": \",N_largest(l,N))"
   ]
  },
  {
   "cell_type": "markdown",
   "id": "8557fe3f",
   "metadata": {},
   "source": [
    "#### 7. Write a Python program to print even numbers in a list?"
   ]
  },
  {
   "cell_type": "code",
   "execution_count": 7,
   "id": "371b905a",
   "metadata": {},
   "outputs": [
    {
     "name": "stdout",
     "output_type": "stream",
     "text": [
      "Enter a list:[2,5,1,7,8,4]\n",
      "The even numbers of the list [2, 5, 1, 7, 8, 4] are:\n",
      "2\n",
      "8\n",
      "4\n"
     ]
    }
   ],
   "source": [
    "def list_even(l):\n",
    "    for ele in l:\n",
    "        if ele%2==0:\n",
    "            print(ele)\n",
    "\n",
    "l = eval(input(\"Enter a list:\"))\n",
    "print(\"The even numbers of the list\",l,\"are:\")\n",
    "list_even(l)"
   ]
  },
  {
   "cell_type": "markdown",
   "id": "8a247260",
   "metadata": {},
   "source": [
    "#### 8. Write a Python program to print odd numbers in a List?"
   ]
  },
  {
   "cell_type": "code",
   "execution_count": 8,
   "id": "908e92b3",
   "metadata": {},
   "outputs": [
    {
     "name": "stdout",
     "output_type": "stream",
     "text": [
      "Enter a list:[2,5,1,7,8,4]\n",
      "The odd numbers of the list [2, 5, 1, 7, 8, 4] are:\n",
      "5\n",
      "1\n",
      "7\n"
     ]
    }
   ],
   "source": [
    "def list_odd(l):\n",
    "    for ele in l:\n",
    "        if ele%2==1:\n",
    "            print(ele)\n",
    "\n",
    "l = eval(input(\"Enter a list:\"))\n",
    "print(\"The odd numbers of the list\",l,\"are:\")\n",
    "list_odd(l)"
   ]
  },
  {
   "cell_type": "markdown",
   "id": "39fdafee",
   "metadata": {},
   "source": [
    "#### 9. Write a Python program to Remove empty List from List?"
   ]
  },
  {
   "cell_type": "code",
   "execution_count": 9,
   "id": "65e3e695",
   "metadata": {},
   "outputs": [
    {
     "name": "stdout",
     "output_type": "stream",
     "text": [
      "Enter a list:[2,5,1,[],7,[],8,4,[]]\n",
      "After removing the empty lists from list [2, 5, 1, [], 7, [], 8, 4, []] ,it becomes:\n",
      "[2, 5, 1, 7, 8, 4]\n"
     ]
    }
   ],
   "source": [
    "def remove_empty(l):\n",
    "    n = l.count([])\n",
    "    for i in range(n):\n",
    "        l.remove([])\n",
    "\n",
    "l = eval(input(\"Enter a list:\"))\n",
    "print(\"After removing the empty lists from list\",l,\",it becomes:\")\n",
    "remove_empty(l)\n",
    "print(l)"
   ]
  },
  {
   "cell_type": "markdown",
   "id": "edcbc941",
   "metadata": {},
   "source": [
    "#### 10. Write a Python program to Cloning or Copying a list?"
   ]
  },
  {
   "cell_type": "code",
   "execution_count": 10,
   "id": "b38bfaf6",
   "metadata": {},
   "outputs": [
    {
     "name": "stdout",
     "output_type": "stream",
     "text": [
      "Enter a list:[1,2,[3,4,[5,6,7,8]],9]\n",
      "l1: [1, 2, [3, 4, [5, 6, 7, 8]], 9] id(l1): 1905807512384\n",
      "l2: [1, 2, [3, 4, [5, 6, 7, 8]], 9] id(l2): 1905807512640\n"
     ]
    }
   ],
   "source": [
    "def copy_list(l1,l2=[]):\n",
    "    if l1==[]:\n",
    "        pass\n",
    "    else:\n",
    "        if type(l1[0])!=list:\n",
    "            l2.append(l1[0])\n",
    "        else:\n",
    "            l2.append([])\n",
    "            copy_list(l1[0],l2[-1])\n",
    "        copy_list(l1[1:],l2)\n",
    "    return l2\n",
    "\n",
    "l1 = eval(input(\"Enter a list:\"))\n",
    "l2 = copy_list(l1)\n",
    "print(\"l1:\",l1,\"id(l1):\",id(l1))\n",
    "print(\"l2:\",l1,\"id(l2):\",id(l2))"
   ]
  },
  {
   "cell_type": "markdown",
   "id": "1a09cee8",
   "metadata": {},
   "source": [
    "#### 11. Write a Python program to Count occurrences of an element in a list?"
   ]
  },
  {
   "cell_type": "code",
   "execution_count": 11,
   "id": "d7da80db",
   "metadata": {},
   "outputs": [
    {
     "name": "stdout",
     "output_type": "stream",
     "text": [
      "Enter a list:[1,2,4,6,2,3,7,8,8,3,5,8,9,1,4,8,2,5]\n",
      "Enter the element:8\n",
      "The number of occurences of 8 in [1, 2, 4, 6, 2, 3, 7, 8, 8, 3, 5, 8, 9, 1, 4, 8, 2, 5] is 4\n"
     ]
    }
   ],
   "source": [
    "def count_ele(l,e):\n",
    "    count=0\n",
    "    for ele in l:\n",
    "        if ele==e:\n",
    "            count+=1\n",
    "    return count\n",
    "l = eval(input(\"Enter a list:\"))\n",
    "e = int(input(\"Enter the element:\"))\n",
    "print(\"The number of occurences of\",e,\"in\",l,\"is\",count_ele(l,e))"
   ]
  },
  {
   "cell_type": "code",
   "execution_count": null,
   "id": "3ce2a87f",
   "metadata": {},
   "outputs": [],
   "source": []
  }
 ],
 "metadata": {
  "kernelspec": {
   "display_name": "Python 3 (ipykernel)",
   "language": "python",
   "name": "python3"
  },
  "language_info": {
   "codemirror_mode": {
    "name": "ipython",
    "version": 3
   },
   "file_extension": ".py",
   "mimetype": "text/x-python",
   "name": "python",
   "nbconvert_exporter": "python",
   "pygments_lexer": "ipython3",
   "version": "3.9.7"
  }
 },
 "nbformat": 4,
 "nbformat_minor": 5
}
