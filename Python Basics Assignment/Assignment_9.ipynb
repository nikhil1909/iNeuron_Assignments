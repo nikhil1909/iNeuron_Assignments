{
 "cells": [
  {
   "cell_type": "markdown",
   "id": "39efa202",
   "metadata": {},
   "source": [
    "#### 1. To what does a relative path refer?"
   ]
  },
  {
   "cell_type": "markdown",
   "id": "2628df69",
   "metadata": {},
   "source": [
    "#### Ans:\n",
    "The relative path is the path to some file with respect to the current working directory.\n",
    "For example: Let current working directory is `C:/users/admin/` and the absolute path to some file `abc.txt` is `C:/users/admin/downloads/abc.txt`, then the relative path would be `downloads/abc.txt`, i.e. \n",
    "\n",
    "current working directory + relative path = absolute path"
   ]
  },
  {
   "cell_type": "markdown",
   "id": "4166cfb8",
   "metadata": {},
   "source": [
    "####  2. What does an absolute path start with your operating system?"
   ]
  },
  {
   "cell_type": "markdown",
   "id": "8006045e",
   "metadata": {},
   "source": [
    "#### Ans:\n",
    "In windows operating system, an absolute path starts with C:\n",
    "\n",
    "In linux operating system, an absolute path starts with /"
   ]
  },
  {
   "cell_type": "markdown",
   "id": "cc621d4e",
   "metadata": {},
   "source": [
    "#### 3. What do the functions os.getcwd() and os.chdir() do?"
   ]
  },
  {
   "cell_type": "markdown",
   "id": "36a68a5f",
   "metadata": {},
   "source": [
    "#### Ans:\n",
    "os.getcwd() returns the current working directory as a string value.\n",
    "\n",
    "os.chdir(path) changes the current directory to the directory specified in path string."
   ]
  },
  {
   "cell_type": "markdown",
   "id": "bce5e6fe",
   "metadata": {},
   "source": [
    "#### 4. What are the . and .. folders?"
   ]
  },
  {
   "cell_type": "markdown",
   "id": "1391f18a",
   "metadata": {},
   "source": [
    "#### Ans:\n",
    ". represents the current working directory.\n",
    "\n",
    ".. represents the parent directory of the current working directory.\n",
    "\n",
    "For example: If the absolute path is `C:/users/admin/downloads/`, then the current working directory is `C:/users/admin/downloads/` and parent directory is `C:/users/admin/`."
   ]
  },
  {
   "cell_type": "markdown",
   "id": "7cb3ca24",
   "metadata": {},
   "source": [
    "#### 5. In C:\\bacon\\eggs\\spam.txt, which part is the dir name, and which part is the base name?"
   ]
  },
  {
   "cell_type": "markdown",
   "id": "c41185d6",
   "metadata": {},
   "source": [
    "#### Ans:\n",
    "`C:\\bacon\\eggs\\` is the directory name.\n",
    " \n",
    "`spam.txt` is the base name."
   ]
  },
  {
   "cell_type": "markdown",
   "id": "dde1b76e",
   "metadata": {},
   "source": [
    "#### 6. What are the three “mode” arguments that can be passed to the open() function?"
   ]
  },
  {
   "cell_type": "markdown",
   "id": "10f5a73c",
   "metadata": {},
   "source": [
    "#### Ans:\n",
    "The 3 mode arguments that can be passed to the open() function are:\n",
    "\n",
    "`r(read)`: It is the default argument that opens the file in read only mode.\n",
    "\n",
    "`w(write)`: This argument opens the file in write only mode, existing data of the file gets over-written.\n",
    "\n",
    "`a(append)`: This argument opens the file in append mode, existing data of the file does not get over-written.\n",
    "\n",
    "There are other mode arguments such as `r+, a+ and x` that can be passed to the open() function."
   ]
  },
  {
   "cell_type": "markdown",
   "id": "14e920e3",
   "metadata": {},
   "source": [
    "#### 7. What happens if an existing file is opened in write mode?"
   ]
  },
  {
   "cell_type": "markdown",
   "id": "9bbc6e86",
   "metadata": {},
   "source": [
    "#### Ans:\n",
    "If an existing file is opened in write mode then the existing data in the file gets over-written or deleted."
   ]
  },
  {
   "cell_type": "markdown",
   "id": "a3b477a6",
   "metadata": {},
   "source": [
    "#### 8. How do you tell the difference between read() and readlines()?"
   ]
  },
  {
   "cell_type": "markdown",
   "id": "85d3fa0e",
   "metadata": {},
   "source": [
    "#### Ans:\n",
    "read() function will read the entire conetent of the file and returns only the first n number of characters, where n is an integer passed as an argument to the read() function.\n",
    "\n",
    "readlines() function will return a list where each element of the list is a distinct line from the file."
   ]
  },
  {
   "cell_type": "markdown",
   "id": "9955c07f",
   "metadata": {},
   "source": [
    "#### 9. What data structure does a shelf value resemble?"
   ]
  },
  {
   "cell_type": "markdown",
   "id": "e68ac982",
   "metadata": {},
   "source": [
    "#### Ans:\n",
    "A shelf value resembles the dictionary data structure because it has key and values which is similar to the key-value pairs of a dictionary."
   ]
  },
  {
   "cell_type": "code",
   "execution_count": null,
   "id": "ee7203af",
   "metadata": {},
   "outputs": [],
   "source": []
  }
 ],
 "metadata": {
  "kernelspec": {
   "display_name": "Python 3 (ipykernel)",
   "language": "python",
   "name": "python3"
  },
  "language_info": {
   "codemirror_mode": {
    "name": "ipython",
    "version": 3
   },
   "file_extension": ".py",
   "mimetype": "text/x-python",
   "name": "python",
   "nbconvert_exporter": "python",
   "pygments_lexer": "ipython3",
   "version": "3.9.7"
  }
 },
 "nbformat": 4,
 "nbformat_minor": 5
}
