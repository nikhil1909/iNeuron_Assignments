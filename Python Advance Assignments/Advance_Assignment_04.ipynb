{
 "cells": [
  {
   "cell_type": "markdown",
   "id": "db70b9e6",
   "metadata": {},
   "source": [
    "#### Q1. Which two operator overloading methods can you use in your classes to support iteration?"
   ]
  },
  {
   "cell_type": "markdown",
   "id": "60707826",
   "metadata": {},
   "source": [
    "#### Ans:\n",
    "The two operator overloading methods that are used in classes to support iteration are \\_\\_iter\\_\\_ and \\_\\_next\\_\\_ methods. \\_\\_iter\\_\\_ returns the iterator object and is called at the start of loop in our respective class.\n",
    "\\_\\_next\\_\\_ is called at each loop increment, it returns the incremented value. Also Stopiteration is raised when there is no value to return."
   ]
  },
  {
   "cell_type": "code",
   "execution_count": 1,
   "id": "ce968089",
   "metadata": {},
   "outputs": [
    {
     "name": "stdout",
     "output_type": "stream",
     "text": [
      "1 2 3 4 5 6 7 8 9 10 "
     ]
    }
   ],
   "source": [
    "class Count:\n",
    "    def __init__(self,current,high):\n",
    "        self.current = current\n",
    "        self.high = high\n",
    "    def __iter__(self):\n",
    "        return self\n",
    "    def __next__(self):\n",
    "        if self.current > self.high:\n",
    "            raise StopIteration\n",
    "        else:\n",
    "            self.current += 1\n",
    "            return self.current - 1\n",
    "for ele in Count(1,10):\n",
    "    print(ele, end=\" \")"
   ]
  },
  {
   "cell_type": "markdown",
   "id": "8627c3d2",
   "metadata": {},
   "source": [
    "#### Q2. In what contexts do the two operator overloading methods manage printing?"
   ]
  },
  {
   "cell_type": "markdown",
   "id": "fde5188e",
   "metadata": {},
   "source": [
    "#### Ans:\n",
    "The two operator overloading methods that manage printing are \\_\\_repr\\_\\_ and \\_\\_str\\_\\_.\n",
    "\n",
    "The \\_\\_str\\_\\_ method is called whenever the print function is used, and it prints an informal string representaion of the object.\n",
    "\n",
    "The \\_\\_repr\\_\\_ method gives a formal string representaion of the object which includes the class name and the values of the attributes."
   ]
  },
  {
   "cell_type": "code",
   "execution_count": 2,
   "id": "8a6d6e90",
   "metadata": {},
   "outputs": [
    {
     "name": "stdout",
     "output_type": "stream",
     "text": [
      "The name is Rohit. Age is 24. Salary is 100000\n",
      "Employee('Rohit',24,100000)\n"
     ]
    }
   ],
   "source": [
    "class Employee:\n",
    "    def __init__(self,name,age,salary):\n",
    "        self.name = name\n",
    "        self.age = age\n",
    "        self.salary = salary\n",
    "        \n",
    "    def __str__(self):\n",
    "        return f\"The name is {self.name}. Age is {self.age}. Salary is {self.salary}\"\n",
    "    \n",
    "    def __repr__(self):\n",
    "        return f\"Employee('{self.name}',{self.age},{self.salary})\"\n",
    "    \n",
    "e = Employee(\"Rohit\", 24, 100000)\n",
    "print(str(e))\n",
    "print(repr(e))"
   ]
  },
  {
   "cell_type": "markdown",
   "id": "e4cae5e2",
   "metadata": {},
   "source": [
    "#### Q3. In a class, how do you intercept slice operations?"
   ]
  },
  {
   "cell_type": "markdown",
   "id": "37cce664",
   "metadata": {},
   "source": [
    "#### Ans:\n",
    "The \\_\\_getitem\\_\\_ method is used for accessing list items, array elements, dictionary entries etc. slice is a constructor in Python that creates slice object to represent set of indices that the range(start, stop, step) specifies. \n",
    "\n",
    "The syntax to use it is: \\_\\_getitem\\_\\_(slice(start,stop,step))"
   ]
  },
  {
   "cell_type": "markdown",
   "id": "5c6cc63c",
   "metadata": {},
   "source": [
    "#### Q4. In a class, how do you capture in-place addition?"
   ]
  },
  {
   "cell_type": "markdown",
   "id": "4a69992c",
   "metadata": {},
   "source": [
    "#### Ans:\n",
    "In class \\_\\_iadd\\_\\_ method is used for this in-place operation. a+b is normal addition. Whereas a+=b is inplace addition operation. In this in-place addition a itself will store the value of addition. "
   ]
  },
  {
   "cell_type": "code",
   "execution_count": 3,
   "id": "2f5867f1",
   "metadata": {},
   "outputs": [
    {
     "name": "stdout",
     "output_type": "stream",
     "text": [
      "45\n"
     ]
    }
   ],
   "source": [
    "class Employee:\n",
    "    def __init__(self,age):\n",
    "        self.age = age\n",
    "    def __iadd__(self,other):\n",
    "        self.age += other.age\n",
    "        return self.age\n",
    "        \n",
    "e1 = Employee(20)\n",
    "e2 = Employee(25)\n",
    "e1+=e2\n",
    "print(e1)"
   ]
  },
  {
   "cell_type": "markdown",
   "id": "656dd4f3",
   "metadata": {},
   "source": [
    "#### Q5. When is it appropriate to use operator overloading?"
   ]
  },
  {
   "cell_type": "markdown",
   "id": "4b6da0b7",
   "metadata": {},
   "source": [
    "#### Ans:\n",
    "We consider using operator overloading either when the use of the operator is not defined on the class objects, or when we want to have a different meaning for the same operator depending on the context."
   ]
  },
  {
   "cell_type": "code",
   "execution_count": 4,
   "id": "a986ed9d",
   "metadata": {},
   "outputs": [
    {
     "name": "stdout",
     "output_type": "stream",
     "text": [
      "45\n"
     ]
    }
   ],
   "source": [
    "class Employee:\n",
    "    def __init__(self,age):\n",
    "        self.age = age\n",
    "    def __add__(self,other):\n",
    "        self.age += other.age\n",
    "        return self.age\n",
    "        \n",
    "e1 = Employee(20)\n",
    "e2 = Employee(25)\n",
    "e3 = e1+e2\n",
    "print(e3)"
   ]
  },
  {
   "cell_type": "code",
   "execution_count": null,
   "id": "6b5db703",
   "metadata": {},
   "outputs": [],
   "source": []
  }
 ],
 "metadata": {
  "kernelspec": {
   "display_name": "Python 3 (ipykernel)",
   "language": "python",
   "name": "python3"
  },
  "language_info": {
   "codemirror_mode": {
    "name": "ipython",
    "version": 3
   },
   "file_extension": ".py",
   "mimetype": "text/x-python",
   "name": "python",
   "nbconvert_exporter": "python",
   "pygments_lexer": "ipython3",
   "version": "3.9.7"
  }
 },
 "nbformat": 4,
 "nbformat_minor": 5
}
