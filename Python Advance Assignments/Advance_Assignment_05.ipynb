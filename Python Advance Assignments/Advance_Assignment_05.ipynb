{
 "cells": [
  {
   "cell_type": "markdown",
   "id": "d2d734d9",
   "metadata": {},
   "source": [
    "#### Q1. What is the meaning of multiple inheritance?"
   ]
  },
  {
   "cell_type": "markdown",
   "id": "b69366cc",
   "metadata": {},
   "source": [
    "#### Ans:\n",
    "Inheritance is the property of a class which allows it to inherit the properties i.e. attributes and methods from its superclass so that the subclass can utilize those properties. When a class inherits its properties from multiple superclass, it is called multiple inheritance."
   ]
  },
  {
   "cell_type": "code",
   "execution_count": 1,
   "id": "fe6df777",
   "metadata": {},
   "outputs": [],
   "source": [
    "class Person:\n",
    "    def __init__(self, gender):\n",
    "        self.gender = gender\n",
    "        \n",
    "class Male:\n",
    "    def __init__(self, age):\n",
    "        self.age = age\n",
    "\n",
    "class King(Person, Male):\n",
    "    def __init__(self,age,gender,country):\n",
    "        self.country = country\n",
    "        \n",
    "# Here King is the class which is inheriting its properties from multiple superclasses"
   ]
  },
  {
   "cell_type": "markdown",
   "id": "9ae3056c",
   "metadata": {},
   "source": [
    "#### Q2. What is the concept of delegation?"
   ]
  },
  {
   "cell_type": "markdown",
   "id": "828c21c0",
   "metadata": {},
   "source": [
    "#### Ans:\n",
    "Delegation simply means using the instance of another class by passing the instance as an argument while creating the object of the class. It acts like a wrapper to the class so that you we access limited resources of the main class."
   ]
  },
  {
   "cell_type": "code",
   "execution_count": 2,
   "id": "27d61bd5",
   "metadata": {},
   "outputs": [
    {
     "name": "stdout",
     "output_type": "stream",
     "text": [
      "Hey i am back\n",
      "Hey i am back\n",
      "Hey i am back\n",
      "I am the main class\n"
     ]
    }
   ],
   "source": [
    "class Myclass:\n",
    "    def sayHi(self):\n",
    "        print('Hey i am back')\n",
    "    def whoAmI(self):\n",
    "        print('I am the main class')\n",
    "        \n",
    "class NewClass:\n",
    "    def __init__(self,obj):\n",
    "        self.main = obj\n",
    "    def welcome(self):\n",
    "        self.main.sayHi()\n",
    "\n",
    "m = Myclass()        \n",
    "n = NewClass(m)\n",
    "m.sayHi()\n",
    "n.main.sayHi()\n",
    "n.welcome()\n",
    "n.main.whoAmI()"
   ]
  },
  {
   "cell_type": "markdown",
   "id": "a35762c1",
   "metadata": {},
   "source": [
    "#### Q3. What is the concept of composition?"
   ]
  },
  {
   "cell_type": "markdown",
   "id": "40115c28",
   "metadata": {},
   "source": [
    "#### Ans:\n",
    "In composition, a class refers to another class by using the instance of that class as instance variable. The superclass methods are not inherited but only used by using the class instances."
   ]
  },
  {
   "cell_type": "code",
   "execution_count": 3,
   "id": "38690386",
   "metadata": {},
   "outputs": [
    {
     "name": "stdout",
     "output_type": "stream",
     "text": [
      "Total Salary : 9600\n"
     ]
    }
   ],
   "source": [
    "class Salary:\n",
    "    def __init__(self,pay):\n",
    "        self.pay = pay\n",
    "    def get_total(self):\n",
    "        return self.pay*12\n",
    "    \n",
    "class Employee:\n",
    "    def __init__(self,pay,bonus):\n",
    "        self.pay = pay\n",
    "        self.bonus = bonus\n",
    "        self.obj_salary = Salary(self.pay)\n",
    "    def annual_salary(self):\n",
    "        return f'Total Salary : {str(self.obj_salary.get_total())}'\n",
    "\n",
    "obj_emp = Employee(800,500)\n",
    "print(obj_emp.annual_salary())"
   ]
  },
  {
   "cell_type": "markdown",
   "id": "f2088ca7",
   "metadata": {},
   "source": [
    "#### Q4. What are bound methods and how do we use them?"
   ]
  },
  {
   "cell_type": "markdown",
   "id": "f47b04a8",
   "metadata": {},
   "source": [
    "#### Ans:\n",
    "A bound method is the one which is dependent on the instance of the class as the first argument. It passes the instance as the first argument which is used to access the variables and functions."
   ]
  },
  {
   "cell_type": "markdown",
   "id": "9bb4773f",
   "metadata": {},
   "source": [
    "#### Q5. What is the purpose of pseudoprivate attributes?"
   ]
  },
  {
   "cell_type": "markdown",
   "id": "7d3f8f22",
   "metadata": {},
   "source": [
    "#### Ans:\n",
    "Pseudoprivate attributes are useful in larger frameworks or tools, both to avoid introducing new method names that might accidentally hide definitions elsewhere in the class tree and to reduce the chance of internal methods being replaced by names defined lower in the tree. If a method is intended for use only within a class that may be mixed into other classes, the double underscore prefix ensures that the method won't interfere with other names in the tree, especially in multiple-inheritance scenarios. Pseudoprivate names also prevent subclasses from accidentally redefining the internal method's names."
   ]
  },
  {
   "cell_type": "code",
   "execution_count": null,
   "id": "b02995b8",
   "metadata": {},
   "outputs": [],
   "source": []
  }
 ],
 "metadata": {
  "kernelspec": {
   "display_name": "Python 3 (ipykernel)",
   "language": "python",
   "name": "python3"
  },
  "language_info": {
   "codemirror_mode": {
    "name": "ipython",
    "version": 3
   },
   "file_extension": ".py",
   "mimetype": "text/x-python",
   "name": "python",
   "nbconvert_exporter": "python",
   "pygments_lexer": "ipython3",
   "version": "3.9.7"
  }
 },
 "nbformat": 4,
 "nbformat_minor": 5
}
