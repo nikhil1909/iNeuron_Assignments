{
 "cells": [
  {
   "cell_type": "markdown",
   "id": "587fe96e",
   "metadata": {},
   "source": [
    "#### 1. Given X be a discrete random variable with the following PMF\n",
    "\n",
    "1. Find the range RX of the random variable X.\n",
    "2. Find P(X ≤ 0.5)\n",
    "3. Find P(0.25&lt;X&lt;0.75)\n",
    "4. P(X = 0.2|X&lt;0.6)"
   ]
  },
  {
   "cell_type": "markdown",
   "id": "2598595a",
   "metadata": {},
   "source": [
    "#### Ans:\n",
    "1. Range of X is {0.2, 0.4, 0.5, 0.8, 1}\n",
    "\n",
    "2. P(X<=0.5) = 0.1+0.2+0.2 = 0.5\n",
    "\n",
    "3. P(0.25<X<0.75) = 0.2+0.2 = 0.4\n",
    "\n",
    "4. P(X = 0.2|X<0.6) = 0.1/(0.1+0.2+0.2) = 0.2"
   ]
  },
  {
   "cell_type": "markdown",
   "id": "1df46bd3",
   "metadata": {},
   "source": [
    "#### 2. Two equal and fair dice are rolled, and we observed two numbers X and Y.\n",
    "1. Find RX, RY, and the PMFs of X and Y.\n",
    "2. Find P(X = 2,Y = 6).\n",
    "3. Find P(X&gt;3|Y = 2).\n",
    "4. If Z = X + Y. Find the range and PMF of Z.\n",
    "5. Find P(X = 4|Z = 8)."
   ]
  },
  {
   "cell_type": "markdown",
   "id": "a019f3ed",
   "metadata": {},
   "source": [
    "#### Ans:\n",
    "Let X = number on die 1 and Y = number on die 2.\n",
    "\n",
    "1. RX = {1,2,3,4,5,6} and RY = {1,2,3,4,5,6}\n",
    "\n",
    "PMF of X and Y is:\n",
    "\n",
    "P(X=x) = P(Y=y) = 1/6  where x,y = 1,2,3,4,5,6. \n",
    "\n",
    "2. P(X = 2,Y = 6) = (1/6)x(1/6) = 1/36\n",
    "\n",
    "3. P(X>3|Y = 2) = 1/36+1/36+1/36 = 1/12\n",
    "\n",
    "4. Range of Z = {2,3,4,5,6,7,8,9,10,11,12}\n",
    "\n",
    "P(Z=2)=1/36, P(Z=3)=2/36, P(Z=4)=3/36, P(Z=5)=4/36, P(Z=6)=5/36, P(Z=7)=6/36, P(Z=8)=5/36, P(Z=9)=4/36, P(Z=10)=3/36, P(Z=11)=2/36, P(Z=12)=1/36\n",
    "\n",
    "5. P(X = 4|Z = 8) = (1/36)/(1/6) = 1/6"
   ]
  },
  {
   "cell_type": "markdown",
   "id": "e2e1dec9",
   "metadata": {},
   "source": [
    "#### 3. In an exam, there were 20 multiple-choice questions. Each question had 4 possible options. A student knew the answer to 10 questions, but the other 10 questions were unknown to him, and he chose answers randomly. If the student X&#39;s score is equal to the total number of correct answers, then find out the PMF of X. What is P(X&gt;15)?"
   ]
  },
  {
   "cell_type": "markdown",
   "id": "2e6a2fce",
   "metadata": {},
   "source": [
    "#### Ans:\n",
    "P(X=i) = 10!/(i-10)!\\*(20-i)!\\*(0.25^(i-10))\\*(0.75^(20-i)) for i=10,11,...20\n",
    "\n",
    "P(X>15)= P(X=16)+P(X=17)+P(X=18)+P(X=19)+P(X=20) = 0.02"
   ]
  },
  {
   "cell_type": "markdown",
   "id": "c3c4a5ab",
   "metadata": {},
   "source": [
    "#### 4. The number of students arriving at a college between a time interval is a Poisson random variable. On average, 10 students arrive per hour. Let Y be the number of students arriving from 10 am to 11:30 am. What is P(10&lt;Y≤15)?"
   ]
  },
  {
   "cell_type": "markdown",
   "id": "12bf6719",
   "metadata": {},
   "source": [
    "#### Ans:\n",
    "Average number of students arriving in 1.5 hour = 10x1.5 = 15\n",
    "\n",
    "So, Y follows Poisson distribution with parameter 15.\n",
    "\n",
    "So, P(10<Y<=15) = P(Y=11)+P(Y=12)+P(Y=13)+P(Y=14)+P(Y=15) = 0.45"
   ]
  },
  {
   "cell_type": "markdown",
   "id": "d96aa2a7",
   "metadata": {},
   "source": [
    "#### 5.Two independent random variables, X and Y,are given such that X~Poisson(α) and Y~Poisson(β). State a new random variable as Z = X + Y. Find out the PMF of Z."
   ]
  },
  {
   "cell_type": "markdown",
   "id": "3a90b78a",
   "metadata": {},
   "source": [
    "#### Ans:\n",
    "Sum of two independent Poisson random variables with parameters a and b follows a Poisson distribution with parameter a+b. So, Z follows Poisson distribution with parameter α+β"
   ]
  },
  {
   "cell_type": "markdown",
   "id": "d372af7a",
   "metadata": {},
   "source": [
    "#### 6. There is a discrete random variable X with the pmf. \n",
    "\n",
    "If we define a new random variable Y = (X + 1)2 then\n",
    "\n",
    "1. Find the range of Y.\n",
    "\n",
    "2. Find the pmf of Y.\n",
    "\n",
    "2.Assuming X is a continuous random variable with PDF\n",
    "\n",
    "1. Find EX and Var(X).\n",
    "2. Find P(X ≥ ).\n",
    "\n",
    "2. If X is a continuous random variable with pdf \n",
    "\n",
    "3. If X~Uniform and Y = sin(X), then find f Y (y).\n",
    "4. If X is a random variable with CDF \n",
    "\n",
    "1. What kind of random variable is X: discrete, continuous, or mixed?\n",
    "\n",
    "2. Find the PDF of X, fX(x).\n",
    "3. Find E(e X ).\n",
    "4. Find P(X = 0|X≤0.5).\n",
    "\n",
    "2. There are two random variables X and Y with joint PMF given in Table below\n",
    "\n",
    "1. Find P(X≤2, Y≤4).\n",
    "2. Find the marginal PMFs of X and Y.\n",
    "3. Find P(Y = 2|X = 1).\n",
    "4. Are X and Y independent?"
   ]
  },
  {
   "cell_type": "markdown",
   "id": "a0e71708",
   "metadata": {},
   "source": [
    "#### Ans:\n",
    "\n",
    "6.1. Range of Y = {0,1,4,9}\n",
    "\n",
    "6.2. pmf of Y: P(Y=0)=1/8, P(Y=1)=1/2, P(Y=4)=1/8, P(Y=9)=1/4\n",
    "\n",
    "6.2.1. c = 1.5, E(X) = 0, Var(X) = 0.6\n",
    "\n",
    "6.2.2. P(X>1/2) = 0.4375\n",
    "\n",
    "6.2. P(X<=2/3 | X>1/3) = 0.1875\n",
    "\n",
    "6.3. PRobability that Y lies between -1 and 0 is 1/3. Probability that Y lies between 0 and 1 is 2/3\n",
    "\n",
    "6.4.1. X is a mixed random variable.\n",
    "\n",
    "6.4.2. f(x)=1/2 if x=0, and f(x)=1/2 for 0<x<1\n",
    "\n",
    "6.4.3. E(e^x) = e/2\n",
    "\n",
    "6.4.4. P(X = 0|X≤0.5) = (1/2)/(3/4) = 2/3\n",
    "\n",
    "6.2.1. P(X≤2, Y≤4) = 1/12+1/24+1/6+1/12 = 3/8\n",
    "\n",
    "6.2.2. P(X=1) = 1/6, P(X=2) = 3/8, P(X=3) = 11/24\n",
    "\n",
    "P(Y=2) = 1/2, P(Y=4) = 1/4, P(Y=5) = 1/4\n",
    "\n",
    "6.2.3. P(Y = 2|X = 1) = (1/12)/(1/6) = 1/2\n",
    "\n",
    "6.2.4. P(X=2,Y=2) = 1/16 and P(X=2)\\*P(Y=2) = (3/8)\\*(1/2) = 3/16\n",
    "\n",
    "Since, P(X=2,Y=2) is not equal to P(X=2)\\*P(Y=2), so X and Y are not independent.\n"
   ]
  },
  {
   "cell_type": "markdown",
   "id": "89440775",
   "metadata": {},
   "source": [
    "#### 6.A box containing 40 white shirts and 60 black shirts. If we choose 10 shirts (without replacement) at random, find the joint PMF of X and Y, where X is the number of white shirts and Y is the number of black shirts."
   ]
  },
  {
   "cell_type": "markdown",
   "id": "a548c043",
   "metadata": {},
   "source": [
    "#### Ans:\n",
    "P(X=i,Y=10-i) = q where i = 0,1,2,...10\n",
    "\n",
    "and,\n",
    "\n",
    "q = P(Z=i) where Z follows hypergeometric distribution with parameters N=100, n=10 and k=40"
   ]
  },
  {
   "cell_type": "markdown",
   "id": "ff2916db",
   "metadata": {},
   "source": [
    "#### 7.If A and B are two jointly continuous random variables with joint PDF\n",
    "\n",
    "a. Find fX(a) and fY(b).\n",
    "\n",
    "b. Are A and B independent of each other?\n",
    "\n",
    "c. Find the conditional PDF of A given B = b, fA|B(a|b).\n",
    "\n",
    "d. Find E[A|B = b], for 0 ≤ y ≤ 1.\n",
    "\n",
    "e. Find Var(A|B = b), for 0 ≤ y ≤ 1."
   ]
  },
  {
   "cell_type": "markdown",
   "id": "bf5143f7",
   "metadata": {},
   "source": [
    "#### Ans:\n",
    "a. f(x) = 3x^2 for 0<=x<=1, f(y) = 3y for 0<=y<=x^0.5\n",
    "\n",
    "b. Since, f(x,y) is not equal to f(x)\\*f(y), so X and Y are not inependent.\n",
    "\n",
    "c. f(X|Y=y) = 2x for 0<=x<=1 and 0<=y<=x^0.5\n",
    "\n",
    "d. E(X|Y=y) = 2/3\n",
    "\n",
    "e. Var(X|Y=y) = 1/18"
   ]
  },
  {
   "cell_type": "markdown",
   "id": "438af8f8",
   "metadata": {},
   "source": [
    "#### 8.There are 100 men on a ship. If Xi is the ith man&#39;s weight on the ship and Xi&#39;s are independent and identically distributed and EXi = μ = 170 and σXi = σ = 30. Find the probability that the men&#39;s total weight on the ship exceeds 18,000."
   ]
  },
  {
   "cell_type": "markdown",
   "id": "86174e6a",
   "metadata": {},
   "source": [
    "#### Ans:\n",
    "Let Y be the total men's weight, then Y follows normal distribution with parameter μ = 170\\*100 = 17000 and σ = 30\\*100 = 3000.\n",
    "\n",
    "So, P(Y>18000) = 0.37\n",
    "\n"
   ]
  },
  {
   "cell_type": "markdown",
   "id": "55f686c3",
   "metadata": {},
   "source": [
    "#### 9.Let X1, X2, ……, X25 are independent and identically distributed. And have the following PMF If Y = X1 + X2 + … + Xn, estimate P(4 ≤ Y ≤ 6) using central limit theorem."
   ]
  },
  {
   "cell_type": "markdown",
   "id": "893fb016",
   "metadata": {},
   "source": [
    "#### Ans:\n",
    "Let the pmf be P(X=0)=0.8 and P(X=1)=0.2.\n",
    "\n",
    "Then E(X) = 0.2 and Var(X) = 0.16\n",
    "\n",
    "So, E(Y) = 25\\*E(X) = 5 and Var(Y) = 25\\*Var(X) = 4\n",
    "\n",
    "Using, central limit theorem Z = 5\\*(Y-E(Y))/Var(Y)^0.5 follows standard normal distribution. \n",
    "\n",
    "So, P(4≤Y≤6) = P(5\\*(4-5-0.5)/4^0.5 ≤ Z ≤ 5\\*(6-5+0.5)/4^0.5) = P(-3.75≤ Z ≤3.75) = 0.9998\n"
   ]
  },
  {
   "cell_type": "code",
   "execution_count": null,
   "id": "08bccd03",
   "metadata": {},
   "outputs": [],
   "source": []
  }
 ],
 "metadata": {
  "kernelspec": {
   "display_name": "Python 3 (ipykernel)",
   "language": "python",
   "name": "python3"
  },
  "language_info": {
   "codemirror_mode": {
    "name": "ipython",
    "version": 3
   },
   "file_extension": ".py",
   "mimetype": "text/x-python",
   "name": "python",
   "nbconvert_exporter": "python",
   "pygments_lexer": "ipython3",
   "version": "3.9.13"
  }
 },
 "nbformat": 4,
 "nbformat_minor": 5
}
