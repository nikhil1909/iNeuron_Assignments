{
 "cells": [
  {
   "cell_type": "markdown",
   "id": "6232e3f6",
   "metadata": {},
   "source": [
    "#### 1. Write a Python Program to Display Fibonacci Sequence Using Recursion?"
   ]
  },
  {
   "cell_type": "code",
   "execution_count": 1,
   "id": "2534824b",
   "metadata": {},
   "outputs": [
    {
     "name": "stdout",
     "output_type": "stream",
     "text": [
      "Enter number of terms:20\n",
      "The first 20 terms of the fibonacci sequence are:\n",
      "0,1,1,2,3,5,8,13,21,34,55,89,144,233,377,610,987,1597,2584,4181,"
     ]
    }
   ],
   "source": [
    "def fibonacci(n):\n",
    "    if n==1:\n",
    "        return 0\n",
    "    elif n==2:\n",
    "        return 1\n",
    "    else:\n",
    "        return fibonacci(n-1)+fibonacci(n-2)\n",
    "\n",
    "n = int(input(\"Enter number of terms:\"))\n",
    "print(\"The first\",n,\"terms of the fibonacci sequence are:\")\n",
    "for i in range(1,n+1):\n",
    "    print(fibonacci(i),end=\",\")"
   ]
  },
  {
   "cell_type": "markdown",
   "id": "6ed97965",
   "metadata": {},
   "source": [
    "#### 2. Write a Python Program to Find Factorial of Number Using Recursion?"
   ]
  },
  {
   "cell_type": "code",
   "execution_count": 2,
   "id": "c64407a8",
   "metadata": {},
   "outputs": [
    {
     "name": "stdout",
     "output_type": "stream",
     "text": [
      "Enter a number:5\n",
      "5! = 120\n"
     ]
    }
   ],
   "source": [
    "def factorial(n):\n",
    "    if n==0 or n==1:\n",
    "        return 1\n",
    "    else:\n",
    "        return n*factorial(n-1)\n",
    "\n",
    "n = int(input(\"Enter a number:\"))\n",
    "print(str(n)+\"! =\",factorial(n))"
   ]
  },
  {
   "cell_type": "markdown",
   "id": "1b60c1bd",
   "metadata": {},
   "source": [
    "#### 3. Write a Python Program to calculate your Body Mass Index?"
   ]
  },
  {
   "cell_type": "code",
   "execution_count": 3,
   "id": "d3c4c2fe",
   "metadata": {},
   "outputs": [
    {
     "name": "stdout",
     "output_type": "stream",
     "text": [
      "Enter your weight in kilograms:75\n",
      "Enter your height in meters:1.8\n",
      "Your Body Mass Index is 23.148148148148145 kilogram per meter square\n"
     ]
    }
   ],
   "source": [
    "def BMI(height,weight):\n",
    "    bmi = weight/(height**2)\n",
    "    return bmi\n",
    "\n",
    "weight = float(input(\"Enter your weight in kilograms:\"))\n",
    "height = float(input(\"Enter your height in meters:\"))\n",
    "print(\"Your Body Mass Index is\",BMI(height,weight),\"kilogram per meter square\")"
   ]
  },
  {
   "cell_type": "markdown",
   "id": "c1e5a894",
   "metadata": {},
   "source": [
    "#### 4. Write a Python Program to calculate the natural logarithm of any number?"
   ]
  },
  {
   "cell_type": "code",
   "execution_count": 4,
   "id": "21295170",
   "metadata": {},
   "outputs": [
    {
     "name": "stdout",
     "output_type": "stream",
     "text": [
      "Enter a number:100\n",
      "The natural logarithm of 100 is 4.605170185988092\n"
     ]
    }
   ],
   "source": [
    "from math import log\n",
    "n = int(input(\"Enter a number:\"))\n",
    "print(\"The natural logarithm of\",n,\"is\",log(n))"
   ]
  },
  {
   "cell_type": "markdown",
   "id": "7021cf56",
   "metadata": {},
   "source": [
    "#### 5. Write a Python Program for cube sum of first n natural numbers?"
   ]
  },
  {
   "cell_type": "code",
   "execution_count": 6,
   "id": "44f34866",
   "metadata": {},
   "outputs": [
    {
     "name": "stdout",
     "output_type": "stream",
     "text": [
      "Enter a number:5\n",
      "The cube sum of first 5 natural numbers is 225\n"
     ]
    }
   ],
   "source": [
    "from functools import reduce\n",
    "n = int(input(\"Enter a number:\"))\n",
    "ls = [i for i in range(1,n+1)]\n",
    "cube_sum = reduce(lambda x,y:x+y, map(lambda x:x**3, ls))\n",
    "print(\"The cube sum of first\",n,\"natural numbers is\",cube_sum)"
   ]
  },
  {
   "cell_type": "code",
   "execution_count": null,
   "id": "5cc22cd0",
   "metadata": {},
   "outputs": [],
   "source": []
  }
 ],
 "metadata": {
  "kernelspec": {
   "display_name": "Python 3 (ipykernel)",
   "language": "python",
   "name": "python3"
  },
  "language_info": {
   "codemirror_mode": {
    "name": "ipython",
    "version": 3
   },
   "file_extension": ".py",
   "mimetype": "text/x-python",
   "name": "python",
   "nbconvert_exporter": "python",
   "pygments_lexer": "ipython3",
   "version": "3.9.7"
  }
 },
 "nbformat": 4,
 "nbformat_minor": 5
}
