{
 "cells": [
  {
   "cell_type": "markdown",
   "id": "40122d0c",
   "metadata": {},
   "source": [
    "#### 1. Write a Python program to convert kilometers to miles?"
   ]
  },
  {
   "cell_type": "code",
   "execution_count": 1,
   "id": "4f401203",
   "metadata": {},
   "outputs": [
    {
     "name": "stdout",
     "output_type": "stream",
     "text": [
      "Enter kilometers:10\n",
      "10 kilometers is 6.2139999999999995 miles\n"
     ]
    }
   ],
   "source": [
    "def km_to_mi(km):\n",
    "    miles = 0.6214*km\n",
    "    return miles\n",
    "\n",
    "km = int(input(\"Enter kilometers:\"))\n",
    "print(km,\"kilometers is\",km_to_mi(km),\"miles\")"
   ]
  },
  {
   "cell_type": "markdown",
   "id": "983e87a6",
   "metadata": {},
   "source": [
    "#### 2. Write a Python program to convert Celsius to Fahrenheit?"
   ]
  },
  {
   "cell_type": "code",
   "execution_count": 2,
   "id": "660902cc",
   "metadata": {},
   "outputs": [
    {
     "name": "stdout",
     "output_type": "stream",
     "text": [
      "Enter celcius:100\n",
      "100 degree Celcius is 212.0 degree Fahrenheit.\n"
     ]
    }
   ],
   "source": [
    "def C2F(c):\n",
    "    f = (9/5)*c+32\n",
    "    return f\n",
    "\n",
    "c = int(input(\"Enter celcius:\"))\n",
    "print(c,\"degree Celcius is\",C2F(c),\"degree Fahrenheit.\")"
   ]
  },
  {
   "cell_type": "markdown",
   "id": "01831f87",
   "metadata": {},
   "source": [
    "#### 3. Write a Python program to display calendar?"
   ]
  },
  {
   "cell_type": "code",
   "execution_count": 3,
   "id": "78d3414f",
   "metadata": {},
   "outputs": [
    {
     "name": "stdout",
     "output_type": "stream",
     "text": [
      "Enter year:2022\n",
      "                                  2022\n",
      "\n",
      "      January                   February                   March\n",
      "Mo Tu We Th Fr Sa Su      Mo Tu We Th Fr Sa Su      Mo Tu We Th Fr Sa Su\n",
      "                1  2          1  2  3  4  5  6          1  2  3  4  5  6\n",
      " 3  4  5  6  7  8  9       7  8  9 10 11 12 13       7  8  9 10 11 12 13\n",
      "10 11 12 13 14 15 16      14 15 16 17 18 19 20      14 15 16 17 18 19 20\n",
      "17 18 19 20 21 22 23      21 22 23 24 25 26 27      21 22 23 24 25 26 27\n",
      "24 25 26 27 28 29 30      28                        28 29 30 31\n",
      "31\n",
      "\n",
      "       April                      May                       June\n",
      "Mo Tu We Th Fr Sa Su      Mo Tu We Th Fr Sa Su      Mo Tu We Th Fr Sa Su\n",
      "             1  2  3                         1             1  2  3  4  5\n",
      " 4  5  6  7  8  9 10       2  3  4  5  6  7  8       6  7  8  9 10 11 12\n",
      "11 12 13 14 15 16 17       9 10 11 12 13 14 15      13 14 15 16 17 18 19\n",
      "18 19 20 21 22 23 24      16 17 18 19 20 21 22      20 21 22 23 24 25 26\n",
      "25 26 27 28 29 30         23 24 25 26 27 28 29      27 28 29 30\n",
      "                          30 31\n",
      "\n",
      "        July                     August                  September\n",
      "Mo Tu We Th Fr Sa Su      Mo Tu We Th Fr Sa Su      Mo Tu We Th Fr Sa Su\n",
      "             1  2  3       1  2  3  4  5  6  7                1  2  3  4\n",
      " 4  5  6  7  8  9 10       8  9 10 11 12 13 14       5  6  7  8  9 10 11\n",
      "11 12 13 14 15 16 17      15 16 17 18 19 20 21      12 13 14 15 16 17 18\n",
      "18 19 20 21 22 23 24      22 23 24 25 26 27 28      19 20 21 22 23 24 25\n",
      "25 26 27 28 29 30 31      29 30 31                  26 27 28 29 30\n",
      "\n",
      "      October                   November                  December\n",
      "Mo Tu We Th Fr Sa Su      Mo Tu We Th Fr Sa Su      Mo Tu We Th Fr Sa Su\n",
      "                1  2          1  2  3  4  5  6                1  2  3  4\n",
      " 3  4  5  6  7  8  9       7  8  9 10 11 12 13       5  6  7  8  9 10 11\n",
      "10 11 12 13 14 15 16      14 15 16 17 18 19 20      12 13 14 15 16 17 18\n",
      "17 18 19 20 21 22 23      21 22 23 24 25 26 27      19 20 21 22 23 24 25\n",
      "24 25 26 27 28 29 30      28 29 30                  26 27 28 29 30 31\n",
      "31\n",
      "\n"
     ]
    }
   ],
   "source": [
    "import calendar\n",
    "year = int(input(\"Enter year:\"))\n",
    "print(calendar.calendar(year))"
   ]
  },
  {
   "cell_type": "markdown",
   "id": "c314adc7",
   "metadata": {},
   "source": [
    "#### 4. Write a Python program to solve quadratic equation?"
   ]
  },
  {
   "cell_type": "code",
   "execution_count": 4,
   "id": "b7805c00",
   "metadata": {},
   "outputs": [
    {
     "name": "stdout",
     "output_type": "stream",
     "text": [
      "Enter the value of a:2\n",
      "Enter the value of b:6\n",
      "Enter the value of c:4\n",
      "The roots of 2x**2+6x+4 are -1.0 and -2.0\n"
     ]
    }
   ],
   "source": [
    "def solve_quadratic(a,b,c):\n",
    "    disc = b**2-4*a*c\n",
    "    if disc>0:\n",
    "        root1 = (-b+pow(disc,0.5))/(2*a)\n",
    "        root2 = (-b-pow(disc,0.5))/(2*a)\n",
    "        print(\"The roots of \"+str(a)+\"x**2+\"+str(b)+\"x+\"+str(c)+\" are\",root1,\"and\",root2)\n",
    "    elif disc==0:\n",
    "        root = -b/(2*a)\n",
    "        print(\"The root of \"+str(a)+\"x**2+\"+str(b)+\"x+\"+str(c)+\" is\",root)\n",
    "    else:\n",
    "        print(\"The roots of \"+str(a)+\"x**2+\"+str(b)+\"x+\"+str(c)+\" do not exist\")\n",
    "\n",
    "a = int(input(\"Enter the value of a:\"))\n",
    "b = int(input(\"Enter the value of b:\"))\n",
    "c = int(input(\"Enter the value of c:\"))\n",
    "solve_quadratic(a,b,c)"
   ]
  },
  {
   "cell_type": "markdown",
   "id": "6221cb44",
   "metadata": {},
   "source": [
    "#### 5. Write a Python program to swap two variables without temp variable?"
   ]
  },
  {
   "cell_type": "code",
   "execution_count": 5,
   "id": "3bfa0166",
   "metadata": {},
   "outputs": [
    {
     "name": "stdout",
     "output_type": "stream",
     "text": [
      "Enter a:4\n",
      "Enter b:5\n",
      "Before swapping, a = 4 and b = 5\n",
      "After swapping, a = 5 and b = 4\n"
     ]
    }
   ],
   "source": [
    "def swap(a,b):\n",
    "    a = a+b\n",
    "    b = a-b\n",
    "    a = a-b\n",
    "    return a,b\n",
    "\n",
    "a = int(input(\"Enter a:\"))\n",
    "b = int(input(\"Enter b:\"))\n",
    "print(\"Before swapping, a =\",a,\"and b =\",b)\n",
    "a,b = swap(a,b)\n",
    "print(\"After swapping, a =\",a,\"and b =\",b)"
   ]
  },
  {
   "cell_type": "code",
   "execution_count": null,
   "id": "f264cebd",
   "metadata": {},
   "outputs": [],
   "source": []
  }
 ],
 "metadata": {
  "kernelspec": {
   "display_name": "Python 3 (ipykernel)",
   "language": "python",
   "name": "python3"
  },
  "language_info": {
   "codemirror_mode": {
    "name": "ipython",
    "version": 3
   },
   "file_extension": ".py",
   "mimetype": "text/x-python",
   "name": "python",
   "nbconvert_exporter": "python",
   "pygments_lexer": "ipython3",
   "version": "3.9.7"
  }
 },
 "nbformat": 4,
 "nbformat_minor": 5
}
