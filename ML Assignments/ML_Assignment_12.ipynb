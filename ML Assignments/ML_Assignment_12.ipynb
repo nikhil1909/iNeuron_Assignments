{
 "cells": [
  {
   "cell_type": "markdown",
   "id": "d7d6ab7c",
   "metadata": {},
   "source": [
    "#### 1. What is prior probability? Give an example."
   ]
  },
  {
   "cell_type": "markdown",
   "id": "fca52c55",
   "metadata": {},
   "source": [
    "#### Ans:\n",
    "Prior probability of an event is the likelihood of that event occuring before taking into consideration any new information. For example, P(C)=0.01 represents the probaility of cancer. It means that probability of a random person getting cancer is 1%"
   ]
  },
  {
   "cell_type": "markdown",
   "id": "f1af919f",
   "metadata": {},
   "source": [
    "#### 2. What is posterior probability? Give an example."
   ]
  },
  {
   "cell_type": "markdown",
   "id": "fe8086da",
   "metadata": {},
   "source": [
    "#### Ans:\n",
    "Posterior probability of an event is the likelihood of that event occuring after taking into consideration some new information. For example, P(C|pos)=0.85 represents the probaility of cancer after the tests result is positive. It means that probability of a person getting cancer is 85% if the tests result is positive."
   ]
  },
  {
   "cell_type": "markdown",
   "id": "caa7e3b9",
   "metadata": {},
   "source": [
    "#### 3. What is likelihood probability? Give an example."
   ]
  },
  {
   "cell_type": "markdown",
   "id": "d11a0eb5",
   "metadata": {},
   "source": [
    "#### Ans:\n",
    "Likelihood probability is the probability for the value of parameter given the sample that we got. For example, probability that the mean weight of boxes of cereals is 500gm given that the sample of 5 boxes have weights is 499gm, 504gm, 502gm, 498m and 501gm, is the likelihood of the mean weight of the boxes."
   ]
  },
  {
   "cell_type": "markdown",
   "id": "747ddcdc",
   "metadata": {},
   "source": [
    "#### 4. What is Naïve Bayes classifier? Why is it named so?"
   ]
  },
  {
   "cell_type": "markdown",
   "id": "0e9e02fe",
   "metadata": {},
   "source": [
    "#### Ans:\n",
    "Naive bayes classifier is a classification algorithm. It uses Bayes theorem and the concept of posterior probabilities to make predictions. It is called naive because of its naive assumption that the variables are independent of each other."
   ]
  },
  {
   "cell_type": "markdown",
   "id": "716d3aa9",
   "metadata": {},
   "source": [
    "#### 5. What is optimal Bayes classifier?"
   ]
  },
  {
   "cell_type": "markdown",
   "id": "ac2d8e13",
   "metadata": {},
   "source": [
    "#### Ans:\n",
    "Bayes optimal classifier is a probabilistic model that makes the most probable prediction for a new example."
   ]
  },
  {
   "cell_type": "markdown",
   "id": "74b362df",
   "metadata": {},
   "source": [
    "#### 6. Write any two features of Bayesian learning methods."
   ]
  },
  {
   "cell_type": "markdown",
   "id": "cdfa516c",
   "metadata": {},
   "source": [
    "#### Ans:\n",
    "1. Each observed training example can incrementally decrease or increase the estimated probability that a hypothesis is correct. \n",
    "2. Prior knowledge can be combined with observed data to determine the final probability of a hypothesis."
   ]
  },
  {
   "cell_type": "markdown",
   "id": "1ea13eb1",
   "metadata": {},
   "source": [
    "#### 7. Define the concept of consistent learners."
   ]
  },
  {
   "cell_type": "markdown",
   "id": "425a2d1d",
   "metadata": {},
   "source": [
    "#### Ans:\n",
    "A learner L using a hypothesis H and training data D is said to be a consistent learner if it always outputs a hypothesis with zero error on D whenever H contains such a hypothesis. • By definition, a consistent learner must produce a hypothesis in the version space for H given D."
   ]
  },
  {
   "cell_type": "markdown",
   "id": "2d72a7f3",
   "metadata": {},
   "source": [
    "#### 8. Write any two strengths of Bayes classifier"
   ]
  },
  {
   "cell_type": "markdown",
   "id": "334e339f",
   "metadata": {},
   "source": [
    "#### Ans:\n",
    "1. This algorithm is quick.\n",
    "2. Suitable for multi-class classification problem.\n",
    "3. If the assumption of independence holds true then it performs much better than other algorithms and requires less training data."
   ]
  },
  {
   "cell_type": "markdown",
   "id": "b00f61be",
   "metadata": {},
   "source": [
    "#### 9. Write any two weaknesses of Bayes classifier."
   ]
  },
  {
   "cell_type": "markdown",
   "id": "6ca07639",
   "metadata": {},
   "source": [
    "#### Ans:\n",
    "1. Naive assumption of independence of variables.\n",
    "2. Significant computational cost is required to determine the Bayes optimal hypothesis in the general case"
   ]
  },
  {
   "cell_type": "markdown",
   "id": "6483e18c",
   "metadata": {},
   "source": [
    "#### 10. Explain how Naïve Bayes classifier is used for\n",
    "1. Text classification\n",
    "2. Spam filtering\n",
    "3. Market sentiment analysis\n"
   ]
  },
  {
   "cell_type": "markdown",
   "id": "58a898b8",
   "metadata": {},
   "source": [
    "#### Ans:\n",
    "1. Text classification: The Naive Bayes classifier is a simple classifier that classifies based on probabilities of events. It is the applied commonly to text classification. With the training set, we can train a Naive Bayes classifier which we can use to automaticall categorize a new sentence.\n",
    "\n",
    "2. Spam filtering: Naive Bayes classifiers work by correlating the use of tokens (typically words, or sometimes other things), with spam and non-spam e-mails and then using Bayes' theorem to calculate a probability that an email is or is not spam.\n",
    "\n",
    "3. Market sentiment analysis: Market Sentiment analysis is a field dedicated to extracting subjective emotions and feelings from text. One common use of sentiment analysis is to figure out if a text expresses negative or positive feelings. Naive Bayes is a popular algorithm for classifying text."
   ]
  },
  {
   "cell_type": "code",
   "execution_count": null,
   "id": "78b7306e",
   "metadata": {},
   "outputs": [],
   "source": []
  }
 ],
 "metadata": {
  "kernelspec": {
   "display_name": "Python 3 (ipykernel)",
   "language": "python",
   "name": "python3"
  },
  "language_info": {
   "codemirror_mode": {
    "name": "ipython",
    "version": 3
   },
   "file_extension": ".py",
   "mimetype": "text/x-python",
   "name": "python",
   "nbconvert_exporter": "python",
   "pygments_lexer": "ipython3",
   "version": "3.9.13"
  }
 },
 "nbformat": 4,
 "nbformat_minor": 5
}
