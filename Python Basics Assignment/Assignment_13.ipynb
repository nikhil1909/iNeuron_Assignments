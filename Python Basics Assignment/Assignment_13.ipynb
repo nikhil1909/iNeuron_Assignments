{
 "cells": [
  {
   "cell_type": "markdown",
   "id": "f2e7a261",
   "metadata": {},
   "source": [
    "#### 1. What advantages do Excel spreadsheets have over CSV spreadsheets?"
   ]
  },
  {
   "cell_type": "markdown",
   "id": "dce3a772",
   "metadata": {},
   "source": [
    "#### Ans:\n",
    "1. Excel files can store and analyse large and complex files easily as compared to the csv files.\n",
    "2. Excel files can perform VBA coding while csv files cannot."
   ]
  },
  {
   "cell_type": "markdown",
   "id": "7f41e175",
   "metadata": {},
   "source": [
    "#### 2.What do you pass to csv.reader() and csv.writer() to create reader and writer objects?"
   ]
  },
  {
   "cell_type": "markdown",
   "id": "674d63bb",
   "metadata": {},
   "source": [
    "#### Ans:\n",
    "To create a reader object using csv.reader() function, we need to pass two arguments. The first argument is the location of the file that we want to read and the second argument is the delimiter.\n",
    "\n",
    "To create a writer object using csv.writer() function, we need to pass two arguments. The first argument is the location of the file on which we want to write and the second argument is the delimiter."
   ]
  },
  {
   "cell_type": "markdown",
   "id": "2e367f57",
   "metadata": {},
   "source": [
    "#### 3. What modes do File objects for reader and writer objects need to be opened in?"
   ]
  },
  {
   "cell_type": "markdown",
   "id": "e7c1cd7b",
   "metadata": {},
   "source": [
    "#### Ans:\n",
    "The reader object needs to be opened in read mode to read the content of the files.\n",
    "\n",
    "The writer object needs to be opened in write mode to write the content to the files."
   ]
  },
  {
   "cell_type": "markdown",
   "id": "bbfada87",
   "metadata": {},
   "source": [
    "#### 4. What method takes a list argument and writes it to a CSV file?"
   ]
  },
  {
   "cell_type": "markdown",
   "id": "b67fe88b",
   "metadata": {},
   "source": [
    "#### Ans:\n",
    "The writerow() method of writer object takes a list argument and writes a single row in the file.\n",
    "\n",
    "The writerows() method of writer object also takes a list argument and writes multiple rows in the file."
   ]
  },
  {
   "cell_type": "markdown",
   "id": "745ec9f5",
   "metadata": {},
   "source": [
    "#### 5. What do the keyword arguments delimiter and line terminator do?"
   ]
  },
  {
   "cell_type": "markdown",
   "id": "1e76a985",
   "metadata": {},
   "source": [
    "#### Ans:\n",
    "A delimiter is a charachter or a string using which we can separate the words or contents of the file.\n",
    "\n",
    "A line terminator comes at the end of a line that seperates different lines of the file. By default, it is a newline and can be changed if required."
   ]
  },
  {
   "cell_type": "markdown",
   "id": "2699ed83",
   "metadata": {},
   "source": [
    "#### 6. What function takes a string of JSON data and returns a Python data structure?"
   ]
  },
  {
   "cell_type": "markdown",
   "id": "d2526b51",
   "metadata": {},
   "source": [
    "#### Ans:\n",
    "loads() function of json module takes a string of JSON data and returns a Python data structure."
   ]
  },
  {
   "cell_type": "code",
   "execution_count": 1,
   "id": "1d9a74e7",
   "metadata": {},
   "outputs": [
    {
     "name": "stdout",
     "output_type": "stream",
     "text": [
      "{\n",
      "    \"a\": 1,\n",
      "    \"b\": 2,\n",
      "    \"c\": 3\n",
      "}\n",
      "{'a': 1, 'b': 2, 'c': 3}\n"
     ]
    }
   ],
   "source": [
    "import json\n",
    "json_string ='''{\n",
    "    \"a\": 1,\n",
    "    \"b\": 2,\n",
    "    \"c\": 3\n",
    "}'''\n",
    "print(json_string)\n",
    "python_data_structure = json.loads(json_string)\n",
    "print(python_data_structure)"
   ]
  },
  {
   "cell_type": "markdown",
   "id": "3ed1bdb8",
   "metadata": {},
   "source": [
    "#### 7. What function takes a Python data structure and returns a string of JSON data?"
   ]
  },
  {
   "cell_type": "markdown",
   "id": "c1c9139a",
   "metadata": {},
   "source": [
    "#### Ans:\n",
    "dumps() function of json module takes a python data structure and returns a string of JSON data."
   ]
  },
  {
   "cell_type": "code",
   "execution_count": 2,
   "id": "01e99895",
   "metadata": {},
   "outputs": [
    {
     "name": "stdout",
     "output_type": "stream",
     "text": [
      "{'a': 1, 'b': 2, 'c': 3}\n",
      "{\n",
      "    \"a\": 1,\n",
      "    \"b\": 2,\n",
      "    \"c\": 3\n",
      "}\n"
     ]
    }
   ],
   "source": [
    "import json\n",
    "python_data_structure ={\"a\": 1,\"b\": 2,\"c\": 3}\n",
    "print(python_data_structure)\n",
    "json_string = json.dumps(python_data_structure, indent=4, sort_keys=True)\n",
    "print(json_string)"
   ]
  },
  {
   "cell_type": "code",
   "execution_count": null,
   "id": "090d8814",
   "metadata": {},
   "outputs": [],
   "source": []
  }
 ],
 "metadata": {
  "kernelspec": {
   "display_name": "Python 3 (ipykernel)",
   "language": "python",
   "name": "python3"
  },
  "language_info": {
   "codemirror_mode": {
    "name": "ipython",
    "version": 3
   },
   "file_extension": ".py",
   "mimetype": "text/x-python",
   "name": "python",
   "nbconvert_exporter": "python",
   "pygments_lexer": "ipython3",
   "version": "3.9.7"
  }
 },
 "nbformat": 4,
 "nbformat_minor": 5
}
