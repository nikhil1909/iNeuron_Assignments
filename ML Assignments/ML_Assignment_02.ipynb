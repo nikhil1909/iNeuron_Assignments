{
 "cells": [
  {
   "cell_type": "markdown",
   "id": "15a29d41",
   "metadata": {},
   "source": [
    "#### 1. What is the concept of human learning? Please give two examples."
   ]
  },
  {
   "cell_type": "markdown",
   "id": "84d14511",
   "metadata": {},
   "source": [
    "#### Ans:\n",
    "Human learning is the form of learning which requires higher order mental processes like thinking, reasoning, intelligence, etc.We learn different concepts from childhood. For example:\n",
    "\n",
    "Learning through Association - Classical Conditioning.\n",
    "\n",
    "Learning through consequences – Operant Conditioning.\n",
    "\n",
    "Learning through observation – Modeling/Observational Learning."
   ]
  },
  {
   "cell_type": "markdown",
   "id": "9aed3f9e",
   "metadata": {},
   "source": [
    "#### 2. What different forms of human learning are there? Are there any machine learning equivalents?"
   ]
  },
  {
   "cell_type": "markdown",
   "id": "004f8d89",
   "metadata": {},
   "source": [
    "#### Ans:\n",
    "The three forms of human learning are:\n",
    "\n",
    "Learning through Association - Classical Conditioning.\n",
    "\n",
    "Learning through consequences – Operant Conditioning.\n",
    "\n",
    "Learning through observation – Modeling/Observational Learning.\n",
    "\n",
    "Mahine learning equivalents for Classical Conditioning, Operant Conditioning and Modeling/Observational Learning are Unsupervised learning, Reinforcement learning and Supervised learning respectively."
   ]
  },
  {
   "cell_type": "markdown",
   "id": "31b5db05",
   "metadata": {},
   "source": [
    "#### 3. What is machine learning, and how does it work? What are the key responsibilities of machine learning?"
   ]
  },
  {
   "cell_type": "markdown",
   "id": "b9816c5b",
   "metadata": {},
   "source": [
    "#### Ans:\n",
    "Machine Learning is a field of study that gives the machines/computers the capability to learn without being explicitly programmed. It works by feeding the data to machines to build machine learning models using the data and different algorithm.\n",
    "\n",
    "Key responsibilities of machine learning are:\n",
    "\n",
    "1. Analysing the data.\n",
    "2. Creating model using the model.\n",
    "3. Making inferences and predictions using the created models."
   ]
  },
  {
   "cell_type": "markdown",
   "id": "ce8361c6",
   "metadata": {},
   "source": [
    "#### 4. Define the terms &quot;penalty&quot; and &quot;reward&quot; in the context of reinforcement learning."
   ]
  },
  {
   "cell_type": "markdown",
   "id": "4184cd3d",
   "metadata": {},
   "source": [
    "#### Ans:\n",
    "In Reinforcement learning, the machine/agent interacts with some environment and gets some reward whenever it interacts/performs correctly and gets a penalty when it performs incorrectly. It learns without human intervention by maximizing its rewards and minimizing the penalties."
   ]
  },
  {
   "cell_type": "markdown",
   "id": "323c9454",
   "metadata": {},
   "source": [
    "#### 5. Explain the term &quot;learning as a search&quot;?"
   ]
  },
  {
   "cell_type": "markdown",
   "id": "cfb6e0ea",
   "metadata": {},
   "source": [
    "#### Ans:\n",
    "'Learning as a search' searches through all the hypothesis in the hypothesis space that best fits or describes the training data"
   ]
  },
  {
   "cell_type": "markdown",
   "id": "e5aff7b1",
   "metadata": {},
   "source": [
    "#### 6. What are the various goals of machine learning? What is the relationship between these and human learning?"
   ]
  },
  {
   "cell_type": "markdown",
   "id": "2e81354e",
   "metadata": {},
   "source": [
    "#### Ans:\n",
    "The goals of machine learning are:\n",
    "1. Train some model to make predictions.\n",
    "2. Clustering the data to make inferences.\n",
    "3. Improving or updating the model based on past data.\n",
    "\n",
    "Relationship between machine learning and human learning is that both use past experiences/data to gain information to perform some tasks in more efficient ways."
   ]
  },
  {
   "cell_type": "markdown",
   "id": "2b6cb614",
   "metadata": {},
   "source": [
    "#### 7. Illustrate the various elements of machine learning using a real-life illustration."
   ]
  },
  {
   "cell_type": "markdown",
   "id": "632791ed",
   "metadata": {},
   "source": [
    "#### Ans:\n",
    "Various elements of machine learning in house price predictions are:\n",
    "1. Collecting data: We need to gather adequate quantity of real-life data on house prices and then split the dataset into train and test set.\n",
    "2. Data Transformation: We need to clean the collected data, i.e. remove noise and outliers from the data, and then extact useful features from the data.\n",
    "3. Model training: Using various machine learning algorithms like linear regression, knn, random forest, etc. on the transformed data, we may build various models to predict the prices of the houses.\n",
    "4. Model evaluation: We can use various metrics like R-square, mean absolute error, etc. to decide which model performs best on the test data and deploy that modelfor further use."
   ]
  },
  {
   "cell_type": "markdown",
   "id": "559fa88b",
   "metadata": {},
   "source": [
    "#### 8. Provide an example of the abstraction method."
   ]
  },
  {
   "cell_type": "markdown",
   "id": "9208828e",
   "metadata": {},
   "source": [
    "#### Ans:\n",
    "Abstraction is a simplification of the representation of a problem which enables that problem to be solved more efficiently (using less memory and/or less computation).\n",
    "\n",
    "Examples of data abstraction are:\n",
    "\n",
    "Reducing spatial/temporal resolution.\n",
    "\n",
    "Discretise continuous variables into important goal-oriented ranges.\n",
    "\n",
    "Classify patterns by discrete labels.\n",
    "\n",
    "Reduce dimensionality by projection onto a subspace."
   ]
  },
  {
   "cell_type": "markdown",
   "id": "7c0ce703",
   "metadata": {},
   "source": [
    "#### 9. What is the concept of generalization? What function does it play in the machine learning process?"
   ]
  },
  {
   "cell_type": "markdown",
   "id": "89c810e1",
   "metadata": {},
   "source": [
    "#### Ans:\n",
    "Generalization is the ability of the model to be able to adapt to new, previously unseen data, drawn from the same distribution as the one used to create a model.\n",
    "\n",
    "In machine learning, generalization is a term to demonstrate how well the trained model is to predict new data. Data diversity is an important factor for generalization."
   ]
  },
  {
   "cell_type": "markdown",
   "id": "772a0988",
   "metadata": {},
   "source": [
    "#### 10. What is classification, exactly? What are the main distinctions between classification and regression?"
   ]
  },
  {
   "cell_type": "markdown",
   "id": "d052e179",
   "metadata": {},
   "source": [
    "#### Ans:\n",
    "Classification is a supervised machine learning method in which we classify or put a label on some data point where the label is chosen from a set of discrete labels. For example, classifying whether an image is a dog image or cat image. \n",
    "\n",
    "Main distinctions between classification and regression are:\n",
    "1. In regression, the response variable is continuous whereas in classification, the response variable is discrete.\n",
    "2. In regression, the respose variable must have a numerical value whereas in classification may be numerical or non-numerical."
   ]
  },
  {
   "cell_type": "markdown",
   "id": "c1590013",
   "metadata": {},
   "source": [
    "#### 11. What is regression, and how does it work? Give an example of a real-world problem that was solved using regression."
   ]
  },
  {
   "cell_type": "markdown",
   "id": "2ec19fd1",
   "metadata": {},
   "source": [
    "#### Ans:\n",
    "Regression is a supervised machine learning technique using which we make prediction for continuous values. It works by fitting a line or a curve to the data to make predictions. It chooses the curve in such a way to minimize the cost function.\n",
    "\n",
    "Regression is used to predict the price of cars or houses. Regression is also used to predict the sales based on the amount spent on advertisement."
   ]
  },
  {
   "cell_type": "markdown",
   "id": "849d5220",
   "metadata": {},
   "source": [
    "#### 12. Describe the clustering mechanism in detail."
   ]
  },
  {
   "cell_type": "markdown",
   "id": "381f3824",
   "metadata": {},
   "source": [
    "#### Ans:\n",
    "Clustering is an unsupervised machine learning technique using which we can divide the data into different segments or groups where the property of each segment is that the data points belonging to one segment are more similar to each other when compared to the data points of the est of the segments."
   ]
  },
  {
   "cell_type": "markdown",
   "id": "02bef490",
   "metadata": {},
   "source": [
    "#### 13. Make brief observations on two of the following topics:\n",
    "\n",
    "#### i. Machine learning algorithms are used\n",
    "\n",
    "#### ii. Studying under supervision\n",
    "\n",
    "#### iii. Studying without supervision\n",
    "\n",
    "#### iv. Reinforcement learning is a form of learning based on positive reinforcement."
   ]
  },
  {
   "cell_type": "markdown",
   "id": "972687eb",
   "metadata": {},
   "source": [
    "#### Ans:\n",
    "1. Machine learning algorithms are used: In machine learning, different algorithms are used for different kinds of problems like regression, classification, clustering, etc. The choice of algorithms again depends on the quality and distribution of the data.\n",
    "2. Studying under supervision: In machine learning, we have supervised learning techniques which use a supervisor or response variable to quantify that how well our model is performing and using that information to decide which model to choose.\n",
    "3. Studying without supervision: In machine learning, we have unsupervised learning techniques which do not have a supervisor to decide how good the model is performing. In this we perform taks like clustering, dimensionality reduction, etc.\n",
    "4. Reinforcement learning is a form of learning based on positive reinforcement: In reinforcement learning, we have the concept of penalty and reward which means negative reinforcement and positive reinforcement respectively. An agent gets a reward whenever it performs correctly and gets penalty whenever it performs incorrectly."
   ]
  },
  {
   "cell_type": "code",
   "execution_count": null,
   "id": "da408f64",
   "metadata": {},
   "outputs": [],
   "source": []
  }
 ],
 "metadata": {
  "kernelspec": {
   "display_name": "Python 3 (ipykernel)",
   "language": "python",
   "name": "python3"
  },
  "language_info": {
   "codemirror_mode": {
    "name": "ipython",
    "version": 3
   },
   "file_extension": ".py",
   "mimetype": "text/x-python",
   "name": "python",
   "nbconvert_exporter": "python",
   "pygments_lexer": "ipython3",
   "version": "3.9.13"
  }
 },
 "nbformat": 4,
 "nbformat_minor": 5
}
