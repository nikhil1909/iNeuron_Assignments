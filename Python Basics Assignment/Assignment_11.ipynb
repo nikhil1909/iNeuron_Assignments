{
 "cells": [
  {
   "cell_type": "markdown",
   "id": "735bff0a",
   "metadata": {},
   "source": [
    "#### 1. Create an assert statement that throws an AssertionError if the variable spam is a negative integer."
   ]
  },
  {
   "cell_type": "markdown",
   "id": "65665515",
   "metadata": {},
   "source": [
    "#### Ans:"
   ]
  },
  {
   "cell_type": "code",
   "execution_count": 1,
   "id": "19297801",
   "metadata": {},
   "outputs": [
    {
     "name": "stdout",
     "output_type": "stream",
     "text": [
      "Enter number:-10\n"
     ]
    },
    {
     "ename": "AssertionError",
     "evalue": "Spam should not be negative",
     "output_type": "error",
     "traceback": [
      "\u001b[1;31m---------------------------------------------------------------------------\u001b[0m",
      "\u001b[1;31mAssertionError\u001b[0m                            Traceback (most recent call last)",
      "\u001b[1;32m~\\AppData\\Local\\Temp/ipykernel_11888/3830645552.py\u001b[0m in \u001b[0;36m<module>\u001b[1;34m\u001b[0m\n\u001b[0;32m      1\u001b[0m \u001b[0mspam\u001b[0m \u001b[1;33m=\u001b[0m \u001b[0mint\u001b[0m\u001b[1;33m(\u001b[0m\u001b[0minput\u001b[0m\u001b[1;33m(\u001b[0m\u001b[1;34m\"Enter number:\"\u001b[0m\u001b[1;33m)\u001b[0m\u001b[1;33m)\u001b[0m\u001b[1;33m\u001b[0m\u001b[1;33m\u001b[0m\u001b[0m\n\u001b[1;32m----> 2\u001b[1;33m \u001b[1;32massert\u001b[0m \u001b[0mspam\u001b[0m\u001b[1;33m>=\u001b[0m\u001b[1;36m0\u001b[0m\u001b[1;33m,\u001b[0m \u001b[1;34m\"Spam should not be negative\"\u001b[0m\u001b[1;33m\u001b[0m\u001b[1;33m\u001b[0m\u001b[0m\n\u001b[0m",
      "\u001b[1;31mAssertionError\u001b[0m: Spam should not be negative"
     ]
    }
   ],
   "source": [
    "spam = int(input(\"Enter number:\"))\n",
    "assert spam>=0, \"Spam should not be negative\""
   ]
  },
  {
   "cell_type": "markdown",
   "id": "b7dc8a66",
   "metadata": {},
   "source": [
    "#### 2. Write an assert statement that triggers an AssertionError if the variables eggs and bacon contain strings that are the same as each other, even if their cases are different (that is, &#39;hello&#39; and &#39;hello&#39; are considered the same, and &#39;goodbye&#39; and &#39;GOODbye&#39; are also considered the same)."
   ]
  },
  {
   "cell_type": "markdown",
   "id": "def230fc",
   "metadata": {},
   "source": [
    "#### Ans:"
   ]
  },
  {
   "cell_type": "code",
   "execution_count": 2,
   "id": "8cd4b820",
   "metadata": {},
   "outputs": [
    {
     "ename": "AssertionError",
     "evalue": "Strings are not same",
     "output_type": "error",
     "traceback": [
      "\u001b[1;31m---------------------------------------------------------------------------\u001b[0m",
      "\u001b[1;31mAssertionError\u001b[0m                            Traceback (most recent call last)",
      "\u001b[1;32m~\\AppData\\Local\\Temp/ipykernel_11888/999741376.py\u001b[0m in \u001b[0;36m<module>\u001b[1;34m\u001b[0m\n\u001b[0;32m      1\u001b[0m \u001b[0meggs\u001b[0m \u001b[1;33m=\u001b[0m \u001b[1;34m'hello'\u001b[0m\u001b[1;33m\u001b[0m\u001b[1;33m\u001b[0m\u001b[0m\n\u001b[0;32m      2\u001b[0m \u001b[0mbacon\u001b[0m \u001b[1;33m=\u001b[0m \u001b[1;34m'hellO'\u001b[0m\u001b[1;33m\u001b[0m\u001b[1;33m\u001b[0m\u001b[0m\n\u001b[1;32m----> 3\u001b[1;33m \u001b[1;32massert\u001b[0m \u001b[0meggs\u001b[0m\u001b[1;33m.\u001b[0m\u001b[0mlower\u001b[0m\u001b[1;33m(\u001b[0m\u001b[1;33m)\u001b[0m\u001b[1;33m!=\u001b[0m\u001b[0mbacon\u001b[0m\u001b[1;33m.\u001b[0m\u001b[0mlower\u001b[0m\u001b[1;33m(\u001b[0m\u001b[1;33m)\u001b[0m\u001b[1;33m,\u001b[0m \u001b[1;34m\"Strings are not same\"\u001b[0m\u001b[1;33m\u001b[0m\u001b[1;33m\u001b[0m\u001b[0m\n\u001b[0m",
      "\u001b[1;31mAssertionError\u001b[0m: Strings are not same"
     ]
    }
   ],
   "source": [
    "eggs = 'hello'\n",
    "bacon = 'hellO'\n",
    "assert eggs.lower()!=bacon.lower(), \"Strings are not same\""
   ]
  },
  {
   "cell_type": "markdown",
   "id": "b3d3ca51",
   "metadata": {},
   "source": [
    "#### 3. Create an assert statement that throws an AssertionError every time."
   ]
  },
  {
   "cell_type": "markdown",
   "id": "960a7012",
   "metadata": {},
   "source": [
    "#### Ans:"
   ]
  },
  {
   "cell_type": "code",
   "execution_count": 3,
   "id": "423a7bbf",
   "metadata": {},
   "outputs": [
    {
     "ename": "AssertionError",
     "evalue": "Throws assertion everytime",
     "output_type": "error",
     "traceback": [
      "\u001b[1;31m---------------------------------------------------------------------------\u001b[0m",
      "\u001b[1;31mAssertionError\u001b[0m                            Traceback (most recent call last)",
      "\u001b[1;32m~\\AppData\\Local\\Temp/ipykernel_11888/4047674677.py\u001b[0m in \u001b[0;36m<module>\u001b[1;34m\u001b[0m\n\u001b[1;32m----> 1\u001b[1;33m \u001b[1;32massert\u001b[0m \u001b[1;32mFalse\u001b[0m\u001b[1;33m,\u001b[0m \u001b[1;34m\"Throws assertion everytime\"\u001b[0m\u001b[1;33m\u001b[0m\u001b[1;33m\u001b[0m\u001b[0m\n\u001b[0m",
      "\u001b[1;31mAssertionError\u001b[0m: Throws assertion everytime"
     ]
    }
   ],
   "source": [
    "assert False, \"Throws assertion everytime\""
   ]
  },
  {
   "cell_type": "markdown",
   "id": "88d28810",
   "metadata": {},
   "source": [
    "#### 4. What are the two lines that must be present in your software in order to call logging.debug()?"
   ]
  },
  {
   "cell_type": "markdown",
   "id": "15d33876",
   "metadata": {},
   "source": [
    "#### Ans:\n",
    "The two required lines are:"
   ]
  },
  {
   "cell_type": "code",
   "execution_count": 4,
   "id": "da1f95b9",
   "metadata": {},
   "outputs": [],
   "source": [
    "import logging\n",
    "logging.basicConfig(filename = 'abc.txt',level=logging.DEBUG, format=' %(asctime)s - %(levelname)s - %(message)s')"
   ]
  },
  {
   "cell_type": "markdown",
   "id": "64216f2d",
   "metadata": {},
   "source": [
    "#### 5. What are the two lines that your program must have in order to have logging.debug() send a logging message to a file named programLog.txt?"
   ]
  },
  {
   "cell_type": "markdown",
   "id": "a240763c",
   "metadata": {},
   "source": [
    "#### Ans:\n",
    "The required lines are:"
   ]
  },
  {
   "cell_type": "code",
   "execution_count": 5,
   "id": "46a08880",
   "metadata": {},
   "outputs": [],
   "source": [
    "import logging\n",
    "logging.basicConfig(filename = 'program_Log.txt',level=logging.DEBUG, format=' %(asctime)s - %(levelname)s - %(message)s')\n",
    "logging.debug(\"Logging message is added\")"
   ]
  },
  {
   "cell_type": "markdown",
   "id": "22cc6aa5",
   "metadata": {},
   "source": [
    "#### 6. What are the five levels of logging?"
   ]
  },
  {
   "cell_type": "markdown",
   "id": "05fc2a8c",
   "metadata": {},
   "source": [
    "#### Ans: \n",
    "The levels of logging are: `CRITICAL(50)`, `ERROR(40)`, `WARNING(30)`, `INFO(20)`, `DEBUG(10)` and `NOTSET(0)`"
   ]
  },
  {
   "cell_type": "markdown",
   "id": "dbc758a3",
   "metadata": {},
   "source": [
    "#### 7. What line of code would you add to your software to disable all logging messages?"
   ]
  },
  {
   "cell_type": "markdown",
   "id": "f53bf0ff",
   "metadata": {},
   "source": [
    "#### Ans:\n",
    "The required line is"
   ]
  },
  {
   "cell_type": "code",
   "execution_count": 6,
   "id": "e71eb4f2",
   "metadata": {},
   "outputs": [],
   "source": [
    "logging.disable = True"
   ]
  },
  {
   "cell_type": "markdown",
   "id": "344b2288",
   "metadata": {},
   "source": [
    "#### 8.Why is using logging messages better than using print() to display the same message?"
   ]
  },
  {
   "cell_type": "markdown",
   "id": "236490a1",
   "metadata": {},
   "source": [
    "#### Ans:\n",
    "If we want to remove the messages then we can simply disable the logging messages without meddling with the logging function whereas we would need to remove the print statements manually which is tiring activity.\n",
    "\n",
    "print() will simply display some message while logging can record the information about errors, debug, timestamps, etc."
   ]
  },
  {
   "cell_type": "markdown",
   "id": "9af64c7f",
   "metadata": {},
   "source": [
    "#### 9. What are the differences between the Step Over, Step In, and Step Out buttons in the debugger?"
   ]
  },
  {
   "cell_type": "markdown",
   "id": "2e89fb84",
   "metadata": {},
   "source": [
    "#### Ans:\n",
    "Step Over: It causes the debugger to executes the next line and if there is a function in that line, then debugger will \"step over\" into the function and execute it until the function returns, and then the debugger pauses.\n",
    "\n",
    "Step In: It causes the debugger to executes the next line ans then pause again.\n",
    "\n",
    "Step Out: I causes the debugger to execute the lines code until the current function returns."
   ]
  },
  {
   "cell_type": "markdown",
   "id": "d095930a",
   "metadata": {},
   "source": [
    "#### 10.After you click Continue, when will the debugger stop ?"
   ]
  },
  {
   "cell_type": "markdown",
   "id": "373af3ea",
   "metadata": {},
   "source": [
    "#### Ans:\n",
    "The debugger will stop either when it reaches the breakpoint or when the whole program is executed."
   ]
  },
  {
   "cell_type": "markdown",
   "id": "b1237c4a",
   "metadata": {},
   "source": [
    "#### 11. What is the concept of a breakpoint?"
   ]
  },
  {
   "cell_type": "markdown",
   "id": "57814264",
   "metadata": {},
   "source": [
    "#### Ans:\n",
    "When there is a breakpoint in the code, then the program runs normally and as soon as the debugger reaches to the breakpoint, it pauses the execution."
   ]
  },
  {
   "cell_type": "code",
   "execution_count": null,
   "id": "3c9cdd32",
   "metadata": {},
   "outputs": [],
   "source": []
  }
 ],
 "metadata": {
  "kernelspec": {
   "display_name": "Python 3 (ipykernel)",
   "language": "python",
   "name": "python3"
  },
  "language_info": {
   "codemirror_mode": {
    "name": "ipython",
    "version": 3
   },
   "file_extension": ".py",
   "mimetype": "text/x-python",
   "name": "python",
   "nbconvert_exporter": "python",
   "pygments_lexer": "ipython3",
   "version": "3.9.7"
  }
 },
 "nbformat": 4,
 "nbformat_minor": 5
}
