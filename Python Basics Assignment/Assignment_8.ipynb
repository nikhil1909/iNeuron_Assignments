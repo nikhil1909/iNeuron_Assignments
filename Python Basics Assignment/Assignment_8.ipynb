{
 "cells": [
  {
   "cell_type": "markdown",
   "id": "b4421441",
   "metadata": {},
   "source": [
    "#### 1. Is the Python Standard Library included with PyInputPlus?"
   ]
  },
  {
   "cell_type": "markdown",
   "id": "247a95bf",
   "metadata": {},
   "source": [
    "#### Ans:\n",
    "No, PyInputPlus is not included in the Python Standard Library. We need to explicitly install it using the command `!pip install PyInputPlus` to use itts functions."
   ]
  },
  {
   "cell_type": "markdown",
   "id": "67f0e672",
   "metadata": {},
   "source": [
    "#### 2. Why is PyInputPlus commonly imported with import pyinputplus as pypi?"
   ]
  },
  {
   "cell_type": "markdown",
   "id": "a2da0b38",
   "metadata": {},
   "source": [
    "#### Ans:\n",
    "PyInputPlus is commonly imported with import pyinputplus as pypi so that we will be required to write a smaller name everytime we call its functions."
   ]
  },
  {
   "cell_type": "markdown",
   "id": "510ab500",
   "metadata": {},
   "source": [
    "#### 3. How do you distinguish between inputInt() and inputFloat()?"
   ]
  },
  {
   "cell_type": "markdown",
   "id": "c68c050a",
   "metadata": {},
   "source": [
    "#### Ans:\n",
    "inputInt() function accepts only integral values, and also returns the integral values only.\n",
    "\n",
    "FloatInt() function may accept both the integral values and floating-point values, but it only returns the floating-point values."
   ]
  },
  {
   "cell_type": "markdown",
   "id": "a2dd0f86",
   "metadata": {},
   "source": [
    "#### 4. Using PyInputPlus, how do you ensure that the user enters a whole number between 0 and 99?"
   ]
  },
  {
   "cell_type": "markdown",
   "id": "c7762b06",
   "metadata": {},
   "source": [
    "#### Ans:\n",
    "By using the inputInt() function and putting the values 0 and 99 for the parameters min and max respectively."
   ]
  },
  {
   "cell_type": "code",
   "execution_count": 2,
   "id": "2852217f",
   "metadata": {},
   "outputs": [
    {
     "name": "stdout",
     "output_type": "stream",
     "text": [
      "Enter a number101\n",
      "Number must be at maximum 99.\n",
      "Enter a number20\n",
      "20\n"
     ]
    }
   ],
   "source": [
    "import pyinputplus as pyip\n",
    "num = pyip.inputInt(\"Enter a number\",min=0,max=99)\n",
    "print(num)"
   ]
  },
  {
   "cell_type": "markdown",
   "id": "daf05be6",
   "metadata": {},
   "source": [
    "#### 5. What is transferred to the keyword arguments allowRegexes and blockRegexes?"
   ]
  },
  {
   "cell_type": "markdown",
   "id": "2aaa4f63",
   "metadata": {},
   "source": [
    "#### Ans:\n",
    "The keyword arguments  allowRegexes and blockRegexes take a list of regular expression strings to determine what the pyinputplus function will reject or accept valid input."
   ]
  },
  {
   "cell_type": "markdown",
   "id": "71e64d92",
   "metadata": {},
   "source": [
    "#### 6. If a blank input is entered three times, what does inputStr(limit=3) do?"
   ]
  },
  {
   "cell_type": "markdown",
   "id": "4d9e7449",
   "metadata": {},
   "source": [
    "#### Ans:\n",
    "If a blank input is entered three times, inputStr(limit=3) will throw two exceptions: ValidationException and RetryLimitException.\n",
    "\n",
    "ValidationException is thrown because inputStr() function doesn't allow blank inputs. To take blank inputs, we need to put the argument blank=True.\n",
    "\n",
    "RetryLimitException is thrown because the argument limit=3 specified that the maximum number of invalid arguments can be 3 only."
   ]
  },
  {
   "cell_type": "markdown",
   "id": "a1d6b4a5",
   "metadata": {},
   "source": [
    "#### 7. If blank input is entered three times, what does inputStr(limit=3, default=&#39;hello&#39;) do?"
   ]
  },
  {
   "cell_type": "markdown",
   "id": "dfcd6cf9",
   "metadata": {},
   "source": [
    "#### Ans:\n",
    "If blank input is entered three times, the function inputStr(limit=3, default='hello') returns 'hello'  instead of throwing any exception because default argument was given value 'hello'."
   ]
  },
  {
   "cell_type": "code",
   "execution_count": null,
   "id": "3a111074",
   "metadata": {},
   "outputs": [],
   "source": []
  }
 ],
 "metadata": {
  "kernelspec": {
   "display_name": "Python 3 (ipykernel)",
   "language": "python",
   "name": "python3"
  },
  "language_info": {
   "codemirror_mode": {
    "name": "ipython",
    "version": 3
   },
   "file_extension": ".py",
   "mimetype": "text/x-python",
   "name": "python",
   "nbconvert_exporter": "python",
   "pygments_lexer": "ipython3",
   "version": "3.9.7"
  }
 },
 "nbformat": 4,
 "nbformat_minor": 5
}
