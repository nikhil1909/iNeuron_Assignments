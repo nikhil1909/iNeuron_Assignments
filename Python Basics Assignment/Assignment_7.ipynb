{
 "cells": [
  {
   "cell_type": "markdown",
   "id": "0bb582e6",
   "metadata": {},
   "source": [
    "#### 1. What is the name of the feature responsible for generating Regex objects?"
   ]
  },
  {
   "cell_type": "markdown",
   "id": "04e66d22",
   "metadata": {},
   "source": [
    "#### Ans:\n",
    "compile() function of re module is responsible for generating Regex objects"
   ]
  },
  {
   "cell_type": "code",
   "execution_count": 1,
   "id": "30bb179c",
   "metadata": {},
   "outputs": [
    {
     "name": "stdout",
     "output_type": "stream",
     "text": [
      "re.compile('a*') <class 're.Pattern'>\n"
     ]
    }
   ],
   "source": [
    "import re\n",
    "regex_obj = re.compile('a*')\n",
    "print(regex_obj,type(regex_obj))"
   ]
  },
  {
   "cell_type": "markdown",
   "id": "8870f60d",
   "metadata": {},
   "source": [
    "#### 2. Why do raw strings often appear in Regex objects?"
   ]
  },
  {
   "cell_type": "markdown",
   "id": "2f049edc",
   "metadata": {},
   "source": [
    "#### Ans:\n",
    "The regular expressions require the use of backslash which allows special characters to be used without invoking their special meaning. In some cases we want those special characters to be used in their raw form only which can be done using the raw strings."
   ]
  },
  {
   "cell_type": "code",
   "execution_count": 2,
   "id": "25444053",
   "metadata": {},
   "outputs": [
    {
     "name": "stdout",
     "output_type": "stream",
     "text": [
      "\n",
      "\n",
      "\\n\n",
      "\t\n",
      "\\t\n",
      "\\\n",
      "\\\\\n"
     ]
    }
   ],
   "source": [
    "# Examples of raw strings\n",
    "print('\\n')\n",
    "print(r'\\n')\n",
    "print('\\t')\n",
    "print(r'\\t')\n",
    "print('\\\\')\n",
    "print(r'\\\\')"
   ]
  },
  {
   "cell_type": "markdown",
   "id": "8fff205c",
   "metadata": {},
   "source": [
    "#### 3. What is the return value of the search() method?"
   ]
  },
  {
   "cell_type": "markdown",
   "id": "216557d7",
   "metadata": {},
   "source": [
    "#### Ans:\n",
    "The search method i.e. `re.search(pattern, string)` returns a match object if atleast one occurence of the pattern is found in the string, otherwise it returns `None` object."
   ]
  },
  {
   "cell_type": "code",
   "execution_count": 3,
   "id": "715b47d0",
   "metadata": {},
   "outputs": [
    {
     "name": "stdout",
     "output_type": "stream",
     "text": [
      "<re.Match object; span=(1, 3), match='aa'>\n",
      "None\n"
     ]
    }
   ],
   "source": [
    "# Example of re.search()\n",
    "import re\n",
    "print(re.search('a+','baacdaaa')) # pattern exists\n",
    "print(re.search('a+','bbccdeee')) # pattern does not exists"
   ]
  },
  {
   "cell_type": "markdown",
   "id": "126d3a5c",
   "metadata": {},
   "source": [
    "#### 4. From a Match item, how do you get the actual strings that match the pattern?"
   ]
  },
  {
   "cell_type": "markdown",
   "id": "9d72ec5d",
   "metadata": {},
   "source": [
    "The Match item has a group() method that gives the actual strings that match the pattern"
   ]
  },
  {
   "cell_type": "code",
   "execution_count": 4,
   "id": "a0ba77fd",
   "metadata": {},
   "outputs": [
    {
     "name": "stdout",
     "output_type": "stream",
     "text": [
      "aaab\n"
     ]
    }
   ],
   "source": [
    "import re\n",
    "match = re.search('a*b','caaabc')\n",
    "print(match.group())"
   ]
  },
  {
   "cell_type": "markdown",
   "id": "739bcd6e",
   "metadata": {},
   "source": [
    "#### 5. In the regex which created from the r&#39;(\\d\\d\\d)-(\\d\\d\\d-\\d\\d\\d\\d)&#39;, what does group zero cover? Group 2? Group 1?"
   ]
  },
  {
   "cell_type": "markdown",
   "id": "80646012",
   "metadata": {},
   "source": [
    "#### Ans:\n",
    "The group zero covers the entire matched pattern. The group 1 covers the first group i.e. `(\\d\\d\\d)`. The group 2 covers the second group i.e. `(\\d\\d\\d-\\d\\d\\d\\d)`"
   ]
  },
  {
   "cell_type": "code",
   "execution_count": 5,
   "id": "4d3ac2da",
   "metadata": {},
   "outputs": [
    {
     "name": "stdout",
     "output_type": "stream",
     "text": [
      "123-456-7890\n",
      "123\n",
      "456-7890\n"
     ]
    }
   ],
   "source": [
    "import re\n",
    "match = re.search(r'(\\d\\d\\d)-(\\d\\d\\d-\\d\\d\\d\\d)', \"123-456-7890\")\n",
    "print(match.group())\n",
    "print(match.group(1))\n",
    "print(match.group(2))"
   ]
  },
  {
   "cell_type": "markdown",
   "id": "06398bea",
   "metadata": {},
   "source": [
    "#### 6. In standard expression syntax, parentheses and intervals have distinct meanings. How can you tell a regex that you want it to fit real parentheses and periods?"
   ]
  },
  {
   "cell_type": "markdown",
   "id": "b422a998",
   "metadata": {},
   "source": [
    "#### Ans:\n",
    "The backslash character `\\` can be used to fit real paranthesis and periods. We write it like `\\(, \\) and \\.`"
   ]
  },
  {
   "cell_type": "code",
   "execution_count": 6,
   "id": "cd4e0bc5",
   "metadata": {},
   "outputs": [
    {
     "name": "stdout",
     "output_type": "stream",
     "text": [
      "(aab).\n"
     ]
    }
   ],
   "source": [
    "import re\n",
    "match = re.search(r\"\\(a+b\\)\\.\",\"(aab).cc\")\n",
    "print(match.group())"
   ]
  },
  {
   "cell_type": "markdown",
   "id": "fc997b47",
   "metadata": {},
   "source": [
    "#### 7. The findall() method returns a string list or a list of string tuples. What causes it to return one of the two options?"
   ]
  },
  {
   "cell_type": "markdown",
   "id": "bc420b31",
   "metadata": {},
   "source": [
    "#### Ans:\n",
    "If there is no group in the regex pattern then findall method return a string list. And if there are groups in the regex pattern then findall method returns a list of string tuples. "
   ]
  },
  {
   "cell_type": "code",
   "execution_count": 7,
   "id": "5921f5b4",
   "metadata": {},
   "outputs": [
    {
     "name": "stdout",
     "output_type": "stream",
     "text": [
      "['bc.12']\n"
     ]
    }
   ],
   "source": [
    "# Example for string list\n",
    "match = re.findall(r'a?bc\\.\\d{2}','bc.1234')\n",
    "print(match)"
   ]
  },
  {
   "cell_type": "code",
   "execution_count": 8,
   "id": "906703ec",
   "metadata": {},
   "outputs": [
    {
     "name": "stdout",
     "output_type": "stream",
     "text": [
      "[('bc.', '12')]\n"
     ]
    }
   ],
   "source": [
    "# Example for list of string tuples\n",
    "match = re.findall(r'(a?bc\\.)(\\d{2})','bc.1234')\n",
    "print(match)"
   ]
  },
  {
   "cell_type": "markdown",
   "id": "e5088616",
   "metadata": {},
   "source": [
    "#### 8. In standard expressions, what does the | character mean?"
   ]
  },
  {
   "cell_type": "markdown",
   "id": "b3f77209",
   "metadata": {},
   "source": [
    "#### Ans:\n",
    "In standard expression,  the charachter `|` means `or`, i.e. `r1|r2` would mean either `r1` or  `r2`."
   ]
  },
  {
   "cell_type": "code",
   "execution_count": 9,
   "id": "57aeb825",
   "metadata": {},
   "outputs": [
    {
     "name": "stdout",
     "output_type": "stream",
     "text": [
      "Python\n"
     ]
    }
   ],
   "source": [
    "import re\n",
    "match = re.search(r'(p|P)ython','Basic Python')\n",
    "print(match.group())"
   ]
  },
  {
   "cell_type": "markdown",
   "id": "3e38eefa",
   "metadata": {},
   "source": [
    "#### 9. In regular expressions, what does the character `?` stand for?"
   ]
  },
  {
   "cell_type": "markdown",
   "id": "67493d8a",
   "metadata": {},
   "source": [
    "The charachter `?` stands for either 0 occurence or 1 occurence of the preceeding pattern."
   ]
  },
  {
   "cell_type": "code",
   "execution_count": 10,
   "id": "88429d14",
   "metadata": {},
   "outputs": [
    {
     "name": "stdout",
     "output_type": "stream",
     "text": [
      "python\n"
     ]
    }
   ],
   "source": [
    "import re\n",
    "match = re.search(r'p?ython','Basic ppython')\n",
    "print(match.group())"
   ]
  },
  {
   "cell_type": "markdown",
   "id": "65186719",
   "metadata": {},
   "source": [
    "#### 10.In regular expressions, what is the difference between the + and * characters?"
   ]
  },
  {
   "cell_type": "markdown",
   "id": "5561b1e8",
   "metadata": {},
   "source": [
    "#### Ans:\n",
    "The charachter `+` stands for 1 or more occurence of the preceeding pattern.\n",
    "\n",
    "The charachter `*` stands for 0 or more occurence of the preceeding pattern."
   ]
  },
  {
   "cell_type": "code",
   "execution_count": 11,
   "id": "4e88e1b8",
   "metadata": {},
   "outputs": [
    {
     "name": "stdout",
     "output_type": "stream",
     "text": [
      "\n"
     ]
    }
   ],
   "source": [
    "import re\n",
    "match = re.search(r'a*','baaabbbccc')\n",
    "print(match.group())"
   ]
  },
  {
   "cell_type": "code",
   "execution_count": 12,
   "id": "8ab8e484",
   "metadata": {},
   "outputs": [
    {
     "name": "stdout",
     "output_type": "stream",
     "text": [
      "aaa\n"
     ]
    }
   ],
   "source": [
    "import re\n",
    "match = re.search(r'a+','baaabbbccc')\n",
    "print(match.group())"
   ]
  },
  {
   "cell_type": "markdown",
   "id": "4db854f0",
   "metadata": {},
   "source": [
    "#### 11. What is the difference between {4} and {4,5} in regular expression?"
   ]
  },
  {
   "cell_type": "markdown",
   "id": "febbc07e",
   "metadata": {},
   "source": [
    "#### Ans:\n",
    "{4} means that the preceeding pattern should repeat exactly 4 times.\n",
    "\n",
    "{4,5} means that the preceeding pattern should repeat atleast 4 times and atmost 5 times."
   ]
  },
  {
   "cell_type": "code",
   "execution_count": 13,
   "id": "26cb4b66",
   "metadata": {},
   "outputs": [
    {
     "name": "stdout",
     "output_type": "stream",
     "text": [
      "1234\n"
     ]
    }
   ],
   "source": [
    "import re\n",
    "match = re.search(r'\\d{4}','ab123456')\n",
    "print(match.group())"
   ]
  },
  {
   "cell_type": "code",
   "execution_count": 14,
   "id": "ed5f937e",
   "metadata": {},
   "outputs": [
    {
     "name": "stdout",
     "output_type": "stream",
     "text": [
      "12345\n"
     ]
    }
   ],
   "source": [
    "import re\n",
    "match = re.search(r'\\d{4,5}','ab123456')\n",
    "print(match.group())"
   ]
  },
  {
   "cell_type": "markdown",
   "id": "589afdc9",
   "metadata": {},
   "source": [
    "#### 12. What do you mean by the \\d, \\w, and \\s shorthand character classes signify in regular expressions?"
   ]
  },
  {
   "cell_type": "markdown",
   "id": "99a4d274",
   "metadata": {},
   "source": [
    "#### Ans:\n",
    "\\d signifies the set of digits from 0 to 9, i.e. [0-9]\n",
    "\n",
    "\\w signifies the set of all alphanumeric characters including underscore, i.e. [a-zA-Z0-9_]\n",
    "\n",
    "\\s signifies the set of all whitespace character, i.e. space, tab, mewline, carriage return, etc."
   ]
  },
  {
   "cell_type": "markdown",
   "id": "56c7160c",
   "metadata": {},
   "source": [
    "#### 13. What do means by \\D, \\W, and \\S shorthand character classes signify in regular expressions?"
   ]
  },
  {
   "cell_type": "markdown",
   "id": "bfcc89ce",
   "metadata": {},
   "source": [
    "#### Ans:\n",
    "\\D signifies the set of all non-digit characters, i.e. [^0-9]\n",
    "\n",
    "\\W signifies the set of all non-alphanumeric characters excluding underscore, i.e. [^a-zA-Z0-9_]\n",
    "\n",
    "\\S signifies the set of all non-whitespace characters."
   ]
  },
  {
   "cell_type": "markdown",
   "id": "b84dbeae",
   "metadata": {},
   "source": [
    "#### 14. What is the difference between `.*?` and `.*`?"
   ]
  },
  {
   "cell_type": "markdown",
   "id": "79fdb345",
   "metadata": {},
   "source": [
    "`.*` gives the largest string that matches the pattern  while `.*?` gives the shortest string that matches the pattern. "
   ]
  },
  {
   "cell_type": "markdown",
   "id": "73096270",
   "metadata": {},
   "source": [
    "#### 15. What is the syntax for matching both numbers and lowercase letters with a character class?"
   ]
  },
  {
   "cell_type": "markdown",
   "id": "de4598de",
   "metadata": {},
   "source": [
    "#### Ans:\n",
    "The syntax that matches both numbers and lowercase letters is `[a-z0-9]` or `[0-9a-z]`."
   ]
  },
  {
   "cell_type": "markdown",
   "id": "2abedaa3",
   "metadata": {},
   "source": [
    "#### 16. What is the procedure for making a normal expression in regex case insensitive?"
   ]
  },
  {
   "cell_type": "markdown",
   "id": "54366c88",
   "metadata": {},
   "source": [
    "#### Ans:\n",
    "We can use re.IGNORECASE as the value for the parameter flag to make normal expression in regex case insensitive."
   ]
  },
  {
   "cell_type": "markdown",
   "id": "a51cb7e1",
   "metadata": {},
   "source": [
    "#### 17. What does the . character normally match? What does it match if re.DOTALL is passed as 2nd argument in re.compile()?"
   ]
  },
  {
   "cell_type": "markdown",
   "id": "7dfa4094",
   "metadata": {},
   "source": [
    "#### Ans:\n",
    "The dot(.) character matches every character except newline. If re.DOTALL is passed as 2nd argument in re.compile() then the dot(.) character will match every character including newline."
   ]
  },
  {
   "cell_type": "markdown",
   "id": "b4804208",
   "metadata": {},
   "source": [
    "#### 18. If numReg = re.compile(r&#39;\\d+&#39;), what will numRegex.sub(&#39;X&#39;, &#39;11 drummers, 10 pipers, five rings, 4 hen&#39;) return?"
   ]
  },
  {
   "cell_type": "markdown",
   "id": "f5b24252",
   "metadata": {},
   "source": [
    "#### Ans:\n",
    "It will return the given string with every substring matched with pattern numReg replaced with string 'X', i.e. `'X drummers, X pipers, five rings, X hen'`"
   ]
  },
  {
   "cell_type": "code",
   "execution_count": 15,
   "id": "27c47f71",
   "metadata": {},
   "outputs": [
    {
     "data": {
      "text/plain": [
       "'X drummers, X pipers, five rings, X hen'"
      ]
     },
     "execution_count": 15,
     "metadata": {},
     "output_type": "execute_result"
    }
   ],
   "source": [
    "import re\n",
    "numRegex = re.compile(r'\\d+')\n",
    "numRegex.sub('X', '11 drummers, 10 pipers, five rings, 4 hen')"
   ]
  },
  {
   "cell_type": "markdown",
   "id": "a86f9032",
   "metadata": {},
   "source": [
    "#### 19. What does passing re.VERBOSE as the 2nd argument to re.compile() allow to do?"
   ]
  },
  {
   "cell_type": "markdown",
   "id": "cf5b9209",
   "metadata": {},
   "source": [
    "#### Ans:\n",
    "On passing re.VERBOSE as the 2nd argument to re.compile(), it will allow to add whitespace and comments to string passed in re.compile()."
   ]
  },
  {
   "cell_type": "markdown",
   "id": "fc35c193",
   "metadata": {},
   "source": [
    "#### 20. How would you write a regex that match a number with comma for every three digits? It must match the given following:\n",
    "&#39;42&#39;\n",
    "\n",
    "&#39;1,234&#39;\n",
    "\n",
    "&#39;6,368,745&#39;\n",
    "\n",
    "#### but not the following:\n",
    "\n",
    "&#39;\n",
    "12,34,567&#39;\n",
    "#### (which has only two digits between the commas)\n",
    "&#39;1234&#39;\n",
    "#### (which lacks commas)"
   ]
  },
  {
   "cell_type": "markdown",
   "id": "9ac293ff",
   "metadata": {},
   "source": [
    "#### Ans:\n",
    "The required regular expression would be `^\\d{1,3}(,\\d{3})*$`"
   ]
  },
  {
   "cell_type": "code",
   "execution_count": 16,
   "id": "c5628408",
   "metadata": {},
   "outputs": [
    {
     "name": "stdout",
     "output_type": "stream",
     "text": [
      "<re.Match object; span=(0, 2), match='42'>\n",
      "<re.Match object; span=(0, 5), match='1,234'>\n",
      "<re.Match object; span=(0, 9), match='6,368,745'>\n",
      "None\n",
      "None\n"
     ]
    }
   ],
   "source": [
    "import re\n",
    "for string in ['42','1,234', '6,368,745','12,34,567','1234']:\n",
    "    match = re.search(r'^\\d{1,3}(,\\d{3})*$',string)\n",
    "    print(match)"
   ]
  },
  {
   "cell_type": "markdown",
   "id": "16c99071",
   "metadata": {},
   "source": [
    "#### 21. How would you write a regex that matches the full name of someone whose last name is Watanabe? You can assume that the first name that comes before it will always be one word that begins with a capital letter. The regex must match the following:\n",
    "&#39;Haruto Watanabe&#39;\n",
    "\n",
    "&#39;Alice Watanabe&#39;\n",
    "\n",
    "&#39;RoboCop Watanabe&#39;\n",
    "\n",
    "#### but not the following:\n",
    "&#39;haruto Watanabe&#39; \n",
    "#### (where the first name is not capitalized)\n",
    "&#39;Mr. Watanabe&#39; \n",
    "#### (where the preceding word has a nonletter character)\n",
    "&#39;Watanabe&#39; \n",
    "#### (which has no first name)\n",
    "&#39;Haruto watanabe&#39; \n",
    "#### (where Watanabe is not capitalized)"
   ]
  },
  {
   "cell_type": "markdown",
   "id": "eff97898",
   "metadata": {},
   "source": [
    "#### Ans:\n",
    "The required regular expression would be `[A-Z]{1}[A-Za-z]* Watanabe`."
   ]
  },
  {
   "cell_type": "code",
   "execution_count": 17,
   "id": "e441b4fb",
   "metadata": {},
   "outputs": [
    {
     "name": "stdout",
     "output_type": "stream",
     "text": [
      "<re.Match object; span=(0, 15), match='Haruto Watanabe'>\n",
      "<re.Match object; span=(0, 14), match='Alice Watanabe'>\n",
      "<re.Match object; span=(0, 16), match='RoboCop Watanabe'>\n",
      "None\n",
      "None\n",
      "None\n",
      "None\n"
     ]
    }
   ],
   "source": [
    "import re\n",
    "for string in ['Haruto Watanabe','Alice Watanabe','RoboCop Watanabe','haruto Watanabe','Mr. Watanabe','Watanabe','Haruto watanabe']:\n",
    "    match = re.search(r'[A-Z]{1}[A-Za-z]* Watanabe',string)\n",
    "    print(match)"
   ]
  },
  {
   "cell_type": "markdown",
   "id": "5acfc93a",
   "metadata": {},
   "source": [
    "#### 22. How would you write a regex that matches a sentence where the first word is either Alice, Bob, or Carol; the second word is either eats, pets, or throws; the third word is apples, cats, or baseballs; and the sentence ends with a period? This regex should be case-insensitive. It must match the following:\n",
    "&#39;Alice eats apples.&#39;\n",
    "\n",
    "&#39;Bob pets cats.&#39;\n",
    "\n",
    "&#39;Carol throws baseballs.&#39;\n",
    "\n",
    "&#39;Alice throws Apples.&#39;\n",
    "\n",
    "&#39;BOB EATS CATS.&#39;\n",
    "\n",
    "#### but not the following:\n",
    "&#39;RoboCop eats apples.&#39;\n",
    "\n",
    "&#39;ALICE THROWS FOOTBALLS.&#39;\n",
    "\n",
    "&#39;Carol eats 7 cats.&#39;"
   ]
  },
  {
   "cell_type": "markdown",
   "id": "ee15d058",
   "metadata": {},
   "source": [
    "#### Ans:\n",
    "The required regular expression would be `(alice|bob|carol) (eats|pets|throws) (apples|cats|baseballs)\\.`."
   ]
  },
  {
   "cell_type": "code",
   "execution_count": 18,
   "id": "2507036c",
   "metadata": {},
   "outputs": [
    {
     "name": "stdout",
     "output_type": "stream",
     "text": [
      "<re.Match object; span=(0, 18), match='Alice eats apples.'>\n",
      "<re.Match object; span=(0, 14), match='Bob pets cats.'>\n",
      "<re.Match object; span=(0, 23), match='Carol throws baseballs.'>\n",
      "<re.Match object; span=(0, 20), match='Alice throws Apples.'>\n",
      "<re.Match object; span=(0, 14), match='BOB EATS CATS.'>\n",
      "None\n",
      "None\n",
      "None\n"
     ]
    }
   ],
   "source": [
    "import re\n",
    "for string in ['Alice eats apples.','Bob pets cats.','Carol throws baseballs.','Alice throws Apples.','BOB EATS CATS.','RoboCop eats apples.','ALICE THROWS FOOTBALLS.','Carol eats 7 cats.']:\n",
    "    match = re.search(r'(alice|bob|carol) (eats|pets|throws) (apples|cats|baseballs)\\.',string,flags=re.IGNORECASE)\n",
    "    print(match)"
   ]
  },
  {
   "cell_type": "code",
   "execution_count": null,
   "id": "a16eb57a",
   "metadata": {},
   "outputs": [],
   "source": []
  }
 ],
 "metadata": {
  "kernelspec": {
   "display_name": "Python 3 (ipykernel)",
   "language": "python",
   "name": "python3"
  },
  "language_info": {
   "codemirror_mode": {
    "name": "ipython",
    "version": 3
   },
   "file_extension": ".py",
   "mimetype": "text/x-python",
   "name": "python",
   "nbconvert_exporter": "python",
   "pygments_lexer": "ipython3",
   "version": "3.9.7"
  }
 },
 "nbformat": 4,
 "nbformat_minor": 5
}
