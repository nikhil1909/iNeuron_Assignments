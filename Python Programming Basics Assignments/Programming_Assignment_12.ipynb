{
 "cells": [
  {
   "cell_type": "markdown",
   "id": "2a95b848",
   "metadata": {},
   "source": [
    "#### 1. Write a Python program to Extract Unique values dictionary values?"
   ]
  },
  {
   "cell_type": "code",
   "execution_count": 1,
   "id": "3bc82ae3",
   "metadata": {},
   "outputs": [
    {
     "name": "stdout",
     "output_type": "stream",
     "text": [
      "The unique values of the dictionary '{'a': 1, 'b': 2, 'c': 3, 'd': 4, 'e': 2, 'f': 3}' are: [1, 4]\n"
     ]
    }
   ],
   "source": [
    "def extract_unique(dic):\n",
    "    l1 = list(dic.values())\n",
    "    l2 = []\n",
    "    for value in l1:\n",
    "        if l1.count(value)==1:\n",
    "            l2.append(value)\n",
    "    return l2\n",
    "\n",
    "dic = {'a':1,'b':2, 'c':3, 'd':4, 'e':2, 'f':3}\n",
    "print(\"The unique values of the dictionary '\"+str(dic)+\"' are:\",extract_unique(dic))"
   ]
  },
  {
   "cell_type": "markdown",
   "id": "87dbc3a0",
   "metadata": {},
   "source": [
    "#### 2. Write a Python program to find the sum of all items in a dictionary?"
   ]
  },
  {
   "cell_type": "code",
   "execution_count": 2,
   "id": "ee3f4740",
   "metadata": {},
   "outputs": [
    {
     "name": "stdout",
     "output_type": "stream",
     "text": [
      "The sum of the values of the dictionary '{'a': 1, 'b': 2, 'c': 3, 'd': 4, 'e': 2, 'f': 3}' is: 15\n"
     ]
    }
   ],
   "source": [
    "def sum_values(dic):\n",
    "    summ = 0\n",
    "    for value in dic.values():\n",
    "        summ+=value\n",
    "    return summ\n",
    "\n",
    "dic = {'a':1,'b':2, 'c':3, 'd':4, 'e':2, 'f':3}\n",
    "print(\"The sum of the values of the dictionary '\"+str(dic)+\"' is:\",sum_values(dic))"
   ]
  },
  {
   "cell_type": "markdown",
   "id": "e0b0ef8b",
   "metadata": {},
   "source": [
    "#### 3. Write a Python program to Merging two Dictionaries?"
   ]
  },
  {
   "cell_type": "code",
   "execution_count": 3,
   "id": "f0285d3f",
   "metadata": {},
   "outputs": [
    {
     "name": "stdout",
     "output_type": "stream",
     "text": [
      "The merged dictionary is {'a': 1, 'b': 2, 'c': 3, 'd': 4, 'e': 2, 'f': 3, 'g': 1, 'h': 2}\n"
     ]
    }
   ],
   "source": [
    "def merge_dic(dic1, dic2):\n",
    "    dic3 = {}\n",
    "    for key, value in dic1.items():\n",
    "            dic3[key]=value\n",
    "            \n",
    "    for key, value in dic2.items():\n",
    "            dic3[key]=value\n",
    "    return dic3\n",
    "\n",
    "dic1 = {'a':1,'b':2, 'c':3, 'd':4, 'e':2, 'f':3}\n",
    "dic2 = {'g':1,'h':2}\n",
    "print(\"The merged dictionary is\",merge_dic(dic1,dic2))"
   ]
  },
  {
   "cell_type": "markdown",
   "id": "84a25f0e",
   "metadata": {},
   "source": [
    "#### 4. Write a Python program to convert key-values list to flat dictionary?"
   ]
  },
  {
   "cell_type": "code",
   "execution_count": 4,
   "id": "dd4b24c7",
   "metadata": {},
   "outputs": [
    {
     "name": "stdout",
     "output_type": "stream",
     "text": [
      "Required dictionary is {'a': 1, 'b': 2, 'c': 3}\n"
     ]
    }
   ],
   "source": [
    "def list_to_dic(l):\n",
    "    dic = {}\n",
    "    for ele in l:\n",
    "        dic[ele[0]] = ele[1]\n",
    "    return dic\n",
    "\n",
    "l = [('a',1),('b',2),('c',3)]\n",
    "print(\"Required dictionary is\", list_to_dic(l))"
   ]
  },
  {
   "cell_type": "markdown",
   "id": "eb44bf33",
   "metadata": {},
   "source": [
    "#### 5. Write a Python program to insertion at the beginning in OrderedDict?"
   ]
  },
  {
   "cell_type": "code",
   "execution_count": 5,
   "id": "8bed35cd",
   "metadata": {},
   "outputs": [
    {
     "name": "stdout",
     "output_type": "stream",
     "text": [
      "After insertion at the beginning we get: OrderedDict([('d', 4), ('a', 1), ('b', 2), ('c', 3)])\n"
     ]
    }
   ],
   "source": [
    "from collections import OrderedDict\n",
    "def insert_begin(odic,item):\n",
    "    odic.update(item)\n",
    "    odic.move_to_end([key for key in item.keys()][0], last=False)\n",
    "    return odic\n",
    "\n",
    "odic = OrderedDict({'a':1, 'b':2, 'c':3})\n",
    "item = {'d':4}\n",
    "insert_begin(odic,item)\n",
    "print(\"After insertion at the beginning we get:\",odic)"
   ]
  },
  {
   "cell_type": "markdown",
   "id": "3fe99683",
   "metadata": {},
   "source": [
    "#### 6. Write a Python program to check order of character in string using OrderedDict()?"
   ]
  },
  {
   "cell_type": "code",
   "execution_count": 6,
   "id": "f2b1df49",
   "metadata": {},
   "outputs": [
    {
     "name": "stdout",
     "output_type": "stream",
     "text": [
      "Enter a string:abcdefgh\n",
      "Enter order:adg\n",
      "The order of charachters is okay in abcdefgh\n"
     ]
    }
   ],
   "source": [
    "def check_order(string, order):\n",
    "    for i in range(len(order)-1):\n",
    "        ch1 = order[i]\n",
    "        ch2 = order[i+1]\n",
    "        if ch1 in string:\n",
    "            idx = string.index(ch1)\n",
    "            if ch2 in string[:idx]:\n",
    "                return \"not okay\"\n",
    "    return \"okay\"\n",
    "\n",
    "string = input(\"Enter a string:\")\n",
    "order = input(\"Enter order:\")\n",
    "print(\"The order of charachters is\",check_order(string, order),\"in\",string)"
   ]
  },
  {
   "cell_type": "markdown",
   "id": "97e47c5f",
   "metadata": {},
   "source": [
    "#### 7. Write a Python program to sort Python Dictionaries by Key or Value?"
   ]
  },
  {
   "cell_type": "code",
   "execution_count": 7,
   "id": "d1410726",
   "metadata": {},
   "outputs": [
    {
     "name": "stdout",
     "output_type": "stream",
     "text": [
      "Sorted by keys: {'a': 3, 'b': 1, 'c': 4, 'd': 2}\n",
      "Sorted by values: {'b': 1, 'd': 2, 'a': 3, 'c': 4}\n"
     ]
    }
   ],
   "source": [
    "dic = {'b':1, 'a':3, 'd':2, 'c':4}\n",
    "sorted_keys = dict(sorted(dic.items(), key=lambda x:x[0]))\n",
    "print(\"Sorted by keys:\", sorted_keys)\n",
    "sorted_values = dict(sorted(dic.items(), key=lambda x:x[1]))\n",
    "print(\"Sorted by values:\", sorted_values)"
   ]
  },
  {
   "cell_type": "code",
   "execution_count": null,
   "id": "e8890854",
   "metadata": {},
   "outputs": [],
   "source": []
  }
 ],
 "metadata": {
  "kernelspec": {
   "display_name": "Python 3 (ipykernel)",
   "language": "python",
   "name": "python3"
  },
  "language_info": {
   "codemirror_mode": {
    "name": "ipython",
    "version": 3
   },
   "file_extension": ".py",
   "mimetype": "text/x-python",
   "name": "python",
   "nbconvert_exporter": "python",
   "pygments_lexer": "ipython3",
   "version": "3.9.7"
  }
 },
 "nbformat": 4,
 "nbformat_minor": 5
}
