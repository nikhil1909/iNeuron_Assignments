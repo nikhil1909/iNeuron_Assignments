{
 "cells": [
  {
   "cell_type": "markdown",
   "id": "d7d6ab7c",
   "metadata": {},
   "source": [
    "#### 1. Provide an example of the concepts of Prior, Posterior, and Likelihood.\n"
   ]
  },
  {
   "cell_type": "markdown",
   "id": "fca52c55",
   "metadata": {},
   "source": [
    "#### Ans: \n",
    "Prior probability of an event is the likelihood of that event occuring before taking into consideration any new information. For example, P(C)=0.01 represents the probaility of cancer. It means that probability of a random person getting cancer is 1%\n",
    "\n",
    "Posterior probability of an event is the likelihood of that event occuring after taking into consideration some new information. For example, P(C|pos)=0.85 represents the probaility of cancer after the tests result is positive. It means that probability of a person getting cancer is 85% if the tests result is positive.\n",
    "\n",
    "Likelihood probability is the probability for the value of parameter given the sample that we got. For example, probability that the mean weight of boxes of cereals is 500gm given that the sample of 5 boxes have weights is 499gm, 504gm, 502gm, 498m and 501gm, is the likelihood of the mean weight of the boxes."
   ]
  },
  {
   "cell_type": "markdown",
   "id": "f1af919f",
   "metadata": {},
   "source": [
    "#### 2. What role does Bayes' theorem play in the concept learning principle?"
   ]
  },
  {
   "cell_type": "markdown",
   "id": "fe8086da",
   "metadata": {},
   "source": [
    "#### Ans:\n",
    "The steps for brute force concept learning: \n",
    "\n",
    "a. Given the training data, the Bayes theorem determines the posterior probability of each hypothesis. It calculates the likelihood of each conceivable hypothesis before determining which is the most likely.\n",
    "\n",
    "b. Output the hypothesis hMAP with the highest posterior probability. \n",
    "\n",
    "To calculate, we need to know the values of P(h) and P(D/h). To choose these to be consistent with the following assumptions: \n",
    "1. There is no noise in the training data D (i.e., di = c(xi)). \n",
    "2. The hypothesis space H contains the goal notion c. \n",
    "3. We have no reason to conclude that one hypothesis is more likely than another based on prior evidence."
   ]
  },
  {
   "cell_type": "markdown",
   "id": "5c779ec2",
   "metadata": {},
   "source": [
    "#### 3. Offer an example of how the Nave Bayes classifier is used in real life.\n"
   ]
  },
  {
   "cell_type": "markdown",
   "id": "f060c973",
   "metadata": {},
   "source": [
    "#### Ans:\n",
    "Suppose we have a dataset of weather conditions and corresponding target variable \"Play\". So using some given dataset we need to decide that whether we should play or not on a particular day according to the weather conditions. So to solve this problem, we need to follow the below steps:\n",
    "1. Convert the given dataset into frequency tables.\n",
    "2. Generate Likelihood table by finding the probabilities of given features.\n",
    "3. Now, use Bayes theorem to calculate the posterior probability.\n",
    "\n",
    "Problem: If the weather is sunny, then the Player should play or not?\n",
    "\n",
    "P(Yes|Sunny)= P(Sunny|Yes)\\*P(Yes)/P(Sunny)\n",
    "\n",
    "P(Sunny|Yes)= 3/10= 0.3\n",
    "\n",
    "P(Sunny)= 0.35\n",
    "\n",
    "P(Yes)=0.71\n",
    "\n",
    "\n",
    "So P(Yes|Sunny) = 0.3\\*0.71/0.35= 0.60\n",
    "\n",
    "P(No|Sunny)= P(Sunny|No)\\*P(No)/P(Sunny)\n",
    "\n",
    "P(Sunny|NO)= 2/4=0.5\n",
    "\n",
    "\n",
    "P(No)= 0.29\n",
    "\n",
    "P(Sunny)= 0.35\n",
    "\n",
    "So P(No|Sunny)= 0.5\\*0.29/0.35 = 0.41\n",
    "\n",
    "So as we can see from the above calculation that P(Yes|Sunny)>P(No|Sunny)\n",
    "\n",
    "Hence on a Sunny day, Player can play the game."
   ]
  },
  {
   "cell_type": "markdown",
   "id": "64c12d7c",
   "metadata": {},
   "source": [
    "#### 4. Can the Nave Bayes classifier be used on continuous numeric data? If so, how can you go about doing it?\n"
   ]
  },
  {
   "cell_type": "markdown",
   "id": "01322ded",
   "metadata": {},
   "source": [
    "#### Ans:\n",
    "Yes, the Nave Bayes classifier be used on continuous numeric data. There are many ways to perform naive Bayes classification (NBC). A common technique in NBC is to recode the feature (variable) values into quartiles, such that values less than the 25th percentile are assigned a 1, 25th to 50th a 2, 50th to 75th a 3 and greater than the 75th percentile a 4. Thus a single object will deposit one count in bin Q1, Q2, Q3, or Q4. Calculations are merely done on these categorical bins. Bin counts (probabilities) are then based on the number of samples whose variable values fall within a given bin. For example, if a set of objects have very high values for feature X1, then this will result in a lot of bin counts in the bin for Q4 of X1. On the other hand, if another set of objects has low values for feature X1, then those objects will deposit a lot of counts in the bin for Q1 of feature X1."
   ]
  },
  {
   "cell_type": "markdown",
   "id": "d698845f",
   "metadata": {},
   "source": [
    "#### 5. What are Bayesian Belief Networks, and how do they work? What are their applications? Are they capable of resolving a wide range of issues?\n"
   ]
  },
  {
   "cell_type": "markdown",
   "id": "31263548",
   "metadata": {},
   "source": [
    "#### Ans:\n",
    "Bayesian Belief Network is a graphical representation of different probabilistic relationships among random variables in a particular set. It is a classifier with no dependency on attributes i.e it is condition independent. They work using conditional probability of the events. Due to its feature of joint probability, the probability in Bayesian Belief Network is derived, based on a condition — P(attribute/parent) i.e probability of an attribute, true over parent attribute. They are used for calculating probabilities of inter-related events, and using these probabilities we can futher perform classification. Yes, they are capable of resolving various classification problems."
   ]
  },
  {
   "cell_type": "markdown",
   "id": "2882e61c",
   "metadata": {},
   "source": [
    "#### 6. Passengers are checked in an airport screening system to see if there is an intruder. Let I be the random variable that indicates whether someone is an intruder I = 1) or not I = 0), and A be the variable that indicates alarm I = 0). If an intruder is detected with probability P(A = 1|I = 1) = 0.98 and a non-intruder is detected with probability P(A = 1|I = 0) = 0.001, an alarm will be triggered, implying the error factor. The likelihood of an intruder in the passenger population is P(I = 1) = 0.00001. What are the chances that an alarm would be triggered when an individual is actually an intruder?\n"
   ]
  },
  {
   "cell_type": "markdown",
   "id": "5d147a4f",
   "metadata": {},
   "source": [
    "#### Ans:\n",
    "P(I=1|A=1) = P(I=1)P(A=1|I=1)/[P(I=1)P(A=1|I=1)+P(I=0)P(A=1|I=0)] = 0.00001x0.98/[0.00001x0.98+0.99999x0.001] = 0.0097 =0.97%"
   ]
  },
  {
   "cell_type": "markdown",
   "id": "decf4f79",
   "metadata": {},
   "source": [
    "#### 7. An antibiotic resistance test (random variable T) has 1% false positives (i.e., 1% of those who are not immune to an antibiotic display a positive result in the test) and 5% false negatives (i.e., 1% of those who are not resistant to an antibiotic show a positive result in the test) (i.e. 5 percent of those actually resistant to an antibiotic test negative). Assume that 2% of those who were screened were antibiotic-resistant. Calculate the likelihood that a person who tests positive is actually immune (random variable D).\n"
   ]
  },
  {
   "cell_type": "markdown",
   "id": "d0a27822",
   "metadata": {},
   "source": [
    "#### Ans:\n",
    "Given: P(R)=2%=0.02, P(+|R')=1%=0.01, P(-|R)=5%=0.05\n",
    "\n",
    "P(R|+) = P(R)P(+|R)/[P(R)P(+|R) + P(R')P(+|R')] = 0.02x0.95/[0.02x0.95 + 0.98x0.01] = 0.66 = 66%"
   ]
  },
  {
   "cell_type": "markdown",
   "id": "ea02f746",
   "metadata": {},
   "source": [
    "#### 8. In order to prepare for the test, a student knows that there will be one question in the exam that is either form A, B, or C. The chances of getting an A, B, or C on the exam are 30 percent, 20%, and 50 percent, respectively. During the planning, the student solved 9 of 10 type A problems, 2 of 10 type B problems, and 6 of 10 type C problems.\n",
    "1. What is the likelihood that the student can solve the exam problem?\n",
    "2. Given the student's solution, what is the likelihood that the problem was of form A?\n",
    "\n"
   ]
  },
  {
   "cell_type": "markdown",
   "id": "0d238845",
   "metadata": {},
   "source": [
    "#### Ans:\n",
    "Given: P(A)=0.3, P(B)=0.2, P(C)=0.5, P(S|A)=9/10=0.9, P(S|B)=2/10=0.2, P(S|C)=6/10=0.6\n",
    "\n",
    "1. P(S) = P(A)P(S|A)+P(B)P(S|B)+P(C)P(S|C) = 0.3x0.9 + 0.2x0.2 + 0.5x0.6 = 0.61 = 61%\n",
    "\n",
    "2. P(A|S) = P(A)P(S|A)/P(S) = 0.3x0.9/0.61 = 0.44 = 44%"
   ]
  },
  {
   "cell_type": "markdown",
   "id": "6d7829c1",
   "metadata": {},
   "source": [
    "#### 9. A bank installs a CCTV system to track and photograph incoming customers. Despite the constant influx of customers, we divide the timeline into 5 minute bins. There may be a customer coming into the bank with a 5% chance in each 5-minute time period, or there may be no customer (again, for simplicity, we assume that either there is 1 customer or none, not the case of multiple customers). If there is a client, the CCTV will detect them with a 99 percent probability. If there is no customer, the camera can take a false photograph with a 10% chance of detecting movement from other objects.\n",
    "1. How many customers come into the bank on a daily basis (10 hours)?\n",
    "2. On a daily basis, how many fake photographs (photographs taken when there is no customer) and how many missed photographs (photographs taken when there is a customer) are there?\n",
    "3. Explain likelihood that there is a customer if there is a photograph?\n"
   ]
  },
  {
   "cell_type": "markdown",
   "id": "2f6d199f",
   "metadata": {},
   "source": [
    "#### Ans:\n",
    "1. Expected number of customers in 5 minutes = 0.05, so expected number of customers in 1 hour = 0.05x12 = 0.6, so expected number of customers in 10 hours = 0.6x10 =6\n",
    "\n",
    "2. P(fake photograph) = P(no customer)P(detect|no customer) = 0.95x0.1 = 0.095\n",
    "\n",
    "So expected number of fake photographs in 5 minutes = 0.095, so expected number of fake photographs in 1 hour = 0.095x12 = 11.4, so expected number of fake photographs in 10 hours = 11.4x10 = 114\n",
    "\n",
    "3. P(customer|photograph) = P(customer)P(photograph|customer)/[P(customer)P(photograph|customer) + P(no customer)P(photograph|no customer)] = 0.05x0.99/[0.05x0.99 + 0.95x0.1] = 0.34 = 34%\n"
   ]
  },
  {
   "cell_type": "markdown",
   "id": "f5753b82",
   "metadata": {},
   "source": [
    "#### 10. Create the conditional probability table associated with the node Won Toss in the Bayesian Belief network to represent the conditional independence assumptions of the Nave Bayes classifier for the match winning prediction problem in Section 6.4.4.\n"
   ]
  },
  {
   "cell_type": "markdown",
   "id": "0658c0a6",
   "metadata": {},
   "source": [
    "#### Ans:\n",
    "Bayesian Belief Network is a graphical representation of different probabilistic relationships among random variables in a particular set. It is a classifier with no dependency on attributes i.e it is condition independent. They work using conditional probability of the events. Due to its feature of joint probability, the probability in Bayesian Belief Network is derived, based on a condition — P(attribute/parent) i.e probability of an attribute, true over parent attribute. They are used for calculating probabilities of inter-related events, and using these probabilities we can futher perform classification. Yes, they are capable of resolving various classification problems."
   ]
  },
  {
   "cell_type": "code",
   "execution_count": null,
   "id": "78b7306e",
   "metadata": {},
   "outputs": [],
   "source": []
  }
 ],
 "metadata": {
  "kernelspec": {
   "display_name": "Python 3 (ipykernel)",
   "language": "python",
   "name": "python3"
  },
  "language_info": {
   "codemirror_mode": {
    "name": "ipython",
    "version": 3
   },
   "file_extension": ".py",
   "mimetype": "text/x-python",
   "name": "python",
   "nbconvert_exporter": "python",
   "pygments_lexer": "ipython3",
   "version": "3.9.13"
  }
 },
 "nbformat": 4,
 "nbformat_minor": 5
}
