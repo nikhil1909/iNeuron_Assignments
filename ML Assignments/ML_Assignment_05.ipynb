{
 "cells": [
  {
   "cell_type": "markdown",
   "id": "332e0439",
   "metadata": {},
   "source": [
    "#### 1. What are the key tasks that machine learning entails? What does data pre-processing imply?"
   ]
  },
  {
   "cell_type": "markdown",
   "id": "821a470a",
   "metadata": {},
   "source": [
    "#### Ans:\n",
    "The key tasks of machine learning are:\n",
    "1. Getting the data.\n",
    "2. Cleaning and Transforming the data.\n",
    "3. Training the model.\n",
    "4. Evaluating the model.\n",
    "5. Improving the model.\n",
    "\n",
    "Data when taken in raw form has many discrepancies like missing data, outliers, inconsistent format, etc. So, before training our model we need to get rid of these discrepancies using data pre-processing techniques."
   ]
  },
  {
   "cell_type": "markdown",
   "id": "39ace5c3",
   "metadata": {},
   "source": [
    "#### 2. Describe quantitative and qualitative data in depth. Make a distinction between the two."
   ]
  },
  {
   "cell_type": "markdown",
   "id": "9ba997c9",
   "metadata": {},
   "source": [
    "#### Ans:\n",
    "Quantitative Data Type: This Type Of Data Type Consists Of Numerical Values. Anything Which Is Measured By Numbers. E.G., Profit, Quantity Sold, Height, Weight, Temperature, Etc. This Is Again Of Two Types\n",
    "\n",
    "Discrete Data Type: – The Numeric Data Which Have Discrete Values Or Whole Numbers. This Type Of Variable Value If Expressed In Decimal Format Will Have No Proper Meaning. Their Values Can Be Counted. E.G.: – No. Of Cars You Have, No. Of Marbles In Containers, Students In A Class, Etc.\n",
    "\n",
    "Continuous Data Type: – The Numerical Measures Which Can Take The Value Within A Certain Range. This Type Of Variable Value If Expressed In Decimal Format Has True Meaning. Their Values Can Not Be Counted But Measured. The Value Can Be Infinite E.G.: Height, Weight, Time, Area, Distance, Measurement Of Rainfall, Etc.\n",
    "\n",
    "Qualitative Data Type: These Are The Data Types That Cannot Be Expressed In Numbers. This Describes Categories Or Groups And Is Hence Known As The Categorical Data Type. This Can Be Divided Into:-\n",
    "\n",
    "Structured Data: This Type Of Data Is Either Number Or Words. This Can Take Numerical Values But Mathematical Operations Cannot Be Performed On It. This Type Of Data Is Expressed In Tabular Format. E.G.) Sunny=1, Cloudy=2, Windy=3 Or Binary Form Data Like 0 Or1, Good Or Bad, Etc.\n",
    "\n",
    "Unstructured Data: This Type Of Data Does Not Have The Proper Format And Therefore Known As Unstructured Data.This Comprises Textual Data, Sounds, Images, Videos, Etc."
   ]
  },
  {
   "cell_type": "markdown",
   "id": "3879be40",
   "metadata": {},
   "source": [
    "#### 3. Create a basic data collection that includes some sample records. Have at least one attribute from each of the machine learning data types."
   ]
  },
  {
   "cell_type": "markdown",
   "id": "5c75f1d0",
   "metadata": {},
   "source": [
    "#### Ans:\n",
    "The data collection has following attributes:\n",
    "1. Price(Numerical): It is the price of a product.\n",
    "2. Bought(Categorical): Whether the product is bought or not.\n",
    "3. Date(Time series): On which date the product is bought.\n",
    "4. Review(Text): Review of the product.\n",
    "\n",
    "Sample:\n",
    "[[250, 'Yes', 2019, 'Very good'], [500, 'Yes' 2020, 'Poor product'], [1000, 'No', 2021, 'okay']]"
   ]
  },
  {
   "cell_type": "markdown",
   "id": "ecaf7dff",
   "metadata": {},
   "source": [
    "#### 4. What are the various causes of machine learning data issues? What are the ramifications?"
   ]
  },
  {
   "cell_type": "markdown",
   "id": "02558268",
   "metadata": {},
   "source": [
    "#### Ans:\n",
    "Causes of machine learning data issues:\n",
    "1. Manual data entry or human error.\n",
    "2. Inconsistent data-entry standards.\n",
    "3. Lack of authoritative data source\n",
    "4. Poor data integration\n",
    "5. Not keeping data up to date\n",
    "\n",
    "Ramifications:\n",
    "1. Data contains missing values.\n",
    "2. Data may contain outliers.\n",
    "3. Data may have inconsistent format.\n",
    "4. Can not build good models."
   ]
  },
  {
   "cell_type": "markdown",
   "id": "6f4374bc",
   "metadata": {},
   "source": [
    "#### 5. Demonstrate various approaches to categorical data exploration with appropriate examples."
   ]
  },
  {
   "cell_type": "markdown",
   "id": "58dfe744",
   "metadata": {},
   "source": [
    "#### Ans:\n",
    "1. Unique value counts.\n",
    "2. Frequency count.\n",
    "3. Bar graph.\n",
    "4. Pie chart.\n",
    "5. Two-way frequency tables.\n",
    "6. Bar plots with two or more varaiables."
   ]
  },
  {
   "cell_type": "markdown",
   "id": "09e8f79b",
   "metadata": {},
   "source": [
    "#### 6. How would the learning activity be affected if certain variables have missing values? Having said that, what can be done about it?"
   ]
  },
  {
   "cell_type": "markdown",
   "id": "97fc9ca8",
   "metadata": {},
   "source": [
    "#### Ans:\n",
    "If certain variables jhave missing values and we are not imputing it with something then without removing that datapoint, we can not train any model. Also on removing the data points with missing values we have less data which might not produce good results because we have deleted some information. \n",
    "\n",
    "To get rid of missing values we can use imputation techniques where we can impute with mean or median for a numerical attribute, and impute with mode for a categorical attribute. Also one can use another attribute with highest correlation with the attribute with missing values and use simple linear regression to predict the missing value."
   ]
  },
  {
   "cell_type": "markdown",
   "id": "983ee338",
   "metadata": {},
   "source": [
    "#### 7. Describe the various methods for dealing with missing data values in depth."
   ]
  },
  {
   "cell_type": "markdown",
   "id": "2d98073a",
   "metadata": {},
   "source": [
    "#### Ans:\n",
    "To get rid of missing values we can use imputation techniques where we can impute with mean or median for a numerical attribute, and impute with mode for a categorical attribute. \n",
    "\n",
    "Also one can use another attribute with highest correlation with the attribute with missing values and use simple linear regression to predict the missing value. \n",
    "\n",
    "For categorical data one may give new label like None to the missing values.\n",
    "\n",
    "One can use algorithms that are robust to the missing values like knn or naive bayes."
   ]
  },
  {
   "cell_type": "markdown",
   "id": "f5cbded0",
   "metadata": {},
   "source": [
    "#### 8. What are the various data pre-processing techniques? Explain dimensionality reduction and feature selection in a few words."
   ]
  },
  {
   "cell_type": "markdown",
   "id": "69ca1a89",
   "metadata": {},
   "source": [
    "#### Ans:\n",
    "Various data pre-processing techniques are:\n",
    "1. Data cleaning which includes removing outliers, imputing the missing values and keeping the data consistent.\n",
    "2. Encoding the categorical variables.\n",
    "3. Feature engineering.\n",
    "4. Dimensionality reduction.\n",
    "5. Standardizing or normalizing the data.\n",
    "\n",
    "Dimensionality reduction: We can use PCA to reduce the number of dimensions by creating combination of features that explain most of the varaibility in the data.\n",
    "\n",
    "Feature selection: In feature selection, we remove those features that are irrelevant or have high correlation with some other feature."
   ]
  },
  {
   "cell_type": "markdown",
   "id": "2905cd72",
   "metadata": {},
   "source": [
    "#### 9. i. What is the IQR? What criteria are used to assess it?\n",
    "\n",
    "#### ii. Describe the various components of a box plot in detail? When will the lower whisker surpass the upper whisker in length? How can box plots be used to identify outliers?"
   ]
  },
  {
   "cell_type": "markdown",
   "id": "60a2d95b",
   "metadata": {},
   "source": [
    "#### Ans:\n",
    "IQR is inter-quartile range. It is the difference between the 3rd quartile and 1st quartile. \n",
    "\n",
    "The components of the boxplot are:\n",
    "1. Minimum value of the data.\n",
    "2. Maximum value of the data.\n",
    "3. Median of the data.\n",
    "4. Q1, i.e. the first quartile which is the value below which 25% of the data lies.\n",
    "5. Q3. i.e. the third quartile which is the value below which 75% of the data lies.\n",
    "\n",
    "When the data is left-skewed,  the length of the lower whisker will be more than that of the upper whisker. \n",
    "\n",
    "We can use the decision range which is (Q1-1.5xIQR, Q3+1.5xIQR) to identify the outliers. The values lying outside this range can be considerd as outliers."
   ]
  },
  {
   "cell_type": "markdown",
   "id": "6a0f3ba1",
   "metadata": {},
   "source": [
    "#### 10. Make brief notes on any two of the following:\n",
    "\n",
    "1. Data collected at regular intervals\n",
    "\n",
    "2. The gap between the quartiles\n",
    "\n",
    "3. Use a cross-tab\n"
   ]
  },
  {
   "cell_type": "markdown",
   "id": "fc5444e4",
   "metadata": {},
   "source": [
    "#### Ans:\n",
    "1. Data collected at regular intervals: This form of data collection is very common. This may be used to discretise the continuous values. Regular interval is important to keep the consistency of the data.\n",
    "\n",
    "2. The gap between the quartiles: The gap between the 1st quartile and 3rd quartile is called interquartile range which gives the values between which the middle 50% of the data lies.\n",
    "\n",
    "3. Use a cross-tab: Crosstab is used to get some inference about two categorial variables."
   ]
  },
  {
   "cell_type": "markdown",
   "id": "8cfe5afc",
   "metadata": {},
   "source": [
    "#### 11. Make a comparison between:\n",
    "\n",
    "1. Data with nominal and ordinal values\n",
    "\n",
    "2. Histogram and box plot\n",
    "\n",
    "3. The average and median"
   ]
  },
  {
   "cell_type": "markdown",
   "id": "d2601f21",
   "metadata": {},
   "source": [
    "#### Ans:\n",
    "1. Data with nominal and ordinal values: Nominal values are those that can not be ordered. For example, vehicle, color, etc. Ordinal values are those values that are discrete and can be ordered. For example, Grades, Rank, etc.\n",
    "\n",
    "2. Histogram and box plot: Histogram is used to get the distribution and symmetricity of a numerical by plotting the frequencies of the values. Box plot is also used to get the distribution and symmetricity but it uses the positional values like quartiles and quantiles.\n",
    "\n",
    "3. The average and median: Both are central tendencies. Average is the quantative mean while the median is the positional mean. We use average when the data is symmetrical and use median when the data is skewed."
   ]
  },
  {
   "cell_type": "code",
   "execution_count": null,
   "id": "868501b8",
   "metadata": {},
   "outputs": [],
   "source": []
  }
 ],
 "metadata": {
  "kernelspec": {
   "display_name": "Python 3 (ipykernel)",
   "language": "python",
   "name": "python3"
  },
  "language_info": {
   "codemirror_mode": {
    "name": "ipython",
    "version": 3
   },
   "file_extension": ".py",
   "mimetype": "text/x-python",
   "name": "python",
   "nbconvert_exporter": "python",
   "pygments_lexer": "ipython3",
   "version": "3.9.13"
  }
 },
 "nbformat": 4,
 "nbformat_minor": 5
}
