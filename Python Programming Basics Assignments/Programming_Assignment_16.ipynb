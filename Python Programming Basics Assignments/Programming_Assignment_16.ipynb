{
 "cells": [
  {
   "cell_type": "markdown",
   "id": "85d00a11",
   "metadata": {},
   "source": [
    "#### Question1. \n",
    "Write a function that stutters a word as if someone is struggling to read it. The first two letters are repeated twice with an ellipsis ... and space after each, and then the word is pronounced with a question mark ?.\n",
    "\n",
    "Examples\n",
    "\n",
    "stutter(&quot;incredible&quot;) ➞ &quot;in... in... incredible?&quot;\n",
    "\n",
    "stutter(&quot;enthusiastic&quot;) ➞ &quot;en... en... enthusiastic?&quot;\n",
    "\n",
    "stutter(&quot;outstanding&quot;) ➞ &quot;ou... ou... outstanding?&quot;\n",
    "\n",
    "Hint :- Assume all input is in lower case and at least two characters long."
   ]
  },
  {
   "cell_type": "code",
   "execution_count": 1,
   "id": "a6ff6ff2",
   "metadata": {},
   "outputs": [
    {
     "name": "stdout",
     "output_type": "stream",
     "text": [
      "Enter word:enthusiastic\n"
     ]
    },
    {
     "data": {
      "text/plain": [
       "'en... en... enthusiastic?'"
      ]
     },
     "execution_count": 1,
     "metadata": {},
     "output_type": "execute_result"
    }
   ],
   "source": [
    "def shutter(word):\n",
    "    shut = (word[:2]+\"... \")*2+word+\"?\"\n",
    "    return shut\n",
    "    \n",
    "word = input(\"Enter word:\")\n",
    "shutter(word)"
   ]
  },
  {
   "cell_type": "markdown",
   "id": "e60a1d5a",
   "metadata": {},
   "source": [
    "#### Question 2.\n",
    "Create a function that takes an angle in radians and returns the corresponding angle in degrees rounded to one decimal place.\n",
    "\n",
    "Examples\n",
    "\n",
    "radians_to_degrees(1) ➞ 57.3\n",
    "\n",
    "radians_to_degrees(20) ➞ 1145.9\n",
    "\n",
    "radians_to_degrees(50) ➞ 2864.8"
   ]
  },
  {
   "cell_type": "code",
   "execution_count": 5,
   "id": "32c4a502",
   "metadata": {},
   "outputs": [
    {
     "name": "stdout",
     "output_type": "stream",
     "text": [
      "Enter angle is radians:20\n",
      "1145.92\n"
     ]
    }
   ],
   "source": [
    "from math import pi\n",
    "def radians_to_degrees(rad):\n",
    "    deg = round(180*rad/pi,2)\n",
    "    return deg\n",
    "\n",
    "rad = int(input(\"Enter angle is radians:\"))\n",
    "print(radians_to_degrees(rad))"
   ]
  },
  {
   "cell_type": "markdown",
   "id": "5691e9e9",
   "metadata": {},
   "source": [
    "#### Question 3. \n",
    "In this challenge, establish if a given integer num is a Curzon number. If 1 plus 2 elevated to num is exactly divisible by plus 2 multiplied by num, then num is a Curzon number.\n",
    "\n",
    "Given a non-negative integer num, implement a function that returns True if num is a Curzon number, or False otherwise.\n",
    "\n",
    "Examples\n",
    "\n",
    "is_curzon(5) ➞ True\n",
    "\n",
    "2 ** 5 + 1 = 33\n",
    "\n",
    "2 * 5 + 1 = 11\n",
    "\n",
    "33 is a multiple of 11\n",
    "\n",
    "is_curzon(10) ➞ False\n",
    "\n",
    "2 ** 10 + 1 = 1025\n",
    "\n",
    "2 * 10 + 1 = 21\n",
    "\n",
    "1025 is not a multiple of 21\n",
    "\n",
    "is_curzon(14) ➞ True\n",
    "\n",
    "2 ** 14 + 1 = 16385\n",
    "\n",
    "2 * 14 + 1 = 29\n",
    "\n",
    "16385 is a multiple of 29"
   ]
  },
  {
   "cell_type": "code",
   "execution_count": 9,
   "id": "0af46d1d",
   "metadata": {},
   "outputs": [
    {
     "name": "stdout",
     "output_type": "stream",
     "text": [
      "Enter a number:14\n",
      "True\n"
     ]
    }
   ],
   "source": [
    "def is_curzon(n):\n",
    "    y = 2**n+1\n",
    "    x = 2*n+1\n",
    "    if y%x==0:\n",
    "        return True\n",
    "    return False\n",
    "\n",
    "n = int(input(\"Enter a number:\"))\n",
    "print(is_curzon(n))"
   ]
  },
  {
   "cell_type": "markdown",
   "id": "4c5b73b6",
   "metadata": {},
   "source": [
    "#### Question 4.\n",
    "Given the side length x find the area of a hexagon.\n",
    "\n",
    "s = side\n",
    "\n",
    "area = 3\\*sqrt(3)\\*s^2/2\n",
    "\n",
    "Examples\n",
    "\n",
    "area_of_hexagon(1) ➞ 2.6\n",
    "\n",
    "area_of_hexagon(2) ➞ 10.4\n",
    "\n",
    "area_of_hexagon(3) ➞ 23.4"
   ]
  },
  {
   "cell_type": "code",
   "execution_count": 14,
   "id": "48c78407",
   "metadata": {},
   "outputs": [
    {
     "name": "stdout",
     "output_type": "stream",
     "text": [
      "Enter side of hexagon:2\n",
      "10.4\n"
     ]
    }
   ],
   "source": [
    "from math import sqrt\n",
    "def area_of_hexagon(x):\n",
    "    area = round(3*sqrt(3)*x**2/2,1)\n",
    "    return area\n",
    "x = int(input(\"Enter side of hexagon:\"))\n",
    "print(area_of_hexagon(x))"
   ]
  },
  {
   "cell_type": "markdown",
   "id": "e0296751",
   "metadata": {},
   "source": [
    "#### Question 5. \n",
    "Create a function that returns a base-2 (binary) representation of a base-10(decimal) string number. To convert is simple: ((2) means base-2 and (10) means base-10) 010101001(2) = 1 + 8 + 32 + 128.\n",
    "\n",
    "Going from right to left, the value of the most right bit is 1, now from that every bit to the left will be x2 the value, value of an 8 bit binary numbers are (256, 128, 64, 32, 16, 8, 4, 2, 1).\n",
    "\n",
    "Examples\n",
    "\n",
    "binary(1) ➞ &quot;1&quot;\n",
    "\n",
    "1*1 = 1\n",
    "\n",
    "binary(5) ➞ &quot;101&quot;\n",
    "\n",
    "1*1 + 1*4 = 5\n",
    "\n",
    "binary(10) ➞ &quot;1010&quot;\n",
    "\n",
    "1*2 + 1*8 = 10"
   ]
  },
  {
   "cell_type": "code",
   "execution_count": 4,
   "id": "8a8d1229",
   "metadata": {},
   "outputs": [
    {
     "name": "stdout",
     "output_type": "stream",
     "text": [
      "Enter a decimal number:10\n",
      "1010\n"
     ]
    }
   ],
   "source": [
    "def binary(dec):\n",
    "    b = \"\"\n",
    "    while dec != 0:\n",
    "        r = dec%2\n",
    "        b = str(r)+b\n",
    "        dec = dec//2\n",
    "        \n",
    "    return b\n",
    "\n",
    "dec = int(input(\"Enter a decimal number:\"))\n",
    "print(binary(dec))"
   ]
  },
  {
   "cell_type": "code",
   "execution_count": null,
   "id": "920db375",
   "metadata": {},
   "outputs": [],
   "source": []
  }
 ],
 "metadata": {
  "kernelspec": {
   "display_name": "Python 3 (ipykernel)",
   "language": "python",
   "name": "python3"
  },
  "language_info": {
   "codemirror_mode": {
    "name": "ipython",
    "version": 3
   },
   "file_extension": ".py",
   "mimetype": "text/x-python",
   "name": "python",
   "nbconvert_exporter": "python",
   "pygments_lexer": "ipython3",
   "version": "3.9.7"
  }
 },
 "nbformat": 4,
 "nbformat_minor": 5
}
