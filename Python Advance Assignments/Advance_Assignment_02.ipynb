{
 "cells": [
  {
   "cell_type": "markdown",
   "id": "33e91d8f",
   "metadata": {},
   "source": [
    "#### Q1. What is the relationship between classes and modules?"
   ]
  },
  {
   "cell_type": "markdown",
   "id": "b224b55f",
   "metadata": {},
   "source": [
    "#### Ans:\n",
    "Classes are the template/blueprint to create objects. Once a class ais made, we can create multiple instances of that class. Every instance of the class will have access to the attributes and methods defined in the class.\n",
    "\n",
    "Modules are the python files with `.py` extension in their names. These modules contain python codes. Functions and classes from one module can be imported to another module to use it. "
   ]
  },
  {
   "cell_type": "markdown",
   "id": "a231ecfc",
   "metadata": {},
   "source": [
    "#### Q2. How do you make instances and classes?"
   ]
  },
  {
   "cell_type": "markdown",
   "id": "a125d850",
   "metadata": {},
   "source": [
    "#### Ans:\n",
    "A class instance is created by calling the class name and then inside the parenthesis we pass the arguments, which is accepted by the init method of the class.\n",
    "\n",
    "Example: book = Books(author, title). Here book is the instance, Books is the class name, author and title are the attributes.\n",
    "\n",
    "We use the `class` keyword and then the class name and then put a colon to create a class.\n",
    "\n",
    "Example: `class Vehicle:`. Here Vehicle is the class name."
   ]
  },
  {
   "cell_type": "markdown",
   "id": "844de85a",
   "metadata": {},
   "source": [
    "#### Q3. Where and how should be class attributes created?"
   ]
  },
  {
   "cell_type": "markdown",
   "id": "adc83c6f",
   "metadata": {},
   "source": [
    "#### Ans:\n",
    "Class attributes are those attributes that are shared by all the instances of the class. Class attributes should be created after the definition of the class name and outside all the class's methods."
   ]
  },
  {
   "cell_type": "code",
   "execution_count": 1,
   "id": "18d7df90",
   "metadata": {},
   "outputs": [],
   "source": [
    "class Person:\n",
    "    no_of_eyes = 2\n",
    "    def __init__(self, gender, age):\n",
    "        self.gender = gender\n",
    "        self.age = age\n",
    "        \n",
    "# Here no_of_eyes is a class attribute."
   ]
  },
  {
   "cell_type": "markdown",
   "id": "c1cab685",
   "metadata": {},
   "source": [
    "#### Q4. Where and how are instance attributes created?"
   ]
  },
  {
   "cell_type": "markdown",
   "id": "51795945",
   "metadata": {},
   "source": [
    "#### Ans:\n",
    "Instance attributes are usually defined within the __init__ method of the class. The values of these attributes are passed as an argument during the creation of the instance using class name. Instance attributes are not shared by the objects of the class."
   ]
  },
  {
   "cell_type": "code",
   "execution_count": 2,
   "id": "9468d199",
   "metadata": {},
   "outputs": [],
   "source": [
    "class Person:\n",
    "    no_of_eyes = 2\n",
    "    def __init__(self, gender, age):\n",
    "        self.gender = gender\n",
    "        self.age = age\n",
    "p1 = Person('Male', 25)\n",
    "p2 = Person('Female', 27)\n",
    "# Here gender and age are instance attributes, and they are different for objects p1 and p2"
   ]
  },
  {
   "cell_type": "markdown",
   "id": "cd8f5b5b",
   "metadata": {},
   "source": [
    "#### Q5. What does the term &quot;self&quot; in a Python class mean?"
   ]
  },
  {
   "cell_type": "markdown",
   "id": "29d6dc1e",
   "metadata": {},
   "source": [
    "#### Ans:\n",
    "self represents the instance of the class i.e. it refers to the object itself. self binds the attributes with the given arguments. It is used to access the attributes and methods within the class."
   ]
  },
  {
   "cell_type": "code",
   "execution_count": 3,
   "id": "8956d2b6",
   "metadata": {},
   "outputs": [],
   "source": [
    "class Person:\n",
    "    no_of_eyes = 2\n",
    "    def __init__(self, gender, age):\n",
    "        self.gender = gender\n",
    "        self.age = age\n",
    "    \n",
    "    def get_gender(self):\n",
    "        return self.gender\n",
    "    \n",
    "# self is used to bind the attributes gender and age with respective values, \n",
    "# then it is used to access the value of attribute gender."
   ]
  },
  {
   "cell_type": "markdown",
   "id": "b71bb4e6",
   "metadata": {},
   "source": [
    "#### Q6. How does a Python class handle operator overloading?"
   ]
  },
  {
   "cell_type": "markdown",
   "id": "c98c55bf",
   "metadata": {},
   "source": [
    "#### Ans:\n",
    "Python class handles operator overloading using special methods called dunder or magic methods. These methods begin and end with __(double underscore).\n",
    "\n",
    "Example:\n",
    "\n",
    "\\_\\_add\\_\\_: used to implement addition operator +.\n",
    "\n",
    "\\_\\_sub\\_\\_: used to implement subtraction operator -.\n",
    "\n",
    "\\_\\_mul\\_\\_: used to implement multiplication operator *.\n",
    "\n",
    "\\_\\_div\\_\\_: used to implement division operator /."
   ]
  },
  {
   "cell_type": "code",
   "execution_count": 4,
   "id": "ec667a51",
   "metadata": {},
   "outputs": [
    {
     "name": "stdout",
     "output_type": "stream",
     "text": [
      "52\n"
     ]
    }
   ],
   "source": [
    "class Person:\n",
    "    no_of_eyes = 2\n",
    "    def __init__(self, gender, age):\n",
    "        self.gender = gender\n",
    "        self.age = age\n",
    "        \n",
    "    def __add__(self, other):\n",
    "        return self.age+other.age\n",
    "    \n",
    "p1 = Person('Male', 25)\n",
    "p2 = Person('Female', 27)\n",
    "print(p1+p2)"
   ]
  },
  {
   "cell_type": "markdown",
   "id": "916ce55b",
   "metadata": {},
   "source": [
    "#### Q7. When do you consider allowing operator overloading of your classes?"
   ]
  },
  {
   "cell_type": "markdown",
   "id": "110a02d5",
   "metadata": {},
   "source": [
    "#### Ans:\n",
    "We consider allowing operator overloading either when the use of the operator is not defined on the class objects or when we want to have a different meaning for the same operator depending on the context."
   ]
  },
  {
   "cell_type": "markdown",
   "id": "9fdab528",
   "metadata": {},
   "source": [
    "#### Q8. What is the most popular form of operator overloading?"
   ]
  },
  {
   "cell_type": "markdown",
   "id": "4ae377ff",
   "metadata": {},
   "source": [
    "#### Ans:\n",
    "The most popular form of operator overloading is by using special methods called dunder or magic methods. These methods begin and end with __(double underscore).\n",
    "\n",
    "Example:\n",
    "\n",
    "\\_\\_add\\_\\_: used to implement addition operator +.\n",
    "\n",
    "\\_\\_sub\\_\\_: used to implement subtraction operator -.\n",
    "\n",
    "\\_\\_mul\\_\\_: used to implement multiplication operator *.\n",
    "\n",
    "\\_\\_div\\_\\_: used to implement division operator /."
   ]
  },
  {
   "cell_type": "markdown",
   "id": "f0a6fbd4",
   "metadata": {},
   "source": [
    "#### Q9. What are the two most important concepts to grasp in order to comprehend Python OOP code?"
   ]
  },
  {
   "cell_type": "markdown",
   "id": "64f1032d",
   "metadata": {},
   "source": [
    "#### Ans:\n",
    "The two most important concepts to grasp in order to comprehend Python OOP code are classes and objects. Apart from classes and objects few other important concepts of OOP are Inheritance, Polymorphism, Abstraction and Encapsulation."
   ]
  },
  {
   "cell_type": "code",
   "execution_count": null,
   "id": "1d040bd4",
   "metadata": {},
   "outputs": [],
   "source": []
  }
 ],
 "metadata": {
  "kernelspec": {
   "display_name": "Python 3 (ipykernel)",
   "language": "python",
   "name": "python3"
  },
  "language_info": {
   "codemirror_mode": {
    "name": "ipython",
    "version": 3
   },
   "file_extension": ".py",
   "mimetype": "text/x-python",
   "name": "python",
   "nbconvert_exporter": "python",
   "pygments_lexer": "ipython3",
   "version": "3.9.7"
  }
 },
 "nbformat": 4,
 "nbformat_minor": 5
}
