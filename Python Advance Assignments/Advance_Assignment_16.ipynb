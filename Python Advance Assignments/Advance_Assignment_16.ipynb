{
 "cells": [
  {
   "cell_type": "markdown",
   "id": "248aef3a",
   "metadata": {},
   "source": [
    "#### Q1. What is the benefit of regular expressions?"
   ]
  },
  {
   "cell_type": "markdown",
   "id": "7533fbca",
   "metadata": {},
   "source": [
    "#### Ans:\n",
    "Regular Expressions, also known as regex, are used to match strings of text such as particular characters, words, or patterns of characters. It means that we can match and extract any string pattern from the text with the help of regular expressions. It helps the programmers to Write less and cleaner code. It also avoids multiple use of if/else statements."
   ]
  },
  {
   "cell_type": "markdown",
   "id": "be46df81",
   "metadata": {},
   "source": [
    "#### Q2. Describe the difference between the effects of &quot;(ab)c+&quot; and &quot;a(bc)+.&quot; Which of these, if any, is the unqualified pattern &quot;abc+&quot;?"
   ]
  },
  {
   "cell_type": "markdown",
   "id": "80fffb19",
   "metadata": {},
   "source": [
    "#### Ans:\n",
    "Both the regular expressions (ab)c+ and a(bc)+ are valid. In (ab)c+, ab is the group and + charachter is applicable on c only while in a(bc)+, bc is the group and + charachter is applicable on bc."
   ]
  },
  {
   "cell_type": "markdown",
   "id": "bcdcd1c6",
   "metadata": {},
   "source": [
    "#### Q3. How much do you need to use the following sentence while using regular expressions?\n",
    "\n",
    "import re"
   ]
  },
  {
   "cell_type": "markdown",
   "id": "5160eece",
   "metadata": {},
   "source": [
    "#### Ans:\n",
    "The sentence import re is very much needed while using regular expressions because without import re module we can not work with regular expressions in Python."
   ]
  },
  {
   "cell_type": "markdown",
   "id": "31511648",
   "metadata": {},
   "source": [
    "#### Q4. Which characters have special significance in square brackets when expressing a range, and under what circumstances?"
   ]
  },
  {
   "cell_type": "markdown",
   "id": "db8297e8",
   "metadata": {},
   "source": [
    "#### Ans:\n",
    "The Characters ., *, ?, ^, | and () have a special signiface when used with square brackets. They need not be be explicitly escaped by \\ as in case of pattern texts in a raw string."
   ]
  },
  {
   "cell_type": "markdown",
   "id": "20498860",
   "metadata": {},
   "source": [
    "#### Q5. How does compiling a regular-expression object benefit you?"
   ]
  },
  {
   "cell_type": "markdown",
   "id": "3a1c248a",
   "metadata": {},
   "source": [
    "#### Ans:\n",
    "We can compile a regular expression pattern into pattern Objects which can be used for pattern matching. It also helps to search for a pattern again without rewriting it."
   ]
  },
  {
   "cell_type": "markdown",
   "id": "f237a2f1",
   "metadata": {},
   "source": [
    "#### Q6. What are some examples of how to use the match object returned by re.match and re.search?"
   ]
  },
  {
   "cell_type": "markdown",
   "id": "953a26b3",
   "metadata": {},
   "source": [
    "#### Ans:\n",
    "The re.search() and re.match() both are functions of re module in python. These functions are very efficient and fast for searching in strings. The function searches for some substring in a string and returns a match object if found, else it returns none.\n",
    "\n",
    "There is a difference between the use of both functions. Both return the first match of a substring found in the string, but re.match() searches only from the beginning of the string and return match object if found. But if a match of substring is found somewhere in the middle of the string, it returns none.\n",
    "\n",
    "While re.search() searches for the whole string even if the string contains multi-lines and tries to find a match of the substring in all the lines of string"
   ]
  },
  {
   "cell_type": "code",
   "execution_count": 1,
   "id": "a7b4d30a",
   "metadata": {},
   "outputs": [
    {
     "name": "stdout",
     "output_type": "stream",
     "text": [
      "<re.Match object; span=(0, 6), match='Python'> Python\n",
      "<re.Match object; span=(12, 20), match='powerful'>\n",
      "<re.Match object; span=(0, 6), match='Python'> Python\n",
      "None\n"
     ]
    }
   ],
   "source": [
    "import re\n",
    "string1 = 'Python is a powerful language'\n",
    "\n",
    "m1 = re.search('Python', string1)\n",
    "print(m1,m1.group())\n",
    "m2 = re.search('powerful', string1)\n",
    "print(m2)\n",
    "\n",
    "m3 = re.match('Python', string1)\n",
    "print(m3,m3.group())\n",
    "m4 = re.match('powerful', string1)\n",
    "print(m4)"
   ]
  },
  {
   "cell_type": "markdown",
   "id": "bd11701b",
   "metadata": {},
   "source": [
    "#### Q7. What is the difference between using a vertical bar (|) as an alteration and using square brackets as a character set?"
   ]
  },
  {
   "cell_type": "markdown",
   "id": "b0c56e21",
   "metadata": {},
   "source": [
    "#### Ans:\n",
    "Vertical bar(|) means or i.e. r1|r2 means either regular expression r1 or r2. Square brackets([]) means any one charachter inside the square brackets."
   ]
  },
  {
   "cell_type": "code",
   "execution_count": 2,
   "id": "a84594a4",
   "metadata": {},
   "outputs": [
    {
     "name": "stdout",
     "output_type": "stream",
     "text": [
      "aei\n",
      "e\n"
     ]
    }
   ],
   "source": [
    "import re\n",
    "print(re.search('aei|ou','The vowels are aeiou').group())\n",
    "print(re.search('[aeiou]','The vowels are aeiou').group())"
   ]
  },
  {
   "cell_type": "markdown",
   "id": "cfb82b84",
   "metadata": {},
   "source": [
    "#### Q8. In regular-expression search patterns, why is it necessary to use the raw-string indicator (r)? In  replacement strings?"
   ]
  },
  {
   "cell_type": "markdown",
   "id": "a36e7284",
   "metadata": {},
   "source": [
    "#### Ans:\n",
    "It is necessary to use the raw-string indicator in regular-expression search patterns so that blackslashes donot have to be escaped."
   ]
  },
  {
   "cell_type": "code",
   "execution_count": null,
   "id": "69d6c2cc",
   "metadata": {},
   "outputs": [],
   "source": []
  }
 ],
 "metadata": {
  "kernelspec": {
   "display_name": "Python 3 (ipykernel)",
   "language": "python",
   "name": "python3"
  },
  "language_info": {
   "codemirror_mode": {
    "name": "ipython",
    "version": 3
   },
   "file_extension": ".py",
   "mimetype": "text/x-python",
   "name": "python",
   "nbconvert_exporter": "python",
   "pygments_lexer": "ipython3",
   "version": "3.9.7"
  }
 },
 "nbformat": 4,
 "nbformat_minor": 5
}
