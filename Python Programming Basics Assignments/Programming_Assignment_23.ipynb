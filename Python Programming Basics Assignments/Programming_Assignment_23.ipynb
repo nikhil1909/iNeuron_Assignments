{
 "cells": [
  {
   "cell_type": "markdown",
   "id": "0bc5b604",
   "metadata": {},
   "source": [
    "#### Question 1\n",
    "Create a function that takes a number as an argument and returns True or False depending on whether the number is symmetrical or not. A number is symmetrical when it is the same as its reverse.\n",
    "\n",
    "Examples\n",
    "\n",
    "is_symmetrical(7227) ➞ True\n",
    "\n",
    "is_symmetrical(12567) ➞ False\n",
    "\n",
    "is_symmetrical(44444444) ➞ True\n",
    "\n",
    "is_symmetrical(9939) ➞ False\n",
    "\n",
    "is_symmetrical(1112111) ➞ True"
   ]
  },
  {
   "cell_type": "code",
   "execution_count": 1,
   "id": "ee6168e6",
   "metadata": {},
   "outputs": [
    {
     "name": "stdout",
     "output_type": "stream",
     "text": [
      "Enter n:1112111\n",
      "True\n"
     ]
    }
   ],
   "source": [
    "def reverse(n, rev):\n",
    "    if n==0:\n",
    "        return rev\n",
    "    else:\n",
    "        return reverse(n//10, rev*10+n%10)\n",
    "    \n",
    "def is_symmetrical(n):\n",
    "    if n == reverse(n,0):\n",
    "        return True\n",
    "    return False\n",
    "\n",
    "n = int(input(\"Enter n:\"))\n",
    "print(is_symmetrical(n))"
   ]
  },
  {
   "cell_type": "markdown",
   "id": "37be5254",
   "metadata": {},
   "source": [
    "#### Question 2\n",
    "Given a string of numbers separated by a comma and space, return the product of the numbers.\n",
    "\n",
    "Examples\n",
    "\n",
    "multiply_nums(&quot;2, 3&quot;) ➞ 6\n",
    "\n",
    "multiply_nums(&quot;1, 2, 3, 4&quot;) ➞ 24\n",
    "\n",
    "multiply_nums(&quot;54, 75, 453, 0&quot;) ➞ 0\n",
    "\n",
    "multiply_nums(&quot;10, -2&quot;) ➞ -20"
   ]
  },
  {
   "cell_type": "code",
   "execution_count": 2,
   "id": "a1b857ce",
   "metadata": {},
   "outputs": [
    {
     "name": "stdout",
     "output_type": "stream",
     "text": [
      "Enter string:1, 2, 3, 4\n",
      "24\n"
     ]
    }
   ],
   "source": [
    "def multiply_nums(str1):\n",
    "    l = str1.split(\", \")\n",
    "    prod = 1 \n",
    "    for ele in l:\n",
    "        prod*=int(ele)\n",
    "    return prod\n",
    "\n",
    "str1 = input(\"Enter string:\")\n",
    "print(multiply_nums(str1))"
   ]
  },
  {
   "cell_type": "markdown",
   "id": "38ff0777",
   "metadata": {},
   "source": [
    "#### Question 3\n",
    "Create a function that squares every digit of a number.\n",
    "\n",
    "Examples\n",
    "\n",
    "square_digits(9119) ➞ 811181\n",
    "\n",
    "square_digits(2483) ➞ 416649\n",
    "\n",
    "square_digits(3212) ➞ 9414\n",
    "\n",
    "Notes\n",
    "\n",
    "The function receives an integer and must return an integer."
   ]
  },
  {
   "cell_type": "code",
   "execution_count": 3,
   "id": "97a73d94",
   "metadata": {},
   "outputs": [
    {
     "name": "stdout",
     "output_type": "stream",
     "text": [
      "Enter n:2483\n",
      "416649\n"
     ]
    }
   ],
   "source": [
    "def order(n):\n",
    "    o = 0\n",
    "    while n>=1:\n",
    "        o+=1\n",
    "        n//=10\n",
    "    return o\n",
    "\n",
    "def square_digits(n):\n",
    "    res = (n%10)**2\n",
    "    n//=10\n",
    "    while n!=0:\n",
    "        r = n%10\n",
    "        res = (r**2)*(10**order(res))+res\n",
    "        n//=10\n",
    "    return res\n",
    "\n",
    "n = int(input(\"Enter n:\"))\n",
    "print(square_digits(n))"
   ]
  },
  {
   "cell_type": "markdown",
   "id": "0f3bd6ad",
   "metadata": {},
   "source": [
    "#### Question 4\n",
    "Create a function that sorts a list and removes all duplicate items from it.\n",
    "\n",
    "Examples\n",
    "\n",
    "setify([1, 3, 3, 5, 5]) ➞ [1, 3, 5]\n",
    "\n",
    "setify([4, 4, 4, 4]) ➞ [4]\n",
    "\n",
    "setify([5, 7, 8, 9, 10, 15]) ➞ [5, 7, 8, 9, 10, 15]\n",
    "\n",
    "setify([3, 3, 3, 2, 1]) ➞ [1, 2, 3]"
   ]
  },
  {
   "cell_type": "code",
   "execution_count": 4,
   "id": "9710f3c4",
   "metadata": {},
   "outputs": [
    {
     "name": "stdout",
     "output_type": "stream",
     "text": [
      "[1, 2, 3]\n"
     ]
    }
   ],
   "source": [
    "def setify(l1):\n",
    "    l1.sort()\n",
    "    l2 = []\n",
    "    for ele in l1:\n",
    "        if ele not in l2:\n",
    "            l2.append(ele)\n",
    "    return l2\n",
    "\n",
    "print(setify([3,3,3,2,1]))"
   ]
  },
  {
   "cell_type": "markdown",
   "id": "f0635587",
   "metadata": {},
   "source": [
    "#### Question 5\n",
    "Create a function that returns the mean of all digits.\n",
    "\n",
    "Examples\n",
    "\n",
    "mean(42) ➞ 3\n",
    "\n",
    "mean(12345) ➞ 3\n",
    "\n",
    "mean(666) ➞ 6\n",
    "\n",
    "Notes\n",
    "\n",
    " The mean of all digits is the sum of digits / how many digits there are (e.g. mean of digits in 512 is (5+1+2)/3(number of digits) = 8/3=2).\n",
    "\n",
    " The mean will always be an integer."
   ]
  },
  {
   "cell_type": "code",
   "execution_count": 5,
   "id": "d6eae2c1",
   "metadata": {},
   "outputs": [
    {
     "name": "stdout",
     "output_type": "stream",
     "text": [
      "Enter number:12345\n",
      "3\n"
     ]
    }
   ],
   "source": [
    "def mean(num):\n",
    "    summ = 0\n",
    "    n = 0\n",
    "    while num!=0:\n",
    "        n+=1\n",
    "        summ+=num%10\n",
    "        num//=10\n",
    "    return summ//n\n",
    "\n",
    "num = int(input(\"Enter number:\"))\n",
    "print(mean(num))"
   ]
  },
  {
   "cell_type": "code",
   "execution_count": null,
   "id": "c495c2d1",
   "metadata": {},
   "outputs": [],
   "source": []
  }
 ],
 "metadata": {
  "kernelspec": {
   "display_name": "Python 3 (ipykernel)",
   "language": "python",
   "name": "python3"
  },
  "language_info": {
   "codemirror_mode": {
    "name": "ipython",
    "version": 3
   },
   "file_extension": ".py",
   "mimetype": "text/x-python",
   "name": "python",
   "nbconvert_exporter": "python",
   "pygments_lexer": "ipython3",
   "version": "3.9.7"
  }
 },
 "nbformat": 4,
 "nbformat_minor": 5
}
