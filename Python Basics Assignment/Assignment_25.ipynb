{
 "cells": [
  {
   "cell_type": "markdown",
   "id": "80e725c5",
   "metadata": {},
   "source": [
    "#### 1) . What is the difference between enclosing a list comprehension in square brackets and parentheses?"
   ]
  },
  {
   "cell_type": "markdown",
   "id": "2300fc20",
   "metadata": {},
   "source": [
    "#### Ans:\n",
    "Enclosing a list comprehension in square brackets gives a list object while enclosing a list comprehension in parantheses gives a generator object."
   ]
  },
  {
   "cell_type": "code",
   "execution_count": 1,
   "id": "f2a41b46",
   "metadata": {},
   "outputs": [
    {
     "name": "stdout",
     "output_type": "stream",
     "text": [
      "[0, 1, 2, 3, 4]\n",
      "<generator object <genexpr> at 0x000002143CE313C0>\n"
     ]
    }
   ],
   "source": [
    "l = [i for i in range(5)]\n",
    "print(l)\n",
    "g = (i for i in range(5))\n",
    "print(g)"
   ]
  },
  {
   "cell_type": "markdown",
   "id": "42d44d29",
   "metadata": {},
   "source": [
    "#### 2) What is the relationship between generators and iterators?"
   ]
  },
  {
   "cell_type": "markdown",
   "id": "b8f4eb84",
   "metadata": {},
   "source": [
    "#### Ans:\n",
    "An iterator is an object which it is used to iterate over iterable objects like list, tuples, sets, etc. It follows lazy evaluation, so it requires only 1 memory location to process the value and when we are using a large dataset then, wastage of RAM space will be reduced the need to load the entire dataset at the same time will not be there. It is created using the iter function() on an iterable object. next() function is used to call the next element of an iterator object. \n",
    "\n",
    "Generators are an another way of creating iterators in a simple way where it uses the keyword yield statement instead of return statement in a defined function. mGenerators are implemented using a function. Just as iterators, generators also follow lazy evaluation. Here, the yield function returns the data without affecting or exiting the function. It will return a sequence of data in an iterable format where we need to iterate over the sequence to use the data as they won’t store the entire sequence in the memory."
   ]
  },
  {
   "cell_type": "code",
   "execution_count": 2,
   "id": "bbe3231d",
   "metadata": {},
   "outputs": [
    {
     "name": "stdout",
     "output_type": "stream",
     "text": [
      "a\n",
      "b\n",
      "c\n",
      "\n",
      "0\n",
      "1\n",
      "2\n"
     ]
    }
   ],
   "source": [
    "iterator = iter(['a','b','c'])\n",
    "for i in range(3):\n",
    "    print(next(iterator))\n",
    "    \n",
    "print()\n",
    "\n",
    "def gen(n):\n",
    "    for i in range(n):\n",
    "        yield i\n",
    "generator = gen(5)\n",
    "for i in range(3):\n",
    "    print(next(generator))"
   ]
  },
  {
   "cell_type": "markdown",
   "id": "0ab74be3",
   "metadata": {},
   "source": [
    "#### 3) What are the signs that a function is a generator function?"
   ]
  },
  {
   "cell_type": "markdown",
   "id": "965dc26d",
   "metadata": {},
   "source": [
    "#### Ans:\n",
    "A generator function uses the yield keyword instead of a return keyword. A generator function returns a generator object."
   ]
  },
  {
   "cell_type": "markdown",
   "id": "9d00cc49",
   "metadata": {},
   "source": [
    "#### 4) What is the purpose of a yield statement?"
   ]
  },
  {
   "cell_type": "markdown",
   "id": "a92f0772",
   "metadata": {},
   "source": [
    "#### Ans:\n",
    "The yield statement pauses the function execution and sends a value back to the caller, and then resumes the function again where it was left off. This allows to generate values one by one rather then computing them all at once and returning a list."
   ]
  },
  {
   "cell_type": "markdown",
   "id": "888b7262",
   "metadata": {},
   "source": [
    "#### 5) What is the relationship between map calls and list comprehensions? Make a comparison and contrast between the two."
   ]
  },
  {
   "cell_type": "markdown",
   "id": "90e4562f",
   "metadata": {},
   "source": [
    "#### Ans:\n",
    "List comprehension returns a list object as the final output while map() function returns a map object.\n",
    "\n",
    "Using list comprehension, we can filter the elements of a list but same can not be implemented using map() function.\n",
    "\n",
    "List comprehension is faster than map() function when we need to evaluate large expressions.\n",
    "\n",
    "Map is faster in case of calling an already defined function on a set of values."
   ]
  },
  {
   "cell_type": "code",
   "execution_count": null,
   "id": "e2bfa15d",
   "metadata": {},
   "outputs": [],
   "source": []
  }
 ],
 "metadata": {
  "kernelspec": {
   "display_name": "Python 3 (ipykernel)",
   "language": "python",
   "name": "python3"
  },
  "language_info": {
   "codemirror_mode": {
    "name": "ipython",
    "version": 3
   },
   "file_extension": ".py",
   "mimetype": "text/x-python",
   "name": "python",
   "nbconvert_exporter": "python",
   "pygments_lexer": "ipython3",
   "version": "3.9.7"
  }
 },
 "nbformat": 4,
 "nbformat_minor": 5
}
