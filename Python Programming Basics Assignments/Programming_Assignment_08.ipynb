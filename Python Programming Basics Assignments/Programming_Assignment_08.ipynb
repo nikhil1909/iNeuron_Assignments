{
 "cells": [
  {
   "cell_type": "markdown",
   "id": "7ed5591a",
   "metadata": {},
   "source": [
    "#### 1. Write a Python Program to Add Two Matrices?"
   ]
  },
  {
   "cell_type": "code",
   "execution_count": 1,
   "id": "6cb4f3b1",
   "metadata": {},
   "outputs": [
    {
     "name": "stdout",
     "output_type": "stream",
     "text": [
      "[[13, 15, 17, 19], [20, 22, 24, 26], [28, 30, 32, 34]]\n"
     ]
    }
   ],
   "source": [
    "def m_order(A):\n",
    "    rows = len(A)\n",
    "    cols = len(A[0])\n",
    "    return rows,cols\n",
    "\n",
    "def m_add(A,B):\n",
    "    if m_order(A)!=m_order(B):\n",
    "        return \"Matrices can not be added because of incompatible order.\"\n",
    "    else:\n",
    "        C = []\n",
    "        for i in range(m_order(A)[0]):\n",
    "            r = []\n",
    "            for j in range(m_order(A)[1]):\n",
    "                r.append(A[i][j]+B[i][j])\n",
    "            C.append(r)\n",
    "    return C\n",
    "\n",
    "A = [[1,2,3,4],[4,5,6,7],[8,9,10,11]]\n",
    "B = [[12,13,14,15],[16,17,18,19],[20,21,22,23]]\n",
    "print(m_add(A,B))"
   ]
  },
  {
   "cell_type": "markdown",
   "id": "7777ae0b",
   "metadata": {},
   "source": [
    "#### 2. Write a Python Program to Multiply Two Matrices?"
   ]
  },
  {
   "cell_type": "code",
   "execution_count": 2,
   "id": "805627fd",
   "metadata": {},
   "outputs": [
    {
     "name": "stdout",
     "output_type": "stream",
     "text": [
      "[[21, 53, 37], [65, 133, 97], [109, 213, 157]]\n"
     ]
    }
   ],
   "source": [
    "def m_multiply(A,B):\n",
    "    if m_order(A)[1]!=m_order(B)[0]:\n",
    "        return \"Matrices can not be multiplied because of incompatible order.\"\n",
    "    else:\n",
    "        C = []\n",
    "        for i in range(m_order(A)[0]):\n",
    "            r = []\n",
    "            for j in range(m_order(B)[1]):\n",
    "                r.append(sum([A[i][k]*B[k][j] for k in range(m_order(B)[0])]))\n",
    "            C.append(r)\n",
    "    return C\n",
    "\n",
    "A = [[1,2,3,4],[5,6,7,8],[9,10,11,12]]\n",
    "B = [[5,1,6],[3,8,1],[2,8,3],[1,3,5]]\n",
    "print(m_multiply(A,B))"
   ]
  },
  {
   "cell_type": "markdown",
   "id": "39c1bc6f",
   "metadata": {},
   "source": [
    "#### 3. Write a Python Program to Transpose a Matrix?"
   ]
  },
  {
   "cell_type": "code",
   "execution_count": 3,
   "id": "8e81e226",
   "metadata": {},
   "outputs": [
    {
     "name": "stdout",
     "output_type": "stream",
     "text": [
      "The transpose of [[1, 2, 3, 4], [4, 5, 6, 7], [8, 9, 10, 11]] is:\n",
      "[[1, 4, 8], [2, 5, 9], [3, 6, 10], [4, 7, 11]]\n"
     ]
    }
   ],
   "source": [
    "def transpose(A):\n",
    "    B = []\n",
    "    for i in range(m_order(A)[1]):\n",
    "        l = []\n",
    "        for j in range(m_order(A)[0]):\n",
    "            l.append(A[j][i])\n",
    "        B.append(l)\n",
    "    return B\n",
    "\n",
    "A = [[1,2,3,4],[4,5,6,7],[8,9,10,11]]\n",
    "print(\"The transpose of\",A,\"is:\")\n",
    "print(transpose(A))"
   ]
  },
  {
   "cell_type": "markdown",
   "id": "c5ed1123",
   "metadata": {},
   "source": [
    "#### 4. Write a Python Program to Sort Words in Alphabetic Order?"
   ]
  },
  {
   "cell_type": "code",
   "execution_count": 4,
   "id": "aabc15ed",
   "metadata": {},
   "outputs": [
    {
     "name": "stdout",
     "output_type": "stream",
     "text": [
      "Enter a sentence:Passion for Data Science\n",
      "The sorted sentence is:\n"
     ]
    },
    {
     "data": {
      "text/plain": [
       "'Data for Passion Science'"
      ]
     },
     "execution_count": 4,
     "metadata": {},
     "output_type": "execute_result"
    }
   ],
   "source": [
    "def sort_words(string):\n",
    "    string_list = string.split(\" \")\n",
    "    string_dict = {s.lower():s for s in string_list}\n",
    "    sorted_words_lower = sorted([v for v in string_dict.keys()])\n",
    "    sorted_words = [string_dict[key] for key in sorted_words_lower]\n",
    "    final_string = \" \".join(sorted_words)\n",
    "    return final_string\n",
    "\n",
    "string = input(\"Enter a sentence:\")\n",
    "print(\"The sorted sentence is:\")\n",
    "sort_words(string)"
   ]
  },
  {
   "cell_type": "markdown",
   "id": "f1fbbfb9",
   "metadata": {},
   "source": [
    "#### 5. Write a Python Program to Remove Punctuation From a String?"
   ]
  },
  {
   "cell_type": "code",
   "execution_count": 5,
   "id": "198b7cc7",
   "metadata": {},
   "outputs": [
    {
     "name": "stdout",
     "output_type": "stream",
     "text": [
      "Enter a string:Hi! How@ are\"'., you?\n",
      "After removing punctuations, the string'Hi! How@ are\"'., you?' becomes 'Hi How are you'\n"
     ]
    }
   ],
   "source": [
    "def remove_punc(string):\n",
    "    result = \"\"\n",
    "    for ch in string:\n",
    "        asc = ord(ch)\n",
    "        if asc==32 or 47<asc<58 or 64<asc<91 or 96<asc<123:\n",
    "            result+=ch\n",
    "    return result\n",
    "\n",
    "string = input(\"Enter a string:\")\n",
    "print(\"After removing punctuations, the string'\"+string+\"' becomes '\"+remove_punc(string)+\"'\")"
   ]
  },
  {
   "cell_type": "code",
   "execution_count": null,
   "id": "563f421c",
   "metadata": {},
   "outputs": [],
   "source": []
  }
 ],
 "metadata": {
  "kernelspec": {
   "display_name": "Python 3 (ipykernel)",
   "language": "python",
   "name": "python3"
  },
  "language_info": {
   "codemirror_mode": {
    "name": "ipython",
    "version": 3
   },
   "file_extension": ".py",
   "mimetype": "text/x-python",
   "name": "python",
   "nbconvert_exporter": "python",
   "pygments_lexer": "ipython3",
   "version": "3.9.7"
  }
 },
 "nbformat": 4,
 "nbformat_minor": 5
}
