{
 "cells": [
  {
   "cell_type": "markdown",
   "id": "f34ace33",
   "metadata": {},
   "source": [
    "#### 1. How do you distinguish between shutil.copy() and shutil.copytree()?"
   ]
  },
  {
   "cell_type": "markdown",
   "id": "4e9b46ef",
   "metadata": {},
   "source": [
    "#### Ans:\n",
    "shutil.copy() is used to copy the contents of a file to another file/folder. It takes two arguments, `src` and `dest`. `src` refers to the file from which the content is to be copied, and `dest` refers to the file/folder to which the content is to be copied. If the `dest` name is a file then the content will be copied to that file, but if `dest` is a folder then the content will be copied by creating a file with the same name in the `dest` folder.\n",
    "\n",
    "shutil.copytree() is used to copy entire contents of a folder to another folder. It also takes the arguments `src` and `dest`, and the entire content from the `src` folder is copied to the `dest` folder. If the `dest` folder is pre-existing, then the function will throw an exception."
   ]
  },
  {
   "cell_type": "markdown",
   "id": "b160a071",
   "metadata": {},
   "source": [
    "#### 2. What function is used to rename files?"
   ]
  },
  {
   "cell_type": "markdown",
   "id": "c89e537e",
   "metadata": {},
   "source": [
    "#### Ans:\n",
    "os.rename() function is used to rename files/folders. It takes two arguments `src` and `dest`. `src` is the file/folder of which we want to change the name, and `dest` is the new name of the file/folder."
   ]
  },
  {
   "cell_type": "markdown",
   "id": "22af2632",
   "metadata": {},
   "source": [
    "#### 3. What is the difference between the delete functions in the send2trash and shutil modules?"
   ]
  },
  {
   "cell_type": "markdown",
   "id": "53a69439",
   "metadata": {},
   "source": [
    "#### Ans:\n",
    "shutil module has rmtree() function which is used to delete a file. Some functions of os module have similar functionality. os.remove() deletes a file and os.rmdir() deletes entire directory. All these function have a disadvantage that once a file/folder is deleted by these functions, then it can not be recovered.\n",
    "\n",
    "send2trash module has a function send2trash() that is used to delete files/folders. The files/folders deleted by send2trash() function is not permanently deleted instead they go to the trash from which it can be recovered if required. "
   ]
  },
  {
   "cell_type": "markdown",
   "id": "91813fcd",
   "metadata": {},
   "source": [
    "#### 4.ZipFile objects have a close() method just like File objects’ close() method. What ZipFile method is equivalent to File objects’ open() method?"
   ]
  },
  {
   "cell_type": "markdown",
   "id": "d3b72fc5",
   "metadata": {},
   "source": [
    "#### Ans:\n",
    "The zipfile.ZipFile() method is equivalent to the File objects' open() method. It takes first argument as the file name that we want to open and the second argument is the mode in which we want to open, i.e. read, write or append mode."
   ]
  },
  {
   "cell_type": "markdown",
   "id": "bf99f453",
   "metadata": {},
   "source": [
    "#### 5. Create a programme that searches a folder tree for files with a certain file extension (such as .pdf or .jpg). Copy these files from whatever location they are in to a new folder."
   ]
  },
  {
   "cell_type": "markdown",
   "id": "21eb4f53",
   "metadata": {},
   "source": [
    "#### Ans:"
   ]
  },
  {
   "cell_type": "code",
   "execution_count": 1,
   "id": "79b9f55a",
   "metadata": {},
   "outputs": [],
   "source": [
    "import os\n",
    "import shutil\n",
    "\n",
    "def search_and_copy(src,dest,extn):\n",
    "    src = os.path.abspath(src)\n",
    "    dest = os.path.abspath(dest)\n",
    "\n",
    "    for path,folder,files in  os.walk(src):\n",
    "        for file in files:\n",
    "            filename, extension = os.path.splitext(filename)\n",
    "            if extension in extn:\n",
    "                filepath = folder+os.path.sep+filename+extension\n",
    "                print(\"copying\",filepath,'to',destination)\n",
    "                shutil.copy(filepath,destination)\n",
    "        \n",
    "        \n",
    "src = 'source'\n",
    "dest = 'destination'\n",
    "extn = ['.pdf', '.jpg', '.py']\n",
    "search_and_copy(src,dest,extn)"
   ]
  },
  {
   "cell_type": "code",
   "execution_count": null,
   "id": "773557d3",
   "metadata": {},
   "outputs": [],
   "source": []
  }
 ],
 "metadata": {
  "kernelspec": {
   "display_name": "Python 3 (ipykernel)",
   "language": "python",
   "name": "python3"
  },
  "language_info": {
   "codemirror_mode": {
    "name": "ipython",
    "version": 3
   },
   "file_extension": ".py",
   "mimetype": "text/x-python",
   "name": "python",
   "nbconvert_exporter": "python",
   "pygments_lexer": "ipython3",
   "version": "3.9.7"
  }
 },
 "nbformat": 4,
 "nbformat_minor": 5
}
