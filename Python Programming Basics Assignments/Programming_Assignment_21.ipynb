{
 "cells": [
  {
   "cell_type": "markdown",
   "id": "d514cad0",
   "metadata": {},
   "source": [
    "#### Question1\n",
    "Write a function that takes a list and a number as arguments. Add the number to the end of the list, then remove the first element of the list. The function should then return the updated list.\n",
    "\n",
    "Examples\n",
    "\n",
    "next_in_line([5, 6, 7, 8, 9], 1) ➞ [6, 7, 8, 9, 1]\n",
    "\n",
    "next_in_line([7, 6, 3, 23, 17], 10) ➞ [6, 3, 23, 17, 10]\n",
    "\n",
    "next_in_line([1, 10, 20, 42 ], 6) ➞ [10, 20, 42, 6]\n",
    "\n",
    "next_in_line([], 6) ➞ &quot;No list has been selected&quot;"
   ]
  },
  {
   "cell_type": "code",
   "execution_count": 1,
   "id": "0b0b9aec",
   "metadata": {},
   "outputs": [
    {
     "name": "stdout",
     "output_type": "stream",
     "text": [
      "[6, 3, 23, 17, 10]\n"
     ]
    }
   ],
   "source": [
    "def next_in_line(l, e):\n",
    "    if l==[]:\n",
    "        return \"No list has been selected\"\n",
    "    l.remove(l[0])\n",
    "    l.append(e)\n",
    "    return l\n",
    "\n",
    "print(next_in_line([7, 6, 3, 23, 17], 10))"
   ]
  },
  {
   "cell_type": "markdown",
   "id": "349ce8b0",
   "metadata": {},
   "source": [
    "#### Question2\n",
    "Create the function that takes a list of dictionaries and returns the sum of people&#39;s budgets.\n",
    "\n",
    "Examples\n",
    "\n",
    "get_budgets([\n",
    "{ &quot;name&quot;: &quot;John&quot;, &quot;age&quot;: 21, &quot;budget&quot;: 23000 },\n",
    "{ &quot;name&quot;: &quot;Steve&quot;, &quot;age&quot;: 32, &quot;budget&quot;: 40000 },\n",
    "{ &quot;name&quot;: &quot;Martin&quot;, &quot;age&quot;: 16, &quot;budget&quot;: 2700 }\n",
    "]) ➞ 65700\n",
    "\n",
    "get_budgets([\n",
    "{ &quot;name&quot;: &quot;John&quot;, &quot;age&quot;: 21, &quot;budget&quot;: 29000 },\n",
    "{ &quot;name&quot;: &quot;Steve&quot;, &quot;age&quot;: 32, &quot;budget&quot;: 32000 },\n",
    "{ &quot;name&quot;: &quot;Martin&quot;, &quot;age&quot;: 16, &quot;budget&quot;: 1600 }\n",
    "]) ➞ 62600"
   ]
  },
  {
   "cell_type": "code",
   "execution_count": 2,
   "id": "dd71dca5",
   "metadata": {},
   "outputs": [
    {
     "name": "stdout",
     "output_type": "stream",
     "text": [
      "65700\n"
     ]
    }
   ],
   "source": [
    "def get_budgets(l):\n",
    "    budget = 0\n",
    "    for dic in l:\n",
    "        budget+=dic[\"budget\"]\n",
    "    return budget\n",
    "\n",
    "l = [ { \"name\": \"John\", \"age\": 21, \"budget\": 23000 }, \n",
    "     { \"name\": \"Steve\", \"age\": 32, \"budget\": 40000 }, \n",
    "     { \"name\": \"Martin\", \"age\": 16, \"budget\": 2700 } ]\n",
    "\n",
    "print(get_budgets(l))"
   ]
  },
  {
   "cell_type": "markdown",
   "id": "1370dcee",
   "metadata": {},
   "source": [
    "#### Question3\n",
    "Create a function that takes a string and returns a string with its letters in alphabetical order.\n",
    "\n",
    "Examples\n",
    "\n",
    "alphabet_soup(&quot;hello&quot;) ➞ &quot;ehllo&quot;\n",
    "\n",
    "alphabet_soup(&quot;edabit&quot;) ➞ &quot;abdeit&quot;\n",
    "\n",
    "alphabet_soup(&quot;hacker&quot;) ➞ &quot;acehkr&quot;\n",
    "\n",
    "alphabet_soup(&quot;geek&quot;) ➞ &quot;eegk&quot;\n",
    "\n",
    "alphabet_soup(&quot;javascript&quot;) ➞ &quot;aacijprstv&quot;"
   ]
  },
  {
   "cell_type": "code",
   "execution_count": 3,
   "id": "d3911366",
   "metadata": {},
   "outputs": [
    {
     "name": "stdout",
     "output_type": "stream",
     "text": [
      "Enter a string:hacker\n",
      "acehkr\n"
     ]
    }
   ],
   "source": [
    "def alphabet_soup(str1):\n",
    "    str2 = ''.join(sorted(str1))\n",
    "    return str2\n",
    "\n",
    "str1 = input(\"Enter a string:\")\n",
    "print(alphabet_soup(str1))"
   ]
  },
  {
   "cell_type": "markdown",
   "id": "1eb853f5",
   "metadata": {},
   "source": [
    "#### Question4\n",
    "Suppose that you invest $10,000 for 10 years at an interest rate of 6% compounded monthly. What will be the value of your investment at the end of the 10 year period?\n",
    "\n",
    "Create a function that accepts the principal p, the term in years t, the interest rate r, and the number of compounding periods per year n. The function returns the value at the end of term rounded to the nearest cent\n",
    ".\n",
    "For the example above:\n",
    "\n",
    "compound_interest(10000, 10, 0.06, 12) ➞ 18193.97\n",
    "\n",
    "Note that the interest rate is given as a decimal and n=12 because with monthly compounding there are 12 periods per year. \n",
    "\n",
    "Compounding can also be done annually, quarterly, weekly, or daily.\n",
    "\n",
    "\n",
    "Examples\n",
    "compound_interest(100, 1, 0.05, 1) ➞ 105.0\n",
    "\n",
    "compound_interest(3500, 15, 0.1, 4) ➞ 15399.26\n",
    "\n",
    "compound_interest(100000, 20, 0.15, 365) ➞ 2007316.26"
   ]
  },
  {
   "cell_type": "code",
   "execution_count": 4,
   "id": "55189db4",
   "metadata": {},
   "outputs": [
    {
     "name": "stdout",
     "output_type": "stream",
     "text": [
      "Enter principal amount:100000\n",
      "Enter time duration:20\n",
      "Enter interest rate:0.15\n",
      "Enter compounding period:365\n",
      "2007316.26\n"
     ]
    }
   ],
   "source": [
    "def compound_interest(P, t, r, n):\n",
    "    A = P*(1+r/n)**(t*n)\n",
    "    return round(A,2)\n",
    "\n",
    "P = float(input(\"Enter principal amount:\"))\n",
    "t = float(input(\"Enter time duration:\"))\n",
    "r = float(input(\"Enter interest rate:\"))\n",
    "n = float(input(\"Enter compounding period:\"))\n",
    "print(compound_interest(P, t, r, n))"
   ]
  },
  {
   "cell_type": "markdown",
   "id": "8e2d7369",
   "metadata": {},
   "source": [
    "#### Question5\n",
    "Write a function that takes a list of elements and returns only the integers.\n",
    "\n",
    "Examples\n",
    "\n",
    "return_only_integer([9, 2, &quot;space&quot;, &quot;car&quot;, &quot;lion&quot;, 16]) ➞ [9, 2, 16]\n",
    "\n",
    "return_only_integer([&quot;hello&quot;, 81, &quot;basketball&quot;, 123, &quot;fox&quot;]) ➞ [81, 123]\n",
    "\n",
    "return_only_integer([10, &quot;121&quot;, 56, 20, &quot;car&quot;, 3, &quot;lion&quot;]) ➞ [10, 56, 20,\n",
    "3]\n",
    "\n",
    "return_only_integer([&quot;String&quot;, True, 3.3, 1]) ➞ [1]"
   ]
  },
  {
   "cell_type": "code",
   "execution_count": 5,
   "id": "c131c9e6",
   "metadata": {},
   "outputs": [
    {
     "name": "stdout",
     "output_type": "stream",
     "text": [
      "[10, 56, 20, 3]\n"
     ]
    }
   ],
   "source": [
    "def return_only_integer(l1):\n",
    "    l2 = []\n",
    "    for ele in l1:\n",
    "        if type(ele)==int:\n",
    "            l2.append(ele)\n",
    "    return l2\n",
    "\n",
    "l1 = [10, \"121\", 56, 20, \"car\", 3, \"lion\"]\n",
    "print(return_only_integer(l1))"
   ]
  },
  {
   "cell_type": "code",
   "execution_count": null,
   "id": "7b0cc3d2",
   "metadata": {},
   "outputs": [],
   "source": []
  }
 ],
 "metadata": {
  "kernelspec": {
   "display_name": "Python 3 (ipykernel)",
   "language": "python",
   "name": "python3"
  },
  "language_info": {
   "codemirror_mode": {
    "name": "ipython",
    "version": 3
   },
   "file_extension": ".py",
   "mimetype": "text/x-python",
   "name": "python",
   "nbconvert_exporter": "python",
   "pygments_lexer": "ipython3",
   "version": "3.9.7"
  }
 },
 "nbformat": 4,
 "nbformat_minor": 5
}
