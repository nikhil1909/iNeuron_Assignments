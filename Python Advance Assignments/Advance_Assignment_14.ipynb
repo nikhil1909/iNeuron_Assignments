{
 "cells": [
  {
   "cell_type": "markdown",
   "id": "64a3f83b",
   "metadata": {},
   "source": [
    "#### Q1. Is an assignment operator like += only for show? Is it possible that it would lead to faster results at the runtime?"
   ]
  },
  {
   "cell_type": "markdown",
   "id": "f02acb65",
   "metadata": {},
   "source": [
    "#### Ans:\n",
    "a=a+1 evaluates to finding a, adding 1 to it. Then storing the value again in variable a. This expression makes Python to look for memory holder of 'a' twice. But a+=1 simply means value of a is to incremented by 1. As memory address has to be identified once, += leads to faster operation."
   ]
  },
  {
   "cell_type": "markdown",
   "id": "3ac858f8",
   "metadata": {},
   "source": [
    "#### Q2. What is the smallest number of statements you&#39;d have to write in most programming languages to replace the Python expression a, b = a + b, a?"
   ]
  },
  {
   "cell_type": "markdown",
   "id": "4219f71a",
   "metadata": {},
   "source": [
    "#### Ans:\n",
    "Minimum number of lines required to write above code in languages other Python will be 3, two for assigning initial values for variables a and b, and two for reassignment i.e. a=a+b and b=a."
   ]
  },
  {
   "cell_type": "markdown",
   "id": "3c02c8d1",
   "metadata": {},
   "source": [
    "#### Q3. In Python, what is the most effective way to set a list of 100 integers to 0?"
   ]
  },
  {
   "cell_type": "markdown",
   "id": "bf6a98ba",
   "metadata": {},
   "source": [
    "#### Ans: \n",
    "List comprehension is the most effective way to set a list of 100 integers to 0."
   ]
  },
  {
   "cell_type": "code",
   "execution_count": 1,
   "id": "63c78028",
   "metadata": {},
   "outputs": [
    {
     "name": "stdout",
     "output_type": "stream",
     "text": [
      "[0, 0, 0, 0, 0, 0, 0, 0, 0, 0, 0, 0, 0, 0, 0, 0, 0, 0, 0, 0, 0, 0, 0, 0, 0, 0, 0, 0, 0, 0, 0, 0, 0, 0, 0, 0, 0, 0, 0, 0, 0, 0, 0, 0, 0, 0, 0, 0, 0, 0, 0, 0, 0, 0, 0, 0, 0, 0, 0, 0, 0, 0, 0, 0, 0, 0, 0, 0, 0, 0, 0, 0, 0, 0, 0, 0, 0, 0, 0, 0, 0, 0, 0, 0, 0, 0, 0, 0, 0, 0, 0, 0, 0, 0, 0, 0, 0, 0, 0, 0]\n"
     ]
    }
   ],
   "source": [
    "l = [0 for _ in range(100)]\n",
    "print(l)"
   ]
  },
  {
   "cell_type": "markdown",
   "id": "7ee9d7e0",
   "metadata": {},
   "source": [
    "#### Q4. What is the most effective way to initialise a list of 99 integers that repeats the sequence 1, 2, 3? S If necessary, show step-by-step instructions on how to accomplish this."
   ]
  },
  {
   "cell_type": "markdown",
   "id": "c5dbd9f0",
   "metadata": {},
   "source": [
    "#### Ans:\n",
    "Initialize a list with elements 1, 2 and 3.\n",
    "\n",
    "Use multiply operator to multiply this list with number 33 and store it in the some variable."
   ]
  },
  {
   "cell_type": "code",
   "execution_count": 2,
   "id": "af9b2a0a",
   "metadata": {},
   "outputs": [
    {
     "name": "stdout",
     "output_type": "stream",
     "text": [
      "[1, 2, 3, 1, 2, 3, 1, 2, 3, 1, 2, 3, 1, 2, 3, 1, 2, 3, 1, 2, 3, 1, 2, 3, 1, 2, 3, 1, 2, 3, 1, 2, 3, 1, 2, 3, 1, 2, 3, 1, 2, 3, 1, 2, 3, 1, 2, 3, 1, 2, 3, 1, 2, 3, 1, 2, 3, 1, 2, 3, 1, 2, 3, 1, 2, 3, 1, 2, 3, 1, 2, 3, 1, 2, 3, 1, 2, 3, 1, 2, 3, 1, 2, 3, 1, 2, 3, 1, 2, 3, 1, 2, 3, 1, 2, 3, 1, 2, 3]\n"
     ]
    }
   ],
   "source": [
    "l = [1,2,3]*33\n",
    "print(l)"
   ]
  },
  {
   "cell_type": "markdown",
   "id": "99dce748",
   "metadata": {},
   "source": [
    "#### Q5. If you&#39;re using IDLE to run a Python application, explain how to print a multidimensional list as efficiently?"
   ]
  },
  {
   "cell_type": "markdown",
   "id": "d9781ff4",
   "metadata": {},
   "source": [
    "#### Ans:\n",
    "To print the elements of a multidimensional list where is dimensions of the list is unknown, we can use recursion."
   ]
  },
  {
   "cell_type": "code",
   "execution_count": 3,
   "id": "272a0749",
   "metadata": {},
   "outputs": [
    {
     "name": "stdout",
     "output_type": "stream",
     "text": [
      "1,2,4,5,6,7,8,9,10,11,12,13,"
     ]
    }
   ],
   "source": [
    "def print_ele(l):\n",
    "    for ele in l:\n",
    "        if type(ele)!=list:\n",
    "            print(ele,end=',')\n",
    "        else:\n",
    "            print_ele(ele)\n",
    "l = [[[1,2],[4,5]],[[6,7],[8,9]],[[10,11],[12,13]]]\n",
    "print_ele(l)"
   ]
  },
  {
   "cell_type": "markdown",
   "id": "58232aa4",
   "metadata": {},
   "source": [
    "#### Q6. Is it possible to use list comprehension with a string? If so, how can you go about doing it?"
   ]
  },
  {
   "cell_type": "markdown",
   "id": "a298429f",
   "metadata": {},
   "source": [
    "#### Ans:\n",
    "Yes, it is possible. "
   ]
  },
  {
   "cell_type": "code",
   "execution_count": 4,
   "id": "ad67cb6b",
   "metadata": {},
   "outputs": [
    {
     "name": "stdout",
     "output_type": "stream",
     "text": [
      "['d', 'a', 't', 'a', ' ', 's', 'c', 'i', 'e', 'n', 'c', 'e']\n"
     ]
    }
   ],
   "source": [
    "str1 = 'data science'\n",
    "l = [ch for ch in str1]\n",
    "print(l)"
   ]
  },
  {
   "cell_type": "markdown",
   "id": "c7a23272",
   "metadata": {},
   "source": [
    "#### Q7. From the command line, how do you get support with a user-written Python programme? Is this possible from inside IDLE?"
   ]
  },
  {
   "cell_type": "markdown",
   "id": "1fa4e7d6",
   "metadata": {},
   "source": [
    "#### Ans:\n",
    "Get support with a user-written Python Programme: Start a command prompt (Windows) or terminal window (Linux/Mac). If the current working directory is the same as the location in which you saved the file, you can write python and then specify the filename as a command-line argument to the Python interpreter.\n",
    "\n",
    "Get support with a User-written Python Program from IDLE: You can also create script files and run them in IDLE. From the Shell window menu, select File → New File. That should open an additional editing window. Type in the code to be executed. From the menu in that window, select File → Save or File → Save As… and save the file to disk. Then select Run → Run Module. The output should appear back in the interpreter."
   ]
  },
  {
   "cell_type": "markdown",
   "id": "e09c1520",
   "metadata": {},
   "source": [
    "#### Q8. Functions are said to be “first-class objects” in Python but not in most other languages, such as C++ or Java. What can you do in Python with a function (callable object) that you can&#39;t do in C or C++?"
   ]
  },
  {
   "cell_type": "markdown",
   "id": "ead7de3c",
   "metadata": {},
   "source": [
    "#### Ans:\n",
    "The tasks which can be performed with the functions in python are:\n",
    "\n",
    "1. You can store the function in a variable.\n",
    "\n",
    "2. You can pass the function as a parameter to another function.\n",
    "\n",
    "3. You can return the function from a function.\n",
    "\n",
    "4. You can store them in data structures such as hash tables, lists,"
   ]
  },
  {
   "cell_type": "markdown",
   "id": "5368eb7a",
   "metadata": {},
   "source": [
    "#### Q9. How do you distinguish between a wrapper, a wrapped feature, and a decorator?"
   ]
  },
  {
   "cell_type": "markdown",
   "id": "aebf8644",
   "metadata": {},
   "source": [
    "#### Ans:\n",
    "A wrapper around a function in Python is called a decorator."
   ]
  },
  {
   "cell_type": "markdown",
   "id": "00c4012f",
   "metadata": {},
   "source": [
    "#### Q10. If a function is a generator function, what does it return?"
   ]
  },
  {
   "cell_type": "markdown",
   "id": "9dca6f97",
   "metadata": {},
   "source": [
    "#### Ans:\n",
    "Generator functions are a special kind of functions that return a generator object or lazy iterator. These objects can be looped over like a list. However, unlike lists, generator objects do not store their contents in memory."
   ]
  },
  {
   "cell_type": "markdown",
   "id": "a8bd77f5",
   "metadata": {},
   "source": [
    "#### Q11. What is the one improvement that must be made to a function in order for it to become a generator function in the Python language?"
   ]
  },
  {
   "cell_type": "markdown",
   "id": "641a3e54",
   "metadata": {},
   "source": [
    "#### Ans:\n",
    "The one improvement that must be made to a function in order for it to become a generator function is using the yield keyword instead of the return keyword."
   ]
  },
  {
   "cell_type": "markdown",
   "id": "1ee5e7ff",
   "metadata": {},
   "source": [
    "#### Q12. Identify at least one benefit of generators."
   ]
  },
  {
   "cell_type": "markdown",
   "id": "d54b2703",
   "metadata": {},
   "source": [
    "#### Ans:\n",
    "Benefits of generators:\n",
    "1. Generators are useful when we want to produce a sequence of values from a function. \n",
    "2. Generators are useful when we want to iterate over a sequence, but don’t want to store the entire sequence in memory."
   ]
  },
  {
   "cell_type": "code",
   "execution_count": null,
   "id": "13034358",
   "metadata": {},
   "outputs": [],
   "source": []
  }
 ],
 "metadata": {
  "kernelspec": {
   "display_name": "Python 3 (ipykernel)",
   "language": "python",
   "name": "python3"
  },
  "language_info": {
   "codemirror_mode": {
    "name": "ipython",
    "version": 3
   },
   "file_extension": ".py",
   "mimetype": "text/x-python",
   "name": "python",
   "nbconvert_exporter": "python",
   "pygments_lexer": "ipython3",
   "version": "3.9.7"
  }
 },
 "nbformat": 4,
 "nbformat_minor": 5
}
