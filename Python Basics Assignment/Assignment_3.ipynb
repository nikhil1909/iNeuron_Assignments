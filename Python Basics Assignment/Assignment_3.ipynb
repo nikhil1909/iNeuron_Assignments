{
 "cells": [
  {
   "cell_type": "markdown",
   "id": "808ec2e0",
   "metadata": {},
   "source": [
    "#### 1. Why are functions advantageous to have in your programs?"
   ]
  },
  {
   "cell_type": "markdown",
   "id": "db0f6509",
   "metadata": {},
   "source": [
    "#### Ans:\n",
    "Functions are avantageous because they divide the bigger problems/tasks into smaller sub-problems/sub-tasks. If we use functions then we do not need to write same piece of code multiple times, instead we can call the function every time we want to perform that specific task. This provides code reusability, and also makes the programs shorter and easier to make changes."
   ]
  },
  {
   "cell_type": "markdown",
   "id": "1914b00a",
   "metadata": {},
   "source": [
    "#### 2. When does the code in a function run: when it&#39;s specified or when it&#39;s called?"
   ]
  },
  {
   "cell_type": "markdown",
   "id": "e967e961",
   "metadata": {},
   "source": [
    "#### Ans:\n",
    "The code in a function runs when it is called. When the function is specified, it just creates the function; now to use it we need to make a call to that function."
   ]
  },
  {
   "cell_type": "markdown",
   "id": "57620936",
   "metadata": {},
   "source": [
    "#### 3. What statement creates a function?"
   ]
  },
  {
   "cell_type": "markdown",
   "id": "e3d70f92",
   "metadata": {},
   "source": [
    "#### Ans:\n",
    "The def statement creates a function. Inside the function we need to use return keyword to return some value. If we do not use a return keyword inside a function then that function will return the value None whenever it is called."
   ]
  },
  {
   "cell_type": "code",
   "execution_count": 1,
   "id": "2da81334",
   "metadata": {},
   "outputs": [
    {
     "data": {
      "text/plain": [
       "5"
      ]
     },
     "execution_count": 1,
     "metadata": {},
     "output_type": "execute_result"
    }
   ],
   "source": [
    "# Example of a function\n",
    "def add(a,b):\n",
    "    return a+b\n",
    "add(2,3)"
   ]
  },
  {
   "cell_type": "markdown",
   "id": "6e99b4cb",
   "metadata": {},
   "source": [
    "#### 4. What is the difference between a function and a function call?"
   ]
  },
  {
   "cell_type": "markdown",
   "id": "125ffc46",
   "metadata": {},
   "source": [
    "#### Ans:\n",
    "A function is a named block of code that is written to perform a specific task.\n",
    "\n",
    "A function call is summoning of function to execute the task for which that function is specified."
   ]
  },
  {
   "cell_type": "markdown",
   "id": "9124bb26",
   "metadata": {},
   "source": [
    "#### 5. How many global scopes are there in a Python program? How many local scopes?"
   ]
  },
  {
   "cell_type": "markdown",
   "id": "1db2c789",
   "metadata": {},
   "source": [
    "#### Ans:\n",
    "There is only one global scope in a Python program\n",
    "\n",
    "There can be as many local scopes as we want in a Python program because the number of local scopes depend upon the number of functions or classes in that Pyhton program."
   ]
  },
  {
   "cell_type": "markdown",
   "id": "c47e6b54",
   "metadata": {},
   "source": [
    "#### 6. What happens to variables in a local scope when the function call returns?"
   ]
  },
  {
   "cell_type": "markdown",
   "id": "5f375035",
   "metadata": {},
   "source": [
    "#### Ans:\n",
    "When the function call returns, the variables in a local scope are destroyed or forgotten."
   ]
  },
  {
   "cell_type": "markdown",
   "id": "c7cfab7a",
   "metadata": {},
   "source": [
    "#### 7. What is the concept of a return value? Is it possible to have a return value in an expression?"
   ]
  },
  {
   "cell_type": "markdown",
   "id": "69220294",
   "metadata": {},
   "source": [
    "#### Ans:\n",
    "Return value is something that is obtained when we use the return keyword inside a function. It is used to tell a function to give a required value after performing a specific task. Return value can be any Python object. If we do not use the return keyword inside a function then that function returns the value None.\n",
    "\n",
    "Yes, it is possible to have a return value in an expression."
   ]
  },
  {
   "cell_type": "code",
   "execution_count": 2,
   "id": "2614f919",
   "metadata": {},
   "outputs": [
    {
     "name": "stdout",
     "output_type": "stream",
     "text": [
      "6\n"
     ]
    }
   ],
   "source": [
    "# Example of use of return value in an expression\n",
    "def add(a,b):\n",
    "    return a+b\n",
    "print(5*2-add(1,3))"
   ]
  },
  {
   "cell_type": "markdown",
   "id": "80b160f1",
   "metadata": {},
   "source": [
    "#### 8. If a function does not have a return statement, what is the return value of a call to that function?"
   ]
  },
  {
   "cell_type": "markdown",
   "id": "c44856d9",
   "metadata": {},
   "source": [
    "#### Ans:\n",
    "The return value of a call to a function that does not have a return statement is None."
   ]
  },
  {
   "cell_type": "code",
   "execution_count": 3,
   "id": "0ce6fc7e",
   "metadata": {},
   "outputs": [
    {
     "name": "stdout",
     "output_type": "stream",
     "text": [
      "This function returns:\n",
      "None\n"
     ]
    }
   ],
   "source": [
    "# Example of a function without return statement\n",
    "def f():\n",
    "    print(\"This function returns:\")\n",
    "print(f())"
   ]
  },
  {
   "cell_type": "markdown",
   "id": "434efb34",
   "metadata": {},
   "source": [
    "#### 9. How do you make a function variable refer to the global variable?"
   ]
  },
  {
   "cell_type": "markdown",
   "id": "968e7a4d",
   "metadata": {},
   "source": [
    "#### Ans:\n",
    "We can use the global keyword inside a function to make a function variable refer to a global variable."
   ]
  },
  {
   "cell_type": "code",
   "execution_count": 4,
   "id": "af2f6fe5",
   "metadata": {},
   "outputs": [
    {
     "name": "stdout",
     "output_type": "stream",
     "text": [
      "20\n"
     ]
    }
   ],
   "source": [
    "# Example of use global keyword\n",
    "x = 10\n",
    "def g():\n",
    "    global x\n",
    "    x+=10\n",
    "    return x\n",
    "print(g())"
   ]
  },
  {
   "cell_type": "markdown",
   "id": "e34374c0",
   "metadata": {},
   "source": [
    "#### 10. What is the data type of None?"
   ]
  },
  {
   "cell_type": "markdown",
   "id": "83855075",
   "metadata": {},
   "source": [
    "#### Ans:\n",
    "The data type of None is NoneType, and only None can be None."
   ]
  },
  {
   "cell_type": "markdown",
   "id": "553bc7bf",
   "metadata": {},
   "source": [
    "#### 11. What does the sentence import areallyourpetsnamederic do?"
   ]
  },
  {
   "cell_type": "markdown",
   "id": "95a5e38a",
   "metadata": {},
   "source": [
    "#### Ans:\n",
    "The sentence import areallyourpetsnamederic imports the module named areallyourpetsnamederic if it is present in the same directory, otherwise it gives an error with name ModuleNotFoundError."
   ]
  },
  {
   "cell_type": "markdown",
   "id": "40168c7d",
   "metadata": {},
   "source": [
    "#### 12. If you had a bacon() feature in a spam module, what would you call it after importing spam?"
   ]
  },
  {
   "cell_type": "markdown",
   "id": "fab9a8a3",
   "metadata": {},
   "source": [
    "#### Ans:\n",
    "After importing spam, we can call it using spam.bacon()"
   ]
  },
  {
   "cell_type": "markdown",
   "id": "d8a72f6f",
   "metadata": {},
   "source": [
    "#### 13. What can you do to save a programme from crashing if it encounters an error?"
   ]
  },
  {
   "cell_type": "markdown",
   "id": "f2498c4d",
   "metadata": {},
   "source": [
    "#### Ans:\n",
    "To save the programme from crashing, we can put the block of code under a try clause and use the except clause to handle the error."
   ]
  },
  {
   "cell_type": "markdown",
   "id": "3bf7ab34",
   "metadata": {},
   "source": [
    "#### 14. What is the purpose of the try clause? What is the purpose of the except clause?"
   ]
  },
  {
   "cell_type": "markdown",
   "id": "300ebf32",
   "metadata": {},
   "source": [
    "#### Ans:\n",
    "We put the block of code under try clause that is suspected of giving potential error. After catching the error, we can use except clause to handle that error to save the programme from crashing."
   ]
  },
  {
   "cell_type": "code",
   "execution_count": null,
   "id": "acc1cb2f",
   "metadata": {},
   "outputs": [],
   "source": []
  }
 ],
 "metadata": {
  "kernelspec": {
   "display_name": "Python 3 (ipykernel)",
   "language": "python",
   "name": "python3"
  },
  "language_info": {
   "codemirror_mode": {
    "name": "ipython",
    "version": 3
   },
   "file_extension": ".py",
   "mimetype": "text/x-python",
   "name": "python",
   "nbconvert_exporter": "python",
   "pygments_lexer": "ipython3",
   "version": "3.9.7"
  }
 },
 "nbformat": 4,
 "nbformat_minor": 5
}
