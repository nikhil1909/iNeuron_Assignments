{
 "cells": [
  {
   "cell_type": "markdown",
   "id": "8de78e5e",
   "metadata": {},
   "source": [
    "#### Question1\n",
    "Create a function that takes a string and returns a string in which each character is repeated once.\n",
    "\n",
    "Examples\n",
    "\n",
    "double_char(&quot;String&quot;) ➞ &quot;SSttrriinngg&quot;\n",
    "\n",
    "double_char(&quot;Hello World!&quot;) ➞ &quot;HHeelllloo WWoorrlldd!!&quot;\n",
    "\n",
    "double_char(&quot;1234!_ &quot;) ➞ &quot;11223344!!__ &quot;"
   ]
  },
  {
   "cell_type": "code",
   "execution_count": 1,
   "id": "c097f3e5",
   "metadata": {},
   "outputs": [
    {
     "name": "stdout",
     "output_type": "stream",
     "text": [
      "Enter string:1234!_ \n",
      "11223344!!__  \n"
     ]
    }
   ],
   "source": [
    "def double_char(str1):\n",
    "    str2 = \"\"\n",
    "    for ch in str1:\n",
    "        str2+=ch*2\n",
    "    return str2\n",
    "\n",
    "str1 = input(\"Enter string:\")\n",
    "print(double_char(str1))"
   ]
  },
  {
   "cell_type": "markdown",
   "id": "50271462",
   "metadata": {},
   "source": [
    "#### Question2\n",
    "Create a function that reverses a boolean value and returns the string &quot;boolean expected&quot; if another variable type is given.\n",
    "\n",
    "Examples\n",
    "\n",
    "reverse(True) ➞ False\n",
    "\n",
    "reverse(False) ➞ True\n",
    "\n",
    "reverse(0) ➞ &quot;boolean expected&quot;\n",
    "\n",
    "reverse(None) ➞ &quot;boolean expected&quot;"
   ]
  },
  {
   "cell_type": "code",
   "execution_count": 2,
   "id": "2244c55a",
   "metadata": {},
   "outputs": [
    {
     "name": "stdout",
     "output_type": "stream",
     "text": [
      "False\n",
      "True\n",
      "boolean expected\n"
     ]
    }
   ],
   "source": [
    "def reverse(value):\n",
    "    if value==False:\n",
    "        return True\n",
    "    elif value==True:\n",
    "        return False\n",
    "    return \"boolean expected\"\n",
    "\n",
    "print(reverse(True))\n",
    "print(reverse(False))\n",
    "print(reverse(None))"
   ]
  },
  {
   "cell_type": "markdown",
   "id": "3e1838d2",
   "metadata": {},
   "source": [
    "#### Question3\n",
    "Create a function that returns the thickness (in meters) of a piece of paper after folding it n number of times. The paper starts off with a thickness of 0.5mm.\n",
    "\n",
    "Examples\n",
    "\n",
    "num_layers(1) ➞ &quot;0.001m&quot;\n",
    "\n",
    "Paper folded once is 1mm (equal to 0.001m)\n",
    "\n",
    "num_layers(4) ➞ &quot;0.008m&quot;\n",
    "\n",
    "Paper folded 4 times is 8mm (equal to 0.008m)\n",
    "\n",
    "num_layers(21) ➞ &quot;1048.576m&quot;\n",
    "\n",
    "Paper folded 21 times is 1048576mm (equal to 1048.576m)"
   ]
  },
  {
   "cell_type": "code",
   "execution_count": 3,
   "id": "bcc6e077",
   "metadata": {},
   "outputs": [
    {
     "name": "stdout",
     "output_type": "stream",
     "text": [
      "Enter number of folds:21\n",
      "1048.576m\n"
     ]
    }
   ],
   "source": [
    "def num_layers(n):\n",
    "    return str(0.0005*2**n)+\"m\"\n",
    "\n",
    "n = int(input(\"Enter number of folds:\"))\n",
    "print(num_layers(n))"
   ]
  },
  {
   "cell_type": "markdown",
   "id": "2f327a9d",
   "metadata": {},
   "source": [
    "#### Question4\n",
    "Create a function that takes a single string as argument and returns an ordered list containing the indices of all capital letters in the string.\n",
    "\n",
    "Examples\n",
    "\n",
    "index_of_caps(&quot;eDaBiT&quot;) ➞ [1, 3, 5]\n",
    "\n",
    "index_of_caps(&quot;eQuINoX&quot;) ➞ [1, 3, 4, 6]\n",
    "\n",
    "index_of_caps(&quot;determine&quot;) ➞ []\n",
    "\n",
    "index_of_caps(&quot;STRIKE&quot;) ➞ [0, 1, 2, 3, 4, 5]\n",
    "\n",
    "index_of_caps(&quot;sUn&quot;) ➞ [1]"
   ]
  },
  {
   "cell_type": "code",
   "execution_count": 4,
   "id": "90e04cea",
   "metadata": {},
   "outputs": [
    {
     "name": "stdout",
     "output_type": "stream",
     "text": [
      "Enter a string:eQuINoX\n",
      "[1, 3, 4, 6]\n"
     ]
    }
   ],
   "source": [
    "def index_of_caps(str1):\n",
    "    l = []\n",
    "    for i in range(len(str1)):\n",
    "        if str1[i].isupper():\n",
    "            l.append(i)\n",
    "    return l\n",
    "\n",
    "str1 = input(\"Enter a string:\")\n",
    "print(index_of_caps(str1))"
   ]
  },
  {
   "cell_type": "markdown",
   "id": "43718bcf",
   "metadata": {},
   "source": [
    "#### Question5\n",
    "Using list comprehensions, create a function that finds all even numbers from 1 to the given number.\n",
    "\n",
    "Examples\n",
    "\n",
    "find_even_nums(8) ➞ [2, 4, 6, 8]\n",
    "\n",
    "find_even_nums(4) ➞ [2, 4]\n",
    "\n",
    "find_even_nums(2) ➞ [2]"
   ]
  },
  {
   "cell_type": "code",
   "execution_count": 5,
   "id": "20cb1f17",
   "metadata": {},
   "outputs": [
    {
     "name": "stdout",
     "output_type": "stream",
     "text": [
      "Enter n:8\n",
      "[2, 4, 6, 8]\n"
     ]
    }
   ],
   "source": [
    "def find_even_nums(n):\n",
    "    l = []\n",
    "    for i in range(2,n+1,2):\n",
    "        l.append(i)\n",
    "    return l\n",
    "\n",
    "n = int(input(\"Enter n:\"))\n",
    "print(find_even_nums(n))"
   ]
  },
  {
   "cell_type": "code",
   "execution_count": null,
   "id": "43a5e59c",
   "metadata": {},
   "outputs": [],
   "source": []
  }
 ],
 "metadata": {
  "kernelspec": {
   "display_name": "Python 3 (ipykernel)",
   "language": "python",
   "name": "python3"
  },
  "language_info": {
   "codemirror_mode": {
    "name": "ipython",
    "version": 3
   },
   "file_extension": ".py",
   "mimetype": "text/x-python",
   "name": "python",
   "nbconvert_exporter": "python",
   "pygments_lexer": "ipython3",
   "version": "3.9.7"
  }
 },
 "nbformat": 4,
 "nbformat_minor": 5
}
