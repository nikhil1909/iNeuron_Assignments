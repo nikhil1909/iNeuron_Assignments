{
 "cells": [
  {
   "cell_type": "markdown",
   "id": "7022bb05",
   "metadata": {},
   "source": [
    "#### 1. Write a Python program to print &quot;Hello Python&quot;?"
   ]
  },
  {
   "cell_type": "code",
   "execution_count": 1,
   "id": "51a5f43f",
   "metadata": {},
   "outputs": [
    {
     "name": "stdout",
     "output_type": "stream",
     "text": [
      "Hello Python\n"
     ]
    }
   ],
   "source": [
    "print(\"Hello Python\")"
   ]
  },
  {
   "cell_type": "markdown",
   "id": "221e6dd6",
   "metadata": {},
   "source": [
    "#### 2. Write a Python program to do arithmetical operations addition and division.?"
   ]
  },
  {
   "cell_type": "code",
   "execution_count": 2,
   "id": "b2c7b328",
   "metadata": {},
   "outputs": [
    {
     "name": "stdout",
     "output_type": "stream",
     "text": [
      "Enter a:6\n",
      "Enter b:2\n",
      "Sum of 6 and 2 is equal to 8\n",
      "Division of 6 by 2 is equal to 3.0\n"
     ]
    }
   ],
   "source": [
    "def addition(a,b):\n",
    "    return a+b\n",
    "\n",
    "def division(a,b):\n",
    "    return a/b\n",
    "\n",
    "a = int(input(\"Enter a:\"))\n",
    "b = int(input(\"Enter b:\"))\n",
    "print(\"Sum of\",a,\"and\",b,\"is equal to\",addition(a,b))\n",
    "print(\"Division of\",a,\"by\",b,\"is equal to\",division(a,b))"
   ]
  },
  {
   "cell_type": "markdown",
   "id": "4abff6b7",
   "metadata": {},
   "source": [
    "#### 3. Write a Python program to find the area of a triangle?"
   ]
  },
  {
   "cell_type": "code",
   "execution_count": 3,
   "id": "890b9fbb",
   "metadata": {},
   "outputs": [
    {
     "name": "stdout",
     "output_type": "stream",
     "text": [
      "Enter the length of first side:3\n",
      "Enter the length of second side:4\n",
      "Enter the length of third side:5\n",
      "Area of the triangle is 6.0 unit square\n"
     ]
    }
   ],
   "source": [
    "a = int(input(\"Enter the length of first side:\"))\n",
    "b = int(input(\"Enter the length of second side:\"))\n",
    "c = int(input(\"Enter the length of third side:\"))\n",
    "s = (a+b+c)/2\n",
    "\n",
    "area = (s*(s-a)*(s-b)*(s-c))**(1/2)\n",
    "\n",
    "print(\"Area of the triangle is\",area,\"unit square\")"
   ]
  },
  {
   "cell_type": "markdown",
   "id": "6e4d4283",
   "metadata": {},
   "source": [
    "#### 4. Write a Python program to swap two variables?"
   ]
  },
  {
   "cell_type": "code",
   "execution_count": 4,
   "id": "2063e736",
   "metadata": {},
   "outputs": [
    {
     "name": "stdout",
     "output_type": "stream",
     "text": [
      "Enter a:2\n",
      "Enter b:3\n",
      "Before swapping, a = 2 and b = 3\n",
      "After swapping, a = 3 and b = 2\n"
     ]
    }
   ],
   "source": [
    "def swap(a,b):\n",
    "    a = a+b\n",
    "    b = a-b\n",
    "    a = a-b\n",
    "    return a,b\n",
    "\n",
    "a = int(input(\"Enter a:\"))\n",
    "b = int(input(\"Enter b:\"))\n",
    "print(\"Before swapping, a =\",a,\"and b =\",b)\n",
    "a,b = swap(a,b)\n",
    "print(\"After swapping, a =\",a,\"and b =\",b)"
   ]
  },
  {
   "cell_type": "markdown",
   "id": "c32a4fae",
   "metadata": {},
   "source": [
    "#### 5. Write a Python program to generate a random number?"
   ]
  },
  {
   "cell_type": "code",
   "execution_count": 5,
   "id": "e1243a56",
   "metadata": {},
   "outputs": [
    {
     "name": "stdout",
     "output_type": "stream",
     "text": [
      "Generated random number is 802\n"
     ]
    }
   ],
   "source": [
    "import random\n",
    "x = random.randint(1,1000)\n",
    "print(\"Generated random number is\",x)"
   ]
  },
  {
   "cell_type": "code",
   "execution_count": null,
   "id": "2fe70d5f",
   "metadata": {},
   "outputs": [],
   "source": []
  }
 ],
 "metadata": {
  "kernelspec": {
   "display_name": "Python 3 (ipykernel)",
   "language": "python",
   "name": "python3"
  },
  "language_info": {
   "codemirror_mode": {
    "name": "ipython",
    "version": 3
   },
   "file_extension": ".py",
   "mimetype": "text/x-python",
   "name": "python",
   "nbconvert_exporter": "python",
   "pygments_lexer": "ipython3",
   "version": "3.9.7"
  }
 },
 "nbformat": 4,
 "nbformat_minor": 5
}
