{
 "cells": [
  {
   "cell_type": "markdown",
   "id": "f87246c6",
   "metadata": {},
   "source": [
    "#### 1. Write a Python Program to find sum of array?"
   ]
  },
  {
   "cell_type": "code",
   "execution_count": 1,
   "id": "0b4f8b3c",
   "metadata": {},
   "outputs": [
    {
     "name": "stdout",
     "output_type": "stream",
     "text": [
      "Enter a list:[3,6,1,4,8,11,15]\n",
      "The sum of the elements of the list is 48\n"
     ]
    }
   ],
   "source": [
    "def sum_array(l):\n",
    "    summ = 0\n",
    "    for i in range(len(l)):\n",
    "        summ+=l[i]\n",
    "    return summ\n",
    "\n",
    "l = eval(input(\"Enter a list:\"))\n",
    "print(\"The sum of the elements of the list is\",sum_array(l))"
   ]
  },
  {
   "cell_type": "markdown",
   "id": "26b79b86",
   "metadata": {},
   "source": [
    "#### 2. Write a Python Program to find largest element in an array?"
   ]
  },
  {
   "cell_type": "code",
   "execution_count": 2,
   "id": "e73e6b2c",
   "metadata": {},
   "outputs": [
    {
     "name": "stdout",
     "output_type": "stream",
     "text": [
      "Enter a list:[3,6,1,12,99,107,4,8,11,15]\n",
      "The largest element of the list is 107\n"
     ]
    }
   ],
   "source": [
    "def largest(l):\n",
    "    maxx = l[0]\n",
    "    for i in range(1,len(l)):\n",
    "        if l[i]>maxx:\n",
    "            maxx=l[i]\n",
    "    return maxx\n",
    "\n",
    "l = eval(input(\"Enter a list:\"))\n",
    "print(\"The largest element of the list is\",largest(l))"
   ]
  },
  {
   "cell_type": "markdown",
   "id": "aa522253",
   "metadata": {},
   "source": [
    "#### 3. Write a Python Program for array rotation?"
   ]
  },
  {
   "cell_type": "code",
   "execution_count": 3,
   "id": "18e60f04",
   "metadata": {},
   "outputs": [
    {
     "name": "stdout",
     "output_type": "stream",
     "text": [
      "Enter a list:[3,6,1,12,99,107,4,8,11,15]\n",
      "The rotated list [3, 6, 1, 12, 99, 107, 4, 8, 11, 15] is:\n",
      "[15, 11, 8, 4, 107, 99, 12, 1, 6, 3]\n"
     ]
    }
   ],
   "source": [
    "def rotate(l):\n",
    "    rev = []\n",
    "    for i in range(len(l)-1,-1,-1):\n",
    "        rev.append(l[i])\n",
    "    return rev\n",
    "\n",
    "l = eval(input(\"Enter a list:\"))\n",
    "print(\"The rotated list\",l,\"is:\")\n",
    "print(rotate(l))"
   ]
  },
  {
   "cell_type": "markdown",
   "id": "9370c117",
   "metadata": {},
   "source": [
    "#### 4. Write a Python Program to Split the array and add the first part to the end?"
   ]
  },
  {
   "cell_type": "code",
   "execution_count": 4,
   "id": "8d699a98",
   "metadata": {},
   "outputs": [
    {
     "name": "stdout",
     "output_type": "stream",
     "text": [
      "Enter a list:[3,6,1,12,99,107,4,8,11,15]\n",
      "Enter splitting point:5\n",
      "After splitting the first part and adding to end,the list [3, 6, 1, 12, 99, 107, 4, 8, 11, 15] becomes:\n",
      "[107, 4, 8, 11, 15, 3, 6, 1, 12, 99]\n"
     ]
    }
   ],
   "source": [
    "def split_add(l):\n",
    "    return l[s:]+l[:s]\n",
    "\n",
    "l = eval(input(\"Enter a list:\"))\n",
    "s = int(input(\"Enter splitting point:\"))\n",
    "\n",
    "print(\"After splitting the first part and adding to end,the list\",l,\"becomes:\")\n",
    "print(split_add(l))"
   ]
  },
  {
   "cell_type": "markdown",
   "id": "72c50d83",
   "metadata": {},
   "source": [
    "#### 5. Write a Python Program to check if given array is Monotonic?"
   ]
  },
  {
   "cell_type": "code",
   "execution_count": 5,
   "id": "1716f833",
   "metadata": {},
   "outputs": [
    {
     "name": "stdout",
     "output_type": "stream",
     "text": [
      "Enter a list:[-22,-12,-3,0,1,4,7,13,19]\n",
      "The list [-22, -12, -3, 0, 1, 4, 7, 13, 19] is monotonic.\n"
     ]
    }
   ],
   "source": [
    "def check_monotonic(l):\n",
    "    increasing = True\n",
    "    decreasing = True\n",
    "    for i in range(len(l)-1):\n",
    "        if l[i]>l[i+1]:\n",
    "            increasing = False\n",
    "            break\n",
    "    for i in range(len(l)-1):\n",
    "        if l[i]<l[i+1]:\n",
    "            decreasing = False\n",
    "            break\n",
    "    return increasing or decreasing\n",
    "            \n",
    "l = eval(input(\"Enter a list:\"))\n",
    "if check_monotonic(l):\n",
    "    print(\"The list\",l,\"is monotonic.\")\n",
    "else:\n",
    "    print(\"The list\",l,\"is not monotonic.\")"
   ]
  },
  {
   "cell_type": "code",
   "execution_count": null,
   "id": "1168b8a7",
   "metadata": {},
   "outputs": [],
   "source": []
  }
 ],
 "metadata": {
  "kernelspec": {
   "display_name": "Python 3 (ipykernel)",
   "language": "python",
   "name": "python3"
  },
  "language_info": {
   "codemirror_mode": {
    "name": "ipython",
    "version": 3
   },
   "file_extension": ".py",
   "mimetype": "text/x-python",
   "name": "python",
   "nbconvert_exporter": "python",
   "pygments_lexer": "ipython3",
   "version": "3.9.7"
  }
 },
 "nbformat": 4,
 "nbformat_minor": 5
}
