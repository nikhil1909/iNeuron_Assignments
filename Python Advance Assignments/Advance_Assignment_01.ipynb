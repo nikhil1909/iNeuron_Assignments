{
 "cells": [
  {
   "cell_type": "markdown",
   "id": "36986c76",
   "metadata": {},
   "source": [
    "#### Q1. What is the purpose of Python&#39;s OOP?"
   ]
  },
  {
   "cell_type": "markdown",
   "id": "addda1b2",
   "metadata": {},
   "source": [
    "#### Ans:\n",
    "OOP provides a means of structuring programs so that properties and behavious are bundled into individual objects.\n",
    "\n",
    "OOPs is used to create classes and their objects.\n",
    "\n",
    "OOPs is used to implement inheritance, polymorphism, encapsulation and abstraction.\n",
    "\n",
    "OOPs is used to bind data and functions together so that other part of the codes can not use it.\n",
    "\n",
    "OOPs divides our codes into smaller segments which is easy to work with.\n",
    "\n",
    "OOPs helps in easy maintainance and modification of the program."
   ]
  },
  {
   "cell_type": "markdown",
   "id": "d459ff28",
   "metadata": {},
   "source": [
    "#### Q2. Where does an inheritance search look for an attribute?"
   ]
  },
  {
   "cell_type": "markdown",
   "id": "e0ab06ac",
   "metadata": {},
   "source": [
    "#### Ans:\n",
    "Python first searches for an attribute in the instance of the class, then it looks for it in the class from which the instance is generated, and then it looks for it in the superclasses of the class."
   ]
  },
  {
   "cell_type": "markdown",
   "id": "cfc02c17",
   "metadata": {},
   "source": [
    "#### Q3. How do you distinguish between a class object and an instance object?"
   ]
  },
  {
   "cell_type": "markdown",
   "id": "47e6b50e",
   "metadata": {},
   "source": [
    "#### Ans:\n",
    "A class object is a template used to create a class. A particular class can be created only once. A class object is created using the `class` keyword.\n",
    "\n",
    "An instance object is created using the class name. Multiple instance objects of a particular class can be created. An instance object is created using the class name."
   ]
  },
  {
   "cell_type": "markdown",
   "id": "624237bc",
   "metadata": {},
   "source": [
    "#### Q4. What makes the first argument in a class’s method function special?"
   ]
  },
  {
   "cell_type": "markdown",
   "id": "172f3445",
   "metadata": {},
   "source": [
    "#### Ans:\n",
    "Python classes has three kinds of methods: Instance methods, Class methods and Static methods.\n",
    "\n",
    "The first argument of the Intance methods is self, and the speciality of this argument is that it refers to the object itself.\n",
    "\n",
    "The first argument of the Class methods is cls, and the speciality of this argument is that it refers to the class itself."
   ]
  },
  {
   "cell_type": "markdown",
   "id": "c9e31fb1",
   "metadata": {},
   "source": [
    "#### Q5. What is the purpose of the __init__ method?"
   ]
  },
  {
   "cell_type": "markdown",
   "id": "c038223e",
   "metadata": {},
   "source": [
    "#### Ans:\n",
    "The init method behaves as the constructor. This method is called by default whenever an instance of a class is created. This method is used to inititalize the attributes of the instance."
   ]
  },
  {
   "cell_type": "markdown",
   "id": "08c600b0",
   "metadata": {},
   "source": [
    "#### Q6. What is the process for creating a class instance?"
   ]
  },
  {
   "cell_type": "markdown",
   "id": "4d624b88",
   "metadata": {},
   "source": [
    "#### Ans:\n",
    "A class instance is created by calling the class name and then inside the parenthesis we pass the arguments, which is accepted by the init method of the class.\n",
    "\n",
    "Example: book = Books(author, title). Here book is the instance, Books is the class name, author and title are the attributes."
   ]
  },
  {
   "cell_type": "markdown",
   "id": "df7b240b",
   "metadata": {},
   "source": [
    "#### Q7. What is the process for creating a class?"
   ]
  },
  {
   "cell_type": "markdown",
   "id": "05eb46d4",
   "metadata": {},
   "source": [
    "#### Ans:\n",
    "\n",
    "We use the `class` keyword and then the class name and then put a colon to create a class.\n",
    "\n",
    "Example: `class Vehicle:`. Here Vehicle is the class name."
   ]
  },
  {
   "cell_type": "markdown",
   "id": "b6b029f9",
   "metadata": {},
   "source": [
    "#### Q8. How would you define the superclasses of a class?"
   ]
  },
  {
   "cell_type": "markdown",
   "id": "5bad3e74",
   "metadata": {},
   "source": [
    "#### Ans:\n",
    "The superclasses of a class are defined by writing the names of the superclasses inside the parenthesis after the class name.\n",
    "\n",
    "Example: `class Male(Person)`. Here Person is the superclass of the class Male. Here subclass Male derives its attributes and methods from the superclass Person."
   ]
  },
  {
   "cell_type": "code",
   "execution_count": null,
   "id": "13aff273",
   "metadata": {},
   "outputs": [],
   "source": []
  }
 ],
 "metadata": {
  "kernelspec": {
   "display_name": "Python 3 (ipykernel)",
   "language": "python",
   "name": "python3"
  },
  "language_info": {
   "codemirror_mode": {
    "name": "ipython",
    "version": 3
   },
   "file_extension": ".py",
   "mimetype": "text/x-python",
   "name": "python",
   "nbconvert_exporter": "python",
   "pygments_lexer": "ipython3",
   "version": "3.9.7"
  }
 },
 "nbformat": 4,
 "nbformat_minor": 5
}
