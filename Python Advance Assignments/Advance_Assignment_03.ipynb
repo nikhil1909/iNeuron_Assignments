{
 "cells": [
  {
   "cell_type": "markdown",
   "id": "c6f2307c",
   "metadata": {},
   "source": [
    "#### 1. What is the concept of an abstract superclass?"
   ]
  },
  {
   "cell_type": "markdown",
   "id": "79d1438c",
   "metadata": {},
   "source": [
    "#### Ans:\n",
    "Abstract superclass is the class that contains one or more abstract methods. The abstract methods are those methods that are defined in a superclass, and that must be defined by every subclass of that superclass"
   ]
  },
  {
   "cell_type": "code",
   "execution_count": 2,
   "id": "4c2aa8fb",
   "metadata": {},
   "outputs": [],
   "source": [
    "from abc import ABC, abstractmethod\n",
    "class Shape(ABC): # Abstract Class\n",
    "    @abstractmethod\n",
    "    def area(self): # Abstract Method\n",
    "        pass\n",
    "    \n",
    "class Rectangle(Shape):\n",
    "    def area(self):  # overriding abstract method in child class Rectangle\n",
    "        print(\"length*breadth\")\n",
    "        \n",
    "class Square(Shape):\n",
    "    def area(self): # overriding abstract method in child class Square\n",
    "        print(\"side*side\")"
   ]
  },
  {
   "cell_type": "markdown",
   "id": "3820b099",
   "metadata": {},
   "source": [
    "#### 2. What happens when a class statement&#39;s top level contains a basic assignment statement?"
   ]
  },
  {
   "cell_type": "markdown",
   "id": "bfb9b3c0",
   "metadata": {},
   "source": [
    "#### Ans:\n",
    "When a class statement's top level contains a basic assignment statement, a class attribute or class varible is created. This class attribute is shared by all the instances of that class."
   ]
  },
  {
   "cell_type": "code",
   "execution_count": 6,
   "id": "2bddab24",
   "metadata": {},
   "outputs": [
    {
     "name": "stdout",
     "output_type": "stream",
     "text": [
      "4\n"
     ]
    }
   ],
   "source": [
    "class Person:\n",
    "    no_of_limbs = 4  #Class attribute\n",
    "    \n",
    "    def __init__(self, gender, age):\n",
    "        self.gender = gender\n",
    "        self. age = age\n",
    "        \n",
    "p1 = Person(\"Male\", 25)\n",
    "print(p1.no_of_limbs)"
   ]
  },
  {
   "cell_type": "markdown",
   "id": "844a2789",
   "metadata": {},
   "source": [
    "#### 3. Why does a class need to manually call a superclass&#39;s __init__ method?"
   ]
  },
  {
   "cell_type": "markdown",
   "id": "d3f8e27c",
   "metadata": {},
   "source": [
    "#### Ans:\n",
    "The init method of the subclass overrides the init method of the superclass, i.e. the attributes of the superclass might not get initialized, so we have to manually call the superclass's init using super() method so that the attributes that are not initialized by the init method of the subclass gets initialized."
   ]
  },
  {
   "cell_type": "markdown",
   "id": "0f695db8",
   "metadata": {},
   "source": [
    "#### 4. How can you augment, instead of completely replacing, an inherited method?"
   ]
  },
  {
   "cell_type": "markdown",
   "id": "7f88a11f",
   "metadata": {},
   "source": [
    "#### Ans:\n",
    "By using the super() method, we can augment, instead of completely replacing an inherited method"
   ]
  },
  {
   "cell_type": "code",
   "execution_count": 8,
   "id": "14bc0486",
   "metadata": {},
   "outputs": [],
   "source": [
    "class Person:\n",
    "    def __init__(self,name,age):\n",
    "        self.name = name\n",
    "        self.age = age\n",
    "        \n",
    "class Male(Person):\n",
    "    def __init__(self,name,age,salary):\n",
    "        super().__init__(name,age) \n",
    "        self.salary = salary\n",
    "emp_1 = Male('Vivek',20,10000)"
   ]
  },
  {
   "cell_type": "markdown",
   "id": "697acbf6",
   "metadata": {},
   "source": [
    "#### 5. How is the local scope of a class different from that of a function?"
   ]
  },
  {
   "cell_type": "markdown",
   "id": "8807823a",
   "metadata": {},
   "source": [
    "#### Ans:\n",
    "The variables defined in the local scope of a function can be accessed only inside the function, and can not be accessed outside the function.\n",
    "\n",
    "The variables defined in the local scope of a class can be either class variables or instance variables. Both of them can be accessed inside the class, and they can also be accessed outside the class by either class's name or instance's name."
   ]
  },
  {
   "cell_type": "code",
   "execution_count": null,
   "id": "d13df838",
   "metadata": {},
   "outputs": [],
   "source": []
  }
 ],
 "metadata": {
  "kernelspec": {
   "display_name": "Python 3 (ipykernel)",
   "language": "python",
   "name": "python3"
  },
  "language_info": {
   "codemirror_mode": {
    "name": "ipython",
    "version": 3
   },
   "file_extension": ".py",
   "mimetype": "text/x-python",
   "name": "python",
   "nbconvert_exporter": "python",
   "pygments_lexer": "ipython3",
   "version": "3.9.7"
  }
 },
 "nbformat": 4,
 "nbformat_minor": 5
}
